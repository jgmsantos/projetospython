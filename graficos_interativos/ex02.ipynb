{
 "cells": [
  {
   "cell_type": "markdown",
   "metadata": {},
   "source": [
    "# Importação das bibliotecas"
   ]
  },
  {
   "cell_type": "markdown",
   "metadata": {},
   "source": [
    "Sendo executado no ambiente virtual: teste."
   ]
  },
  {
   "cell_type": "code",
   "execution_count": null,
   "metadata": {},
   "outputs": [],
   "source": [
    "import xarray as xr\n",
    "import numpy as np\n",
    "import pandas as pd"
   ]
  },
  {
   "cell_type": "markdown",
   "metadata": {},
   "source": [
    "# Abertura do arquivo"
   ]
  },
  {
   "cell_type": "markdown",
   "metadata": {},
   "source": [
    "O arquivo aberto é diário referente ao ano de 2021."
   ]
  },
  {
   "cell_type": "code",
   "execution_count": null,
   "metadata": {},
   "outputs": [],
   "source": [
    "ds = xr.open_dataset('./dados/dados_ambientais.nc')"
   ]
  },
  {
   "cell_type": "code",
   "execution_count": null,
   "metadata": {},
   "outputs": [],
   "source": [
    "ds"
   ]
  },
  {
   "cell_type": "code",
   "execution_count": null,
   "metadata": {},
   "outputs": [],
   "source": [
    "type(ds)"
   ]
  },
  {
   "cell_type": "markdown",
   "metadata": {},
   "source": [
    "# Declarando variáveis de interesse"
   ]
  },
  {
   "cell_type": "code",
   "execution_count": null,
   "metadata": {},
   "outputs": [],
   "source": [
    "prec = ds.prec[:,0,0]\n",
    "nf = ds.nf[:,0,0]\n",
    "rh = ds.rh2m[:,0,0]\n",
    "tmin = ds.tmin[:,0,0]\n",
    "tmed = ds.tmed[:,0,0]\n",
    "tmax = ds.tmax[:,0,0]"
   ]
  },
  {
   "cell_type": "markdown",
   "metadata": {},
   "source": [
    "# Criando um array"
   ]
  },
  {
   "cell_type": "code",
   "execution_count": null,
   "metadata": {},
   "outputs": [],
   "source": [
    "array = np.column_stack((prec, nf, rh, tmin, tmed, tmax))"
   ]
  },
  {
   "cell_type": "markdown",
   "metadata": {},
   "source": [
    "# Criando um DataFrame para dados diários"
   ]
  },
  {
   "cell_type": "code",
   "execution_count": null,
   "metadata": {},
   "outputs": [],
   "source": [
    "ds_diario = pd.DataFrame(array, index=ds.prec.time, columns=['Chuva', 'Focos', 'RH', 'Tmin', 'Tmed', 'Tmax'])\n",
    "ds_diario.index.name = 'Dia' # Define o nome do index."
   ]
  },
  {
   "cell_type": "code",
   "execution_count": null,
   "metadata": {},
   "outputs": [],
   "source": [
    "ds_diario"
   ]
  },
  {
   "cell_type": "markdown",
   "metadata": {},
   "source": [
    "# Converte dados diários para mensal"
   ]
  },
  {
   "cell_type": "code",
   "execution_count": null,
   "metadata": {},
   "outputs": [],
   "source": [
    "# Converte o dados diário para mensal.\n",
    "ds_mensal = ds_diario.resample('MS').agg({'Chuva':np.sum, 'Focos':np.sum, 'RH':np.mean, 'Tmin':np.mean, 'Tmed':np.mean, 'Tmax':np.mean})\n",
    "ds_mensal.index.name = 'Mes' # Define o nome do index.\n",
    "\n",
    "ds_mensal"
   ]
  },
  {
   "cell_type": "markdown",
   "metadata": {},
   "source": [
    "# Geração dos gráficos"
   ]
  },
  {
   "cell_type": "code",
   "execution_count": null,
   "metadata": {},
   "outputs": [],
   "source": [
    "import cufflinks as cf\n",
    "from IPython.display import display, HTML\n",
    "\n",
    "#making all charts public and setting a global theme\n",
    "cf.set_config_file(sharing='public', theme='white', offline=True)"
   ]
  },
  {
   "cell_type": "markdown",
   "metadata": {},
   "source": [
    "## Gráfico de linha"
   ]
  },
  {
   "cell_type": "code",
   "execution_count": null,
   "metadata": {},
   "outputs": [],
   "source": [
    "ds_diario[['Tmin', 'Tmed', 'Tmax']].iplot(kind='line', width=1)"
   ]
  },
  {
   "cell_type": "code",
   "execution_count": null,
   "metadata": {},
   "outputs": [],
   "source": [
    "ds_mensal[['Tmin', 'Tmed', 'Tmax']].iplot(kind='line', width=3)"
   ]
  },
  {
   "cell_type": "code",
   "execution_count": null,
   "metadata": {},
   "outputs": [],
   "source": [
    "ds_mensal['Tmed'].iplot(mode='lines+markers', size=4, colors=\"red\", gridcolor=\"black\", \n",
    "                        xTitle=\"Mês\", yTitle=\"(°C)\", title=\"Temperatura\")"
   ]
  },
  {
   "cell_type": "markdown",
   "metadata": {},
   "source": [
    "### Painel de figuras"
   ]
  },
  {
   "cell_type": "code",
   "execution_count": null,
   "metadata": {},
   "outputs": [],
   "source": [
    "ds_mensal[['Tmin', 'Tmed', 'Tmax']].iplot(y=[\"Tmin\", \"Tmed\", \"Tmax\"],\n",
    "                  width=2.0,\n",
    "                  subplots=True,\n",
    "                  colors=['blue','black','red'],\n",
    "                  xTitle=\"Mês\", yTitle=\"(°C)\", title=\"Temperatura\")"
   ]
  },
  {
   "cell_type": "markdown",
   "metadata": {},
   "source": [
    "## Gráfico de barras vertical"
   ]
  },
  {
   "cell_type": "code",
   "execution_count": null,
   "metadata": {},
   "outputs": [],
   "source": [
    "ds_mensal['Chuva'].iplot(kind='bar')"
   ]
  },
  {
   "cell_type": "code",
   "execution_count": null,
   "metadata": {},
   "outputs": [],
   "source": [
    "ds_mensal[['Chuva', 'RH']].iplot(kind='bar',\n",
    "                                 bargap=0.5,\n",
    "                                 dimensions=(1200,600),\n",
    "                                 xTitle=\"Mês\", yTitle=\"Prec, RH\", title=\"RH e Prec\")"
   ]
  },
  {
   "cell_type": "markdown",
   "metadata": {},
   "source": [
    "## Gráfico de barras horizontal"
   ]
  },
  {
   "cell_type": "code",
   "execution_count": null,
   "metadata": {},
   "outputs": [],
   "source": [
    "ds_mensal.iplot(kind=\"bar\", y=\"Chuva\",\n",
    "                yTitle=\"Mês\", xTitle=\"mm/mês\", title=\"Titulo da figura\",\n",
    "                colors=[\"tomato\"], bargap=0.5,\n",
    "                sortbars=True,\n",
    "                dimensions=(1000, 500),\n",
    "                orientation=\"h\")"
   ]
  },
  {
   "cell_type": "markdown",
   "metadata": {},
   "source": [
    "## Gráfico de espalhamento"
   ]
  },
  {
   "cell_type": "code",
   "execution_count": null,
   "metadata": {},
   "outputs": [],
   "source": [
    "ds_diario.iplot(kind='scatter', x='RH', y='Tmed', mode='markers')"
   ]
  },
  {
   "cell_type": "code",
   "execution_count": null,
   "metadata": {},
   "outputs": [],
   "source": [
    "ds_diario.iplot(kind=\"scatter\",\n",
    "              x=\"RH\", y='Tmed',\n",
    "              mode='markers',\n",
    "              colors=\"tomato\", size=8, symbol=\"circle-open-dot\",\n",
    "              bestfit=True, bestfit_colors=[\"dodgerblue\"],\n",
    "              xTitle=\"(°C)\", yTitle=\"(%)\",\n",
    "              title=\"RH x Tmed\")"
   ]
  },
  {
   "cell_type": "markdown",
   "metadata": {},
   "source": [
    "## Gráfico de boxplot"
   ]
  },
  {
   "cell_type": "code",
   "execution_count": null,
   "metadata": {},
   "outputs": [],
   "source": [
    "ds_diario.iplot(kind='box', boxpoints=\"outliers\")"
   ]
  },
  {
   "cell_type": "markdown",
   "metadata": {},
   "source": [
    "## Gráfico de áreas"
   ]
  },
  {
   "cell_type": "code",
   "execution_count": null,
   "metadata": {},
   "outputs": [],
   "source": [
    "ds_diario.Tmed.iplot(y=\"Tmed\",\n",
    "               fill=True,\n",
    "               xTitle=\"Dia\", yTitle=\"(°C)\", title=\"Temperatura média diária - 2021\",\n",
    "               )"
   ]
  },
  {
   "cell_type": "code",
   "execution_count": null,
   "metadata": {},
   "outputs": [],
   "source": [
    "ds_diario[['Tmin', 'Tmed', 'Tmax']].iplot(\n",
    "               keys=[\"Tmin\", \"Tmed\", \"Tmax\",],\n",
    "               subplots=True,\n",
    "               colors=['blue', 'black', 'red'],\n",
    "               fill=True,\n",
    "               xTitle=\"Dia\", yTitle=\"(°C)\", title=\"Temperatura diária - 2021\")"
   ]
  },
  {
   "cell_type": "markdown",
   "metadata": {},
   "source": [
    "## Gráfico de histograma"
   ]
  },
  {
   "cell_type": "code",
   "execution_count": null,
   "metadata": {},
   "outputs": [],
   "source": [
    "ds_diario.Tmed.iplot(kind=\"hist\",\n",
    "                      bins=50, colors=[\"red\"],\n",
    "                      keys=[\"Tmed\"],\n",
    "                      dimensions=(600, 400),\n",
    "                      title=\"Histograma de temperatura\")"
   ]
  },
  {
   "cell_type": "markdown",
   "metadata": {},
   "source": [
    "## Gráfico de bolhas"
   ]
  },
  {
   "cell_type": "code",
   "execution_count": null,
   "metadata": {},
   "outputs": [],
   "source": [
    "import plotly.express as px"
   ]
  },
  {
   "cell_type": "code",
   "execution_count": null,
   "metadata": {},
   "outputs": [],
   "source": [
    "ds_diario = ds_diario.reset_index()"
   ]
  },
  {
   "cell_type": "code",
   "execution_count": null,
   "metadata": {},
   "outputs": [],
   "source": [
    "Mes = pd.DatetimeIndex(ds_diario['Dia']).month  # Guarda apenas o mês (1, .., 12).\n",
    "\n",
    "fig = px.scatter(ds_diario, x=\"Dia\", y=\"Chuva\", size='Chuva', color=Mes, \n",
    "                 title = 'Chuva diária')\n",
    "\n",
    "fig.write_html(\"file.html\")  # Salva no formato HTML.\n",
    "\n",
    "fig.show()"
   ]
  },
  {
   "cell_type": "markdown",
   "metadata": {},
   "source": [
    "### Painel de gráfico de bolhas"
   ]
  },
  {
   "cell_type": "code",
   "execution_count": null,
   "metadata": {},
   "outputs": [],
   "source": [
    "# Dado mensal desde 2019 a 2021.\n",
    "ds = xr.open_dataset('./dados/chuva.2019.to.2021.nc')"
   ]
  },
  {
   "cell_type": "code",
   "execution_count": null,
   "metadata": {},
   "outputs": [],
   "source": [
    "prec = ds.PREC_surface[:,0,0]"
   ]
  },
  {
   "cell_type": "code",
   "execution_count": null,
   "metadata": {},
   "outputs": [],
   "source": [
    "df_prec = pd.DataFrame(prec, index=prec.time, columns=['Chuva'])\n",
    "df_prec.index.name = 'Mes' # Define o nome do index."
   ]
  },
  {
   "cell_type": "code",
   "execution_count": null,
   "metadata": {},
   "outputs": [],
   "source": [
    "df_prec = df_prec.reset_index()"
   ]
  },
  {
   "cell_type": "code",
   "execution_count": null,
   "metadata": {},
   "outputs": [],
   "source": [
    "import plotly.express as px\n",
    "\n",
    "Mes = pd.DatetimeIndex(df_prec['Mes']).month  # Guarda apenas o mês (1, .., 12).\n",
    "Ano = pd.DatetimeIndex(df_prec['Mes']).year  # Guarda apenas o ano.\n"
   ]
  },
  {
   "cell_type": "code",
   "execution_count": null,
   "metadata": {},
   "outputs": [],
   "source": [
    "#help(px.scatter)"
   ]
  },
  {
   "cell_type": "code",
   "execution_count": null,
   "metadata": {},
   "outputs": [],
   "source": [
    "fig = px.scatter(df_prec, x='Mes', y='Chuva', size='Chuva', color=Mes, facet_row=Ano)\n",
    "fig.show()"
   ]
  }
 ],
 "metadata": {
  "interpreter": {
   "hash": "abd37c582623d0dd3d9b05deeea99a26dc2fa362d345c4962c41f069ee3817bf"
  },
  "kernelspec": {
   "display_name": "Python 3.10.4 64-bit ('teste')",
   "language": "python",
   "name": "python3"
  },
  "language_info": {
   "codemirror_mode": {
    "name": "ipython",
    "version": 3
   },
   "file_extension": ".py",
   "mimetype": "text/x-python",
   "name": "python",
   "nbconvert_exporter": "python",
   "pygments_lexer": "ipython3",
   "version": "3.10.4"
  },
  "orig_nbformat": 4
 },
 "nbformat": 4,
 "nbformat_minor": 2
}
