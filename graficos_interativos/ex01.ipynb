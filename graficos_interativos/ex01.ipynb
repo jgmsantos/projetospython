{
 "cells": [
  {
   "cell_type": "markdown",
   "metadata": {},
   "source": [
    "# Get Interactive plots directly with pandas."
   ]
  },
  {
   "cell_type": "markdown",
   "metadata": {},
   "source": [
    "Link do site deste exemplo: [https://towardsdatascience.com/get-interactive-plots-directly-with-pandas-13a311ebf426](https://towardsdatascience.com/get-interactive-plots-directly-with-pandas-13a311ebf426)"
   ]
  },
  {
   "cell_type": "markdown",
   "metadata": {},
   "source": [
    "## Objetivo"
   ]
  },
  {
   "cell_type": "markdown",
   "metadata": {},
   "source": [
    "Tutorial sobre como criar plotagens utiliznado o Plotly e Bokeh"
   ]
  },
  {
   "cell_type": "markdown",
   "metadata": {},
   "source": [
    "## Importação das bibliotecas"
   ]
  },
  {
   "cell_type": "code",
   "execution_count": 5,
   "metadata": {},
   "outputs": [],
   "source": [
    "import pandas as pd\n",
    "import numpy as np\n",
    "import matplotlib.pyplot as plt\n",
    "%matplotlib inline"
   ]
  },
  {
   "cell_type": "markdown",
   "metadata": {},
   "source": [
    "## Leitura do arquivo"
   ]
  },
  {
   "cell_type": "code",
   "execution_count": 6,
   "metadata": {},
   "outputs": [
    {
     "data": {
      "text/html": [
       "<div>\n",
       "<style scoped>\n",
       "    .dataframe tbody tr th:only-of-type {\n",
       "        vertical-align: middle;\n",
       "    }\n",
       "\n",
       "    .dataframe tbody tr th {\n",
       "        vertical-align: top;\n",
       "    }\n",
       "\n",
       "    .dataframe thead th {\n",
       "        text-align: right;\n",
       "    }\n",
       "</style>\n",
       "<table border=\"1\" class=\"dataframe\">\n",
       "  <thead>\n",
       "    <tr style=\"text-align: right;\">\n",
       "      <th></th>\n",
       "      <th>NIFTY Bank index</th>\n",
       "      <th>NIFTY FMCG index</th>\n",
       "      <th>NIFTY IT index</th>\n",
       "      <th>NIFTY Pharma index</th>\n",
       "    </tr>\n",
       "    <tr>\n",
       "      <th>Date</th>\n",
       "      <th></th>\n",
       "      <th></th>\n",
       "      <th></th>\n",
       "      <th></th>\n",
       "    </tr>\n",
       "  </thead>\n",
       "  <tbody>\n",
       "    <tr>\n",
       "      <th>2020-01-01</th>\n",
       "      <td>32102.90</td>\n",
       "      <td>30234.25</td>\n",
       "      <td>15722.15</td>\n",
       "      <td>8047.10</td>\n",
       "    </tr>\n",
       "    <tr>\n",
       "      <th>2020-01-02</th>\n",
       "      <td>32443.85</td>\n",
       "      <td>30266.20</td>\n",
       "      <td>15709.65</td>\n",
       "      <td>8053.95</td>\n",
       "    </tr>\n",
       "    <tr>\n",
       "      <th>2020-01-03</th>\n",
       "      <td>32069.25</td>\n",
       "      <td>30109.25</td>\n",
       "      <td>15936.60</td>\n",
       "      <td>8111.95</td>\n",
       "    </tr>\n",
       "    <tr>\n",
       "      <th>2020-01-06</th>\n",
       "      <td>31237.15</td>\n",
       "      <td>29799.30</td>\n",
       "      <td>15879.80</td>\n",
       "      <td>7987.35</td>\n",
       "    </tr>\n",
       "    <tr>\n",
       "      <th>2020-01-07</th>\n",
       "      <td>31399.40</td>\n",
       "      <td>29861.80</td>\n",
       "      <td>15895.20</td>\n",
       "      <td>8036.50</td>\n",
       "    </tr>\n",
       "  </tbody>\n",
       "</table>\n",
       "</div>"
      ],
      "text/plain": [
       "            NIFTY Bank index  NIFTY FMCG index  NIFTY IT index  \\\n",
       "Date                                                             \n",
       "2020-01-01          32102.90          30234.25        15722.15   \n",
       "2020-01-02          32443.85          30266.20        15709.65   \n",
       "2020-01-03          32069.25          30109.25        15936.60   \n",
       "2020-01-06          31237.15          29799.30        15879.80   \n",
       "2020-01-07          31399.40          29861.80        15895.20   \n",
       "\n",
       "            NIFTY Pharma index  \n",
       "Date                            \n",
       "2020-01-01             8047.10  \n",
       "2020-01-02             8053.95  \n",
       "2020-01-03             8111.95  \n",
       "2020-01-06             7987.35  \n",
       "2020-01-07             8036.50  "
      ]
     },
     "execution_count": 6,
     "metadata": {},
     "output_type": "execute_result"
    }
   ],
   "source": [
    "# Dados diários desde 01/01/2000 até 27/07/2000.\n",
    "# Trabalharemos com o conjunto de dados NIFTY-50. \n",
    "# O índice NIFTY 50 é a referência da Bolsa de Valores Nacional da Índia para o mercado de ações indiano. \n",
    "# O conjunto de dados está disponível abertamente no Kaggle, mas usaremos um subconjunto dos dados contendo \n",
    "# o valor das ações de apenas quatro setores, ou seja, banco (Bank index), FMCG (FMCG index), TI (IT index) e farmácia (Pharma index).\n",
    "nifty_data = pd.read_csv('./dados/NIFTY_data_2020.csv', parse_dates=[\"Date\"], index_col='Date')\n",
    "\n",
    "nifty_data.head()"
   ]
  },
  {
   "cell_type": "markdown",
   "metadata": {},
   "source": [
    "## Tratamento dos dados"
   ]
  },
  {
   "cell_type": "code",
   "execution_count": 7,
   "metadata": {},
   "outputs": [
    {
     "data": {
      "text/html": [
       "<div>\n",
       "<style scoped>\n",
       "    .dataframe tbody tr th:only-of-type {\n",
       "        vertical-align: middle;\n",
       "    }\n",
       "\n",
       "    .dataframe tbody tr th {\n",
       "        vertical-align: top;\n",
       "    }\n",
       "\n",
       "    .dataframe thead th {\n",
       "        text-align: right;\n",
       "    }\n",
       "</style>\n",
       "<table border=\"1\" class=\"dataframe\">\n",
       "  <thead>\n",
       "    <tr style=\"text-align: right;\">\n",
       "      <th></th>\n",
       "      <th>NIFTY Bank index</th>\n",
       "      <th>NIFTY FMCG index</th>\n",
       "      <th>NIFTY IT index</th>\n",
       "      <th>NIFTY Pharma index</th>\n",
       "    </tr>\n",
       "    <tr>\n",
       "      <th>Date</th>\n",
       "      <th></th>\n",
       "      <th></th>\n",
       "      <th></th>\n",
       "      <th></th>\n",
       "    </tr>\n",
       "  </thead>\n",
       "  <tbody>\n",
       "    <tr>\n",
       "      <th>2020-01-31</th>\n",
       "      <td>31446.391304</td>\n",
       "      <td>30791.567391</td>\n",
       "      <td>16177.997826</td>\n",
       "      <td>8184.965217</td>\n",
       "    </tr>\n",
       "    <tr>\n",
       "      <th>2020-02-29</th>\n",
       "      <td>30675.427500</td>\n",
       "      <td>30468.122500</td>\n",
       "      <td>16411.647500</td>\n",
       "      <td>8140.932500</td>\n",
       "    </tr>\n",
       "    <tr>\n",
       "      <th>2020-03-31</th>\n",
       "      <td>22936.040476</td>\n",
       "      <td>26407.204762</td>\n",
       "      <td>13356.300000</td>\n",
       "      <td>7187.983333</td>\n",
       "    </tr>\n",
       "    <tr>\n",
       "      <th>2020-04-30</th>\n",
       "      <td>19715.116667</td>\n",
       "      <td>28622.122222</td>\n",
       "      <td>12750.766667</td>\n",
       "      <td>8926.777778</td>\n",
       "    </tr>\n",
       "    <tr>\n",
       "      <th>2020-05-31</th>\n",
       "      <td>18707.215789</td>\n",
       "      <td>27325.952632</td>\n",
       "      <td>13569.336842</td>\n",
       "      <td>9324.586842</td>\n",
       "    </tr>\n",
       "    <tr>\n",
       "      <th>2020-06-30</th>\n",
       "      <td>20953.679545</td>\n",
       "      <td>29321.377273</td>\n",
       "      <td>14585.154545</td>\n",
       "      <td>10036.240909</td>\n",
       "    </tr>\n",
       "    <tr>\n",
       "      <th>2020-07-31</th>\n",
       "      <td>22235.144737</td>\n",
       "      <td>30906.789474</td>\n",
       "      <td>16223.036842</td>\n",
       "      <td>10113.686842</td>\n",
       "    </tr>\n",
       "  </tbody>\n",
       "</table>\n",
       "</div>"
      ],
      "text/plain": [
       "            NIFTY Bank index  NIFTY FMCG index  NIFTY IT index  \\\n",
       "Date                                                             \n",
       "2020-01-31      31446.391304      30791.567391    16177.997826   \n",
       "2020-02-29      30675.427500      30468.122500    16411.647500   \n",
       "2020-03-31      22936.040476      26407.204762    13356.300000   \n",
       "2020-04-30      19715.116667      28622.122222    12750.766667   \n",
       "2020-05-31      18707.215789      27325.952632    13569.336842   \n",
       "2020-06-30      20953.679545      29321.377273    14585.154545   \n",
       "2020-07-31      22235.144737      30906.789474    16223.036842   \n",
       "\n",
       "            NIFTY Pharma index  \n",
       "Date                            \n",
       "2020-01-31         8184.965217  \n",
       "2020-02-29         8140.932500  \n",
       "2020-03-31         7187.983333  \n",
       "2020-04-30         8926.777778  \n",
       "2020-05-31         9324.586842  \n",
       "2020-06-30        10036.240909  \n",
       "2020-07-31        10113.686842  "
      ]
     },
     "execution_count": 7,
     "metadata": {},
     "output_type": "execute_result"
    }
   ],
   "source": [
    "# Converte o dados diário para mensal.\n",
    "nifty_data_resample = nifty_data.resample(rule = 'M').mean()\n",
    "\n",
    "nifty_data_resample"
   ]
  },
  {
   "cell_type": "markdown",
   "metadata": {},
   "source": [
    "## Plotagem do dado com Pandas"
   ]
  },
  {
   "cell_type": "markdown",
   "metadata": {},
   "source": [
    "### Gráfico de linha"
   ]
  },
  {
   "cell_type": "code",
   "execution_count": 8,
   "metadata": {},
   "outputs": [
    {
     "data": {
      "text/plain": [
       "<AxesSubplot:title={'center':'Nifty Index values in 2020'}, xlabel='Values'>"
      ]
     },
     "execution_count": 8,
     "metadata": {},
     "output_type": "execute_result"
    },
    {
     "data": {
      "image/png": "[encoded data removed]",
      "text/plain": [
       "<Figure size 720x432 with 1 Axes>"
      ]
     },
     "metadata": {
      "needs_background": "light"
     },
     "output_type": "display_data"
    }
   ],
   "source": [
    "nifty_data.plot(title='Nifty Index values in 2020', xlabel = 'Values', figsize=(10,6))"
   ]
  },
  {
   "cell_type": "markdown",
   "metadata": {},
   "source": [
    "### Gráfico de dispersão"
   ]
  },
  {
   "cell_type": "code",
   "execution_count": 9,
   "metadata": {},
   "outputs": [
    {
     "data": {
      "text/plain": [
       "<AxesSubplot:title={'center':'Scatter Plot for NIFTY Index values in 2020'}, xlabel='NIFTY FMCG index', ylabel='NIFTY Bank index'>"
      ]
     },
     "execution_count": 9,
     "metadata": {},
     "output_type": "execute_result"
    },
    {
     "data": {
      "image/png": "[encoded data removed]",
      "text/plain": [
       "<Figure size 720x432 with 1 Axes>"
      ]
     },
     "metadata": {
      "needs_background": "light"
     },
     "output_type": "display_data"
    }
   ],
   "source": [
    "nifty_data.plot(kind='scatter', x='NIFTY FMCG index', y='NIFTY Bank index', title = 'Scatter Plot for NIFTY Index values in 2020', figsize=(10,6))"
   ]
  },
  {
   "cell_type": "markdown",
   "metadata": {},
   "source": [
    "### Gráfico de histograma"
   ]
  },
  {
   "cell_type": "code",
   "execution_count": 10,
   "metadata": {},
   "outputs": [
    {
     "data": {
      "text/plain": [
       "<AxesSubplot:ylabel='Frequency'>"
      ]
     },
     "execution_count": 10,
     "metadata": {},
     "output_type": "execute_result"
    },
    {
     "data": {
      "image/png": "[encoded data removed]",
      "text/plain": [
       "<Figure size 648x432 with 1 Axes>"
      ]
     },
     "metadata": {
      "needs_background": "light"
     },
     "output_type": "display_data"
    }
   ],
   "source": [
    "nifty_data[['NIFTY FMCG index','NIFTY Bank index']].plot(kind='hist',figsize=(9,6), bins=30)"
   ]
  },
  {
   "cell_type": "markdown",
   "metadata": {},
   "source": [
    "### Gráfico de barras"
   ]
  },
  {
   "cell_type": "code",
   "execution_count": 11,
   "metadata": {},
   "outputs": [
    {
     "data": {
      "text/plain": [
       "<AxesSubplot:xlabel='Date'>"
      ]
     },
     "execution_count": 11,
     "metadata": {},
     "output_type": "execute_result"
    },
    {
     "data": {
      "image/png": "[encoded data removed]",
      "text/plain": [
       "<Figure size 720x432 with 1 Axes>"
      ]
     },
     "metadata": {
      "needs_background": "light"
     },
     "output_type": "display_data"
    }
   ],
   "source": [
    "nifty_data_resample.plot(kind='bar',figsize=(10,6))"
   ]
  },
  {
   "cell_type": "markdown",
   "metadata": {},
   "source": [
    "### Gráfico de barras empilhadas"
   ]
  },
  {
   "cell_type": "code",
   "execution_count": 12,
   "metadata": {},
   "outputs": [
    {
     "data": {
      "text/plain": [
       "<AxesSubplot:ylabel='Date'>"
      ]
     },
     "execution_count": 12,
     "metadata": {},
     "output_type": "execute_result"
    },
    {
     "data": {
      "image/png": "[encoded data removed]",
      "text/plain": [
       "<Figure size 720x432 with 1 Axes>"
      ]
     },
     "metadata": {
      "needs_background": "light"
     },
     "output_type": "display_data"
    }
   ],
   "source": [
    "nifty_data_resample.plot(kind='barh',figsize=(10,6))"
   ]
  },
  {
   "cell_type": "markdown",
   "metadata": {},
   "source": [
    "### Gráfico de pizza"
   ]
  },
  {
   "cell_type": "code",
   "execution_count": 13,
   "metadata": {},
   "outputs": [
    {
     "data": {
      "image/png": "[encoded data removed]",
      "text/plain": [
       "<Figure size 720x432 with 1 Axes>"
      ]
     },
     "metadata": {},
     "output_type": "display_data"
    }
   ],
   "source": [
    "nifty_data_resample.index=['Jan','Feb','March','Apr','May','June','July']\n",
    "\n",
    "nifty_data_resample['NIFTY Bank index'].plot.pie(legend=False, figsize=(10,6), autopct='%.1f');"
   ]
  },
  {
   "cell_type": "markdown",
   "metadata": {},
   "source": [
    "## Bokeh Backend for Pandas — plotting with Pandas-Bokeh"
   ]
  },
  {
   "cell_type": "markdown",
   "metadata": {},
   "source": [
    "A biblioteca bokeh se destaca claramente quando se trata de visualizações de dados. \n",
    "\n",
    "O Pandas-Bokeh fornece um backend de plotagem de bokeh para Pandas, GeoPandas e Pyspark DataFrames. Este backend adiciona um método plot_bokeh() aos DataFrames e Series."
   ]
  },
  {
   "cell_type": "markdown",
   "metadata": {},
   "source": [
    "### Instalando Pandas-Bokeh"
   ]
  },
  {
   "cell_type": "code",
   "execution_count": 14,
   "metadata": {},
   "outputs": [],
   "source": [
    "#pip install pandas-bokeh"
   ]
  },
  {
   "cell_type": "markdown",
   "metadata": {},
   "source": [
    "### Importação da biblioteca"
   ]
  },
  {
   "cell_type": "code",
   "execution_count": 15,
   "metadata": {},
   "outputs": [],
   "source": [
    "import pandas as pd\n",
    "import pandas_bokeh"
   ]
  },
  {
   "cell_type": "markdown",
   "metadata": {},
   "source": [
    "É preciso definir a saída da plotagem, que pode ser qualquer um dos dois:\n",
    "\n",
    "* **pandas_bokeh.output_notebook()**: para incorporar gráficos em Jupyter Notebooks.\n",
    "* **pandas_bokeh.output_file(filename)**: para exportar gráficos como HTML."
   ]
  },
  {
   "cell_type": "markdown",
   "metadata": {},
   "source": [
    "### Geração de gráficos"
   ]
  },
  {
   "cell_type": "code",
   "execution_count": 16,
   "metadata": {},
   "outputs": [
    {
     "data": {
      "text/html": [
       "\n",
       "    <div class=\"bk-root\">\n",
       "        <a href=\"https://bokeh.org\" target=\"_blank\" class=\"bk-logo bk-logo-small bk-logo-notebook\"></a>\n",
       "        <span id=\"1003\">Loading BokehJS ...</span>\n",
       "    </div>"
      ]
     },
     "metadata": {},
     "output_type": "display_data"
    },
    {
     "data": {
      "application/javascript": "\n(function(root) {\n  function now() {\n    return new Date();\n  }\n\n  const force = true;\n\n  if (typeof root._bokeh_onload_callbacks === \"undefined\" || force === true) {\n    root._bokeh_onload_callbacks = [];\n    root._bokeh_is_loading = undefined;\n  }\n\n  const JS_MIME_TYPE = 'application/javascript';\n  const HTML_MIME_TYPE = 'text/html';\n  const EXEC_MIME_TYPE = 'application/vnd.bokehjs_exec.v0+json';\n  const CLASS_NAME = 'output_bokeh rendered_html';\n\n  /**\n   * Render data to the DOM node\n   */\n  function render(props, node) {\n    const script = document.createElement(\"script\");\n    node.appendChild(script);\n  }\n\n  /**\n   * Handle when an output is cleared or removed\n   */\n  function handleClearOutput(event, handle) {\n    const cell = handle.cell;\n\n    const id = cell.output_area._bokeh_element_id;\n    const server_id = cell.output_area._bokeh_server_id;\n    // Clean up Bokeh references\n    if (id != null && id in Bokeh.index) {\n      Bokeh.index[id].model.document.clear();\n      delete Bokeh.index[id];\n    }\n\n    if (server_id !== undefined) {\n      // Clean up Bokeh references\n      const cmd_clean = \"from bokeh.io.state import curstate; print(curstate().uuid_to_server['\" + server_id + \"'].get_sessions()[0].document.roots[0]._id)\";\n      cell.notebook.kernel.execute(cmd_clean, {\n        iopub: {\n          output: function(msg) {\n            const id = msg.content.text.trim();\n            if (id in Bokeh.index) {\n              Bokeh.index[id].model.document.clear();\n              delete Bokeh.index[id];\n            }\n          }\n        }\n      });\n      // Destroy server and session\n      const cmd_destroy = \"import bokeh.io.notebook as ion; ion.destroy_server('\" + server_id + \"')\";\n      cell.notebook.kernel.execute(cmd_destroy);\n    }\n  }\n\n  /**\n   * Handle when a new output is added\n   */\n  function handleAddOutput(event, handle) {\n    const output_area = handle.output_area;\n    const output = handle.output;\n\n    // limit handleAddOutput to display_data with EXEC_MIME_TYPE content only\n    if ((output.output_type != \"display_data\") || (!Object.prototype.hasOwnProperty.call(output.data, EXEC_MIME_TYPE))) {\n      return\n    }\n\n    const toinsert = output_area.element.find(\".\" + CLASS_NAME.split(' ')[0]);\n\n    if (output.metadata[EXEC_MIME_TYPE][\"id\"] !== undefined) {\n      toinsert[toinsert.length - 1].firstChild.textContent = output.data[JS_MIME_TYPE];\n      // store reference to embed id on output_area\n      output_area._bokeh_element_id = output.metadata[EXEC_MIME_TYPE][\"id\"];\n    }\n    if (output.metadata[EXEC_MIME_TYPE][\"server_id\"] !== undefined) {\n      const bk_div = document.createElement(\"div\");\n      bk_div.innerHTML = output.data[HTML_MIME_TYPE];\n      const script_attrs = bk_div.children[0].attributes;\n      for (let i = 0; i < script_attrs.length; i++) {\n        toinsert[toinsert.length - 1].firstChild.setAttribute(script_attrs[i].name, script_attrs[i].value);\n        toinsert[toinsert.length - 1].firstChild.textContent = bk_div.children[0].textContent\n      }\n      // store reference to server id on output_area\n      output_area._bokeh_server_id = output.metadata[EXEC_MIME_TYPE][\"server_id\"];\n    }\n  }\n\n  function register_renderer(events, OutputArea) {\n\n    function append_mime(data, metadata, element) {\n      // create a DOM node to render to\n      const toinsert = this.create_output_subarea(\n        metadata,\n        CLASS_NAME,\n        EXEC_MIME_TYPE\n      );\n      this.keyboard_manager.register_events(toinsert);\n      // Render to node\n      const props = {data: data, metadata: metadata[EXEC_MIME_TYPE]};\n      render(props, toinsert[toinsert.length - 1]);\n      element.append(toinsert);\n      return toinsert\n    }\n\n    /* Handle when an output is cleared or removed */\n    events.on('clear_output.CodeCell', handleClearOutput);\n    events.on('delete.Cell', handleClearOutput);\n\n    /* Handle when a new output is added */\n    events.on('output_added.OutputArea', handleAddOutput);\n\n    /**\n     * Register the mime type and append_mime function with output_area\n     */\n    OutputArea.prototype.register_mime_type(EXEC_MIME_TYPE, append_mime, {\n      /* Is output safe? */\n      safe: true,\n      /* Index of renderer in `output_area.display_order` */\n      index: 0\n    });\n  }\n\n  // register the mime type if in Jupyter Notebook environment and previously unregistered\n  if (root.Jupyter !== undefined) {\n    const events = require('base/js/events');\n    const OutputArea = require('notebook/js/outputarea').OutputArea;\n\n    if (OutputArea.prototype.mime_types().indexOf(EXEC_MIME_TYPE) == -1) {\n      register_renderer(events, OutputArea);\n    }\n  }\n\n  \n  if (typeof (root._bokeh_timeout) === \"undefined\" || force === true) {\n    root._bokeh_timeout = Date.now() + 5000;\n    root._bokeh_failed_load = false;\n  }\n\n  const NB_LOAD_WARNING = {'data': {'text/html':\n     \"<div style='background-color: #fdd'>\\n\"+\n     \"<p>\\n\"+\n     \"BokehJS does not appear to have successfully loaded. If loading BokehJS from CDN, this \\n\"+\n     \"may be due to a slow or bad network connection. Possible fixes:\\n\"+\n     \"</p>\\n\"+\n     \"<ul>\\n\"+\n     \"<li>re-rerun `output_notebook()` to attempt to load from CDN again, or</li>\\n\"+\n     \"<li>use INLINE resources instead, as so:</li>\\n\"+\n     \"</ul>\\n\"+\n     \"<code>\\n\"+\n     \"from bokeh.resources import INLINE\\n\"+\n     \"output_notebook(resources=INLINE)\\n\"+\n     \"</code>\\n\"+\n     \"</div>\"}};\n\n  function display_loaded() {\n    const el = document.getElementById(\"1003\");\n    if (el != null) {\n      el.textContent = \"BokehJS is loading...\";\n    }\n    if (root.Bokeh !== undefined) {\n      if (el != null) {\n        el.textContent = \"BokehJS \" + root.Bokeh.version + \" successfully loaded.\";\n      }\n    } else if (Date.now() < root._bokeh_timeout) {\n      setTimeout(display_loaded, 100)\n    }\n  }\n\n\n  function run_callbacks() {\n    try {\n      root._bokeh_onload_callbacks.forEach(function(callback) {\n        if (callback != null)\n          callback();\n      });\n    } finally {\n      delete root._bokeh_onload_callbacks\n    }\n    console.debug(\"Bokeh: all callbacks have finished\");\n  }\n\n  function load_libs(css_urls, js_urls, callback) {\n    if (css_urls == null) css_urls = [];\n    if (js_urls == null) js_urls = [];\n\n    root._bokeh_onload_callbacks.push(callback);\n    if (root._bokeh_is_loading > 0) {\n      console.debug(\"Bokeh: BokehJS is being loaded, scheduling callback at\", now());\n      return null;\n    }\n    if (js_urls == null || js_urls.length === 0) {\n      run_callbacks();\n      return null;\n    }\n    console.debug(\"Bokeh: BokehJS not loaded, scheduling load and callback at\", now());\n    root._bokeh_is_loading = css_urls.length + js_urls.length;\n\n    function on_load() {\n      root._bokeh_is_loading--;\n      if (root._bokeh_is_loading === 0) {\n        console.debug(\"Bokeh: all BokehJS libraries/stylesheets loaded\");\n        run_callbacks()\n      }\n    }\n\n    function on_error(url) {\n      console.error(\"failed to load \" + url);\n    }\n\n    for (let i = 0; i < css_urls.length; i++) {\n      const url = css_urls[i];\n      const element = document.createElement(\"link\");\n      element.onload = on_load;\n      element.onerror = on_error.bind(null, url);\n      element.rel = \"stylesheet\";\n      element.type = \"text/css\";\n      element.href = url;\n      console.debug(\"Bokeh: injecting link tag for BokehJS stylesheet: \", url);\n      document.body.appendChild(element);\n    }\n\n    for (let i = 0; i < js_urls.length; i++) {\n      const url = js_urls[i];\n      const element = document.createElement('script');\n      element.onload = on_load;\n      element.onerror = on_error.bind(null, url);\n      element.async = false;\n      element.src = url;\n      console.debug(\"Bokeh: injecting script tag for BokehJS library: \", url);\n      document.head.appendChild(element);\n    }\n  };\n\n  function inject_raw_css(css) {\n    const element = document.createElement(\"style\");\n    element.appendChild(document.createTextNode(css));\n    document.body.appendChild(element);\n  }\n\n  \n  const js_urls = [\"https://cdn.bokeh.org/bokeh/release/bokeh-2.4.2.min.js\", \"https://cdn.bokeh.org/bokeh/release/bokeh-gl-2.4.2.min.js\", \"https://cdn.bokeh.org/bokeh/release/bokeh-widgets-2.4.2.min.js\", \"https://cdn.bokeh.org/bokeh/release/bokeh-tables-2.4.2.min.js\", \"https://cdn.bokeh.org/bokeh/release/bokeh-mathjax-2.4.2.min.js\"];\n  const css_urls = [];\n  \n\n  const inline_js = [\n    function(Bokeh) {\n      Bokeh.set_log_level(\"info\");\n    },\n    function(Bokeh) {\n    \n    \n    }\n  ];\n\n  function run_inline_js() {\n    \n    if (root.Bokeh !== undefined || force === true) {\n      \n    for (let i = 0; i < inline_js.length; i++) {\n      inline_js[i].call(root, root.Bokeh);\n    }\n    if (force === true) {\n        display_loaded();\n      }} else if (Date.now() < root._bokeh_timeout) {\n      setTimeout(run_inline_js, 100);\n    } else if (!root._bokeh_failed_load) {\n      console.log(\"Bokeh: BokehJS failed to load within specified timeout.\");\n      root._bokeh_failed_load = true;\n    } else if (force !== true) {\n      const cell = $(document.getElementById(\"1003\")).parents('.cell').data().cell;\n      cell.output_area.append_execute_result(NB_LOAD_WARNING)\n    }\n\n  }\n\n  if (root._bokeh_is_loading === 0) {\n    console.debug(\"Bokeh: BokehJS loaded, going straight to plotting\");\n    run_inline_js();\n  } else {\n    load_libs(css_urls, js_urls, function() {\n      console.debug(\"Bokeh: BokehJS plotting callback run at\", now());\n      run_inline_js();\n    });\n  }\n}(window));",
      "application/vnd.bokehjs_load.v0+json": ""
     },
     "metadata": {},
     "output_type": "display_data"
    }
   ],
   "source": [
    "pandas_bokeh.output_notebook()"
   ]
  },
  {
   "cell_type": "markdown",
   "metadata": {},
   "source": [
    "#### Gráfico de linha"
   ]
  },
  {
   "cell_type": "code",
   "execution_count": 17,
   "metadata": {},
   "outputs": [
    {
     "data": {
      "text/html": [
       "\n",
       "\n",
       "\n",
       "\n",
       "\n",
       "\n",
       "  <div class=\"bk-root\" id=\"eca6c3c8-7b9b-46e0-a8d3-cc9571830164\" data-root-id=\"1004\"></div>\n"
      ]
     },
     "metadata": {},
     "output_type": "display_data"
    },
    {
     "data": {
      "application/javascript": "(function(root) {\n  function embed_document(root) {\n    \n  const docs_json = {\"d6ebca76-2a2b-45b5-921a-bf7fe9d0a47f\":{\"defs\":[],\"roots\":{\"references\":[{\"attributes\":{\"below\":[{\"id\":\"1015\"}],\"center\":[{\"id\":\"1018\"},{\"id\":\"1022\"},{\"id\":\"1066\"}],\"height\":400,\"left\":[{\"id\":\"1019\"}],\"output_backend\":\"webgl\",\"renderers\":[{\"id\":\"1042\"},{\"id\":\"1075\"},{\"id\":\"1109\"},{\"id\":\"1145\"}],\"sizing_mode\":\"fixed\",\"title\":{\"id\":\"1005\"},\"toolbar\":{\"id\":\"1030\"},\"x_range\":{\"id\":\"1007\"},\"x_scale\":{\"id\":\"1011\"},\"y_range\":{\"id\":\"1009\"},\"y_scale\":{\"id\":\"1013\"}},\"id\":\"1004\",\"subtype\":\"Figure\",\"type\":\"Plot\"},{\"attributes\":{},\"id\":\"1026\",\"type\":\"SaveTool\"},{\"attributes\":{},\"id\":\"1023\",\"type\":\"PanTool\"},{\"attributes\":{},\"id\":\"1011\",\"type\":\"LinearScale\"},{\"attributes\":{\"axis\":{\"id\":\"1019\"},\"coordinates\":null,\"dimension\":1,\"group\":null,\"ticker\":null},\"id\":\"1022\",\"type\":\"Grid\"},{\"attributes\":{},\"id\":\"1020\",\"type\":\"BasicTicker\"},{\"attributes\":{},\"id\":\"1024\",\"type\":\"WheelZoomTool\"},{\"attributes\":{\"overlay\":{\"id\":\"1029\"}},\"id\":\"1025\",\"type\":\"BoxZoomTool\"},{\"attributes\":{},\"id\":\"1087\",\"type\":\"Selection\"},{\"attributes\":{\"data\":{\"NIFTY Bank index\":{\"__ndarray__\":\"mpmZmblZ30BmZmZm9q7fQAAAAABQUd9AmpmZmUmB3kCamZmZ2aneQJqZmZlpo95AmpmZmRlX30CamZmZWVjfQJqZmZlpbN9AmpmZmelR30CamZmZORTfQJqZmZl5G99AmpmZmanZ3kCamZmZKVreQDMzMzPjON5AzczMzFz73UAzMzMzA0feQAAAAABwgt5AmpmZmVkd3kCamZmZWQreQAAAAABAJ95AmpmZmdnt3UBmZmZmZhzeQJqZmZk5H91AAAAAANBR3UDNzMzMrPfdQM3MzMx8Rt5AMzMzMwOS3kDNzMzMfHjeQJqZmZmJVN5AZmZmZiaR3kCamZmZOcHeQAAAAACQf95AMzMzM7Mc3kDNzMzMLPbdQAAAAACg2N1AzczMzIwd3kBmZmZmtjfeQGZmZmbGvd1AzczMzCy43UBmZmZmtpjdQAAAAADAet1AmpmZmcl23ECamZmZGTHcQDMzMzNDftxAzczMzGz720BmZmZm1iPcQM3MzMxcJttAZmZmZqbX2UAzMzMz893ZQJqZmZnJaNdAzczMzJyT2ECamZmZSY/WQJqZmZnJotVAzczMzAwZ1EAAAAAA4JzTQGZmZmZm19NAmpmZmWmF0EAzMzMz07TQQDMzMzNDDNJAmpmZmXkn00AAAAAAQIDTQJqZmZmZV9JAAAAAAACy0kBmZmZmFsjRQDMzMzNT2NBAAAAAAKCd0kDNzMzMnIDSQGZmZmZmctNAAAAAAAAI00AzMzMzQ5zSQAAAAAAA8tJAzczMzFwy1ECamZmZqQrUQGZmZmZW9NJAZmZmZnY900DNzMzM/MrTQJqZmZmpINNAmpmZmUmc00BmZmZmxi/UQM3MzMyMmNRAAAAAAKAH1UAAAAAA8EfTQAAAAADw0dJAMzMzM6M700AzMzMz8wjTQJqZmZk55tJAAAAAAKCB0kBmZmZmtmvSQM3MzMy8LNNAAAAAACCf0kDNzMzMfGTSQM3MzMxMKdFAAAAAAJAT0UDNzMzMDGzRQGZmZmbGUdFAmpmZmbnf0EBmZmZmFgjRQDMzMzOjRdJAMzMzM3O40kAAAAAAUNjSQJqZmZn5fdNAzczMzIwM1EDNzMzMLHPUQM3MzMyc6dNAAAAAAKCK1EBmZmZm1rDUQJqZmZk5PdRAZmZmZgab1ECamZmZSQvUQDMzMzOjK9RAmpmZmTly00DNzMzMLNLTQAAAAABwutNAMzMzMxN31EBmZmZmhtbUQGZmZmYWM9VAmpmZmTm+1UAzMzMzs+zUQJqZmZmJANVAMzMzMwMW1UAAAAAAwNvUQJqZmZmJ3tRAZmZmZmZ21UDNzMzMTHDVQJqZmZkZV9VAzczMzLyt1UAAAAAAABnWQJqZmZkpDtZAzczMzMxe1kDNzMzMnN/VQAAAAABQktVAzczMzAzk1EAAAAAAMNfUQJqZmZlJF9VAMzMzM7Nz1UBmZmZmdszVQAAAAACAP9ZAZmZmZqZY1kCamZmZ+YrWQDMzMzODIdZAAAAAADBW1UA=\",\"dtype\":\"float64\",\"order\":\"little\",\"shape\":[142]},\"NIFTY FMCG index\":{\"__ndarray__\":\"AAAAAJCG3UDNzMzMjI7dQAAAAABQZ91AMzMzM9MZ3UAzMzMzcyndQM3MzMxMMd1AZmZmZuZq3UDNzMzMnKjdQM3MzMxc/t1AmpmZmVlq3kBmZmZmRoHeQM3MzMyMmt5AzczMzNyi3kAAAAAAsLDeQM3MzMx8at5AmpmZmUls3kCamZmZuX7eQJqZmZm5vN5AzczMzGxr3kAzMzMzw0zeQAAAAACQsN5AzczMzBw23kAzMzMz0w3eQJqZmZkpfd1AMzMzM9O43UAAAAAAAAbeQJqZmZmZNd5AZmZmZiYE3kAAAAAAYBbeQM3MzMwc0N1AMzMzM6Oz3UAAAAAAkELeQDMzMzPTT95AAAAAALDt3UAzMzMzQ8TdQGZmZmYmpt1AAAAAAMAc3kAAAAAAEOvdQGZmZmbmcN1AzczMzEx33UAzMzMzY0PdQM3MzMxMR91AAAAAAJCf3ECamZmZuXTcQM3MzMyMt9xAAAAAAPCJ3EAAAAAAoNbcQAAAAABAQtxAAAAAACBm20AAAAAAsGvbQAAAAADAeNlAAAAAAACY2UCamZmZ6SDYQGZmZmZ2WNhAAAAAAKCe10AAAAAAsGjXQGZmZmbmUtlAMzMzMwOk1kAzMzMz01/XQM3MzMzs5ddAZmZmZgYU2UDNzMzMHCPZQDMzMzPjOdlAzczMzMyt2kAzMzMzs73ZQAAAAABw6tlAMzMzM1MS3ECamZmZ+SncQM3MzMxMRtxAZmZmZnbX20DNzMzMvP3cQDMzMzMT0txAZmZmZpaE3EBmZmZmhu3bQGZmZmYm0NtAmpmZmUmA3EAAAAAAkBzcQM3MzMws99tAMzMzMyNf3ECamZmZiRrcQAAAAABA/ttAMzMzM1P/20AAAAAAwPPaQGZmZmamgNpAzczMzIwB2kAzMzMzo6PZQDMzMzPzIdpAMzMzM/MK2kCamZmZSTraQAAAAACgHtpAmpmZmWlN2kCamZmZqVPaQJqZmZmpEdpAAAAAAPBD2kBmZmZmlqbaQGZmZmbGO9tAZmZmZoYi20AzMzMzk3bbQJqZmZmZj9tAZmZmZubI20DNzMzMPJzcQDMzMzPT4NxAZmZmZvar3EAAAAAAwNXcQDMzMzNj7dxAAAAAAIDZ3ECamZmZic/cQJqZmZk51dxAzczMzMzP3EDNzMzMHGncQGZmZmZmdtxAMzMzM3MH3EBmZmZm1ufbQAAAAADww9tAzczMzCz620DNzMzMXAncQM3MzMxcMNxAzczMzMyq3ECamZmZ2cvcQAAAAABQaN1AMzMzM0MP3UCamZmZ6UTdQAAAAADQW91AAAAAACCG3UDNzMzMDJvdQGZmZmZG0N1AmpmZment3UDNzMzMjM3dQJqZmZl5Dd5AAAAAAPDz3UCamZmZSRneQJqZmZm5e95AZmZmZjY13kDNzMzMHGneQGZmZmaWc95AMzMzM9Oz3kBmZmZmFszeQAAAAAAQjN5AZmZmZuZS3kCamZmZeV/eQGZmZma2St5AAAAAAPAY3kA=\",\"dtype\":\"float64\",\"order\":\"little\",\"shape\":[142]},\"NIFTY IT index\":{\"__ndarray__\":\"MzMzMxO1zkAzMzMz067OQM3MzMxMIM9AZmZmZuYDz0CamZmZmQvPQJqZmZm5KM9AMzMzM5Maz0AzMzMz8yvPQDMzMzPzsM9AzczMzCz1z0DNzMzMbO3PQDMzMzPT/s9AzczMzEzyz0AzMzMzk6fPQJqZmZmZl89AZmZmZkbnz0CamZmZmRbQQAAAAAAwFtBAMzMzM2MC0EAAAAAAcAvQQDMzMzPTF9BAMzMzM/Pjz0AzMzMzE4jPQDMzMzNTzc9AMzMzM/Ndz0DNzMzMbO/PQDMzMzMjENBAMzMzM5P5z0CamZmZiRXQQJqZmZn5C9BAMzMzMxMR0EBmZmZmhibQQDMzMzNDSNBAAAAAALBA0EDNzMzM7EHQQAAAAAAwW9BAzczMzBxh0ECamZmZWULQQDMzMzNzE9BAAAAAAKAs0EAAAAAAIObPQGZmZmbmfc9AmpmZmXm2zUAzMzMz0yHOQJqZmZmZtc5AZmZmZib8zkDNzMzMrP/OQJqZmZm5l85AMzMzM3MDzUAzMzMzs6zMQGZmZmZmJMpAzczMzIxxykDNzMzMrFHIQAAAAACgocdAAAAAAID0xkAAAAAAACbGQDMzMzOzJchAzczMzMzVxUBmZmZmhizHQM3MzMys5MdAzczMzMx7yEDNzMzMjIzIQGZmZmZmD8hAMzMzM9PtyEDNzMzM7IbHQGZmZmYG0MZAmpmZmXmWyEBmZmZmxmXIQGZmZmZG3MhAzczMzIydyEDNzMzMTM/IQM3MzMzMV8hAAAAAAKC0yEAzMzMz0xfJQM3MzMxsPMhAZmZmZqaNyECamZmZGaTJQJqZmZkZCMlAMzMzM5OgyUAzMzMz06bJQJqZmZl5OMpAzczMzCyOy0AAAAAAIEfKQAAAAAAAJspAmpmZmVkpykCamZmZWfbJQM3MzMzMLcpAZmZmZsaMykAAAAAA4LvKQJqZmZl56MpAmpmZmdn2yUDNzMzMLMbJQDMzMzMzAcpAzczMzExDykDNzMzMrGbKQDMzMzPzp8pAMzMzM1MJy0CamZmZeYPKQDMzMzNzQMtAzczMzExmy0AAAAAAQF3LQM3MzMyM8ctAMzMzMzMrzECamZmZ2QzMQJqZmZm5kcxAmpmZmbmRzEDNzMzMTBfNQGZmZmbmyMxAZmZmZgb9zECamZmZuY3MQAAAAABgIcxAmpmZmVkezEBmZmZmZjnMQJqZmZk5R8xAAAAAAKBrzEBmZmZm5lHMQDMzMzPTP8xAMzMzMzOszECamZmZuXrMQJqZmZmZJcxAMzMzM1NJzUAAAAAAANjMQGZmZmYm0cxAzczMzAzGzEBmZmZmRonNQDMzMzPz2s1AmpmZmXk0zkCamZmZedTOQDMzMzPTTM5AmpmZmflXzkCamZmZmWbOQJqZmZmZ5c5AZmZmZkaMzkAzMzMz8xLQQDMzMzODh9BAZmZmZlZt0EAzMzMzk9rQQM3MzMxM3tBAMzMzMwOt0EDNzMzMTKXQQAAAAACA4dBAAAAAALA20UA=\",\"dtype\":\"float64\",\"order\":\"little\",\"shape\":[142]},\"NIFTY Pharma index\":{\"__ndarray__\":\"mpmZmRlvv0AzMzMz83W/QDMzMzPzr79AmpmZmVkzv0AAAAAAgGS/QGZmZmYmPL9AZmZmZiZhv0AAAAAAgHq/QDMzMzNzjr9AAAAAAAC1v0AzMzMzM+a/QM3MzMyMBcBAZmZmZqZMwEDNzMzMrCbAQJqZmZkZKcBAMzMzM1MgwECamZmZGTbAQGZmZmYGM8BAzczMzCxwwEAAAAAAIHLAQGZmZmZmbsBAZmZmZoYWwECamZmZmcq/QAAAAADATb9AzczMzIwfv0BmZmZmZrq/QJqZmZmZvb9AMzMzM/MRwEDNzMzM7ErAQAAAAACgIsBAMzMzM1NCwEBmZmZmhiTAQJqZmZnZR8BAmpmZmdlFwEDNzMzMbAbAQGZmZmYmA8BAMzMzM1NdwEDNzMzMLFbAQM3MzMyMs79AMzMzM3MCv0AzMzMzM5++QGZmZmYmzb5AAAAAAMCYvUCamZmZGW+9QJqZmZmZ8L5AzczMzIyWv0AAAAAAANK/QM3MzMxMUr9AMzMzM3NMvkDNzMzMDMe9QM3MzMyMHrtAAAAAAABkvECamZmZWS+7QJqZmZkZQ7tAAAAAAMAxukAAAAAAgP+5QGZmZmbmJ7tAzczMzEwguUDNzMzMDNO5QM3MzMyMJ7pAAAAAAAB3ukDNzMzMDJ26QAAAAAAA8LpAAAAAAIAIvEAzMzMzs3K7QJqZmZmZwbxAmpmZmdm8v0CamZmZGW7AQJqZmZk5MMFAzczMzCyqwUBmZmZmZqfBQGZmZmam98FAAAAAAODiwUCamZmZmd7BQDMzMzPTUsJAAAAAAIBQwkAzMzMzc1bCQJqZmZk5l8JAZmZmZgbBwkCamZmZGVXCQJqZmZm5VMJAzczMzIw3wkDNzMzMTErCQAAAAADA7sFAMzMzM5MFwkDNzMzMDN7BQM3MzMysP8JAZmZmZqYtwkAzMzMzUw/CQAAAAADg3cFAmpmZmRnqwUAAAAAAgMLBQDMzMzNTwsFAzczMzEy+wUBmZmZmZnjCQGZmZmZGmMJAMzMzM1PAwkAAAAAAwIXCQJqZmZnZe8JAAAAAAEB8wkDNzMzMTBTDQM3MzMwMJcNAzczMzMw0w0BmZmZmBkTDQM3MzMzsrsNAZmZmZqaww0DNzMzMjGnDQGZmZmYGxcNAAAAAAKDSw0AzMzMzs2bDQGZmZmZmf8NAZmZmZoaCw0AzMzMzM2PDQJqZmZmZfMNAZmZmZqZ7w0AzMzMzE4nDQM3MzMws9cNAZmZmZmY8xEAAAAAAQL/DQDMzMzOT6MNAzczMzOzMw0AzMzMz88vDQDMzMzOTgMNAzczMzGxNw0AzMzMz02vDQDMzMzOzdcNAAAAAAKBWw0AAAAAAAEvDQAAAAABAbsNAZmZmZsaBw0AAAAAAIKzDQM3MzMxMvcNAZmZmZobVw0AAAAAAYPHDQGZmZmYmR8RAMzMzMxN0xEDNzMzMTCDEQGZmZmbm1MNAmpmZmZnfw0AzMzMzEynEQJqZmZn5/sNAZmZmZganw0A=\",\"dtype\":\"float64\",\"order\":\"little\",\"shape\":[142]},\"__x__values\":{\"__ndarray__\":\"AACAbub1dkIAAEDUOPZ2QgAAADqL9nZCAABAa4L3dkIAAADR1Pd2QgAAwDYn+HZCAACAnHn4dkIAAEACzPh2QgAAgDPD+XZCAABAmRX6dkIAAAD/Z/p2QgAAwGS6+nZCAACAygz7dkIAAMD7A/x2QgAAgGFW/HZCAABAx6j8dkIAAAAt+/x2QgAAwJJN/XZCAAAAxET+dkIAAMApl/52QgAAgI/p/nZCAABA9Tv/dkIAAABbjv92QgAAwMDg/3ZCAABAjIUAd0IAAADy1wB3QgAAwFcqAXdCAACAvXwBd0IAAEAjzwF3QgAAgFTGAndCAABAuhgDd0IAAAAgawN3QgAAwIW9A3dCAACA6w8Ed0IAAMAcBwV3QgAAgIJZBXdCAABA6KsFd0IAAABO/gV3QgAAAOVHB3dCAADASpoHd0IAAICw7Ad3QgAAQBY/CHdCAAAAfJEId0IAAECtiAl3QgAAABPbCXdCAADAeC0Kd0IAAIDefwp3QgAAQETSCndCAACAdckLd0IAAABBbgx3QgAAwKbADHdCAACADBMNd0IAAMA9Cg53QgAAgKNcDndCAABACa8Od0IAAABvAQ93QgAAwNRTD3dCAAAABksQd0IAAMBrnRB3QgAAgNHvEHdCAABAN0IRd0IAAACdlBF3QgAAQM6LEndCAAAANN4Sd0IAAMCZMBN3QgAAQGXVE3dCAABA/B4Vd0IAAABicRV3QgAAwMfDFXdCAADAXg0Xd0IAAEAqshd3QgAAAJAEGHdCAADA9VYYd0IAAAAnThl3QgAAwIygGXdCAACA8vIZd0IAAEBYRRp3QgAAAL6XGndCAABA744bd0IAAABV4Rt3QgAAwLozHHdCAACAIIYcd0IAAIC3zx13QgAAQB0iHndCAAAAg3Qed0IAAMDoxh53QgAAgE4ZH3dCAADAfxAgd0IAAIDlYiB3QgAAQEu1IHdCAAAAsQchd0IAAMAWWiF3QgAAAEhRIndCAADAraMid0IAAIAT9iJ3QgAAQHlII3dCAAAA35ojd0IAAAB25CR3QgAAwNs2JXdCAACAQYkld0IAAECn2yV3QgAAgNjSJndCAABAPiUnd0IAAACkdyd3QgAAwAnKJ3dCAACAbxwod0IAAMCgEyl3QgAAgAZmKXdCAABAbLgpd0IAAADSCip3QgAAwDddKndCAAAAaVQrd0IAAMDOpit3QgAAgDT5K3dCAABAmkssd0IAAAAAnix3QgAAQDGVLXdCAAAAl+ctd0IAAMD8OS53QgAAgGKMLndCAABAyN4ud0IAAID51S93QgAAQF8oMHdCAAAAxXowd0IAAMAqzTB3QgAAgJAfMXdCAADAwRYyd0IAAIAnaTJ3QgAAQI27MndCAAAA8w0zd0IAAMBYYDN3QgAAAIpXNHdCAADA76k0d0IAAIBV/DR3QgAAQLtONXdCAAAAIaE1d0IAAEBSmDZ3QgAAALjqNndCAADAHT03d0IAAICDjzd3QgAAQOnhN3dCAACAGtk4d0I=\",\"dtype\":\"float64\",\"order\":\"little\",\"shape\":[142]},\"__x__values_original\":{\"__ndarray__\":\"AACAbub1dkIAAEDUOPZ2QgAAADqL9nZCAABAa4L3dkIAAADR1Pd2QgAAwDYn+HZCAACAnHn4dkIAAEACzPh2QgAAgDPD+XZCAABAmRX6dkIAAAD/Z/p2QgAAwGS6+nZCAACAygz7dkIAAMD7A/x2QgAAgGFW/HZCAABAx6j8dkIAAAAt+/x2QgAAwJJN/XZCAAAAxET+dkIAAMApl/52QgAAgI/p/nZCAABA9Tv/dkIAAABbjv92QgAAwMDg/3ZCAABAjIUAd0IAAADy1wB3QgAAwFcqAXdCAACAvXwBd0IAAEAjzwF3QgAAgFTGAndCAABAuhgDd0IAAAAgawN3QgAAwIW9A3dCAACA6w8Ed0IAAMAcBwV3QgAAgIJZBXdCAABA6KsFd0IAAABO/gV3QgAAAOVHB3dCAADASpoHd0IAAICw7Ad3QgAAQBY/CHdCAAAAfJEId0IAAECtiAl3QgAAABPbCXdCAADAeC0Kd0IAAIDefwp3QgAAQETSCndCAACAdckLd0IAAABBbgx3QgAAwKbADHdCAACADBMNd0IAAMA9Cg53QgAAgKNcDndCAABACa8Od0IAAABvAQ93QgAAwNRTD3dCAAAABksQd0IAAMBrnRB3QgAAgNHvEHdCAABAN0IRd0IAAACdlBF3QgAAQM6LEndCAAAANN4Sd0IAAMCZMBN3QgAAQGXVE3dCAABA/B4Vd0IAAABicRV3QgAAwMfDFXdCAADAXg0Xd0IAAEAqshd3QgAAAJAEGHdCAADA9VYYd0IAAAAnThl3QgAAwIygGXdCAACA8vIZd0IAAEBYRRp3QgAAAL6XGndCAABA744bd0IAAABV4Rt3QgAAwLozHHdCAACAIIYcd0IAAIC3zx13QgAAQB0iHndCAAAAg3Qed0IAAMDoxh53QgAAgE4ZH3dCAADAfxAgd0IAAIDlYiB3QgAAQEu1IHdCAAAAsQchd0IAAMAWWiF3QgAAAEhRIndCAADAraMid0IAAIAT9iJ3QgAAQHlII3dCAAAA35ojd0IAAAB25CR3QgAAwNs2JXdCAACAQYkld0IAAECn2yV3QgAAgNjSJndCAABAPiUnd0IAAACkdyd3QgAAwAnKJ3dCAACAbxwod0IAAMCgEyl3QgAAgAZmKXdCAABAbLgpd0IAAADSCip3QgAAwDddKndCAAAAaVQrd0IAAMDOpit3QgAAgDT5K3dCAABAmkssd0IAAAAAnix3QgAAQDGVLXdCAAAAl+ctd0IAAMD8OS53QgAAgGKMLndCAABAyN4ud0IAAID51S93QgAAQF8oMHdCAAAAxXowd0IAAMAqzTB3QgAAgJAfMXdCAADAwRYyd0IAAIAnaTJ3QgAAQI27MndCAAAA8w0zd0IAAMBYYDN3QgAAAIpXNHdCAADA76k0d0IAAIBV/DR3QgAAQLtONXdCAAAAIaE1d0IAAEBSmDZ3QgAAALjqNndCAADAHT03d0IAAICDjzd3QgAAQOnhN3dCAACAGtk4d0I=\",\"dtype\":\"float64\",\"order\":\"little\",\"shape\":[142]}},\"selected\":{\"id\":\"1052\"},\"selection_policy\":{\"id\":\"1051\"}},\"id\":\"1037\",\"type\":\"ColumnDataSource\"},{\"attributes\":{\"coordinates\":null,\"data_source\":{\"id\":\"1037\"},\"glyph\":{\"id\":\"1039\"},\"group\":null,\"hover_glyph\":null,\"muted_glyph\":{\"id\":\"1041\"},\"nonselection_glyph\":{\"id\":\"1040\"},\"view\":{\"id\":\"1043\"}},\"id\":\"1042\",\"type\":\"GlyphRenderer\"},{\"attributes\":{\"source\":{\"id\":\"1037\"}},\"id\":\"1043\",\"type\":\"CDSView\"},{\"attributes\":{\"click_policy\":\"hide\",\"coordinates\":null,\"group\":null,\"items\":[{\"id\":\"1067\"},{\"id\":\"1101\"},{\"id\":\"1137\"},{\"id\":\"1175\"}]},\"id\":\"1066\",\"type\":\"Legend\"},{\"attributes\":{\"coordinates\":null,\"data_source\":{\"id\":\"1070\"},\"glyph\":{\"id\":\"1072\"},\"group\":null,\"hover_glyph\":null,\"muted_glyph\":{\"id\":\"1074\"},\"nonselection_glyph\":{\"id\":\"1073\"},\"view\":{\"id\":\"1076\"}},\"id\":\"1075\",\"type\":\"GlyphRenderer\"},{\"attributes\":{\"label\":{\"value\":\" NIFTY Bank index\"},\"renderers\":[{\"id\":\"1042\"}]},\"id\":\"1067\",\"type\":\"LegendItem\"},{\"attributes\":{\"callback\":null,\"formatters\":{\"@__x__values_original\":\"datetime\"},\"mode\":\"vline\",\"renderers\":[{\"id\":\"1042\"}],\"tooltips\":[[\"Date\",\"@__x__values_original{%F}\"],[\"NIFTY Bank index\",\"@{NIFTY Bank index}\"]]},\"id\":\"1068\",\"type\":\"HoverTool\"},{\"attributes\":{\"data\":{\"NIFTY Bank index\":{\"__ndarray__\":\"mpmZmblZ30BmZmZm9q7fQAAAAABQUd9AmpmZmUmB3kCamZmZ2aneQJqZmZlpo95AmpmZmRlX30CamZmZWVjfQJqZmZlpbN9AmpmZmelR30CamZmZORTfQJqZmZl5G99AmpmZmanZ3kCamZmZKVreQDMzMzPjON5AzczMzFz73UAzMzMzA0feQAAAAABwgt5AmpmZmVkd3kCamZmZWQreQAAAAABAJ95AmpmZmdnt3UBmZmZmZhzeQJqZmZk5H91AAAAAANBR3UDNzMzMrPfdQM3MzMx8Rt5AMzMzMwOS3kDNzMzMfHjeQJqZmZmJVN5AZmZmZiaR3kCamZmZOcHeQAAAAACQf95AMzMzM7Mc3kDNzMzMLPbdQAAAAACg2N1AzczMzIwd3kBmZmZmtjfeQGZmZmbGvd1AzczMzCy43UBmZmZmtpjdQAAAAADAet1AmpmZmcl23ECamZmZGTHcQDMzMzNDftxAzczMzGz720BmZmZm1iPcQM3MzMxcJttAZmZmZqbX2UAzMzMz893ZQJqZmZnJaNdAzczMzJyT2ECamZmZSY/WQJqZmZnJotVAzczMzAwZ1EAAAAAA4JzTQGZmZmZm19NAmpmZmWmF0EAzMzMz07TQQDMzMzNDDNJAmpmZmXkn00AAAAAAQIDTQJqZmZmZV9JAAAAAAACy0kBmZmZmFsjRQDMzMzNT2NBAAAAAAKCd0kDNzMzMnIDSQGZmZmZmctNAAAAAAAAI00AzMzMzQ5zSQAAAAAAA8tJAzczMzFwy1ECamZmZqQrUQGZmZmZW9NJAZmZmZnY900DNzMzM/MrTQJqZmZmpINNAmpmZmUmc00BmZmZmxi/UQM3MzMyMmNRAAAAAAKAH1UAAAAAA8EfTQAAAAADw0dJAMzMzM6M700AzMzMz8wjTQJqZmZk55tJAAAAAAKCB0kBmZmZmtmvSQM3MzMy8LNNAAAAAACCf0kDNzMzMfGTSQM3MzMxMKdFAAAAAAJAT0UDNzMzMDGzRQGZmZmbGUdFAmpmZmbnf0EBmZmZmFgjRQDMzMzOjRdJAMzMzM3O40kAAAAAAUNjSQJqZmZn5fdNAzczMzIwM1EDNzMzMLHPUQM3MzMyc6dNAAAAAAKCK1EBmZmZm1rDUQJqZmZk5PdRAZmZmZgab1ECamZmZSQvUQDMzMzOjK9RAmpmZmTly00DNzMzMLNLTQAAAAABwutNAMzMzMxN31EBmZmZmhtbUQGZmZmYWM9VAmpmZmTm+1UAzMzMzs+zUQJqZmZmJANVAMzMzMwMW1UAAAAAAwNvUQJqZmZmJ3tRAZmZmZmZ21UDNzMzMTHDVQJqZmZkZV9VAzczMzLyt1UAAAAAAABnWQJqZmZkpDtZAzczMzMxe1kDNzMzMnN/VQAAAAABQktVAzczMzAzk1EAAAAAAMNfUQJqZmZlJF9VAMzMzM7Nz1UBmZmZmdszVQAAAAACAP9ZAZmZmZqZY1kCamZmZ+YrWQDMzMzODIdZAAAAAADBW1UA=\",\"dtype\":\"float64\",\"order\":\"little\",\"shape\":[142]},\"NIFTY FMCG index\":{\"__ndarray__\":\"AAAAAJCG3UDNzMzMjI7dQAAAAABQZ91AMzMzM9MZ3UAzMzMzcyndQM3MzMxMMd1AZmZmZuZq3UDNzMzMnKjdQM3MzMxc/t1AmpmZmVlq3kBmZmZmRoHeQM3MzMyMmt5AzczMzNyi3kAAAAAAsLDeQM3MzMx8at5AmpmZmUls3kCamZmZuX7eQJqZmZm5vN5AzczMzGxr3kAzMzMzw0zeQAAAAACQsN5AzczMzBw23kAzMzMz0w3eQJqZmZkpfd1AMzMzM9O43UAAAAAAAAbeQJqZmZmZNd5AZmZmZiYE3kAAAAAAYBbeQM3MzMwc0N1AMzMzM6Oz3UAAAAAAkELeQDMzMzPTT95AAAAAALDt3UAzMzMzQ8TdQGZmZmYmpt1AAAAAAMAc3kAAAAAAEOvdQGZmZmbmcN1AzczMzEx33UAzMzMzY0PdQM3MzMxMR91AAAAAAJCf3ECamZmZuXTcQM3MzMyMt9xAAAAAAPCJ3EAAAAAAoNbcQAAAAABAQtxAAAAAACBm20AAAAAAsGvbQAAAAADAeNlAAAAAAACY2UCamZmZ6SDYQGZmZmZ2WNhAAAAAAKCe10AAAAAAsGjXQGZmZmbmUtlAMzMzMwOk1kAzMzMz01/XQM3MzMzs5ddAZmZmZgYU2UDNzMzMHCPZQDMzMzPjOdlAzczMzMyt2kAzMzMzs73ZQAAAAABw6tlAMzMzM1MS3ECamZmZ+SncQM3MzMxMRtxAZmZmZnbX20DNzMzMvP3cQDMzMzMT0txAZmZmZpaE3EBmZmZmhu3bQGZmZmYm0NtAmpmZmUmA3EAAAAAAkBzcQM3MzMws99tAMzMzMyNf3ECamZmZiRrcQAAAAABA/ttAMzMzM1P/20AAAAAAwPPaQGZmZmamgNpAzczMzIwB2kAzMzMzo6PZQDMzMzPzIdpAMzMzM/MK2kCamZmZSTraQAAAAACgHtpAmpmZmWlN2kCamZmZqVPaQJqZmZmpEdpAAAAAAPBD2kBmZmZmlqbaQGZmZmbGO9tAZmZmZoYi20AzMzMzk3bbQJqZmZmZj9tAZmZmZubI20DNzMzMPJzcQDMzMzPT4NxAZmZmZvar3EAAAAAAwNXcQDMzMzNj7dxAAAAAAIDZ3ECamZmZic/cQJqZmZk51dxAzczMzMzP3EDNzMzMHGncQGZmZmZmdtxAMzMzM3MH3EBmZmZm1ufbQAAAAADww9tAzczMzCz620DNzMzMXAncQM3MzMxcMNxAzczMzMyq3ECamZmZ2cvcQAAAAABQaN1AMzMzM0MP3UCamZmZ6UTdQAAAAADQW91AAAAAACCG3UDNzMzMDJvdQGZmZmZG0N1AmpmZment3UDNzMzMjM3dQJqZmZl5Dd5AAAAAAPDz3UCamZmZSRneQJqZmZm5e95AZmZmZjY13kDNzMzMHGneQGZmZmaWc95AMzMzM9Oz3kBmZmZmFszeQAAAAAAQjN5AZmZmZuZS3kCamZmZeV/eQGZmZma2St5AAAAAAPAY3kA=\",\"dtype\":\"float64\",\"order\":\"little\",\"shape\":[142]},\"NIFTY IT index\":{\"__ndarray__\":\"MzMzMxO1zkAzMzMz067OQM3MzMxMIM9AZmZmZuYDz0CamZmZmQvPQJqZmZm5KM9AMzMzM5Maz0AzMzMz8yvPQDMzMzPzsM9AzczMzCz1z0DNzMzMbO3PQDMzMzPT/s9AzczMzEzyz0AzMzMzk6fPQJqZmZmZl89AZmZmZkbnz0CamZmZmRbQQAAAAAAwFtBAMzMzM2MC0EAAAAAAcAvQQDMzMzPTF9BAMzMzM/Pjz0AzMzMzE4jPQDMzMzNTzc9AMzMzM/Ndz0DNzMzMbO/PQDMzMzMjENBAMzMzM5P5z0CamZmZiRXQQJqZmZn5C9BAMzMzMxMR0EBmZmZmhibQQDMzMzNDSNBAAAAAALBA0EDNzMzM7EHQQAAAAAAwW9BAzczMzBxh0ECamZmZWULQQDMzMzNzE9BAAAAAAKAs0EAAAAAAIObPQGZmZmbmfc9AmpmZmXm2zUAzMzMz0yHOQJqZmZmZtc5AZmZmZib8zkDNzMzMrP/OQJqZmZm5l85AMzMzM3MDzUAzMzMzs6zMQGZmZmZmJMpAzczMzIxxykDNzMzMrFHIQAAAAACgocdAAAAAAID0xkAAAAAAACbGQDMzMzOzJchAzczMzMzVxUBmZmZmhizHQM3MzMys5MdAzczMzMx7yEDNzMzMjIzIQGZmZmZmD8hAMzMzM9PtyEDNzMzM7IbHQGZmZmYG0MZAmpmZmXmWyEBmZmZmxmXIQGZmZmZG3MhAzczMzIydyEDNzMzMTM/IQM3MzMzMV8hAAAAAAKC0yEAzMzMz0xfJQM3MzMxsPMhAZmZmZqaNyECamZmZGaTJQJqZmZkZCMlAMzMzM5OgyUAzMzMz06bJQJqZmZl5OMpAzczMzCyOy0AAAAAAIEfKQAAAAAAAJspAmpmZmVkpykCamZmZWfbJQM3MzMzMLcpAZmZmZsaMykAAAAAA4LvKQJqZmZl56MpAmpmZmdn2yUDNzMzMLMbJQDMzMzMzAcpAzczMzExDykDNzMzMrGbKQDMzMzPzp8pAMzMzM1MJy0CamZmZeYPKQDMzMzNzQMtAzczMzExmy0AAAAAAQF3LQM3MzMyM8ctAMzMzMzMrzECamZmZ2QzMQJqZmZm5kcxAmpmZmbmRzEDNzMzMTBfNQGZmZmbmyMxAZmZmZgb9zECamZmZuY3MQAAAAABgIcxAmpmZmVkezEBmZmZmZjnMQJqZmZk5R8xAAAAAAKBrzEBmZmZm5lHMQDMzMzPTP8xAMzMzMzOszECamZmZuXrMQJqZmZmZJcxAMzMzM1NJzUAAAAAAANjMQGZmZmYm0cxAzczMzAzGzEBmZmZmRonNQDMzMzPz2s1AmpmZmXk0zkCamZmZedTOQDMzMzPTTM5AmpmZmflXzkCamZmZmWbOQJqZmZmZ5c5AZmZmZkaMzkAzMzMz8xLQQDMzMzODh9BAZmZmZlZt0EAzMzMzk9rQQM3MzMxM3tBAMzMzMwOt0EDNzMzMTKXQQAAAAACA4dBAAAAAALA20UA=\",\"dtype\":\"float64\",\"order\":\"little\",\"shape\":[142]},\"NIFTY Pharma index\":{\"__ndarray__\":\"mpmZmRlvv0AzMzMz83W/QDMzMzPzr79AmpmZmVkzv0AAAAAAgGS/QGZmZmYmPL9AZmZmZiZhv0AAAAAAgHq/QDMzMzNzjr9AAAAAAAC1v0AzMzMzM+a/QM3MzMyMBcBAZmZmZqZMwEDNzMzMrCbAQJqZmZkZKcBAMzMzM1MgwECamZmZGTbAQGZmZmYGM8BAzczMzCxwwEAAAAAAIHLAQGZmZmZmbsBAZmZmZoYWwECamZmZmcq/QAAAAADATb9AzczMzIwfv0BmZmZmZrq/QJqZmZmZvb9AMzMzM/MRwEDNzMzM7ErAQAAAAACgIsBAMzMzM1NCwEBmZmZmhiTAQJqZmZnZR8BAmpmZmdlFwEDNzMzMbAbAQGZmZmYmA8BAMzMzM1NdwEDNzMzMLFbAQM3MzMyMs79AMzMzM3MCv0AzMzMzM5++QGZmZmYmzb5AAAAAAMCYvUCamZmZGW+9QJqZmZmZ8L5AzczMzIyWv0AAAAAAANK/QM3MzMxMUr9AMzMzM3NMvkDNzMzMDMe9QM3MzMyMHrtAAAAAAABkvECamZmZWS+7QJqZmZkZQ7tAAAAAAMAxukAAAAAAgP+5QGZmZmbmJ7tAzczMzEwguUDNzMzMDNO5QM3MzMyMJ7pAAAAAAAB3ukDNzMzMDJ26QAAAAAAA8LpAAAAAAIAIvEAzMzMzs3K7QJqZmZmZwbxAmpmZmdm8v0CamZmZGW7AQJqZmZk5MMFAzczMzCyqwUBmZmZmZqfBQGZmZmam98FAAAAAAODiwUCamZmZmd7BQDMzMzPTUsJAAAAAAIBQwkAzMzMzc1bCQJqZmZk5l8JAZmZmZgbBwkCamZmZGVXCQJqZmZm5VMJAzczMzIw3wkDNzMzMTErCQAAAAADA7sFAMzMzM5MFwkDNzMzMDN7BQM3MzMysP8JAZmZmZqYtwkAzMzMzUw/CQAAAAADg3cFAmpmZmRnqwUAAAAAAgMLBQDMzMzNTwsFAzczMzEy+wUBmZmZmZnjCQGZmZmZGmMJAMzMzM1PAwkAAAAAAwIXCQJqZmZnZe8JAAAAAAEB8wkDNzMzMTBTDQM3MzMwMJcNAzczMzMw0w0BmZmZmBkTDQM3MzMzsrsNAZmZmZqaww0DNzMzMjGnDQGZmZmYGxcNAAAAAAKDSw0AzMzMzs2bDQGZmZmZmf8NAZmZmZoaCw0AzMzMzM2PDQJqZmZmZfMNAZmZmZqZ7w0AzMzMzE4nDQM3MzMws9cNAZmZmZmY8xEAAAAAAQL/DQDMzMzOT6MNAzczMzOzMw0AzMzMz88vDQDMzMzOTgMNAzczMzGxNw0AzMzMz02vDQDMzMzOzdcNAAAAAAKBWw0AAAAAAAEvDQAAAAABAbsNAZmZmZsaBw0AAAAAAIKzDQM3MzMxMvcNAZmZmZobVw0AAAAAAYPHDQGZmZmYmR8RAMzMzMxN0xEDNzMzMTCDEQGZmZmbm1MNAmpmZmZnfw0AzMzMzEynEQJqZmZn5/sNAZmZmZganw0A=\",\"dtype\":\"float64\",\"order\":\"little\",\"shape\":[142]},\"__x__values\":{\"__ndarray__\":\"AACAbub1dkIAAEDUOPZ2QgAAADqL9nZCAABAa4L3dkIAAADR1Pd2QgAAwDYn+HZCAACAnHn4dkIAAEACzPh2QgAAgDPD+XZCAABAmRX6dkIAAAD/Z/p2QgAAwGS6+nZCAACAygz7dkIAAMD7A/x2QgAAgGFW/HZCAABAx6j8dkIAAAAt+/x2QgAAwJJN/XZCAAAAxET+dkIAAMApl/52QgAAgI/p/nZCAABA9Tv/dkIAAABbjv92QgAAwMDg/3ZCAABAjIUAd0IAAADy1wB3QgAAwFcqAXdCAACAvXwBd0IAAEAjzwF3QgAAgFTGAndCAABAuhgDd0IAAAAgawN3QgAAwIW9A3dCAACA6w8Ed0IAAMAcBwV3QgAAgIJZBXdCAABA6KsFd0IAAABO/gV3QgAAAOVHB3dCAADASpoHd0IAAICw7Ad3QgAAQBY/CHdCAAAAfJEId0IAAECtiAl3QgAAABPbCXdCAADAeC0Kd0IAAIDefwp3QgAAQETSCndCAACAdckLd0IAAABBbgx3QgAAwKbADHdCAACADBMNd0IAAMA9Cg53QgAAgKNcDndCAABACa8Od0IAAABvAQ93QgAAwNRTD3dCAAAABksQd0IAAMBrnRB3QgAAgNHvEHdCAABAN0IRd0IAAACdlBF3QgAAQM6LEndCAAAANN4Sd0IAAMCZMBN3QgAAQGXVE3dCAABA/B4Vd0IAAABicRV3QgAAwMfDFXdCAADAXg0Xd0IAAEAqshd3QgAAAJAEGHdCAADA9VYYd0IAAAAnThl3QgAAwIygGXdCAACA8vIZd0IAAEBYRRp3QgAAAL6XGndCAABA744bd0IAAABV4Rt3QgAAwLozHHdCAACAIIYcd0IAAIC3zx13QgAAQB0iHndCAAAAg3Qed0IAAMDoxh53QgAAgE4ZH3dCAADAfxAgd0IAAIDlYiB3QgAAQEu1IHdCAAAAsQchd0IAAMAWWiF3QgAAAEhRIndCAADAraMid0IAAIAT9iJ3QgAAQHlII3dCAAAA35ojd0IAAAB25CR3QgAAwNs2JXdCAACAQYkld0IAAECn2yV3QgAAgNjSJndCAABAPiUnd0IAAACkdyd3QgAAwAnKJ3dCAACAbxwod0IAAMCgEyl3QgAAgAZmKXdCAABAbLgpd0IAAADSCip3QgAAwDddKndCAAAAaVQrd0IAAMDOpit3QgAAgDT5K3dCAABAmkssd0IAAAAAnix3QgAAQDGVLXdCAAAAl+ctd0IAAMD8OS53QgAAgGKMLndCAABAyN4ud0IAAID51S93QgAAQF8oMHdCAAAAxXowd0IAAMAqzTB3QgAAgJAfMXdCAADAwRYyd0IAAIAnaTJ3QgAAQI27MndCAAAA8w0zd0IAAMBYYDN3QgAAAIpXNHdCAADA76k0d0IAAIBV/DR3QgAAQLtONXdCAAAAIaE1d0IAAEBSmDZ3QgAAALjqNndCAADAHT03d0IAAICDjzd3QgAAQOnhN3dCAACAGtk4d0I=\",\"dtype\":\"float64\",\"order\":\"little\",\"shape\":[142]},\"__x__values_original\":{\"__ndarray__\":\"AACAbub1dkIAAEDUOPZ2QgAAADqL9nZCAABAa4L3dkIAAADR1Pd2QgAAwDYn+HZCAACAnHn4dkIAAEACzPh2QgAAgDPD+XZCAABAmRX6dkIAAAD/Z/p2QgAAwGS6+nZCAACAygz7dkIAAMD7A/x2QgAAgGFW/HZCAABAx6j8dkIAAAAt+/x2QgAAwJJN/XZCAAAAxET+dkIAAMApl/52QgAAgI/p/nZCAABA9Tv/dkIAAABbjv92QgAAwMDg/3ZCAABAjIUAd0IAAADy1wB3QgAAwFcqAXdCAACAvXwBd0IAAEAjzwF3QgAAgFTGAndCAABAuhgDd0IAAAAgawN3QgAAwIW9A3dCAACA6w8Ed0IAAMAcBwV3QgAAgIJZBXdCAABA6KsFd0IAAABO/gV3QgAAAOVHB3dCAADASpoHd0IAAICw7Ad3QgAAQBY/CHdCAAAAfJEId0IAAECtiAl3QgAAABPbCXdCAADAeC0Kd0IAAIDefwp3QgAAQETSCndCAACAdckLd0IAAABBbgx3QgAAwKbADHdCAACADBMNd0IAAMA9Cg53QgAAgKNcDndCAABACa8Od0IAAABvAQ93QgAAwNRTD3dCAAAABksQd0IAAMBrnRB3QgAAgNHvEHdCAABAN0IRd0IAAACdlBF3QgAAQM6LEndCAAAANN4Sd0IAAMCZMBN3QgAAQGXVE3dCAABA/B4Vd0IAAABicRV3QgAAwMfDFXdCAADAXg0Xd0IAAEAqshd3QgAAAJAEGHdCAADA9VYYd0IAAAAnThl3QgAAwIygGXdCAACA8vIZd0IAAEBYRRp3QgAAAL6XGndCAABA744bd0IAAABV4Rt3QgAAwLozHHdCAACAIIYcd0IAAIC3zx13QgAAQB0iHndCAAAAg3Qed0IAAMDoxh53QgAAgE4ZH3dCAADAfxAgd0IAAIDlYiB3QgAAQEu1IHdCAAAAsQchd0IAAMAWWiF3QgAAAEhRIndCAADAraMid0IAAIAT9iJ3QgAAQHlII3dCAAAA35ojd0IAAAB25CR3QgAAwNs2JXdCAACAQYkld0IAAECn2yV3QgAAgNjSJndCAABAPiUnd0IAAACkdyd3QgAAwAnKJ3dCAACAbxwod0IAAMCgEyl3QgAAgAZmKXdCAABAbLgpd0IAAADSCip3QgAAwDddKndCAAAAaVQrd0IAAMDOpit3QgAAgDT5K3dCAABAmkssd0IAAAAAnix3QgAAQDGVLXdCAAAAl+ctd0IAAMD8OS53QgAAgGKMLndCAABAyN4ud0IAAID51S93QgAAQF8oMHdCAAAAxXowd0IAAMAqzTB3QgAAgJAfMXdCAADAwRYyd0IAAIAnaTJ3QgAAQI27MndCAAAA8w0zd0IAAMBYYDN3QgAAAIpXNHdCAADA76k0d0IAAIBV/DR3QgAAQLtONXdCAAAAIaE1d0IAAEBSmDZ3QgAAALjqNndCAADAHT03d0IAAICDjzd3QgAAQOnhN3dCAACAGtk4d0I=\",\"dtype\":\"float64\",\"order\":\"little\",\"shape\":[142]}},\"selected\":{\"id\":\"1087\"},\"selection_policy\":{\"id\":\"1086\"}},\"id\":\"1070\",\"type\":\"ColumnDataSource\"},{\"attributes\":{\"line_color\":\"#ff7f0e\",\"line_width\":2,\"x\":{\"field\":\"__x__values\"},\"y\":{\"field\":\"NIFTY FMCG index\"}},\"id\":\"1072\",\"type\":\"Line\"},{\"attributes\":{\"line_alpha\":0.1,\"line_color\":\"#ff7f0e\",\"line_width\":2,\"x\":{\"field\":\"__x__values\"},\"y\":{\"field\":\"NIFTY FMCG index\"}},\"id\":\"1073\",\"type\":\"Line\"},{\"attributes\":{\"line_alpha\":0.2,\"line_color\":\"#ff7f0e\",\"line_width\":2,\"x\":{\"field\":\"__x__values\"},\"y\":{\"field\":\"NIFTY FMCG index\"}},\"id\":\"1074\",\"type\":\"Line\"},{\"attributes\":{\"source\":{\"id\":\"1070\"}},\"id\":\"1076\",\"type\":\"CDSView\"},{\"attributes\":{\"label\":{\"value\":\" NIFTY FMCG index\"},\"renderers\":[{\"id\":\"1075\"}]},\"id\":\"1101\",\"type\":\"LegendItem\"},{\"attributes\":{},\"id\":\"1086\",\"type\":\"UnionRenderers\"},{\"attributes\":{},\"id\":\"1007\",\"type\":\"DataRange1d\"},{\"attributes\":{},\"id\":\"1046\",\"type\":\"BasicTickFormatter\"},{\"attributes\":{},\"id\":\"1009\",\"type\":\"DataRange1d\"},{\"attributes\":{\"num_minor_ticks\":5,\"tickers\":[{\"id\":\"1054\"},{\"id\":\"1055\"},{\"id\":\"1056\"},{\"id\":\"1057\"},{\"id\":\"1058\"},{\"id\":\"1059\"},{\"id\":\"1060\"},{\"id\":\"1061\"},{\"id\":\"1062\"},{\"id\":\"1063\"},{\"id\":\"1064\"},{\"id\":\"1065\"}]},\"id\":\"1016\",\"type\":\"DatetimeTicker\"},{\"attributes\":{},\"id\":\"1047\",\"type\":\"AllLabels\"},{\"attributes\":{},\"id\":\"1013\",\"type\":\"LinearScale\"},{\"attributes\":{\"days\":[\"%d %B %Y\"],\"hours\":[\"%H:%M:%S\"],\"milliseconds\":[\"%H:%M:%S.%f\"],\"minutes\":[\"%H:%M:%S\"],\"months\":[\"%d %B %Y\"],\"seconds\":[\"%H:%M:%S\"],\"years\":[\"%d %B %Y\"]},\"id\":\"1178\",\"type\":\"DatetimeTickFormatter\"},{\"attributes\":{\"axis\":{\"id\":\"1015\"},\"coordinates\":null,\"group\":null,\"ticker\":null},\"id\":\"1018\",\"type\":\"Grid\"},{\"attributes\":{},\"id\":\"1050\",\"type\":\"AllLabels\"},{\"attributes\":{\"callback\":null,\"formatters\":{\"@__x__values_original\":\"datetime\"},\"mode\":\"vline\",\"renderers\":[{\"id\":\"1075\"}],\"tooltips\":[[\"Date\",\"@__x__values_original{%F}\"],[\"NIFTY FMCG index\",\"@{NIFTY FMCG index}\"]]},\"id\":\"1102\",\"type\":\"HoverTool\"},{\"attributes\":{},\"id\":\"1051\",\"type\":\"UnionRenderers\"},{\"attributes\":{\"line_color\":\"#2ca02c\",\"line_width\":2,\"x\":{\"field\":\"__x__values\"},\"y\":{\"field\":\"NIFTY IT index\"}},\"id\":\"1106\",\"type\":\"Line\"},{\"attributes\":{\"coordinates\":null,\"group\":null},\"id\":\"1005\",\"type\":\"Title\"},{\"attributes\":{},\"id\":\"1052\",\"type\":\"Selection\"},{\"attributes\":{\"data\":{\"NIFTY Bank index\":{\"__ndarray__\":\"mpmZmblZ30BmZmZm9q7fQAAAAABQUd9AmpmZmUmB3kCamZmZ2aneQJqZmZlpo95AmpmZmRlX30CamZmZWVjfQJqZmZlpbN9AmpmZmelR30CamZmZORTfQJqZmZl5G99AmpmZmanZ3kCamZmZKVreQDMzMzPjON5AzczMzFz73UAzMzMzA0feQAAAAABwgt5AmpmZmVkd3kCamZmZWQreQAAAAABAJ95AmpmZmdnt3UBmZmZmZhzeQJqZmZk5H91AAAAAANBR3UDNzMzMrPfdQM3MzMx8Rt5AMzMzMwOS3kDNzMzMfHjeQJqZmZmJVN5AZmZmZiaR3kCamZmZOcHeQAAAAACQf95AMzMzM7Mc3kDNzMzMLPbdQAAAAACg2N1AzczMzIwd3kBmZmZmtjfeQGZmZmbGvd1AzczMzCy43UBmZmZmtpjdQAAAAADAet1AmpmZmcl23ECamZmZGTHcQDMzMzNDftxAzczMzGz720BmZmZm1iPcQM3MzMxcJttAZmZmZqbX2UAzMzMz893ZQJqZmZnJaNdAzczMzJyT2ECamZmZSY/WQJqZmZnJotVAzczMzAwZ1EAAAAAA4JzTQGZmZmZm19NAmpmZmWmF0EAzMzMz07TQQDMzMzNDDNJAmpmZmXkn00AAAAAAQIDTQJqZmZmZV9JAAAAAAACy0kBmZmZmFsjRQDMzMzNT2NBAAAAAAKCd0kDNzMzMnIDSQGZmZmZmctNAAAAAAAAI00AzMzMzQ5zSQAAAAAAA8tJAzczMzFwy1ECamZmZqQrUQGZmZmZW9NJAZmZmZnY900DNzMzM/MrTQJqZmZmpINNAmpmZmUmc00BmZmZmxi/UQM3MzMyMmNRAAAAAAKAH1UAAAAAA8EfTQAAAAADw0dJAMzMzM6M700AzMzMz8wjTQJqZmZk55tJAAAAAAKCB0kBmZmZmtmvSQM3MzMy8LNNAAAAAACCf0kDNzMzMfGTSQM3MzMxMKdFAAAAAAJAT0UDNzMzMDGzRQGZmZmbGUdFAmpmZmbnf0EBmZmZmFgjRQDMzMzOjRdJAMzMzM3O40kAAAAAAUNjSQJqZmZn5fdNAzczMzIwM1EDNzMzMLHPUQM3MzMyc6dNAAAAAAKCK1EBmZmZm1rDUQJqZmZk5PdRAZmZmZgab1ECamZmZSQvUQDMzMzOjK9RAmpmZmTly00DNzMzMLNLTQAAAAABwutNAMzMzMxN31EBmZmZmhtbUQGZmZmYWM9VAmpmZmTm+1UAzMzMzs+zUQJqZmZmJANVAMzMzMwMW1UAAAAAAwNvUQJqZmZmJ3tRAZmZmZmZ21UDNzMzMTHDVQJqZmZkZV9VAzczMzLyt1UAAAAAAABnWQJqZmZkpDtZAzczMzMxe1kDNzMzMnN/VQAAAAABQktVAzczMzAzk1EAAAAAAMNfUQJqZmZlJF9VAMzMzM7Nz1UBmZmZmdszVQAAAAACAP9ZAZmZmZqZY1kCamZmZ+YrWQDMzMzODIdZAAAAAADBW1UA=\",\"dtype\":\"float64\",\"order\":\"little\",\"shape\":[142]},\"NIFTY FMCG index\":{\"__ndarray__\":\"AAAAAJCG3UDNzMzMjI7dQAAAAABQZ91AMzMzM9MZ3UAzMzMzcyndQM3MzMxMMd1AZmZmZuZq3UDNzMzMnKjdQM3MzMxc/t1AmpmZmVlq3kBmZmZmRoHeQM3MzMyMmt5AzczMzNyi3kAAAAAAsLDeQM3MzMx8at5AmpmZmUls3kCamZmZuX7eQJqZmZm5vN5AzczMzGxr3kAzMzMzw0zeQAAAAACQsN5AzczMzBw23kAzMzMz0w3eQJqZmZkpfd1AMzMzM9O43UAAAAAAAAbeQJqZmZmZNd5AZmZmZiYE3kAAAAAAYBbeQM3MzMwc0N1AMzMzM6Oz3UAAAAAAkELeQDMzMzPTT95AAAAAALDt3UAzMzMzQ8TdQGZmZmYmpt1AAAAAAMAc3kAAAAAAEOvdQGZmZmbmcN1AzczMzEx33UAzMzMzY0PdQM3MzMxMR91AAAAAAJCf3ECamZmZuXTcQM3MzMyMt9xAAAAAAPCJ3EAAAAAAoNbcQAAAAABAQtxAAAAAACBm20AAAAAAsGvbQAAAAADAeNlAAAAAAACY2UCamZmZ6SDYQGZmZmZ2WNhAAAAAAKCe10AAAAAAsGjXQGZmZmbmUtlAMzMzMwOk1kAzMzMz01/XQM3MzMzs5ddAZmZmZgYU2UDNzMzMHCPZQDMzMzPjOdlAzczMzMyt2kAzMzMzs73ZQAAAAABw6tlAMzMzM1MS3ECamZmZ+SncQM3MzMxMRtxAZmZmZnbX20DNzMzMvP3cQDMzMzMT0txAZmZmZpaE3EBmZmZmhu3bQGZmZmYm0NtAmpmZmUmA3EAAAAAAkBzcQM3MzMws99tAMzMzMyNf3ECamZmZiRrcQAAAAABA/ttAMzMzM1P/20AAAAAAwPPaQGZmZmamgNpAzczMzIwB2kAzMzMzo6PZQDMzMzPzIdpAMzMzM/MK2kCamZmZSTraQAAAAACgHtpAmpmZmWlN2kCamZmZqVPaQJqZmZmpEdpAAAAAAPBD2kBmZmZmlqbaQGZmZmbGO9tAZmZmZoYi20AzMzMzk3bbQJqZmZmZj9tAZmZmZubI20DNzMzMPJzcQDMzMzPT4NxAZmZmZvar3EAAAAAAwNXcQDMzMzNj7dxAAAAAAIDZ3ECamZmZic/cQJqZmZk51dxAzczMzMzP3EDNzMzMHGncQGZmZmZmdtxAMzMzM3MH3EBmZmZm1ufbQAAAAADww9tAzczMzCz620DNzMzMXAncQM3MzMxcMNxAzczMzMyq3ECamZmZ2cvcQAAAAABQaN1AMzMzM0MP3UCamZmZ6UTdQAAAAADQW91AAAAAACCG3UDNzMzMDJvdQGZmZmZG0N1AmpmZment3UDNzMzMjM3dQJqZmZl5Dd5AAAAAAPDz3UCamZmZSRneQJqZmZm5e95AZmZmZjY13kDNzMzMHGneQGZmZmaWc95AMzMzM9Oz3kBmZmZmFszeQAAAAAAQjN5AZmZmZuZS3kCamZmZeV/eQGZmZma2St5AAAAAAPAY3kA=\",\"dtype\":\"float64\",\"order\":\"little\",\"shape\":[142]},\"NIFTY IT index\":{\"__ndarray__\":\"MzMzMxO1zkAzMzMz067OQM3MzMxMIM9AZmZmZuYDz0CamZmZmQvPQJqZmZm5KM9AMzMzM5Maz0AzMzMz8yvPQDMzMzPzsM9AzczMzCz1z0DNzMzMbO3PQDMzMzPT/s9AzczMzEzyz0AzMzMzk6fPQJqZmZmZl89AZmZmZkbnz0CamZmZmRbQQAAAAAAwFtBAMzMzM2MC0EAAAAAAcAvQQDMzMzPTF9BAMzMzM/Pjz0AzMzMzE4jPQDMzMzNTzc9AMzMzM/Ndz0DNzMzMbO/PQDMzMzMjENBAMzMzM5P5z0CamZmZiRXQQJqZmZn5C9BAMzMzMxMR0EBmZmZmhibQQDMzMzNDSNBAAAAAALBA0EDNzMzM7EHQQAAAAAAwW9BAzczMzBxh0ECamZmZWULQQDMzMzNzE9BAAAAAAKAs0EAAAAAAIObPQGZmZmbmfc9AmpmZmXm2zUAzMzMz0yHOQJqZmZmZtc5AZmZmZib8zkDNzMzMrP/OQJqZmZm5l85AMzMzM3MDzUAzMzMzs6zMQGZmZmZmJMpAzczMzIxxykDNzMzMrFHIQAAAAACgocdAAAAAAID0xkAAAAAAACbGQDMzMzOzJchAzczMzMzVxUBmZmZmhizHQM3MzMys5MdAzczMzMx7yEDNzMzMjIzIQGZmZmZmD8hAMzMzM9PtyEDNzMzM7IbHQGZmZmYG0MZAmpmZmXmWyEBmZmZmxmXIQGZmZmZG3MhAzczMzIydyEDNzMzMTM/IQM3MzMzMV8hAAAAAAKC0yEAzMzMz0xfJQM3MzMxsPMhAZmZmZqaNyECamZmZGaTJQJqZmZkZCMlAMzMzM5OgyUAzMzMz06bJQJqZmZl5OMpAzczMzCyOy0AAAAAAIEfKQAAAAAAAJspAmpmZmVkpykCamZmZWfbJQM3MzMzMLcpAZmZmZsaMykAAAAAA4LvKQJqZmZl56MpAmpmZmdn2yUDNzMzMLMbJQDMzMzMzAcpAzczMzExDykDNzMzMrGbKQDMzMzPzp8pAMzMzM1MJy0CamZmZeYPKQDMzMzNzQMtAzczMzExmy0AAAAAAQF3LQM3MzMyM8ctAMzMzMzMrzECamZmZ2QzMQJqZmZm5kcxAmpmZmbmRzEDNzMzMTBfNQGZmZmbmyMxAZmZmZgb9zECamZmZuY3MQAAAAABgIcxAmpmZmVkezEBmZmZmZjnMQJqZmZk5R8xAAAAAAKBrzEBmZmZm5lHMQDMzMzPTP8xAMzMzMzOszECamZmZuXrMQJqZmZmZJcxAMzMzM1NJzUAAAAAAANjMQGZmZmYm0cxAzczMzAzGzEBmZmZmRonNQDMzMzPz2s1AmpmZmXk0zkCamZmZedTOQDMzMzPTTM5AmpmZmflXzkCamZmZmWbOQJqZmZmZ5c5AZmZmZkaMzkAzMzMz8xLQQDMzMzODh9BAZmZmZlZt0EAzMzMzk9rQQM3MzMxM3tBAMzMzMwOt0EDNzMzMTKXQQAAAAACA4dBAAAAAALA20UA=\",\"dtype\":\"float64\",\"order\":\"little\",\"shape\":[142]},\"NIFTY Pharma index\":{\"__ndarray__\":\"mpmZmRlvv0AzMzMz83W/QDMzMzPzr79AmpmZmVkzv0AAAAAAgGS/QGZmZmYmPL9AZmZmZiZhv0AAAAAAgHq/QDMzMzNzjr9AAAAAAAC1v0AzMzMzM+a/QM3MzMyMBcBAZmZmZqZMwEDNzMzMrCbAQJqZmZkZKcBAMzMzM1MgwECamZmZGTbAQGZmZmYGM8BAzczMzCxwwEAAAAAAIHLAQGZmZmZmbsBAZmZmZoYWwECamZmZmcq/QAAAAADATb9AzczMzIwfv0BmZmZmZrq/QJqZmZmZvb9AMzMzM/MRwEDNzMzM7ErAQAAAAACgIsBAMzMzM1NCwEBmZmZmhiTAQJqZmZnZR8BAmpmZmdlFwEDNzMzMbAbAQGZmZmYmA8BAMzMzM1NdwEDNzMzMLFbAQM3MzMyMs79AMzMzM3MCv0AzMzMzM5++QGZmZmYmzb5AAAAAAMCYvUCamZmZGW+9QJqZmZmZ8L5AzczMzIyWv0AAAAAAANK/QM3MzMxMUr9AMzMzM3NMvkDNzMzMDMe9QM3MzMyMHrtAAAAAAABkvECamZmZWS+7QJqZmZkZQ7tAAAAAAMAxukAAAAAAgP+5QGZmZmbmJ7tAzczMzEwguUDNzMzMDNO5QM3MzMyMJ7pAAAAAAAB3ukDNzMzMDJ26QAAAAAAA8LpAAAAAAIAIvEAzMzMzs3K7QJqZmZmZwbxAmpmZmdm8v0CamZmZGW7AQJqZmZk5MMFAzczMzCyqwUBmZmZmZqfBQGZmZmam98FAAAAAAODiwUCamZmZmd7BQDMzMzPTUsJAAAAAAIBQwkAzMzMzc1bCQJqZmZk5l8JAZmZmZgbBwkCamZmZGVXCQJqZmZm5VMJAzczMzIw3wkDNzMzMTErCQAAAAADA7sFAMzMzM5MFwkDNzMzMDN7BQM3MzMysP8JAZmZmZqYtwkAzMzMzUw/CQAAAAADg3cFAmpmZmRnqwUAAAAAAgMLBQDMzMzNTwsFAzczMzEy+wUBmZmZmZnjCQGZmZmZGmMJAMzMzM1PAwkAAAAAAwIXCQJqZmZnZe8JAAAAAAEB8wkDNzMzMTBTDQM3MzMwMJcNAzczMzMw0w0BmZmZmBkTDQM3MzMzsrsNAZmZmZqaww0DNzMzMjGnDQGZmZmYGxcNAAAAAAKDSw0AzMzMzs2bDQGZmZmZmf8NAZmZmZoaCw0AzMzMzM2PDQJqZmZmZfMNAZmZmZqZ7w0AzMzMzE4nDQM3MzMws9cNAZmZmZmY8xEAAAAAAQL/DQDMzMzOT6MNAzczMzOzMw0AzMzMz88vDQDMzMzOTgMNAzczMzGxNw0AzMzMz02vDQDMzMzOzdcNAAAAAAKBWw0AAAAAAAEvDQAAAAABAbsNAZmZmZsaBw0AAAAAAIKzDQM3MzMxMvcNAZmZmZobVw0AAAAAAYPHDQGZmZmYmR8RAMzMzMxN0xEDNzMzMTCDEQGZmZmbm1MNAmpmZmZnfw0AzMzMzEynEQJqZmZn5/sNAZmZmZganw0A=\",\"dtype\":\"float64\",\"order\":\"little\",\"shape\":[142]},\"__x__values\":{\"__ndarray__\":\"AACAbub1dkIAAEDUOPZ2QgAAADqL9nZCAABAa4L3dkIAAADR1Pd2QgAAwDYn+HZCAACAnHn4dkIAAEACzPh2QgAAgDPD+XZCAABAmRX6dkIAAAD/Z/p2QgAAwGS6+nZCAACAygz7dkIAAMD7A/x2QgAAgGFW/HZCAABAx6j8dkIAAAAt+/x2QgAAwJJN/XZCAAAAxET+dkIAAMApl/52QgAAgI/p/nZCAABA9Tv/dkIAAABbjv92QgAAwMDg/3ZCAABAjIUAd0IAAADy1wB3QgAAwFcqAXdCAACAvXwBd0IAAEAjzwF3QgAAgFTGAndCAABAuhgDd0IAAAAgawN3QgAAwIW9A3dCAACA6w8Ed0IAAMAcBwV3QgAAgIJZBXdCAABA6KsFd0IAAABO/gV3QgAAAOVHB3dCAADASpoHd0IAAICw7Ad3QgAAQBY/CHdCAAAAfJEId0IAAECtiAl3QgAAABPbCXdCAADAeC0Kd0IAAIDefwp3QgAAQETSCndCAACAdckLd0IAAABBbgx3QgAAwKbADHdCAACADBMNd0IAAMA9Cg53QgAAgKNcDndCAABACa8Od0IAAABvAQ93QgAAwNRTD3dCAAAABksQd0IAAMBrnRB3QgAAgNHvEHdCAABAN0IRd0IAAACdlBF3QgAAQM6LEndCAAAANN4Sd0IAAMCZMBN3QgAAQGXVE3dCAABA/B4Vd0IAAABicRV3QgAAwMfDFXdCAADAXg0Xd0IAAEAqshd3QgAAAJAEGHdCAADA9VYYd0IAAAAnThl3QgAAwIygGXdCAACA8vIZd0IAAEBYRRp3QgAAAL6XGndCAABA744bd0IAAABV4Rt3QgAAwLozHHdCAACAIIYcd0IAAIC3zx13QgAAQB0iHndCAAAAg3Qed0IAAMDoxh53QgAAgE4ZH3dCAADAfxAgd0IAAIDlYiB3QgAAQEu1IHdCAAAAsQchd0IAAMAWWiF3QgAAAEhRIndCAADAraMid0IAAIAT9iJ3QgAAQHlII3dCAAAA35ojd0IAAAB25CR3QgAAwNs2JXdCAACAQYkld0IAAECn2yV3QgAAgNjSJndCAABAPiUnd0IAAACkdyd3QgAAwAnKJ3dCAACAbxwod0IAAMCgEyl3QgAAgAZmKXdCAABAbLgpd0IAAADSCip3QgAAwDddKndCAAAAaVQrd0IAAMDOpit3QgAAgDT5K3dCAABAmkssd0IAAAAAnix3QgAAQDGVLXdCAAAAl+ctd0IAAMD8OS53QgAAgGKMLndCAABAyN4ud0IAAID51S93QgAAQF8oMHdCAAAAxXowd0IAAMAqzTB3QgAAgJAfMXdCAADAwRYyd0IAAIAnaTJ3QgAAQI27MndCAAAA8w0zd0IAAMBYYDN3QgAAAIpXNHdCAADA76k0d0IAAIBV/DR3QgAAQLtONXdCAAAAIaE1d0IAAEBSmDZ3QgAAALjqNndCAADAHT03d0IAAICDjzd3QgAAQOnhN3dCAACAGtk4d0I=\",\"dtype\":\"float64\",\"order\":\"little\",\"shape\":[142]},\"__x__values_original\":{\"__ndarray__\":\"AACAbub1dkIAAEDUOPZ2QgAAADqL9nZCAABAa4L3dkIAAADR1Pd2QgAAwDYn+HZCAACAnHn4dkIAAEACzPh2QgAAgDPD+XZCAABAmRX6dkIAAAD/Z/p2QgAAwGS6+nZCAACAygz7dkIAAMD7A/x2QgAAgGFW/HZCAABAx6j8dkIAAAAt+/x2QgAAwJJN/XZCAAAAxET+dkIAAMApl/52QgAAgI/p/nZCAABA9Tv/dkIAAABbjv92QgAAwMDg/3ZCAABAjIUAd0IAAADy1wB3QgAAwFcqAXdCAACAvXwBd0IAAEAjzwF3QgAAgFTGAndCAABAuhgDd0IAAAAgawN3QgAAwIW9A3dCAACA6w8Ed0IAAMAcBwV3QgAAgIJZBXdCAABA6KsFd0IAAABO/gV3QgAAAOVHB3dCAADASpoHd0IAAICw7Ad3QgAAQBY/CHdCAAAAfJEId0IAAECtiAl3QgAAABPbCXdCAADAeC0Kd0IAAIDefwp3QgAAQETSCndCAACAdckLd0IAAABBbgx3QgAAwKbADHdCAACADBMNd0IAAMA9Cg53QgAAgKNcDndCAABACa8Od0IAAABvAQ93QgAAwNRTD3dCAAAABksQd0IAAMBrnRB3QgAAgNHvEHdCAABAN0IRd0IAAACdlBF3QgAAQM6LEndCAAAANN4Sd0IAAMCZMBN3QgAAQGXVE3dCAABA/B4Vd0IAAABicRV3QgAAwMfDFXdCAADAXg0Xd0IAAEAqshd3QgAAAJAEGHdCAADA9VYYd0IAAAAnThl3QgAAwIygGXdCAACA8vIZd0IAAEBYRRp3QgAAAL6XGndCAABA744bd0IAAABV4Rt3QgAAwLozHHdCAACAIIYcd0IAAIC3zx13QgAAQB0iHndCAAAAg3Qed0IAAMDoxh53QgAAgE4ZH3dCAADAfxAgd0IAAIDlYiB3QgAAQEu1IHdCAAAAsQchd0IAAMAWWiF3QgAAAEhRIndCAADAraMid0IAAIAT9iJ3QgAAQHlII3dCAAAA35ojd0IAAAB25CR3QgAAwNs2JXdCAACAQYkld0IAAECn2yV3QgAAgNjSJndCAABAPiUnd0IAAACkdyd3QgAAwAnKJ3dCAACAbxwod0IAAMCgEyl3QgAAgAZmKXdCAABAbLgpd0IAAADSCip3QgAAwDddKndCAAAAaVQrd0IAAMDOpit3QgAAgDT5K3dCAABAmkssd0IAAAAAnix3QgAAQDGVLXdCAAAAl+ctd0IAAMD8OS53QgAAgGKMLndCAABAyN4ud0IAAID51S93QgAAQF8oMHdCAAAAxXowd0IAAMAqzTB3QgAAgJAfMXdCAADAwRYyd0IAAIAnaTJ3QgAAQI27MndCAAAA8w0zd0IAAMBYYDN3QgAAAIpXNHdCAADA76k0d0IAAIBV/DR3QgAAQLtONXdCAAAAIaE1d0IAAEBSmDZ3QgAAALjqNndCAADAHT03d0IAAICDjzd3QgAAQOnhN3dCAACAGtk4d0I=\",\"dtype\":\"float64\",\"order\":\"little\",\"shape\":[142]}},\"selected\":{\"id\":\"1123\"},\"selection_policy\":{\"id\":\"1122\"}},\"id\":\"1104\",\"type\":\"ColumnDataSource\"},{\"attributes\":{\"coordinates\":null,\"data_source\":{\"id\":\"1104\"},\"glyph\":{\"id\":\"1106\"},\"group\":null,\"hover_glyph\":null,\"muted_glyph\":{\"id\":\"1108\"},\"nonselection_glyph\":{\"id\":\"1107\"},\"view\":{\"id\":\"1110\"}},\"id\":\"1109\",\"type\":\"GlyphRenderer\"},{\"attributes\":{\"line_alpha\":0.1,\"line_color\":\"#2ca02c\",\"line_width\":2,\"x\":{\"field\":\"__x__values\"},\"y\":{\"field\":\"NIFTY IT index\"}},\"id\":\"1107\",\"type\":\"Line\"},{\"attributes\":{\"line_alpha\":0.2,\"line_color\":\"#2ca02c\",\"line_width\":2,\"x\":{\"field\":\"__x__values\"},\"y\":{\"field\":\"NIFTY IT index\"}},\"id\":\"1108\",\"type\":\"Line\"},{\"attributes\":{\"source\":{\"id\":\"1104\"}},\"id\":\"1110\",\"type\":\"CDSView\"},{\"attributes\":{\"label\":{\"value\":\" NIFTY IT index\"},\"renderers\":[{\"id\":\"1109\"}]},\"id\":\"1137\",\"type\":\"LegendItem\"},{\"attributes\":{},\"id\":\"1123\",\"type\":\"Selection\"},{\"attributes\":{},\"id\":\"1122\",\"type\":\"UnionRenderers\"},{\"attributes\":{},\"id\":\"1027\",\"type\":\"ResetTool\"},{\"attributes\":{\"mantissas\":[1,2,5],\"max_interval\":500.0,\"num_minor_ticks\":0},\"id\":\"1054\",\"type\":\"AdaptiveTicker\"},{\"attributes\":{\"base\":60,\"mantissas\":[1,2,5,10,15,20,30],\"max_interval\":1800000.0,\"min_interval\":1000.0,\"num_minor_ticks\":0},\"id\":\"1055\",\"type\":\"AdaptiveTicker\"},{\"attributes\":{\"line_color\":\"#d62728\",\"line_width\":2,\"x\":{\"field\":\"__x__values\"},\"y\":{\"field\":\"NIFTY Pharma index\"}},\"id\":\"1142\",\"type\":\"Line\"},{\"attributes\":{\"days\":[1,8,15,22]},\"id\":\"1059\",\"type\":\"DaysTicker\"},{\"attributes\":{\"base\":24,\"mantissas\":[1,2,4,6,8,12],\"max_interval\":43200000.0,\"min_interval\":3600000.0,\"num_minor_ticks\":0},\"id\":\"1056\",\"type\":\"AdaptiveTicker\"},{\"attributes\":{},\"id\":\"1065\",\"type\":\"YearsTicker\"},{\"attributes\":{},\"id\":\"1028\",\"type\":\"HelpTool\"},{\"attributes\":{\"days\":[1,4,7,10,13,16,19,22,25,28]},\"id\":\"1058\",\"type\":\"DaysTicker\"},{\"attributes\":{\"coordinates\":null,\"formatter\":{\"id\":\"1046\"},\"group\":null,\"major_label_policy\":{\"id\":\"1047\"},\"ticker\":{\"id\":\"1020\"}},\"id\":\"1019\",\"type\":\"LinearAxis\"},{\"attributes\":{\"days\":[1,2,3,4,5,6,7,8,9,10,11,12,13,14,15,16,17,18,19,20,21,22,23,24,25,26,27,28,29,30,31]},\"id\":\"1057\",\"type\":\"DaysTicker\"},{\"attributes\":{\"months\":[0,6]},\"id\":\"1064\",\"type\":\"MonthsTicker\"},{\"attributes\":{\"days\":[1,15]},\"id\":\"1060\",\"type\":\"DaysTicker\"},{\"attributes\":{\"bottom_units\":\"screen\",\"coordinates\":null,\"fill_alpha\":0.5,\"fill_color\":\"lightgrey\",\"group\":null,\"left_units\":\"screen\",\"level\":\"overlay\",\"line_alpha\":1.0,\"line_color\":\"black\",\"line_dash\":[4,4],\"line_width\":2,\"right_units\":\"screen\",\"syncable\":false,\"top_units\":\"screen\"},\"id\":\"1029\",\"type\":\"BoxAnnotation\"},{\"attributes\":{\"months\":[0,1,2,3,4,5,6,7,8,9,10,11]},\"id\":\"1061\",\"type\":\"MonthsTicker\"},{\"attributes\":{\"months\":[0,2,4,6,8,10]},\"id\":\"1062\",\"type\":\"MonthsTicker\"},{\"attributes\":{\"callback\":null,\"formatters\":{\"@__x__values_original\":\"datetime\"},\"mode\":\"vline\",\"renderers\":[{\"id\":\"1109\"}],\"tooltips\":[[\"Date\",\"@__x__values_original{%F}\"],[\"NIFTY IT index\",\"@{NIFTY IT index}\"]]},\"id\":\"1138\",\"type\":\"HoverTool\"},{\"attributes\":{\"data\":{\"NIFTY Bank index\":{\"__ndarray__\":\"mpmZmblZ30BmZmZm9q7fQAAAAABQUd9AmpmZmUmB3kCamZmZ2aneQJqZmZlpo95AmpmZmRlX30CamZmZWVjfQJqZmZlpbN9AmpmZmelR30CamZmZORTfQJqZmZl5G99AmpmZmanZ3kCamZmZKVreQDMzMzPjON5AzczMzFz73UAzMzMzA0feQAAAAABwgt5AmpmZmVkd3kCamZmZWQreQAAAAABAJ95AmpmZmdnt3UBmZmZmZhzeQJqZmZk5H91AAAAAANBR3UDNzMzMrPfdQM3MzMx8Rt5AMzMzMwOS3kDNzMzMfHjeQJqZmZmJVN5AZmZmZiaR3kCamZmZOcHeQAAAAACQf95AMzMzM7Mc3kDNzMzMLPbdQAAAAACg2N1AzczMzIwd3kBmZmZmtjfeQGZmZmbGvd1AzczMzCy43UBmZmZmtpjdQAAAAADAet1AmpmZmcl23ECamZmZGTHcQDMzMzNDftxAzczMzGz720BmZmZm1iPcQM3MzMxcJttAZmZmZqbX2UAzMzMz893ZQJqZmZnJaNdAzczMzJyT2ECamZmZSY/WQJqZmZnJotVAzczMzAwZ1EAAAAAA4JzTQGZmZmZm19NAmpmZmWmF0EAzMzMz07TQQDMzMzNDDNJAmpmZmXkn00AAAAAAQIDTQJqZmZmZV9JAAAAAAACy0kBmZmZmFsjRQDMzMzNT2NBAAAAAAKCd0kDNzMzMnIDSQGZmZmZmctNAAAAAAAAI00AzMzMzQ5zSQAAAAAAA8tJAzczMzFwy1ECamZmZqQrUQGZmZmZW9NJAZmZmZnY900DNzMzM/MrTQJqZmZmpINNAmpmZmUmc00BmZmZmxi/UQM3MzMyMmNRAAAAAAKAH1UAAAAAA8EfTQAAAAADw0dJAMzMzM6M700AzMzMz8wjTQJqZmZk55tJAAAAAAKCB0kBmZmZmtmvSQM3MzMy8LNNAAAAAACCf0kDNzMzMfGTSQM3MzMxMKdFAAAAAAJAT0UDNzMzMDGzRQGZmZmbGUdFAmpmZmbnf0EBmZmZmFgjRQDMzMzOjRdJAMzMzM3O40kAAAAAAUNjSQJqZmZn5fdNAzczMzIwM1EDNzMzMLHPUQM3MzMyc6dNAAAAAAKCK1EBmZmZm1rDUQJqZmZk5PdRAZmZmZgab1ECamZmZSQvUQDMzMzOjK9RAmpmZmTly00DNzMzMLNLTQAAAAABwutNAMzMzMxN31EBmZmZmhtbUQGZmZmYWM9VAmpmZmTm+1UAzMzMzs+zUQJqZmZmJANVAMzMzMwMW1UAAAAAAwNvUQJqZmZmJ3tRAZmZmZmZ21UDNzMzMTHDVQJqZmZkZV9VAzczMzLyt1UAAAAAAABnWQJqZmZkpDtZAzczMzMxe1kDNzMzMnN/VQAAAAABQktVAzczMzAzk1EAAAAAAMNfUQJqZmZlJF9VAMzMzM7Nz1UBmZmZmdszVQAAAAACAP9ZAZmZmZqZY1kCamZmZ+YrWQDMzMzODIdZAAAAAADBW1UA=\",\"dtype\":\"float64\",\"order\":\"little\",\"shape\":[142]},\"NIFTY FMCG index\":{\"__ndarray__\":\"AAAAAJCG3UDNzMzMjI7dQAAAAABQZ91AMzMzM9MZ3UAzMzMzcyndQM3MzMxMMd1AZmZmZuZq3UDNzMzMnKjdQM3MzMxc/t1AmpmZmVlq3kBmZmZmRoHeQM3MzMyMmt5AzczMzNyi3kAAAAAAsLDeQM3MzMx8at5AmpmZmUls3kCamZmZuX7eQJqZmZm5vN5AzczMzGxr3kAzMzMzw0zeQAAAAACQsN5AzczMzBw23kAzMzMz0w3eQJqZmZkpfd1AMzMzM9O43UAAAAAAAAbeQJqZmZmZNd5AZmZmZiYE3kAAAAAAYBbeQM3MzMwc0N1AMzMzM6Oz3UAAAAAAkELeQDMzMzPTT95AAAAAALDt3UAzMzMzQ8TdQGZmZmYmpt1AAAAAAMAc3kAAAAAAEOvdQGZmZmbmcN1AzczMzEx33UAzMzMzY0PdQM3MzMxMR91AAAAAAJCf3ECamZmZuXTcQM3MzMyMt9xAAAAAAPCJ3EAAAAAAoNbcQAAAAABAQtxAAAAAACBm20AAAAAAsGvbQAAAAADAeNlAAAAAAACY2UCamZmZ6SDYQGZmZmZ2WNhAAAAAAKCe10AAAAAAsGjXQGZmZmbmUtlAMzMzMwOk1kAzMzMz01/XQM3MzMzs5ddAZmZmZgYU2UDNzMzMHCPZQDMzMzPjOdlAzczMzMyt2kAzMzMzs73ZQAAAAABw6tlAMzMzM1MS3ECamZmZ+SncQM3MzMxMRtxAZmZmZnbX20DNzMzMvP3cQDMzMzMT0txAZmZmZpaE3EBmZmZmhu3bQGZmZmYm0NtAmpmZmUmA3EAAAAAAkBzcQM3MzMws99tAMzMzMyNf3ECamZmZiRrcQAAAAABA/ttAMzMzM1P/20AAAAAAwPPaQGZmZmamgNpAzczMzIwB2kAzMzMzo6PZQDMzMzPzIdpAMzMzM/MK2kCamZmZSTraQAAAAACgHtpAmpmZmWlN2kCamZmZqVPaQJqZmZmpEdpAAAAAAPBD2kBmZmZmlqbaQGZmZmbGO9tAZmZmZoYi20AzMzMzk3bbQJqZmZmZj9tAZmZmZubI20DNzMzMPJzcQDMzMzPT4NxAZmZmZvar3EAAAAAAwNXcQDMzMzNj7dxAAAAAAIDZ3ECamZmZic/cQJqZmZk51dxAzczMzMzP3EDNzMzMHGncQGZmZmZmdtxAMzMzM3MH3EBmZmZm1ufbQAAAAADww9tAzczMzCz620DNzMzMXAncQM3MzMxcMNxAzczMzMyq3ECamZmZ2cvcQAAAAABQaN1AMzMzM0MP3UCamZmZ6UTdQAAAAADQW91AAAAAACCG3UDNzMzMDJvdQGZmZmZG0N1AmpmZment3UDNzMzMjM3dQJqZmZl5Dd5AAAAAAPDz3UCamZmZSRneQJqZmZm5e95AZmZmZjY13kDNzMzMHGneQGZmZmaWc95AMzMzM9Oz3kBmZmZmFszeQAAAAAAQjN5AZmZmZuZS3kCamZmZeV/eQGZmZma2St5AAAAAAPAY3kA=\",\"dtype\":\"float64\",\"order\":\"little\",\"shape\":[142]},\"NIFTY IT index\":{\"__ndarray__\":\"MzMzMxO1zkAzMzMz067OQM3MzMxMIM9AZmZmZuYDz0CamZmZmQvPQJqZmZm5KM9AMzMzM5Maz0AzMzMz8yvPQDMzMzPzsM9AzczMzCz1z0DNzMzMbO3PQDMzMzPT/s9AzczMzEzyz0AzMzMzk6fPQJqZmZmZl89AZmZmZkbnz0CamZmZmRbQQAAAAAAwFtBAMzMzM2MC0EAAAAAAcAvQQDMzMzPTF9BAMzMzM/Pjz0AzMzMzE4jPQDMzMzNTzc9AMzMzM/Ndz0DNzMzMbO/PQDMzMzMjENBAMzMzM5P5z0CamZmZiRXQQJqZmZn5C9BAMzMzMxMR0EBmZmZmhibQQDMzMzNDSNBAAAAAALBA0EDNzMzM7EHQQAAAAAAwW9BAzczMzBxh0ECamZmZWULQQDMzMzNzE9BAAAAAAKAs0EAAAAAAIObPQGZmZmbmfc9AmpmZmXm2zUAzMzMz0yHOQJqZmZmZtc5AZmZmZib8zkDNzMzMrP/OQJqZmZm5l85AMzMzM3MDzUAzMzMzs6zMQGZmZmZmJMpAzczMzIxxykDNzMzMrFHIQAAAAACgocdAAAAAAID0xkAAAAAAACbGQDMzMzOzJchAzczMzMzVxUBmZmZmhizHQM3MzMys5MdAzczMzMx7yEDNzMzMjIzIQGZmZmZmD8hAMzMzM9PtyEDNzMzM7IbHQGZmZmYG0MZAmpmZmXmWyEBmZmZmxmXIQGZmZmZG3MhAzczMzIydyEDNzMzMTM/IQM3MzMzMV8hAAAAAAKC0yEAzMzMz0xfJQM3MzMxsPMhAZmZmZqaNyECamZmZGaTJQJqZmZkZCMlAMzMzM5OgyUAzMzMz06bJQJqZmZl5OMpAzczMzCyOy0AAAAAAIEfKQAAAAAAAJspAmpmZmVkpykCamZmZWfbJQM3MzMzMLcpAZmZmZsaMykAAAAAA4LvKQJqZmZl56MpAmpmZmdn2yUDNzMzMLMbJQDMzMzMzAcpAzczMzExDykDNzMzMrGbKQDMzMzPzp8pAMzMzM1MJy0CamZmZeYPKQDMzMzNzQMtAzczMzExmy0AAAAAAQF3LQM3MzMyM8ctAMzMzMzMrzECamZmZ2QzMQJqZmZm5kcxAmpmZmbmRzEDNzMzMTBfNQGZmZmbmyMxAZmZmZgb9zECamZmZuY3MQAAAAABgIcxAmpmZmVkezEBmZmZmZjnMQJqZmZk5R8xAAAAAAKBrzEBmZmZm5lHMQDMzMzPTP8xAMzMzMzOszECamZmZuXrMQJqZmZmZJcxAMzMzM1NJzUAAAAAAANjMQGZmZmYm0cxAzczMzAzGzEBmZmZmRonNQDMzMzPz2s1AmpmZmXk0zkCamZmZedTOQDMzMzPTTM5AmpmZmflXzkCamZmZmWbOQJqZmZmZ5c5AZmZmZkaMzkAzMzMz8xLQQDMzMzODh9BAZmZmZlZt0EAzMzMzk9rQQM3MzMxM3tBAMzMzMwOt0EDNzMzMTKXQQAAAAACA4dBAAAAAALA20UA=\",\"dtype\":\"float64\",\"order\":\"little\",\"shape\":[142]},\"NIFTY Pharma index\":{\"__ndarray__\":\"mpmZmRlvv0AzMzMz83W/QDMzMzPzr79AmpmZmVkzv0AAAAAAgGS/QGZmZmYmPL9AZmZmZiZhv0AAAAAAgHq/QDMzMzNzjr9AAAAAAAC1v0AzMzMzM+a/QM3MzMyMBcBAZmZmZqZMwEDNzMzMrCbAQJqZmZkZKcBAMzMzM1MgwECamZmZGTbAQGZmZmYGM8BAzczMzCxwwEAAAAAAIHLAQGZmZmZmbsBAZmZmZoYWwECamZmZmcq/QAAAAADATb9AzczMzIwfv0BmZmZmZrq/QJqZmZmZvb9AMzMzM/MRwEDNzMzM7ErAQAAAAACgIsBAMzMzM1NCwEBmZmZmhiTAQJqZmZnZR8BAmpmZmdlFwEDNzMzMbAbAQGZmZmYmA8BAMzMzM1NdwEDNzMzMLFbAQM3MzMyMs79AMzMzM3MCv0AzMzMzM5++QGZmZmYmzb5AAAAAAMCYvUCamZmZGW+9QJqZmZmZ8L5AzczMzIyWv0AAAAAAANK/QM3MzMxMUr9AMzMzM3NMvkDNzMzMDMe9QM3MzMyMHrtAAAAAAABkvECamZmZWS+7QJqZmZkZQ7tAAAAAAMAxukAAAAAAgP+5QGZmZmbmJ7tAzczMzEwguUDNzMzMDNO5QM3MzMyMJ7pAAAAAAAB3ukDNzMzMDJ26QAAAAAAA8LpAAAAAAIAIvEAzMzMzs3K7QJqZmZmZwbxAmpmZmdm8v0CamZmZGW7AQJqZmZk5MMFAzczMzCyqwUBmZmZmZqfBQGZmZmam98FAAAAAAODiwUCamZmZmd7BQDMzMzPTUsJAAAAAAIBQwkAzMzMzc1bCQJqZmZk5l8JAZmZmZgbBwkCamZmZGVXCQJqZmZm5VMJAzczMzIw3wkDNzMzMTErCQAAAAADA7sFAMzMzM5MFwkDNzMzMDN7BQM3MzMysP8JAZmZmZqYtwkAzMzMzUw/CQAAAAADg3cFAmpmZmRnqwUAAAAAAgMLBQDMzMzNTwsFAzczMzEy+wUBmZmZmZnjCQGZmZmZGmMJAMzMzM1PAwkAAAAAAwIXCQJqZmZnZe8JAAAAAAEB8wkDNzMzMTBTDQM3MzMwMJcNAzczMzMw0w0BmZmZmBkTDQM3MzMzsrsNAZmZmZqaww0DNzMzMjGnDQGZmZmYGxcNAAAAAAKDSw0AzMzMzs2bDQGZmZmZmf8NAZmZmZoaCw0AzMzMzM2PDQJqZmZmZfMNAZmZmZqZ7w0AzMzMzE4nDQM3MzMws9cNAZmZmZmY8xEAAAAAAQL/DQDMzMzOT6MNAzczMzOzMw0AzMzMz88vDQDMzMzOTgMNAzczMzGxNw0AzMzMz02vDQDMzMzOzdcNAAAAAAKBWw0AAAAAAAEvDQAAAAABAbsNAZmZmZsaBw0AAAAAAIKzDQM3MzMxMvcNAZmZmZobVw0AAAAAAYPHDQGZmZmYmR8RAMzMzMxN0xEDNzMzMTCDEQGZmZmbm1MNAmpmZmZnfw0AzMzMzEynEQJqZmZn5/sNAZmZmZganw0A=\",\"dtype\":\"float64\",\"order\":\"little\",\"shape\":[142]},\"__x__values\":{\"__ndarray__\":\"AACAbub1dkIAAEDUOPZ2QgAAADqL9nZCAABAa4L3dkIAAADR1Pd2QgAAwDYn+HZCAACAnHn4dkIAAEACzPh2QgAAgDPD+XZCAABAmRX6dkIAAAD/Z/p2QgAAwGS6+nZCAACAygz7dkIAAMD7A/x2QgAAgGFW/HZCAABAx6j8dkIAAAAt+/x2QgAAwJJN/XZCAAAAxET+dkIAAMApl/52QgAAgI/p/nZCAABA9Tv/dkIAAABbjv92QgAAwMDg/3ZCAABAjIUAd0IAAADy1wB3QgAAwFcqAXdCAACAvXwBd0IAAEAjzwF3QgAAgFTGAndCAABAuhgDd0IAAAAgawN3QgAAwIW9A3dCAACA6w8Ed0IAAMAcBwV3QgAAgIJZBXdCAABA6KsFd0IAAABO/gV3QgAAAOVHB3dCAADASpoHd0IAAICw7Ad3QgAAQBY/CHdCAAAAfJEId0IAAECtiAl3QgAAABPbCXdCAADAeC0Kd0IAAIDefwp3QgAAQETSCndCAACAdckLd0IAAABBbgx3QgAAwKbADHdCAACADBMNd0IAAMA9Cg53QgAAgKNcDndCAABACa8Od0IAAABvAQ93QgAAwNRTD3dCAAAABksQd0IAAMBrnRB3QgAAgNHvEHdCAABAN0IRd0IAAACdlBF3QgAAQM6LEndCAAAANN4Sd0IAAMCZMBN3QgAAQGXVE3dCAABA/B4Vd0IAAABicRV3QgAAwMfDFXdCAADAXg0Xd0IAAEAqshd3QgAAAJAEGHdCAADA9VYYd0IAAAAnThl3QgAAwIygGXdCAACA8vIZd0IAAEBYRRp3QgAAAL6XGndCAABA744bd0IAAABV4Rt3QgAAwLozHHdCAACAIIYcd0IAAIC3zx13QgAAQB0iHndCAAAAg3Qed0IAAMDoxh53QgAAgE4ZH3dCAADAfxAgd0IAAIDlYiB3QgAAQEu1IHdCAAAAsQchd0IAAMAWWiF3QgAAAEhRIndCAADAraMid0IAAIAT9iJ3QgAAQHlII3dCAAAA35ojd0IAAAB25CR3QgAAwNs2JXdCAACAQYkld0IAAECn2yV3QgAAgNjSJndCAABAPiUnd0IAAACkdyd3QgAAwAnKJ3dCAACAbxwod0IAAMCgEyl3QgAAgAZmKXdCAABAbLgpd0IAAADSCip3QgAAwDddKndCAAAAaVQrd0IAAMDOpit3QgAAgDT5K3dCAABAmkssd0IAAAAAnix3QgAAQDGVLXdCAAAAl+ctd0IAAMD8OS53QgAAgGKMLndCAABAyN4ud0IAAID51S93QgAAQF8oMHdCAAAAxXowd0IAAMAqzTB3QgAAgJAfMXdCAADAwRYyd0IAAIAnaTJ3QgAAQI27MndCAAAA8w0zd0IAAMBYYDN3QgAAAIpXNHdCAADA76k0d0IAAIBV/DR3QgAAQLtONXdCAAAAIaE1d0IAAEBSmDZ3QgAAALjqNndCAADAHT03d0IAAICDjzd3QgAAQOnhN3dCAACAGtk4d0I=\",\"dtype\":\"float64\",\"order\":\"little\",\"shape\":[142]},\"__x__values_original\":{\"__ndarray__\":\"AACAbub1dkIAAEDUOPZ2QgAAADqL9nZCAABAa4L3dkIAAADR1Pd2QgAAwDYn+HZCAACAnHn4dkIAAEACzPh2QgAAgDPD+XZCAABAmRX6dkIAAAD/Z/p2QgAAwGS6+nZCAACAygz7dkIAAMD7A/x2QgAAgGFW/HZCAABAx6j8dkIAAAAt+/x2QgAAwJJN/XZCAAAAxET+dkIAAMApl/52QgAAgI/p/nZCAABA9Tv/dkIAAABbjv92QgAAwMDg/3ZCAABAjIUAd0IAAADy1wB3QgAAwFcqAXdCAACAvXwBd0IAAEAjzwF3QgAAgFTGAndCAABAuhgDd0IAAAAgawN3QgAAwIW9A3dCAACA6w8Ed0IAAMAcBwV3QgAAgIJZBXdCAABA6KsFd0IAAABO/gV3QgAAAOVHB3dCAADASpoHd0IAAICw7Ad3QgAAQBY/CHdCAAAAfJEId0IAAECtiAl3QgAAABPbCXdCAADAeC0Kd0IAAIDefwp3QgAAQETSCndCAACAdckLd0IAAABBbgx3QgAAwKbADHdCAACADBMNd0IAAMA9Cg53QgAAgKNcDndCAABACa8Od0IAAABvAQ93QgAAwNRTD3dCAAAABksQd0IAAMBrnRB3QgAAgNHvEHdCAABAN0IRd0IAAACdlBF3QgAAQM6LEndCAAAANN4Sd0IAAMCZMBN3QgAAQGXVE3dCAABA/B4Vd0IAAABicRV3QgAAwMfDFXdCAADAXg0Xd0IAAEAqshd3QgAAAJAEGHdCAADA9VYYd0IAAAAnThl3QgAAwIygGXdCAACA8vIZd0IAAEBYRRp3QgAAAL6XGndCAABA744bd0IAAABV4Rt3QgAAwLozHHdCAACAIIYcd0IAAIC3zx13QgAAQB0iHndCAAAAg3Qed0IAAMDoxh53QgAAgE4ZH3dCAADAfxAgd0IAAIDlYiB3QgAAQEu1IHdCAAAAsQchd0IAAMAWWiF3QgAAAEhRIndCAADAraMid0IAAIAT9iJ3QgAAQHlII3dCAAAA35ojd0IAAAB25CR3QgAAwNs2JXdCAACAQYkld0IAAECn2yV3QgAAgNjSJndCAABAPiUnd0IAAACkdyd3QgAAwAnKJ3dCAACAbxwod0IAAMCgEyl3QgAAgAZmKXdCAABAbLgpd0IAAADSCip3QgAAwDddKndCAAAAaVQrd0IAAMDOpit3QgAAgDT5K3dCAABAmkssd0IAAAAAnix3QgAAQDGVLXdCAAAAl+ctd0IAAMD8OS53QgAAgGKMLndCAABAyN4ud0IAAID51S93QgAAQF8oMHdCAAAAxXowd0IAAMAqzTB3QgAAgJAfMXdCAADAwRYyd0IAAIAnaTJ3QgAAQI27MndCAAAA8w0zd0IAAMBYYDN3QgAAAIpXNHdCAADA76k0d0IAAIBV/DR3QgAAQLtONXdCAAAAIaE1d0IAAEBSmDZ3QgAAALjqNndCAADAHT03d0IAAICDjzd3QgAAQOnhN3dCAACAGtk4d0I=\",\"dtype\":\"float64\",\"order\":\"little\",\"shape\":[142]}},\"selected\":{\"id\":\"1161\"},\"selection_policy\":{\"id\":\"1160\"}},\"id\":\"1140\",\"type\":\"ColumnDataSource\"},{\"attributes\":{\"months\":[0,4,8]},\"id\":\"1063\",\"type\":\"MonthsTicker\"},{\"attributes\":{\"coordinates\":null,\"data_source\":{\"id\":\"1140\"},\"glyph\":{\"id\":\"1142\"},\"group\":null,\"hover_glyph\":null,\"muted_glyph\":{\"id\":\"1144\"},\"nonselection_glyph\":{\"id\":\"1143\"},\"view\":{\"id\":\"1146\"}},\"id\":\"1145\",\"type\":\"GlyphRenderer\"},{\"attributes\":{\"line_alpha\":0.1,\"line_color\":\"#d62728\",\"line_width\":2,\"x\":{\"field\":\"__x__values\"},\"y\":{\"field\":\"NIFTY Pharma index\"}},\"id\":\"1143\",\"type\":\"Line\"},{\"attributes\":{\"line_alpha\":0.2,\"line_color\":\"#d62728\",\"line_width\":2,\"x\":{\"field\":\"__x__values\"},\"y\":{\"field\":\"NIFTY Pharma index\"}},\"id\":\"1144\",\"type\":\"Line\"},{\"attributes\":{\"source\":{\"id\":\"1140\"}},\"id\":\"1146\",\"type\":\"CDSView\"},{\"attributes\":{\"axis_label\":\"Date\",\"coordinates\":null,\"formatter\":{\"id\":\"1178\"},\"group\":null,\"major_label_policy\":{\"id\":\"1050\"},\"ticker\":{\"id\":\"1016\"}},\"id\":\"1015\",\"type\":\"DatetimeAxis\"},{\"attributes\":{\"label\":{\"value\":\" NIFTY Pharma index\"},\"renderers\":[{\"id\":\"1145\"}]},\"id\":\"1175\",\"type\":\"LegendItem\"},{\"attributes\":{\"line_alpha\":0.1,\"line_color\":\"#1f77b4\",\"line_width\":2,\"x\":{\"field\":\"__x__values\"},\"y\":{\"field\":\"NIFTY Bank index\"}},\"id\":\"1040\",\"type\":\"Line\"},{\"attributes\":{\"callback\":null,\"formatters\":{\"@__x__values_original\":\"datetime\"},\"mode\":\"vline\",\"renderers\":[{\"id\":\"1145\"}],\"tooltips\":[[\"Date\",\"@__x__values_original{%F}\"],[\"NIFTY Pharma index\",\"@{NIFTY Pharma index}\"]]},\"id\":\"1176\",\"type\":\"HoverTool\"},{\"attributes\":{\"line_color\":\"#1f77b4\",\"line_width\":2,\"x\":{\"field\":\"__x__values\"},\"y\":{\"field\":\"NIFTY Bank index\"}},\"id\":\"1039\",\"type\":\"Line\"},{\"attributes\":{\"active_scroll\":{\"id\":\"1024\"},\"tools\":[{\"id\":\"1023\"},{\"id\":\"1024\"},{\"id\":\"1025\"},{\"id\":\"1026\"},{\"id\":\"1027\"},{\"id\":\"1028\"},{\"id\":\"1068\"},{\"id\":\"1102\"},{\"id\":\"1138\"},{\"id\":\"1176\"}]},\"id\":\"1030\",\"type\":\"Toolbar\"},{\"attributes\":{},\"id\":\"1160\",\"type\":\"UnionRenderers\"},{\"attributes\":{},\"id\":\"1161\",\"type\":\"Selection\"},{\"attributes\":{\"line_alpha\":0.2,\"line_color\":\"#1f77b4\",\"line_width\":2,\"x\":{\"field\":\"__x__values\"},\"y\":{\"field\":\"NIFTY Bank index\"}},\"id\":\"1041\",\"type\":\"Line\"}],\"root_ids\":[\"1004\"]},\"title\":\"Bokeh Application\",\"version\":\"2.4.2\"}};\n  const render_items = [{\"docid\":\"d6ebca76-2a2b-45b5-921a-bf7fe9d0a47f\",\"root_ids\":[\"1004\"],\"roots\":{\"1004\":\"eca6c3c8-7b9b-46e0-a8d3-cc9571830164\"}}];\n  root.Bokeh.embed.embed_items_notebook(docs_json, render_items);\n\n  }\n  if (root.Bokeh !== undefined) {\n    embed_document(root);\n  } else {\n    let attempts = 0;\n    const timer = setInterval(function(root) {\n      if (root.Bokeh !== undefined) {\n        clearInterval(timer);\n        embed_document(root);\n      } else {\n        attempts++;\n        if (attempts > 100) {\n          clearInterval(timer);\n          console.log(\"Bokeh: ERROR: Unable to run BokehJS code because BokehJS library is missing\");\n        }\n      }\n    }, 10, root)\n  }\n})(window);",
      "application/vnd.bokehjs_exec.v0+json": ""
     },
     "metadata": {
      "application/vnd.bokehjs_exec.v0+json": {
       "id": "1004"
      }
     },
     "output_type": "display_data"
    },
    {
     "data": {
      "text/html": [
       "<div style=\"display: table;\"><div style=\"display: table-row;\"><div style=\"display: table-cell;\"><b title=\"bokeh.plotting.figure.Figure\">Figure</b>(</div><div style=\"display: table-cell;\">id&nbsp;=&nbsp;'1004', <span id=\"1343\" style=\"cursor: pointer;\">&hellip;)</span></div></div><div class=\"1342\" style=\"display: none;\"><div style=\"display: table-cell;\"></div><div style=\"display: table-cell;\">above&nbsp;=&nbsp;[],</div></div><div class=\"1342\" style=\"display: none;\"><div style=\"display: table-cell;\"></div><div style=\"display: table-cell;\">align&nbsp;=&nbsp;'start',</div></div><div class=\"1342\" style=\"display: none;\"><div style=\"display: table-cell;\"></div><div style=\"display: table-cell;\">aspect_ratio&nbsp;=&nbsp;None,</div></div><div class=\"1342\" style=\"display: none;\"><div style=\"display: table-cell;\"></div><div style=\"display: table-cell;\">aspect_scale&nbsp;=&nbsp;1,</div></div><div class=\"1342\" style=\"display: none;\"><div style=\"display: table-cell;\"></div><div style=\"display: table-cell;\">background&nbsp;=&nbsp;None,</div></div><div class=\"1342\" style=\"display: none;\"><div style=\"display: table-cell;\"></div><div style=\"display: table-cell;\">background_fill_alpha&nbsp;=&nbsp;1.0,</div></div><div class=\"1342\" style=\"display: none;\"><div style=\"display: table-cell;\"></div><div style=\"display: table-cell;\">background_fill_color&nbsp;=&nbsp;'#ffffff',</div></div><div class=\"1342\" style=\"display: none;\"><div style=\"display: table-cell;\"></div><div style=\"display: table-cell;\">below&nbsp;=&nbsp;[DatetimeAxis(id='1015', ...)],</div></div><div class=\"1342\" style=\"display: none;\"><div style=\"display: table-cell;\"></div><div style=\"display: table-cell;\">border_fill_alpha&nbsp;=&nbsp;1.0,</div></div><div class=\"1342\" style=\"display: none;\"><div style=\"display: table-cell;\"></div><div style=\"display: table-cell;\">border_fill_color&nbsp;=&nbsp;'#ffffff',</div></div><div class=\"1342\" style=\"display: none;\"><div style=\"display: table-cell;\"></div><div style=\"display: table-cell;\">center&nbsp;=&nbsp;[Grid(id='1018', ...), Grid(id='1022', ...), Legend(id='1066', ...)],</div></div><div class=\"1342\" style=\"display: none;\"><div style=\"display: table-cell;\"></div><div style=\"display: table-cell;\">css_classes&nbsp;=&nbsp;[],</div></div><div class=\"1342\" style=\"display: none;\"><div style=\"display: table-cell;\"></div><div style=\"display: table-cell;\">disabled&nbsp;=&nbsp;False,</div></div><div class=\"1342\" style=\"display: none;\"><div style=\"display: table-cell;\"></div><div style=\"display: table-cell;\">extra_x_ranges&nbsp;=&nbsp;{},</div></div><div class=\"1342\" style=\"display: none;\"><div style=\"display: table-cell;\"></div><div style=\"display: table-cell;\">extra_x_scales&nbsp;=&nbsp;{},</div></div><div class=\"1342\" style=\"display: none;\"><div style=\"display: table-cell;\"></div><div style=\"display: table-cell;\">extra_y_ranges&nbsp;=&nbsp;{},</div></div><div class=\"1342\" style=\"display: none;\"><div style=\"display: table-cell;\"></div><div style=\"display: table-cell;\">extra_y_scales&nbsp;=&nbsp;{},</div></div><div class=\"1342\" style=\"display: none;\"><div style=\"display: table-cell;\"></div><div style=\"display: table-cell;\">frame_height&nbsp;=&nbsp;None,</div></div><div class=\"1342\" style=\"display: none;\"><div style=\"display: table-cell;\"></div><div style=\"display: table-cell;\">frame_width&nbsp;=&nbsp;None,</div></div><div class=\"1342\" style=\"display: none;\"><div style=\"display: table-cell;\"></div><div style=\"display: table-cell;\">height&nbsp;=&nbsp;400,</div></div><div class=\"1342\" style=\"display: none;\"><div style=\"display: table-cell;\"></div><div style=\"display: table-cell;\">height_policy&nbsp;=&nbsp;'auto',</div></div><div class=\"1342\" style=\"display: none;\"><div style=\"display: table-cell;\"></div><div style=\"display: table-cell;\">hidpi&nbsp;=&nbsp;True,</div></div><div class=\"1342\" style=\"display: none;\"><div style=\"display: table-cell;\"></div><div style=\"display: table-cell;\">inner_height&nbsp;=&nbsp;0,</div></div><div class=\"1342\" style=\"display: none;\"><div style=\"display: table-cell;\"></div><div style=\"display: table-cell;\">inner_width&nbsp;=&nbsp;0,</div></div><div class=\"1342\" style=\"display: none;\"><div style=\"display: table-cell;\"></div><div style=\"display: table-cell;\">js_event_callbacks&nbsp;=&nbsp;{},</div></div><div class=\"1342\" style=\"display: none;\"><div style=\"display: table-cell;\"></div><div style=\"display: table-cell;\">js_property_callbacks&nbsp;=&nbsp;{},</div></div><div class=\"1342\" style=\"display: none;\"><div style=\"display: table-cell;\"></div><div style=\"display: table-cell;\">left&nbsp;=&nbsp;[LinearAxis(id='1019', ...)],</div></div><div class=\"1342\" style=\"display: none;\"><div style=\"display: table-cell;\"></div><div style=\"display: table-cell;\">lod_factor&nbsp;=&nbsp;10,</div></div><div class=\"1342\" style=\"display: none;\"><div style=\"display: table-cell;\"></div><div style=\"display: table-cell;\">lod_interval&nbsp;=&nbsp;300,</div></div><div class=\"1342\" style=\"display: none;\"><div style=\"display: table-cell;\"></div><div style=\"display: table-cell;\">lod_threshold&nbsp;=&nbsp;2000,</div></div><div class=\"1342\" style=\"display: none;\"><div style=\"display: table-cell;\"></div><div style=\"display: table-cell;\">lod_timeout&nbsp;=&nbsp;500,</div></div><div class=\"1342\" style=\"display: none;\"><div style=\"display: table-cell;\"></div><div style=\"display: table-cell;\">margin&nbsp;=&nbsp;(0, 0, 0, 0),</div></div><div class=\"1342\" style=\"display: none;\"><div style=\"display: table-cell;\"></div><div style=\"display: table-cell;\">match_aspect&nbsp;=&nbsp;False,</div></div><div class=\"1342\" style=\"display: none;\"><div style=\"display: table-cell;\"></div><div style=\"display: table-cell;\">max_height&nbsp;=&nbsp;None,</div></div><div class=\"1342\" style=\"display: none;\"><div style=\"display: table-cell;\"></div><div style=\"display: table-cell;\">max_width&nbsp;=&nbsp;None,</div></div><div class=\"1342\" style=\"display: none;\"><div style=\"display: table-cell;\"></div><div style=\"display: table-cell;\">min_border&nbsp;=&nbsp;5,</div></div><div class=\"1342\" style=\"display: none;\"><div style=\"display: table-cell;\"></div><div style=\"display: table-cell;\">min_border_bottom&nbsp;=&nbsp;None,</div></div><div class=\"1342\" style=\"display: none;\"><div style=\"display: table-cell;\"></div><div style=\"display: table-cell;\">min_border_left&nbsp;=&nbsp;None,</div></div><div class=\"1342\" style=\"display: none;\"><div style=\"display: table-cell;\"></div><div style=\"display: table-cell;\">min_border_right&nbsp;=&nbsp;None,</div></div><div class=\"1342\" style=\"display: none;\"><div style=\"display: table-cell;\"></div><div style=\"display: table-cell;\">min_border_top&nbsp;=&nbsp;None,</div></div><div class=\"1342\" style=\"display: none;\"><div style=\"display: table-cell;\"></div><div style=\"display: table-cell;\">min_height&nbsp;=&nbsp;None,</div></div><div class=\"1342\" style=\"display: none;\"><div style=\"display: table-cell;\"></div><div style=\"display: table-cell;\">min_width&nbsp;=&nbsp;None,</div></div><div class=\"1342\" style=\"display: none;\"><div style=\"display: table-cell;\"></div><div style=\"display: table-cell;\">name&nbsp;=&nbsp;None,</div></div><div class=\"1342\" style=\"display: none;\"><div style=\"display: table-cell;\"></div><div style=\"display: table-cell;\">outer_height&nbsp;=&nbsp;0,</div></div><div class=\"1342\" style=\"display: none;\"><div style=\"display: table-cell;\"></div><div style=\"display: table-cell;\">outer_width&nbsp;=&nbsp;0,</div></div><div class=\"1342\" style=\"display: none;\"><div style=\"display: table-cell;\"></div><div style=\"display: table-cell;\">outline_line_alpha&nbsp;=&nbsp;1.0,</div></div><div class=\"1342\" style=\"display: none;\"><div style=\"display: table-cell;\"></div><div style=\"display: table-cell;\">outline_line_cap&nbsp;=&nbsp;'butt',</div></div><div class=\"1342\" style=\"display: none;\"><div style=\"display: table-cell;\"></div><div style=\"display: table-cell;\">outline_line_color&nbsp;=&nbsp;'#e5e5e5',</div></div><div class=\"1342\" style=\"display: none;\"><div style=\"display: table-cell;\"></div><div style=\"display: table-cell;\">outline_line_dash&nbsp;=&nbsp;[],</div></div><div class=\"1342\" style=\"display: none;\"><div style=\"display: table-cell;\"></div><div style=\"display: table-cell;\">outline_line_dash_offset&nbsp;=&nbsp;0,</div></div><div class=\"1342\" style=\"display: none;\"><div style=\"display: table-cell;\"></div><div style=\"display: table-cell;\">outline_line_join&nbsp;=&nbsp;'bevel',</div></div><div class=\"1342\" style=\"display: none;\"><div style=\"display: table-cell;\"></div><div style=\"display: table-cell;\">outline_line_width&nbsp;=&nbsp;1,</div></div><div class=\"1342\" style=\"display: none;\"><div style=\"display: table-cell;\"></div><div style=\"display: table-cell;\">output_backend&nbsp;=&nbsp;'webgl',</div></div><div class=\"1342\" style=\"display: none;\"><div style=\"display: table-cell;\"></div><div style=\"display: table-cell;\">renderers&nbsp;=&nbsp;[GlyphRenderer(id='1042', ...), GlyphRenderer(id='1075', ...), GlyphRenderer(id='1109', ...), GlyphRenderer(id='1145', ...)],</div></div><div class=\"1342\" style=\"display: none;\"><div style=\"display: table-cell;\"></div><div style=\"display: table-cell;\">reset_policy&nbsp;=&nbsp;'standard',</div></div><div class=\"1342\" style=\"display: none;\"><div style=\"display: table-cell;\"></div><div style=\"display: table-cell;\">right&nbsp;=&nbsp;[],</div></div><div class=\"1342\" style=\"display: none;\"><div style=\"display: table-cell;\"></div><div style=\"display: table-cell;\">sizing_mode&nbsp;=&nbsp;'fixed',</div></div><div class=\"1342\" style=\"display: none;\"><div style=\"display: table-cell;\"></div><div style=\"display: table-cell;\">subscribed_events&nbsp;=&nbsp;[],</div></div><div class=\"1342\" style=\"display: none;\"><div style=\"display: table-cell;\"></div><div style=\"display: table-cell;\">syncable&nbsp;=&nbsp;True,</div></div><div class=\"1342\" style=\"display: none;\"><div style=\"display: table-cell;\"></div><div style=\"display: table-cell;\">tags&nbsp;=&nbsp;[],</div></div><div class=\"1342\" style=\"display: none;\"><div style=\"display: table-cell;\"></div><div style=\"display: table-cell;\">title&nbsp;=&nbsp;Title(id='1005', ...),</div></div><div class=\"1342\" style=\"display: none;\"><div style=\"display: table-cell;\"></div><div style=\"display: table-cell;\">title_location&nbsp;=&nbsp;'above',</div></div><div class=\"1342\" style=\"display: none;\"><div style=\"display: table-cell;\"></div><div style=\"display: table-cell;\">toolbar&nbsp;=&nbsp;Toolbar(id='1030', ...),</div></div><div class=\"1342\" style=\"display: none;\"><div style=\"display: table-cell;\"></div><div style=\"display: table-cell;\">toolbar_location&nbsp;=&nbsp;'right',</div></div><div class=\"1342\" style=\"display: none;\"><div style=\"display: table-cell;\"></div><div style=\"display: table-cell;\">toolbar_sticky&nbsp;=&nbsp;True,</div></div><div class=\"1342\" style=\"display: none;\"><div style=\"display: table-cell;\"></div><div style=\"display: table-cell;\">visible&nbsp;=&nbsp;True,</div></div><div class=\"1342\" style=\"display: none;\"><div style=\"display: table-cell;\"></div><div style=\"display: table-cell;\">width&nbsp;=&nbsp;600,</div></div><div class=\"1342\" style=\"display: none;\"><div style=\"display: table-cell;\"></div><div style=\"display: table-cell;\">width_policy&nbsp;=&nbsp;'auto',</div></div><div class=\"1342\" style=\"display: none;\"><div style=\"display: table-cell;\"></div><div style=\"display: table-cell;\">x_range&nbsp;=&nbsp;DataRange1d(id='1007', ...),</div></div><div class=\"1342\" style=\"display: none;\"><div style=\"display: table-cell;\"></div><div style=\"display: table-cell;\">x_scale&nbsp;=&nbsp;LinearScale(id='1011', ...),</div></div><div class=\"1342\" style=\"display: none;\"><div style=\"display: table-cell;\"></div><div style=\"display: table-cell;\">y_range&nbsp;=&nbsp;DataRange1d(id='1009', ...),</div></div><div class=\"1342\" style=\"display: none;\"><div style=\"display: table-cell;\"></div><div style=\"display: table-cell;\">y_scale&nbsp;=&nbsp;LinearScale(id='1013', ...))</div></div></div>\n",
       "<script>\n",
       "(function() {\n",
       "  let expanded = false;\n",
       "  const ellipsis = document.getElementById(\"1343\");\n",
       "  ellipsis.addEventListener(\"click\", function() {\n",
       "    const rows = document.getElementsByClassName(\"1342\");\n",
       "    for (let i = 0; i < rows.length; i++) {\n",
       "      const el = rows[i];\n",
       "      el.style.display = expanded ? \"none\" : \"table-row\";\n",
       "    }\n",
       "    ellipsis.innerHTML = expanded ? \"&hellip;)\" : \"&lsaquo;&lsaquo;&lsaquo;\";\n",
       "    expanded = !expanded;\n",
       "  });\n",
       "})();\n",
       "</script>\n"
      ],
      "text/plain": [
       "Figure(id='1004', ...)"
      ]
     },
     "execution_count": 17,
     "metadata": {},
     "output_type": "execute_result"
    }
   ],
   "source": [
    "nifty_data.plot_bokeh(kind='line') # equivalent to nifty_data.plot_bokeh.line()"
   ]
  },
  {
   "cell_type": "markdown",
   "metadata": {},
   "source": [
    "#### Gráfico de dispersão"
   ]
  },
  {
   "cell_type": "code",
   "execution_count": 18,
   "metadata": {},
   "outputs": [
    {
     "data": {
      "text/html": [
       "\n",
       "\n",
       "\n",
       "\n",
       "\n",
       "\n",
       "  <div class=\"bk-root\" id=\"ce3d43a1-8a33-49fa-a6d1-bd9720c1f6fd\" data-root-id=\"1345\"></div>\n"
      ]
     },
     "metadata": {},
     "output_type": "display_data"
    },
    {
     "data": {
      "application/javascript": "(function(root) {\n  function embed_document(root) {\n    \n  const docs_json = {\"2c774a09-36de-41d2-acd5-a5b8af01c85f\":{\"defs\":[],\"roots\":{\"references\":[{\"attributes\":{\"below\":[{\"id\":\"1356\"}],\"center\":[{\"id\":\"1359\"},{\"id\":\"1363\"},{\"id\":\"1395\"}],\"height\":400,\"left\":[{\"id\":\"1360\"}],\"output_backend\":\"webgl\",\"renderers\":[{\"id\":\"1383\"}],\"sizing_mode\":\"fixed\",\"title\":{\"id\":\"1346\"},\"toolbar\":{\"id\":\"1371\"},\"x_range\":{\"id\":\"1348\"},\"x_scale\":{\"id\":\"1352\"},\"y_range\":{\"id\":\"1350\"},\"y_scale\":{\"id\":\"1354\"}},\"id\":\"1345\",\"subtype\":\"Figure\",\"type\":\"Plot\"},{\"attributes\":{\"active_scroll\":{\"id\":\"1365\"},\"tools\":[{\"id\":\"1364\"},{\"id\":\"1365\"},{\"id\":\"1366\"},{\"id\":\"1367\"},{\"id\":\"1368\"},{\"id\":\"1369\"},{\"id\":\"1397\"}]},\"id\":\"1371\",\"type\":\"Toolbar\"},{\"attributes\":{\"fill_alpha\":{\"value\":0.2},\"fill_color\":{\"value\":\"#1f77b4\"},\"hatch_alpha\":{\"value\":0.2},\"line_alpha\":{\"value\":0.2},\"line_width\":{\"value\":2},\"size\":{\"value\":10},\"x\":{\"field\":\"__x__values\"},\"y\":{\"field\":\"y\"}},\"id\":\"1382\",\"type\":\"Scatter\"},{\"attributes\":{\"axis\":{\"id\":\"1356\"},\"coordinates\":null,\"group\":null,\"ticker\":null},\"id\":\"1359\",\"type\":\"Grid\"},{\"attributes\":{\"data\":{\"__x__values\":{\"__ndarray__\":\"AAAAAJCG3UDNzMzMjI7dQAAAAABQZ91AMzMzM9MZ3UAzMzMzcyndQM3MzMxMMd1AZmZmZuZq3UDNzMzMnKjdQM3MzMxc/t1AmpmZmVlq3kBmZmZmRoHeQM3MzMyMmt5AzczMzNyi3kAAAAAAsLDeQM3MzMx8at5AmpmZmUls3kCamZmZuX7eQJqZmZm5vN5AzczMzGxr3kAzMzMzw0zeQAAAAACQsN5AzczMzBw23kAzMzMz0w3eQJqZmZkpfd1AMzMzM9O43UAAAAAAAAbeQJqZmZmZNd5AZmZmZiYE3kAAAAAAYBbeQM3MzMwc0N1AMzMzM6Oz3UAAAAAAkELeQDMzMzPTT95AAAAAALDt3UAzMzMzQ8TdQGZmZmYmpt1AAAAAAMAc3kAAAAAAEOvdQGZmZmbmcN1AzczMzEx33UAzMzMzY0PdQM3MzMxMR91AAAAAAJCf3ECamZmZuXTcQM3MzMyMt9xAAAAAAPCJ3EAAAAAAoNbcQAAAAABAQtxAAAAAACBm20AAAAAAsGvbQAAAAADAeNlAAAAAAACY2UCamZmZ6SDYQGZmZmZ2WNhAAAAAAKCe10AAAAAAsGjXQGZmZmbmUtlAMzMzMwOk1kAzMzMz01/XQM3MzMzs5ddAZmZmZgYU2UDNzMzMHCPZQDMzMzPjOdlAzczMzMyt2kAzMzMzs73ZQAAAAABw6tlAMzMzM1MS3ECamZmZ+SncQM3MzMxMRtxAZmZmZnbX20DNzMzMvP3cQDMzMzMT0txAZmZmZpaE3EBmZmZmhu3bQGZmZmYm0NtAmpmZmUmA3EAAAAAAkBzcQM3MzMws99tAMzMzMyNf3ECamZmZiRrcQAAAAABA/ttAMzMzM1P/20AAAAAAwPPaQGZmZmamgNpAzczMzIwB2kAzMzMzo6PZQDMzMzPzIdpAMzMzM/MK2kCamZmZSTraQAAAAACgHtpAmpmZmWlN2kCamZmZqVPaQJqZmZmpEdpAAAAAAPBD2kBmZmZmlqbaQGZmZmbGO9tAZmZmZoYi20AzMzMzk3bbQJqZmZmZj9tAZmZmZubI20DNzMzMPJzcQDMzMzPT4NxAZmZmZvar3EAAAAAAwNXcQDMzMzNj7dxAAAAAAIDZ3ECamZmZic/cQJqZmZk51dxAzczMzMzP3EDNzMzMHGncQGZmZmZmdtxAMzMzM3MH3EBmZmZm1ufbQAAAAADww9tAzczMzCz620DNzMzMXAncQM3MzMxcMNxAzczMzMyq3ECamZmZ2cvcQAAAAABQaN1AMzMzM0MP3UCamZmZ6UTdQAAAAADQW91AAAAAACCG3UDNzMzMDJvdQGZmZmZG0N1AmpmZment3UDNzMzMjM3dQJqZmZl5Dd5AAAAAAPDz3UCamZmZSRneQJqZmZm5e95AZmZmZjY13kDNzMzMHGneQGZmZmaWc95AMzMzM9Oz3kBmZmZmFszeQAAAAAAQjN5AZmZmZuZS3kCamZmZeV/eQGZmZma2St5AAAAAAPAY3kA=\",\"dtype\":\"float64\",\"order\":\"little\",\"shape\":[142]},\"__x__values_original\":{\"__ndarray__\":\"AAAAAJCG3UDNzMzMjI7dQAAAAABQZ91AMzMzM9MZ3UAzMzMzcyndQM3MzMxMMd1AZmZmZuZq3UDNzMzMnKjdQM3MzMxc/t1AmpmZmVlq3kBmZmZmRoHeQM3MzMyMmt5AzczMzNyi3kAAAAAAsLDeQM3MzMx8at5AmpmZmUls3kCamZmZuX7eQJqZmZm5vN5AzczMzGxr3kAzMzMzw0zeQAAAAACQsN5AzczMzBw23kAzMzMz0w3eQJqZmZkpfd1AMzMzM9O43UAAAAAAAAbeQJqZmZmZNd5AZmZmZiYE3kAAAAAAYBbeQM3MzMwc0N1AMzMzM6Oz3UAAAAAAkELeQDMzMzPTT95AAAAAALDt3UAzMzMzQ8TdQGZmZmYmpt1AAAAAAMAc3kAAAAAAEOvdQGZmZmbmcN1AzczMzEx33UAzMzMzY0PdQM3MzMxMR91AAAAAAJCf3ECamZmZuXTcQM3MzMyMt9xAAAAAAPCJ3EAAAAAAoNbcQAAAAABAQtxAAAAAACBm20AAAAAAsGvbQAAAAADAeNlAAAAAAACY2UCamZmZ6SDYQGZmZmZ2WNhAAAAAAKCe10AAAAAAsGjXQGZmZmbmUtlAMzMzMwOk1kAzMzMz01/XQM3MzMzs5ddAZmZmZgYU2UDNzMzMHCPZQDMzMzPjOdlAzczMzMyt2kAzMzMzs73ZQAAAAABw6tlAMzMzM1MS3ECamZmZ+SncQM3MzMxMRtxAZmZmZnbX20DNzMzMvP3cQDMzMzMT0txAZmZmZpaE3EBmZmZmhu3bQGZmZmYm0NtAmpmZmUmA3EAAAAAAkBzcQM3MzMws99tAMzMzMyNf3ECamZmZiRrcQAAAAABA/ttAMzMzM1P/20AAAAAAwPPaQGZmZmamgNpAzczMzIwB2kAzMzMzo6PZQDMzMzPzIdpAMzMzM/MK2kCamZmZSTraQAAAAACgHtpAmpmZmWlN2kCamZmZqVPaQJqZmZmpEdpAAAAAAPBD2kBmZmZmlqbaQGZmZmbGO9tAZmZmZoYi20AzMzMzk3bbQJqZmZmZj9tAZmZmZubI20DNzMzMPJzcQDMzMzPT4NxAZmZmZvar3EAAAAAAwNXcQDMzMzNj7dxAAAAAAIDZ3ECamZmZic/cQJqZmZk51dxAzczMzMzP3EDNzMzMHGncQGZmZmZmdtxAMzMzM3MH3EBmZmZm1ufbQAAAAADww9tAzczMzCz620DNzMzMXAncQM3MzMxcMNxAzczMzMyq3ECamZmZ2cvcQAAAAABQaN1AMzMzM0MP3UCamZmZ6UTdQAAAAADQW91AAAAAACCG3UDNzMzMDJvdQGZmZmZG0N1AmpmZment3UDNzMzMjM3dQJqZmZl5Dd5AAAAAAPDz3UCamZmZSRneQJqZmZm5e95AZmZmZjY13kDNzMzMHGneQGZmZmaWc95AMzMzM9Oz3kBmZmZmFszeQAAAAAAQjN5AZmZmZuZS3kCamZmZeV/eQGZmZma2St5AAAAAAPAY3kA=\",\"dtype\":\"float64\",\"order\":\"little\",\"shape\":[142]},\"y\":{\"__ndarray__\":\"mpmZmblZ30BmZmZm9q7fQAAAAABQUd9AmpmZmUmB3kCamZmZ2aneQJqZmZlpo95AmpmZmRlX30CamZmZWVjfQJqZmZlpbN9AmpmZmelR30CamZmZORTfQJqZmZl5G99AmpmZmanZ3kCamZmZKVreQDMzMzPjON5AzczMzFz73UAzMzMzA0feQAAAAABwgt5AmpmZmVkd3kCamZmZWQreQAAAAABAJ95AmpmZmdnt3UBmZmZmZhzeQJqZmZk5H91AAAAAANBR3UDNzMzMrPfdQM3MzMx8Rt5AMzMzMwOS3kDNzMzMfHjeQJqZmZmJVN5AZmZmZiaR3kCamZmZOcHeQAAAAACQf95AMzMzM7Mc3kDNzMzMLPbdQAAAAACg2N1AzczMzIwd3kBmZmZmtjfeQGZmZmbGvd1AzczMzCy43UBmZmZmtpjdQAAAAADAet1AmpmZmcl23ECamZmZGTHcQDMzMzNDftxAzczMzGz720BmZmZm1iPcQM3MzMxcJttAZmZmZqbX2UAzMzMz893ZQJqZmZnJaNdAzczMzJyT2ECamZmZSY/WQJqZmZnJotVAzczMzAwZ1EAAAAAA4JzTQGZmZmZm19NAmpmZmWmF0EAzMzMz07TQQDMzMzNDDNJAmpmZmXkn00AAAAAAQIDTQJqZmZmZV9JAAAAAAACy0kBmZmZmFsjRQDMzMzNT2NBAAAAAAKCd0kDNzMzMnIDSQGZmZmZmctNAAAAAAAAI00AzMzMzQ5zSQAAAAAAA8tJAzczMzFwy1ECamZmZqQrUQGZmZmZW9NJAZmZmZnY900DNzMzM/MrTQJqZmZmpINNAmpmZmUmc00BmZmZmxi/UQM3MzMyMmNRAAAAAAKAH1UAAAAAA8EfTQAAAAADw0dJAMzMzM6M700AzMzMz8wjTQJqZmZk55tJAAAAAAKCB0kBmZmZmtmvSQM3MzMy8LNNAAAAAACCf0kDNzMzMfGTSQM3MzMxMKdFAAAAAAJAT0UDNzMzMDGzRQGZmZmbGUdFAmpmZmbnf0EBmZmZmFgjRQDMzMzOjRdJAMzMzM3O40kAAAAAAUNjSQJqZmZn5fdNAzczMzIwM1EDNzMzMLHPUQM3MzMyc6dNAAAAAAKCK1EBmZmZm1rDUQJqZmZk5PdRAZmZmZgab1ECamZmZSQvUQDMzMzOjK9RAmpmZmTly00DNzMzMLNLTQAAAAABwutNAMzMzMxN31EBmZmZmhtbUQGZmZmYWM9VAmpmZmTm+1UAzMzMzs+zUQJqZmZmJANVAMzMzMwMW1UAAAAAAwNvUQJqZmZmJ3tRAZmZmZmZ21UDNzMzMTHDVQJqZmZkZV9VAzczMzLyt1UAAAAAAABnWQJqZmZkpDtZAzczMzMxe1kDNzMzMnN/VQAAAAABQktVAzczMzAzk1EAAAAAAMNfUQJqZmZlJF9VAMzMzM7Nz1UBmZmZmdszVQAAAAACAP9ZAZmZmZqZY1kCamZmZ+YrWQDMzMzODIdZAAAAAADBW1UA=\",\"dtype\":\"float64\",\"order\":\"little\",\"shape\":[142]}},\"selected\":{\"id\":\"1393\"},\"selection_policy\":{\"id\":\"1392\"}},\"id\":\"1378\",\"type\":\"ColumnDataSource\"},{\"attributes\":{},\"id\":\"1364\",\"type\":\"PanTool\"},{\"attributes\":{\"overlay\":{\"id\":\"1370\"}},\"id\":\"1366\",\"type\":\"BoxZoomTool\"},{\"attributes\":{},\"id\":\"1367\",\"type\":\"SaveTool\"},{\"attributes\":{},\"id\":\"1348\",\"type\":\"DataRange1d\"},{\"attributes\":{},\"id\":\"1368\",\"type\":\"ResetTool\"},{\"attributes\":{},\"id\":\"1393\",\"type\":\"Selection\"},{\"attributes\":{\"click_policy\":\"hide\",\"coordinates\":null,\"group\":null,\"items\":[{\"id\":\"1396\"}]},\"id\":\"1395\",\"type\":\"Legend\"},{\"attributes\":{},\"id\":\"1361\",\"type\":\"BasicTicker\"},{\"attributes\":{\"axis\":{\"id\":\"1360\"},\"coordinates\":null,\"dimension\":1,\"group\":null,\"ticker\":null},\"id\":\"1363\",\"type\":\"Grid\"},{\"attributes\":{},\"id\":\"1350\",\"type\":\"DataRange1d\"},{\"attributes\":{\"bottom_units\":\"screen\",\"coordinates\":null,\"fill_alpha\":0.5,\"fill_color\":\"lightgrey\",\"group\":null,\"left_units\":\"screen\",\"level\":\"overlay\",\"line_alpha\":1.0,\"line_color\":\"black\",\"line_dash\":[4,4],\"line_width\":2,\"right_units\":\"screen\",\"syncable\":false,\"top_units\":\"screen\"},\"id\":\"1370\",\"type\":\"BoxAnnotation\"},{\"attributes\":{},\"id\":\"1369\",\"type\":\"HelpTool\"},{\"attributes\":{\"fill_alpha\":{\"value\":0.1},\"fill_color\":{\"value\":\"#1f77b4\"},\"hatch_alpha\":{\"value\":0.1},\"line_alpha\":{\"value\":0.1},\"line_width\":{\"value\":2},\"size\":{\"value\":10},\"x\":{\"field\":\"__x__values\"},\"y\":{\"field\":\"y\"}},\"id\":\"1381\",\"type\":\"Scatter\"},{\"attributes\":{},\"id\":\"1392\",\"type\":\"UnionRenderers\"},{\"attributes\":{\"coordinates\":null,\"data_source\":{\"id\":\"1378\"},\"glyph\":{\"id\":\"1380\"},\"group\":null,\"hover_glyph\":null,\"muted_glyph\":{\"id\":\"1382\"},\"nonselection_glyph\":{\"id\":\"1381\"},\"view\":{\"id\":\"1384\"}},\"id\":\"1383\",\"type\":\"GlyphRenderer\"},{\"attributes\":{\"fill_color\":{\"value\":\"#1f77b4\"},\"line_width\":{\"value\":2},\"size\":{\"value\":10},\"x\":{\"field\":\"__x__values\"},\"y\":{\"field\":\"y\"}},\"id\":\"1380\",\"type\":\"Scatter\"},{\"attributes\":{\"coordinates\":null,\"group\":null},\"id\":\"1346\",\"type\":\"Title\"},{\"attributes\":{},\"id\":\"1387\",\"type\":\"BasicTickFormatter\"},{\"attributes\":{},\"id\":\"1357\",\"type\":\"BasicTicker\"},{\"attributes\":{},\"id\":\"1352\",\"type\":\"LinearScale\"},{\"attributes\":{\"axis_label\":\"NIFTY Bank index\",\"coordinates\":null,\"formatter\":{\"id\":\"1387\"},\"group\":null,\"major_label_policy\":{\"id\":\"1388\"},\"ticker\":{\"id\":\"1361\"}},\"id\":\"1360\",\"type\":\"LinearAxis\"},{\"attributes\":{\"source\":{\"id\":\"1378\"}},\"id\":\"1384\",\"type\":\"CDSView\"},{\"attributes\":{},\"id\":\"1390\",\"type\":\"BasicTickFormatter\"},{\"attributes\":{},\"id\":\"1388\",\"type\":\"AllLabels\"},{\"attributes\":{},\"id\":\"1354\",\"type\":\"LinearScale\"},{\"attributes\":{},\"id\":\"1391\",\"type\":\"AllLabels\"},{\"attributes\":{},\"id\":\"1365\",\"type\":\"WheelZoomTool\"},{\"attributes\":{\"callback\":null,\"renderers\":[{\"id\":\"1383\"}],\"tooltips\":[[\"NIFTY FMCG index\",\"@__x__values_original\"],[\"NIFTY Bank index\",\"@y\"]]},\"id\":\"1397\",\"type\":\"HoverTool\"},{\"attributes\":{\"label\":{\"value\":\"Hide/Show\"},\"renderers\":[{\"id\":\"1383\"}]},\"id\":\"1396\",\"type\":\"LegendItem\"},{\"attributes\":{\"axis_label\":\"NIFTY FMCG index\",\"coordinates\":null,\"formatter\":{\"id\":\"1390\"},\"group\":null,\"major_label_policy\":{\"id\":\"1391\"},\"ticker\":{\"id\":\"1357\"}},\"id\":\"1356\",\"type\":\"LinearAxis\"}],\"root_ids\":[\"1345\"]},\"title\":\"Bokeh Application\",\"version\":\"2.4.2\"}};\n  const render_items = [{\"docid\":\"2c774a09-36de-41d2-acd5-a5b8af01c85f\",\"root_ids\":[\"1345\"],\"roots\":{\"1345\":\"ce3d43a1-8a33-49fa-a6d1-bd9720c1f6fd\"}}];\n  root.Bokeh.embed.embed_items_notebook(docs_json, render_items);\n\n  }\n  if (root.Bokeh !== undefined) {\n    embed_document(root);\n  } else {\n    let attempts = 0;\n    const timer = setInterval(function(root) {\n      if (root.Bokeh !== undefined) {\n        clearInterval(timer);\n        embed_document(root);\n      } else {\n        attempts++;\n        if (attempts > 100) {\n          clearInterval(timer);\n          console.log(\"Bokeh: ERROR: Unable to run BokehJS code because BokehJS library is missing\");\n        }\n      }\n    }, 10, root)\n  }\n})(window);",
      "application/vnd.bokehjs_exec.v0+json": ""
     },
     "metadata": {
      "application/vnd.bokehjs_exec.v0+json": {
       "id": "1345"
      }
     },
     "output_type": "display_data"
    },
    {
     "data": {
      "text/html": [
       "<div style=\"display: table;\"><div style=\"display: table-row;\"><div style=\"display: table-cell;\"><b title=\"bokeh.plotting.figure.Figure\">Figure</b>(</div><div style=\"display: table-cell;\">id&nbsp;=&nbsp;'1345', <span id=\"1487\" style=\"cursor: pointer;\">&hellip;)</span></div></div><div class=\"1486\" style=\"display: none;\"><div style=\"display: table-cell;\"></div><div style=\"display: table-cell;\">above&nbsp;=&nbsp;[],</div></div><div class=\"1486\" style=\"display: none;\"><div style=\"display: table-cell;\"></div><div style=\"display: table-cell;\">align&nbsp;=&nbsp;'start',</div></div><div class=\"1486\" style=\"display: none;\"><div style=\"display: table-cell;\"></div><div style=\"display: table-cell;\">aspect_ratio&nbsp;=&nbsp;None,</div></div><div class=\"1486\" style=\"display: none;\"><div style=\"display: table-cell;\"></div><div style=\"display: table-cell;\">aspect_scale&nbsp;=&nbsp;1,</div></div><div class=\"1486\" style=\"display: none;\"><div style=\"display: table-cell;\"></div><div style=\"display: table-cell;\">background&nbsp;=&nbsp;None,</div></div><div class=\"1486\" style=\"display: none;\"><div style=\"display: table-cell;\"></div><div style=\"display: table-cell;\">background_fill_alpha&nbsp;=&nbsp;1.0,</div></div><div class=\"1486\" style=\"display: none;\"><div style=\"display: table-cell;\"></div><div style=\"display: table-cell;\">background_fill_color&nbsp;=&nbsp;'#ffffff',</div></div><div class=\"1486\" style=\"display: none;\"><div style=\"display: table-cell;\"></div><div style=\"display: table-cell;\">below&nbsp;=&nbsp;[LinearAxis(id='1356', ...)],</div></div><div class=\"1486\" style=\"display: none;\"><div style=\"display: table-cell;\"></div><div style=\"display: table-cell;\">border_fill_alpha&nbsp;=&nbsp;1.0,</div></div><div class=\"1486\" style=\"display: none;\"><div style=\"display: table-cell;\"></div><div style=\"display: table-cell;\">border_fill_color&nbsp;=&nbsp;'#ffffff',</div></div><div class=\"1486\" style=\"display: none;\"><div style=\"display: table-cell;\"></div><div style=\"display: table-cell;\">center&nbsp;=&nbsp;[Grid(id='1359', ...), Grid(id='1363', ...), Legend(id='1395', ...)],</div></div><div class=\"1486\" style=\"display: none;\"><div style=\"display: table-cell;\"></div><div style=\"display: table-cell;\">css_classes&nbsp;=&nbsp;[],</div></div><div class=\"1486\" style=\"display: none;\"><div style=\"display: table-cell;\"></div><div style=\"display: table-cell;\">disabled&nbsp;=&nbsp;False,</div></div><div class=\"1486\" style=\"display: none;\"><div style=\"display: table-cell;\"></div><div style=\"display: table-cell;\">extra_x_ranges&nbsp;=&nbsp;{},</div></div><div class=\"1486\" style=\"display: none;\"><div style=\"display: table-cell;\"></div><div style=\"display: table-cell;\">extra_x_scales&nbsp;=&nbsp;{},</div></div><div class=\"1486\" style=\"display: none;\"><div style=\"display: table-cell;\"></div><div style=\"display: table-cell;\">extra_y_ranges&nbsp;=&nbsp;{},</div></div><div class=\"1486\" style=\"display: none;\"><div style=\"display: table-cell;\"></div><div style=\"display: table-cell;\">extra_y_scales&nbsp;=&nbsp;{},</div></div><div class=\"1486\" style=\"display: none;\"><div style=\"display: table-cell;\"></div><div style=\"display: table-cell;\">frame_height&nbsp;=&nbsp;None,</div></div><div class=\"1486\" style=\"display: none;\"><div style=\"display: table-cell;\"></div><div style=\"display: table-cell;\">frame_width&nbsp;=&nbsp;None,</div></div><div class=\"1486\" style=\"display: none;\"><div style=\"display: table-cell;\"></div><div style=\"display: table-cell;\">height&nbsp;=&nbsp;400,</div></div><div class=\"1486\" style=\"display: none;\"><div style=\"display: table-cell;\"></div><div style=\"display: table-cell;\">height_policy&nbsp;=&nbsp;'auto',</div></div><div class=\"1486\" style=\"display: none;\"><div style=\"display: table-cell;\"></div><div style=\"display: table-cell;\">hidpi&nbsp;=&nbsp;True,</div></div><div class=\"1486\" style=\"display: none;\"><div style=\"display: table-cell;\"></div><div style=\"display: table-cell;\">inner_height&nbsp;=&nbsp;0,</div></div><div class=\"1486\" style=\"display: none;\"><div style=\"display: table-cell;\"></div><div style=\"display: table-cell;\">inner_width&nbsp;=&nbsp;0,</div></div><div class=\"1486\" style=\"display: none;\"><div style=\"display: table-cell;\"></div><div style=\"display: table-cell;\">js_event_callbacks&nbsp;=&nbsp;{},</div></div><div class=\"1486\" style=\"display: none;\"><div style=\"display: table-cell;\"></div><div style=\"display: table-cell;\">js_property_callbacks&nbsp;=&nbsp;{},</div></div><div class=\"1486\" style=\"display: none;\"><div style=\"display: table-cell;\"></div><div style=\"display: table-cell;\">left&nbsp;=&nbsp;[LinearAxis(id='1360', ...)],</div></div><div class=\"1486\" style=\"display: none;\"><div style=\"display: table-cell;\"></div><div style=\"display: table-cell;\">lod_factor&nbsp;=&nbsp;10,</div></div><div class=\"1486\" style=\"display: none;\"><div style=\"display: table-cell;\"></div><div style=\"display: table-cell;\">lod_interval&nbsp;=&nbsp;300,</div></div><div class=\"1486\" style=\"display: none;\"><div style=\"display: table-cell;\"></div><div style=\"display: table-cell;\">lod_threshold&nbsp;=&nbsp;2000,</div></div><div class=\"1486\" style=\"display: none;\"><div style=\"display: table-cell;\"></div><div style=\"display: table-cell;\">lod_timeout&nbsp;=&nbsp;500,</div></div><div class=\"1486\" style=\"display: none;\"><div style=\"display: table-cell;\"></div><div style=\"display: table-cell;\">margin&nbsp;=&nbsp;(0, 0, 0, 0),</div></div><div class=\"1486\" style=\"display: none;\"><div style=\"display: table-cell;\"></div><div style=\"display: table-cell;\">match_aspect&nbsp;=&nbsp;False,</div></div><div class=\"1486\" style=\"display: none;\"><div style=\"display: table-cell;\"></div><div style=\"display: table-cell;\">max_height&nbsp;=&nbsp;None,</div></div><div class=\"1486\" style=\"display: none;\"><div style=\"display: table-cell;\"></div><div style=\"display: table-cell;\">max_width&nbsp;=&nbsp;None,</div></div><div class=\"1486\" style=\"display: none;\"><div style=\"display: table-cell;\"></div><div style=\"display: table-cell;\">min_border&nbsp;=&nbsp;5,</div></div><div class=\"1486\" style=\"display: none;\"><div style=\"display: table-cell;\"></div><div style=\"display: table-cell;\">min_border_bottom&nbsp;=&nbsp;None,</div></div><div class=\"1486\" style=\"display: none;\"><div style=\"display: table-cell;\"></div><div style=\"display: table-cell;\">min_border_left&nbsp;=&nbsp;None,</div></div><div class=\"1486\" style=\"display: none;\"><div style=\"display: table-cell;\"></div><div style=\"display: table-cell;\">min_border_right&nbsp;=&nbsp;None,</div></div><div class=\"1486\" style=\"display: none;\"><div style=\"display: table-cell;\"></div><div style=\"display: table-cell;\">min_border_top&nbsp;=&nbsp;None,</div></div><div class=\"1486\" style=\"display: none;\"><div style=\"display: table-cell;\"></div><div style=\"display: table-cell;\">min_height&nbsp;=&nbsp;None,</div></div><div class=\"1486\" style=\"display: none;\"><div style=\"display: table-cell;\"></div><div style=\"display: table-cell;\">min_width&nbsp;=&nbsp;None,</div></div><div class=\"1486\" style=\"display: none;\"><div style=\"display: table-cell;\"></div><div style=\"display: table-cell;\">name&nbsp;=&nbsp;None,</div></div><div class=\"1486\" style=\"display: none;\"><div style=\"display: table-cell;\"></div><div style=\"display: table-cell;\">outer_height&nbsp;=&nbsp;0,</div></div><div class=\"1486\" style=\"display: none;\"><div style=\"display: table-cell;\"></div><div style=\"display: table-cell;\">outer_width&nbsp;=&nbsp;0,</div></div><div class=\"1486\" style=\"display: none;\"><div style=\"display: table-cell;\"></div><div style=\"display: table-cell;\">outline_line_alpha&nbsp;=&nbsp;1.0,</div></div><div class=\"1486\" style=\"display: none;\"><div style=\"display: table-cell;\"></div><div style=\"display: table-cell;\">outline_line_cap&nbsp;=&nbsp;'butt',</div></div><div class=\"1486\" style=\"display: none;\"><div style=\"display: table-cell;\"></div><div style=\"display: table-cell;\">outline_line_color&nbsp;=&nbsp;'#e5e5e5',</div></div><div class=\"1486\" style=\"display: none;\"><div style=\"display: table-cell;\"></div><div style=\"display: table-cell;\">outline_line_dash&nbsp;=&nbsp;[],</div></div><div class=\"1486\" style=\"display: none;\"><div style=\"display: table-cell;\"></div><div style=\"display: table-cell;\">outline_line_dash_offset&nbsp;=&nbsp;0,</div></div><div class=\"1486\" style=\"display: none;\"><div style=\"display: table-cell;\"></div><div style=\"display: table-cell;\">outline_line_join&nbsp;=&nbsp;'bevel',</div></div><div class=\"1486\" style=\"display: none;\"><div style=\"display: table-cell;\"></div><div style=\"display: table-cell;\">outline_line_width&nbsp;=&nbsp;1,</div></div><div class=\"1486\" style=\"display: none;\"><div style=\"display: table-cell;\"></div><div style=\"display: table-cell;\">output_backend&nbsp;=&nbsp;'webgl',</div></div><div class=\"1486\" style=\"display: none;\"><div style=\"display: table-cell;\"></div><div style=\"display: table-cell;\">renderers&nbsp;=&nbsp;[GlyphRenderer(id='1383', ...)],</div></div><div class=\"1486\" style=\"display: none;\"><div style=\"display: table-cell;\"></div><div style=\"display: table-cell;\">reset_policy&nbsp;=&nbsp;'standard',</div></div><div class=\"1486\" style=\"display: none;\"><div style=\"display: table-cell;\"></div><div style=\"display: table-cell;\">right&nbsp;=&nbsp;[],</div></div><div class=\"1486\" style=\"display: none;\"><div style=\"display: table-cell;\"></div><div style=\"display: table-cell;\">sizing_mode&nbsp;=&nbsp;'fixed',</div></div><div class=\"1486\" style=\"display: none;\"><div style=\"display: table-cell;\"></div><div style=\"display: table-cell;\">subscribed_events&nbsp;=&nbsp;[],</div></div><div class=\"1486\" style=\"display: none;\"><div style=\"display: table-cell;\"></div><div style=\"display: table-cell;\">syncable&nbsp;=&nbsp;True,</div></div><div class=\"1486\" style=\"display: none;\"><div style=\"display: table-cell;\"></div><div style=\"display: table-cell;\">tags&nbsp;=&nbsp;[],</div></div><div class=\"1486\" style=\"display: none;\"><div style=\"display: table-cell;\"></div><div style=\"display: table-cell;\">title&nbsp;=&nbsp;Title(id='1346', ...),</div></div><div class=\"1486\" style=\"display: none;\"><div style=\"display: table-cell;\"></div><div style=\"display: table-cell;\">title_location&nbsp;=&nbsp;'above',</div></div><div class=\"1486\" style=\"display: none;\"><div style=\"display: table-cell;\"></div><div style=\"display: table-cell;\">toolbar&nbsp;=&nbsp;Toolbar(id='1371', ...),</div></div><div class=\"1486\" style=\"display: none;\"><div style=\"display: table-cell;\"></div><div style=\"display: table-cell;\">toolbar_location&nbsp;=&nbsp;'right',</div></div><div class=\"1486\" style=\"display: none;\"><div style=\"display: table-cell;\"></div><div style=\"display: table-cell;\">toolbar_sticky&nbsp;=&nbsp;True,</div></div><div class=\"1486\" style=\"display: none;\"><div style=\"display: table-cell;\"></div><div style=\"display: table-cell;\">visible&nbsp;=&nbsp;True,</div></div><div class=\"1486\" style=\"display: none;\"><div style=\"display: table-cell;\"></div><div style=\"display: table-cell;\">width&nbsp;=&nbsp;600,</div></div><div class=\"1486\" style=\"display: none;\"><div style=\"display: table-cell;\"></div><div style=\"display: table-cell;\">width_policy&nbsp;=&nbsp;'auto',</div></div><div class=\"1486\" style=\"display: none;\"><div style=\"display: table-cell;\"></div><div style=\"display: table-cell;\">x_range&nbsp;=&nbsp;DataRange1d(id='1348', ...),</div></div><div class=\"1486\" style=\"display: none;\"><div style=\"display: table-cell;\"></div><div style=\"display: table-cell;\">x_scale&nbsp;=&nbsp;LinearScale(id='1352', ...),</div></div><div class=\"1486\" style=\"display: none;\"><div style=\"display: table-cell;\"></div><div style=\"display: table-cell;\">y_range&nbsp;=&nbsp;DataRange1d(id='1350', ...),</div></div><div class=\"1486\" style=\"display: none;\"><div style=\"display: table-cell;\"></div><div style=\"display: table-cell;\">y_scale&nbsp;=&nbsp;LinearScale(id='1354', ...))</div></div></div>\n",
       "<script>\n",
       "(function() {\n",
       "  let expanded = false;\n",
       "  const ellipsis = document.getElementById(\"1487\");\n",
       "  ellipsis.addEventListener(\"click\", function() {\n",
       "    const rows = document.getElementsByClassName(\"1486\");\n",
       "    for (let i = 0; i < rows.length; i++) {\n",
       "      const el = rows[i];\n",
       "      el.style.display = expanded ? \"none\" : \"table-row\";\n",
       "    }\n",
       "    ellipsis.innerHTML = expanded ? \"&hellip;)\" : \"&lsaquo;&lsaquo;&lsaquo;\";\n",
       "    expanded = !expanded;\n",
       "  });\n",
       "})();\n",
       "</script>\n"
      ],
      "text/plain": [
       "Figure(id='1345', ...)"
      ]
     },
     "execution_count": 18,
     "metadata": {},
     "output_type": "execute_result"
    }
   ],
   "source": [
    "nifty_data.plot_bokeh.scatter(x='NIFTY FMCG index', y='NIFTY Bank index')"
   ]
  },
  {
   "cell_type": "markdown",
   "metadata": {},
   "source": [
    "#### Gráfico de histograma"
   ]
  },
  {
   "cell_type": "code",
   "execution_count": 19,
   "metadata": {},
   "outputs": [
    {
     "data": {
      "text/html": [
       "\n",
       "\n",
       "\n",
       "\n",
       "\n",
       "\n",
       "  <div class=\"bk-root\" id=\"948c1d58-15f6-4a3d-8045-7fa427724c0d\" data-root-id=\"1489\"></div>\n"
      ]
     },
     "metadata": {},
     "output_type": "display_data"
    },
    {
     "data": {
      "application/javascript": "(function(root) {\n  function embed_document(root) {\n    \n  const docs_json = {\"b3ebff92-b700-4b68-8379-b070319de10f\":{\"defs\":[],\"roots\":{\"references\":[{\"attributes\":{\"below\":[{\"id\":\"1500\"}],\"center\":[{\"id\":\"1503\"},{\"id\":\"1507\"},{\"id\":\"1551\"}],\"height\":400,\"left\":[{\"id\":\"1504\"}],\"output_backend\":\"webgl\",\"renderers\":[{\"id\":\"1527\"},{\"id\":\"1560\"}],\"sizing_mode\":\"fixed\",\"title\":{\"id\":\"1490\"},\"toolbar\":{\"id\":\"1515\"},\"x_range\":{\"id\":\"1492\"},\"x_scale\":{\"id\":\"1496\"},\"y_range\":{\"id\":\"1494\"},\"y_scale\":{\"id\":\"1498\"}},\"id\":\"1489\",\"subtype\":\"Figure\",\"type\":\"Plot\"},{\"attributes\":{\"coordinates\":null,\"data_source\":{\"id\":\"1522\"},\"glyph\":{\"id\":\"1524\"},\"group\":null,\"hover_glyph\":null,\"muted_glyph\":{\"id\":\"1526\"},\"nonselection_glyph\":{\"id\":\"1525\"},\"view\":{\"id\":\"1528\"}},\"id\":\"1527\",\"type\":\"GlyphRenderer\"},{\"attributes\":{\"callback\":null,\"mode\":\"vline\",\"renderers\":[{\"id\":\"1560\"}],\"tooltips\":\"<h3> NIFTY Bank index: </h3> <h4>bin=@bins</h4> <h4>value=@top </h4>\"},\"id\":\"1587\",\"type\":\"HoverTool\"},{\"attributes\":{},\"id\":\"1532\",\"type\":\"AllLabels\"},{\"attributes\":{},\"id\":\"1509\",\"type\":\"WheelZoomTool\"},{\"attributes\":{\"bottom\":{\"field\":\"bottom\"},\"fill_alpha\":{\"value\":0.2},\"fill_color\":{\"value\":\"#1f77b4\"},\"hatch_alpha\":{\"value\":0.2},\"hatch_color\":{\"value\":\"#1f77b4\"},\"left\":{\"field\":\"left\"},\"line_alpha\":{\"value\":0.2},\"line_color\":{\"value\":null},\"line_width\":{\"value\":2},\"right\":{\"field\":\"right\"},\"top\":{\"field\":\"top\"}},\"id\":\"1526\",\"type\":\"Quad\"},{\"attributes\":{\"source\":{\"id\":\"1555\"}},\"id\":\"1561\",\"type\":\"CDSView\"},{\"attributes\":{},\"id\":\"1498\",\"type\":\"LinearScale\"},{\"attributes\":{\"days\":[\"%d %B %Y\"],\"hours\":[\"%H:%M:%S\"],\"milliseconds\":[\"%H:%M:%S.%f\"],\"minutes\":[\"%H:%M:%S\"],\"months\":[\"%d %B %Y\"],\"seconds\":[\"%H:%M:%S\"],\"years\":[\"%d %B %Y\"]},\"id\":\"1591\",\"type\":\"DatetimeTickFormatter\"},{\"attributes\":{\"active_scroll\":{\"id\":\"1509\"},\"tools\":[{\"id\":\"1508\"},{\"id\":\"1509\"},{\"id\":\"1510\"},{\"id\":\"1511\"},{\"id\":\"1512\"},{\"id\":\"1513\"},{\"id\":\"1553\"},{\"id\":\"1587\"}]},\"id\":\"1515\",\"type\":\"Toolbar\"},{\"attributes\":{\"coordinates\":null,\"group\":null},\"id\":\"1490\",\"type\":\"Title\"},{\"attributes\":{},\"id\":\"1535\",\"type\":\"AllLabels\"},{\"attributes\":{},\"id\":\"1496\",\"type\":\"LinearScale\"},{\"attributes\":{},\"id\":\"1572\",\"type\":\"Selection\"},{\"attributes\":{},\"id\":\"1494\",\"type\":\"DataRange1d\"},{\"attributes\":{\"label\":{\"value\":\"NIFTY FMCG index\"},\"renderers\":[{\"id\":\"1527\"}]},\"id\":\"1552\",\"type\":\"LegendItem\"},{\"attributes\":{\"coordinates\":null,\"formatter\":{\"id\":\"1531\"},\"group\":null,\"major_label_policy\":{\"id\":\"1532\"},\"ticker\":{\"id\":\"1505\"}},\"id\":\"1504\",\"type\":\"LinearAxis\"},{\"attributes\":{\"axis\":{\"id\":\"1500\"},\"coordinates\":null,\"group\":null,\"ticker\":null},\"id\":\"1503\",\"type\":\"Grid\"},{\"attributes\":{},\"id\":\"1531\",\"type\":\"BasicTickFormatter\"},{\"attributes\":{},\"id\":\"1571\",\"type\":\"UnionRenderers\"},{\"attributes\":{\"data\":{\"bins\":[\"16917.65\\uff0d17435.190000000002\",\"17435.190000000002\\uff0d17952.73\",\"17952.73\\uff0d18470.27\",\"18470.27\\uff0d18987.81\",\"18987.81\\uff0d19505.350000000002\",\"19505.350000000002\\uff0d20022.89\",\"20022.89\\uff0d20540.43\",\"20540.43\\uff0d21057.97\",\"21057.97\\uff0d21575.510000000002\",\"21575.510000000002\\uff0d22093.05\",\"22093.05\\uff0d22610.59\",\"22610.59\\uff0d23128.129999999997\",\"23128.129999999997\\uff0d23645.67\",\"23645.67\\uff0d24163.21\",\"24163.21\\uff0d24680.75\",\"24680.75\\uff0d25198.29\",\"25198.29\\uff0d25715.829999999998\",\"25715.829999999998\\uff0d26233.37\",\"26233.37\\uff0d26750.909999999996\",\"26750.909999999996\\uff0d27268.449999999997\",\"27268.449999999997\\uff0d27785.989999999998\",\"27785.989999999998\\uff0d28303.53\",\"28303.53\\uff0d28821.07\",\"28821.07\\uff0d29338.609999999997\",\"29338.609999999997\\uff0d29856.149999999998\",\"29856.149999999998\\uff0d30373.689999999995\",\"30373.689999999995\\uff0d30891.229999999996\",\"30891.229999999996\\uff0d31408.769999999997\",\"31408.769999999997\\uff0d31926.309999999998\",\"31926.309999999998\\uff0d32443.85\"],\"bottom\":[0,0,0,0,0,0,0,0,0,0,0,0,0,0,0,0,0,0,0,0,0,0,0,0,0,0,0,0,0,0],\"left\":{\"__ndarray__\":\"mpmZmWmF0ECQwvUozAbRQIXrUbguiNFAexSuR5EJ0kBxPQrX84rSQGdmZmZWDNNAXI/C9biN00BSuB6FGw/UQEjhehR+kNRAPgrXo+AR1UAzMzMzQ5PVQClcj8KlFNZAHoXrUQiW1kAUrkfhahfXQArXo3DNmNdAAAAAADAa2ED2KFyPkpvYQOtRuB71HNlA4XoUrlee2UDWo3A9uh/aQMzMzMwcodpAwvUoXH8i20C4HoXr4aPbQK5H4XpEJdxAo3A9Cqem3ECZmZmZCSjdQI7C9Shsqd1AhOtRuM4q3kB6FK5HMazeQHA9CteTLd9A\",\"dtype\":\"float64\",\"order\":\"little\",\"shape\":[30]},\"right\":{\"__ndarray__\":\"kML1KMwG0UCF61G4LojRQHsUrkeRCdJAcT0K1/OK0kBnZmZmVgzTQFyPwvW4jdNAUrgehRsP1EBI4XoUfpDUQD4K16PgEdVAMzMzM0OT1UApXI/CpRTWQB6F61EIltZAFK5H4WoX10AK16NwzZjXQAAAAAAwGthA9ihcj5Kb2EDrUbge9RzZQOF6FK5XntlA1qNwPbof2kDMzMzMHKHaQML1KFx/IttAuB6F6+Gj20CuR+F6RCXcQKNwPQqnptxAmZmZmQko3UCOwvUobKndQITrUbjOKt5AehSuRzGs3kBwPQrXky3fQGZmZmb2rt9A\",\"dtype\":\"float64\",\"order\":\"little\",\"shape\":[30]},\"top\":[0,0,0,0,0,0,0,0,0,0,0,0,1,2,2,2,1,5,7,6,3,6,15,13,16,18,19,21,5,0]},\"selected\":{\"id\":\"1537\"},\"selection_policy\":{\"id\":\"1536\"}},\"id\":\"1522\",\"type\":\"ColumnDataSource\"},{\"attributes\":{},\"id\":\"1513\",\"type\":\"HelpTool\"},{\"attributes\":{\"axis_label\":\"Date\",\"coordinates\":null,\"formatter\":{\"id\":\"1591\"},\"group\":null,\"major_label_policy\":{\"id\":\"1535\"},\"ticker\":{\"id\":\"1589\"}},\"id\":\"1500\",\"type\":\"DatetimeAxis\"},{\"attributes\":{\"axis\":{\"id\":\"1504\"},\"coordinates\":null,\"dimension\":1,\"group\":null,\"ticker\":null},\"id\":\"1507\",\"type\":\"Grid\"},{\"attributes\":{},\"id\":\"1536\",\"type\":\"UnionRenderers\"},{\"attributes\":{},\"id\":\"1537\",\"type\":\"Selection\"},{\"attributes\":{\"bottom\":{\"field\":\"bottom\"},\"fill_alpha\":{\"value\":0.5},\"fill_color\":{\"value\":\"#1f77b4\"},\"hatch_alpha\":{\"value\":0.5},\"hatch_color\":{\"value\":\"#1f77b4\"},\"left\":{\"field\":\"left\"},\"line_alpha\":{\"value\":0.5},\"line_color\":{\"value\":null},\"line_width\":{\"value\":2},\"right\":{\"field\":\"right\"},\"top\":{\"field\":\"top\"}},\"id\":\"1524\",\"type\":\"Quad\"},{\"attributes\":{\"bottom\":{\"field\":\"bottom\"},\"fill_alpha\":{\"value\":0.2},\"fill_color\":{\"value\":\"#ff7f0e\"},\"hatch_alpha\":{\"value\":0.2},\"hatch_color\":{\"value\":\"#ff7f0e\"},\"left\":{\"field\":\"left\"},\"line_alpha\":{\"value\":0.2},\"line_color\":{\"value\":null},\"line_width\":{\"value\":2},\"right\":{\"field\":\"right\"},\"top\":{\"field\":\"top\"}},\"id\":\"1559\",\"type\":\"Quad\"},{\"attributes\":{},\"id\":\"1505\",\"type\":\"BasicTicker\"},{\"attributes\":{\"bottom\":{\"field\":\"bottom\"},\"fill_alpha\":{\"value\":0.1},\"fill_color\":{\"value\":\"#1f77b4\"},\"hatch_alpha\":{\"value\":0.1},\"hatch_color\":{\"value\":\"#1f77b4\"},\"left\":{\"field\":\"left\"},\"line_alpha\":{\"value\":0.1},\"line_color\":{\"value\":null},\"line_width\":{\"value\":2},\"right\":{\"field\":\"right\"},\"top\":{\"field\":\"top\"}},\"id\":\"1525\",\"type\":\"Quad\"},{\"attributes\":{},\"id\":\"1492\",\"type\":\"DataRange1d\"},{\"attributes\":{\"source\":{\"id\":\"1522\"}},\"id\":\"1528\",\"type\":\"CDSView\"},{\"attributes\":{\"bottom_units\":\"screen\",\"coordinates\":null,\"fill_alpha\":0.5,\"fill_color\":\"lightgrey\",\"group\":null,\"left_units\":\"screen\",\"level\":\"overlay\",\"line_alpha\":1.0,\"line_color\":\"black\",\"line_dash\":[4,4],\"line_width\":2,\"right_units\":\"screen\",\"syncable\":false,\"top_units\":\"screen\"},\"id\":\"1514\",\"type\":\"BoxAnnotation\"},{\"attributes\":{\"bottom\":{\"field\":\"bottom\"},\"fill_alpha\":{\"value\":0.5},\"fill_color\":{\"value\":\"#ff7f0e\"},\"hatch_alpha\":{\"value\":0.5},\"hatch_color\":{\"value\":\"#ff7f0e\"},\"left\":{\"field\":\"left\"},\"line_alpha\":{\"value\":0.5},\"line_color\":{\"value\":null},\"line_width\":{\"value\":2},\"right\":{\"field\":\"right\"},\"top\":{\"field\":\"top\"}},\"id\":\"1557\",\"type\":\"Quad\"},{\"attributes\":{\"click_policy\":\"hide\",\"coordinates\":null,\"group\":null,\"items\":[{\"id\":\"1552\"},{\"id\":\"1586\"}]},\"id\":\"1551\",\"type\":\"Legend\"},{\"attributes\":{},\"id\":\"1512\",\"type\":\"ResetTool\"},{\"attributes\":{\"callback\":null,\"mode\":\"vline\",\"renderers\":[{\"id\":\"1527\"}],\"tooltips\":\"<h3> NIFTY FMCG index: </h3> <h4>bin=@bins</h4> <h4>value=@top </h4>\"},\"id\":\"1553\",\"type\":\"HoverTool\"},{\"attributes\":{},\"id\":\"1511\",\"type\":\"SaveTool\"},{\"attributes\":{\"ticks\":[16917.65,17435.190000000002,17952.73,18470.27,18987.81,19505.350000000002,20022.89,20540.43,21057.97,21575.510000000002,22093.05,22610.59,23128.129999999997,23645.67,24163.21,24680.75,25198.29,25715.829999999998,26233.37,26750.909999999996,27268.449999999997,27785.989999999998,28303.53,28821.07,29338.609999999997,29856.149999999998,30373.689999999995,30891.229999999996,31408.769999999997,31926.309999999998,32443.85]},\"id\":\"1589\",\"type\":\"FixedTicker\"},{\"attributes\":{\"overlay\":{\"id\":\"1514\"}},\"id\":\"1510\",\"type\":\"BoxZoomTool\"},{\"attributes\":{\"bottom\":{\"field\":\"bottom\"},\"fill_alpha\":{\"value\":0.1},\"fill_color\":{\"value\":\"#ff7f0e\"},\"hatch_alpha\":{\"value\":0.1},\"hatch_color\":{\"value\":\"#ff7f0e\"},\"left\":{\"field\":\"left\"},\"line_alpha\":{\"value\":0.1},\"line_color\":{\"value\":null},\"line_width\":{\"value\":2},\"right\":{\"field\":\"right\"},\"top\":{\"field\":\"top\"}},\"id\":\"1558\",\"type\":\"Quad\"},{\"attributes\":{},\"id\":\"1508\",\"type\":\"PanTool\"},{\"attributes\":{\"label\":{\"value\":\"NIFTY Bank index\"},\"renderers\":[{\"id\":\"1560\"}]},\"id\":\"1586\",\"type\":\"LegendItem\"},{\"attributes\":{\"data\":{\"bins\":[\"16917.65\\uff0d17435.190000000002\",\"17435.190000000002\\uff0d17952.73\",\"17952.73\\uff0d18470.27\",\"18470.27\\uff0d18987.81\",\"18987.81\\uff0d19505.350000000002\",\"19505.350000000002\\uff0d20022.89\",\"20022.89\\uff0d20540.43\",\"20540.43\\uff0d21057.97\",\"21057.97\\uff0d21575.510000000002\",\"21575.510000000002\\uff0d22093.05\",\"22093.05\\uff0d22610.59\",\"22610.59\\uff0d23128.129999999997\",\"23128.129999999997\\uff0d23645.67\",\"23645.67\\uff0d24163.21\",\"24163.21\\uff0d24680.75\",\"24680.75\\uff0d25198.29\",\"25198.29\\uff0d25715.829999999998\",\"25715.829999999998\\uff0d26233.37\",\"26233.37\\uff0d26750.909999999996\",\"26750.909999999996\\uff0d27268.449999999997\",\"27268.449999999997\\uff0d27785.989999999998\",\"27785.989999999998\\uff0d28303.53\",\"28303.53\\uff0d28821.07\",\"28821.07\\uff0d29338.609999999997\",\"29338.609999999997\\uff0d29856.149999999998\",\"29856.149999999998\\uff0d30373.689999999995\",\"30373.689999999995\\uff0d30891.229999999996\",\"30891.229999999996\\uff0d31408.769999999997\",\"31408.769999999997\\uff0d31926.309999999998\",\"31926.309999999998\\uff0d32443.85\"],\"bottom\":[0,0,0,0,0,0,0,0,0,0,0,0,0,0,0,0,0,0,0,0,0,0,0,0,0,0,0,0,0,0],\"left\":{\"__ndarray__\":\"mpmZmWmF0ECQwvUozAbRQIXrUbguiNFAexSuR5EJ0kBxPQrX84rSQGdmZmZWDNNAXI/C9biN00BSuB6FGw/UQEjhehR+kNRAPgrXo+AR1UAzMzMzQ5PVQClcj8KlFNZAHoXrUQiW1kAUrkfhahfXQArXo3DNmNdAAAAAADAa2ED2KFyPkpvYQOtRuB71HNlA4XoUrlee2UDWo3A9uh/aQMzMzMwcodpAwvUoXH8i20C4HoXr4aPbQK5H4XpEJdxAo3A9Cqem3ECZmZmZCSjdQI7C9Shsqd1AhOtRuM4q3kB6FK5HMazeQHA9CteTLd9A\",\"dtype\":\"float64\",\"order\":\"little\",\"shape\":[30]},\"right\":{\"__ndarray__\":\"kML1KMwG0UCF61G4LojRQHsUrkeRCdJAcT0K1/OK0kBnZmZmVgzTQFyPwvW4jdNAUrgehRsP1EBI4XoUfpDUQD4K16PgEdVAMzMzM0OT1UApXI/CpRTWQB6F61EIltZAFK5H4WoX10AK16NwzZjXQAAAAAAwGthA9ihcj5Kb2EDrUbge9RzZQOF6FK5XntlA1qNwPbof2kDMzMzMHKHaQML1KFx/IttAuB6F6+Gj20CuR+F6RCXcQKNwPQqnptxAmZmZmQko3UCOwvUobKndQITrUbjOKt5AehSuRzGs3kBwPQrXky3fQGZmZmb2rt9A\",\"dtype\":\"float64\",\"order\":\"little\",\"shape\":[30]},\"top\":[4,5,1,7,12,10,10,8,11,9,6,7,0,1,0,1,0,0,2,0,0,1,2,3,1,3,13,14,4,7]},\"selected\":{\"id\":\"1572\"},\"selection_policy\":{\"id\":\"1571\"}},\"id\":\"1555\",\"type\":\"ColumnDataSource\"},{\"attributes\":{\"coordinates\":null,\"data_source\":{\"id\":\"1555\"},\"glyph\":{\"id\":\"1557\"},\"group\":null,\"hover_glyph\":null,\"muted_glyph\":{\"id\":\"1559\"},\"nonselection_glyph\":{\"id\":\"1558\"},\"view\":{\"id\":\"1561\"}},\"id\":\"1560\",\"type\":\"GlyphRenderer\"}],\"root_ids\":[\"1489\"]},\"title\":\"Bokeh Application\",\"version\":\"2.4.2\"}};\n  const render_items = [{\"docid\":\"b3ebff92-b700-4b68-8379-b070319de10f\",\"root_ids\":[\"1489\"],\"roots\":{\"1489\":\"948c1d58-15f6-4a3d-8045-7fa427724c0d\"}}];\n  root.Bokeh.embed.embed_items_notebook(docs_json, render_items);\n\n  }\n  if (root.Bokeh !== undefined) {\n    embed_document(root);\n  } else {\n    let attempts = 0;\n    const timer = setInterval(function(root) {\n      if (root.Bokeh !== undefined) {\n        clearInterval(timer);\n        embed_document(root);\n      } else {\n        attempts++;\n        if (attempts > 100) {\n          clearInterval(timer);\n          console.log(\"Bokeh: ERROR: Unable to run BokehJS code because BokehJS library is missing\");\n        }\n      }\n    }, 10, root)\n  }\n})(window);",
      "application/vnd.bokehjs_exec.v0+json": ""
     },
     "metadata": {
      "application/vnd.bokehjs_exec.v0+json": {
       "id": "1489"
      }
     },
     "output_type": "display_data"
    },
    {
     "data": {
      "text/html": [
       "<div style=\"display: table;\"><div style=\"display: table-row;\"><div style=\"display: table-cell;\"><b title=\"bokeh.plotting.figure.Figure\">Figure</b>(</div><div style=\"display: table-cell;\">id&nbsp;=&nbsp;'1489', <span id=\"1691\" style=\"cursor: pointer;\">&hellip;)</span></div></div><div class=\"1690\" style=\"display: none;\"><div style=\"display: table-cell;\"></div><div style=\"display: table-cell;\">above&nbsp;=&nbsp;[],</div></div><div class=\"1690\" style=\"display: none;\"><div style=\"display: table-cell;\"></div><div style=\"display: table-cell;\">align&nbsp;=&nbsp;'start',</div></div><div class=\"1690\" style=\"display: none;\"><div style=\"display: table-cell;\"></div><div style=\"display: table-cell;\">aspect_ratio&nbsp;=&nbsp;None,</div></div><div class=\"1690\" style=\"display: none;\"><div style=\"display: table-cell;\"></div><div style=\"display: table-cell;\">aspect_scale&nbsp;=&nbsp;1,</div></div><div class=\"1690\" style=\"display: none;\"><div style=\"display: table-cell;\"></div><div style=\"display: table-cell;\">background&nbsp;=&nbsp;None,</div></div><div class=\"1690\" style=\"display: none;\"><div style=\"display: table-cell;\"></div><div style=\"display: table-cell;\">background_fill_alpha&nbsp;=&nbsp;1.0,</div></div><div class=\"1690\" style=\"display: none;\"><div style=\"display: table-cell;\"></div><div style=\"display: table-cell;\">background_fill_color&nbsp;=&nbsp;'#ffffff',</div></div><div class=\"1690\" style=\"display: none;\"><div style=\"display: table-cell;\"></div><div style=\"display: table-cell;\">below&nbsp;=&nbsp;[DatetimeAxis(id='1500', ...)],</div></div><div class=\"1690\" style=\"display: none;\"><div style=\"display: table-cell;\"></div><div style=\"display: table-cell;\">border_fill_alpha&nbsp;=&nbsp;1.0,</div></div><div class=\"1690\" style=\"display: none;\"><div style=\"display: table-cell;\"></div><div style=\"display: table-cell;\">border_fill_color&nbsp;=&nbsp;'#ffffff',</div></div><div class=\"1690\" style=\"display: none;\"><div style=\"display: table-cell;\"></div><div style=\"display: table-cell;\">center&nbsp;=&nbsp;[Grid(id='1503', ...), Grid(id='1507', ...), Legend(id='1551', ...)],</div></div><div class=\"1690\" style=\"display: none;\"><div style=\"display: table-cell;\"></div><div style=\"display: table-cell;\">css_classes&nbsp;=&nbsp;[],</div></div><div class=\"1690\" style=\"display: none;\"><div style=\"display: table-cell;\"></div><div style=\"display: table-cell;\">disabled&nbsp;=&nbsp;False,</div></div><div class=\"1690\" style=\"display: none;\"><div style=\"display: table-cell;\"></div><div style=\"display: table-cell;\">extra_x_ranges&nbsp;=&nbsp;{},</div></div><div class=\"1690\" style=\"display: none;\"><div style=\"display: table-cell;\"></div><div style=\"display: table-cell;\">extra_x_scales&nbsp;=&nbsp;{},</div></div><div class=\"1690\" style=\"display: none;\"><div style=\"display: table-cell;\"></div><div style=\"display: table-cell;\">extra_y_ranges&nbsp;=&nbsp;{},</div></div><div class=\"1690\" style=\"display: none;\"><div style=\"display: table-cell;\"></div><div style=\"display: table-cell;\">extra_y_scales&nbsp;=&nbsp;{},</div></div><div class=\"1690\" style=\"display: none;\"><div style=\"display: table-cell;\"></div><div style=\"display: table-cell;\">frame_height&nbsp;=&nbsp;None,</div></div><div class=\"1690\" style=\"display: none;\"><div style=\"display: table-cell;\"></div><div style=\"display: table-cell;\">frame_width&nbsp;=&nbsp;None,</div></div><div class=\"1690\" style=\"display: none;\"><div style=\"display: table-cell;\"></div><div style=\"display: table-cell;\">height&nbsp;=&nbsp;400,</div></div><div class=\"1690\" style=\"display: none;\"><div style=\"display: table-cell;\"></div><div style=\"display: table-cell;\">height_policy&nbsp;=&nbsp;'auto',</div></div><div class=\"1690\" style=\"display: none;\"><div style=\"display: table-cell;\"></div><div style=\"display: table-cell;\">hidpi&nbsp;=&nbsp;True,</div></div><div class=\"1690\" style=\"display: none;\"><div style=\"display: table-cell;\"></div><div style=\"display: table-cell;\">inner_height&nbsp;=&nbsp;0,</div></div><div class=\"1690\" style=\"display: none;\"><div style=\"display: table-cell;\"></div><div style=\"display: table-cell;\">inner_width&nbsp;=&nbsp;0,</div></div><div class=\"1690\" style=\"display: none;\"><div style=\"display: table-cell;\"></div><div style=\"display: table-cell;\">js_event_callbacks&nbsp;=&nbsp;{},</div></div><div class=\"1690\" style=\"display: none;\"><div style=\"display: table-cell;\"></div><div style=\"display: table-cell;\">js_property_callbacks&nbsp;=&nbsp;{},</div></div><div class=\"1690\" style=\"display: none;\"><div style=\"display: table-cell;\"></div><div style=\"display: table-cell;\">left&nbsp;=&nbsp;[LinearAxis(id='1504', ...)],</div></div><div class=\"1690\" style=\"display: none;\"><div style=\"display: table-cell;\"></div><div style=\"display: table-cell;\">lod_factor&nbsp;=&nbsp;10,</div></div><div class=\"1690\" style=\"display: none;\"><div style=\"display: table-cell;\"></div><div style=\"display: table-cell;\">lod_interval&nbsp;=&nbsp;300,</div></div><div class=\"1690\" style=\"display: none;\"><div style=\"display: table-cell;\"></div><div style=\"display: table-cell;\">lod_threshold&nbsp;=&nbsp;2000,</div></div><div class=\"1690\" style=\"display: none;\"><div style=\"display: table-cell;\"></div><div style=\"display: table-cell;\">lod_timeout&nbsp;=&nbsp;500,</div></div><div class=\"1690\" style=\"display: none;\"><div style=\"display: table-cell;\"></div><div style=\"display: table-cell;\">margin&nbsp;=&nbsp;(0, 0, 0, 0),</div></div><div class=\"1690\" style=\"display: none;\"><div style=\"display: table-cell;\"></div><div style=\"display: table-cell;\">match_aspect&nbsp;=&nbsp;False,</div></div><div class=\"1690\" style=\"display: none;\"><div style=\"display: table-cell;\"></div><div style=\"display: table-cell;\">max_height&nbsp;=&nbsp;None,</div></div><div class=\"1690\" style=\"display: none;\"><div style=\"display: table-cell;\"></div><div style=\"display: table-cell;\">max_width&nbsp;=&nbsp;None,</div></div><div class=\"1690\" style=\"display: none;\"><div style=\"display: table-cell;\"></div><div style=\"display: table-cell;\">min_border&nbsp;=&nbsp;5,</div></div><div class=\"1690\" style=\"display: none;\"><div style=\"display: table-cell;\"></div><div style=\"display: table-cell;\">min_border_bottom&nbsp;=&nbsp;None,</div></div><div class=\"1690\" style=\"display: none;\"><div style=\"display: table-cell;\"></div><div style=\"display: table-cell;\">min_border_left&nbsp;=&nbsp;None,</div></div><div class=\"1690\" style=\"display: none;\"><div style=\"display: table-cell;\"></div><div style=\"display: table-cell;\">min_border_right&nbsp;=&nbsp;None,</div></div><div class=\"1690\" style=\"display: none;\"><div style=\"display: table-cell;\"></div><div style=\"display: table-cell;\">min_border_top&nbsp;=&nbsp;None,</div></div><div class=\"1690\" style=\"display: none;\"><div style=\"display: table-cell;\"></div><div style=\"display: table-cell;\">min_height&nbsp;=&nbsp;None,</div></div><div class=\"1690\" style=\"display: none;\"><div style=\"display: table-cell;\"></div><div style=\"display: table-cell;\">min_width&nbsp;=&nbsp;None,</div></div><div class=\"1690\" style=\"display: none;\"><div style=\"display: table-cell;\"></div><div style=\"display: table-cell;\">name&nbsp;=&nbsp;None,</div></div><div class=\"1690\" style=\"display: none;\"><div style=\"display: table-cell;\"></div><div style=\"display: table-cell;\">outer_height&nbsp;=&nbsp;0,</div></div><div class=\"1690\" style=\"display: none;\"><div style=\"display: table-cell;\"></div><div style=\"display: table-cell;\">outer_width&nbsp;=&nbsp;0,</div></div><div class=\"1690\" style=\"display: none;\"><div style=\"display: table-cell;\"></div><div style=\"display: table-cell;\">outline_line_alpha&nbsp;=&nbsp;1.0,</div></div><div class=\"1690\" style=\"display: none;\"><div style=\"display: table-cell;\"></div><div style=\"display: table-cell;\">outline_line_cap&nbsp;=&nbsp;'butt',</div></div><div class=\"1690\" style=\"display: none;\"><div style=\"display: table-cell;\"></div><div style=\"display: table-cell;\">outline_line_color&nbsp;=&nbsp;'#e5e5e5',</div></div><div class=\"1690\" style=\"display: none;\"><div style=\"display: table-cell;\"></div><div style=\"display: table-cell;\">outline_line_dash&nbsp;=&nbsp;[],</div></div><div class=\"1690\" style=\"display: none;\"><div style=\"display: table-cell;\"></div><div style=\"display: table-cell;\">outline_line_dash_offset&nbsp;=&nbsp;0,</div></div><div class=\"1690\" style=\"display: none;\"><div style=\"display: table-cell;\"></div><div style=\"display: table-cell;\">outline_line_join&nbsp;=&nbsp;'bevel',</div></div><div class=\"1690\" style=\"display: none;\"><div style=\"display: table-cell;\"></div><div style=\"display: table-cell;\">outline_line_width&nbsp;=&nbsp;1,</div></div><div class=\"1690\" style=\"display: none;\"><div style=\"display: table-cell;\"></div><div style=\"display: table-cell;\">output_backend&nbsp;=&nbsp;'webgl',</div></div><div class=\"1690\" style=\"display: none;\"><div style=\"display: table-cell;\"></div><div style=\"display: table-cell;\">renderers&nbsp;=&nbsp;[GlyphRenderer(id='1527', ...), GlyphRenderer(id='1560', ...)],</div></div><div class=\"1690\" style=\"display: none;\"><div style=\"display: table-cell;\"></div><div style=\"display: table-cell;\">reset_policy&nbsp;=&nbsp;'standard',</div></div><div class=\"1690\" style=\"display: none;\"><div style=\"display: table-cell;\"></div><div style=\"display: table-cell;\">right&nbsp;=&nbsp;[],</div></div><div class=\"1690\" style=\"display: none;\"><div style=\"display: table-cell;\"></div><div style=\"display: table-cell;\">sizing_mode&nbsp;=&nbsp;'fixed',</div></div><div class=\"1690\" style=\"display: none;\"><div style=\"display: table-cell;\"></div><div style=\"display: table-cell;\">subscribed_events&nbsp;=&nbsp;[],</div></div><div class=\"1690\" style=\"display: none;\"><div style=\"display: table-cell;\"></div><div style=\"display: table-cell;\">syncable&nbsp;=&nbsp;True,</div></div><div class=\"1690\" style=\"display: none;\"><div style=\"display: table-cell;\"></div><div style=\"display: table-cell;\">tags&nbsp;=&nbsp;[],</div></div><div class=\"1690\" style=\"display: none;\"><div style=\"display: table-cell;\"></div><div style=\"display: table-cell;\">title&nbsp;=&nbsp;Title(id='1490', ...),</div></div><div class=\"1690\" style=\"display: none;\"><div style=\"display: table-cell;\"></div><div style=\"display: table-cell;\">title_location&nbsp;=&nbsp;'above',</div></div><div class=\"1690\" style=\"display: none;\"><div style=\"display: table-cell;\"></div><div style=\"display: table-cell;\">toolbar&nbsp;=&nbsp;Toolbar(id='1515', ...),</div></div><div class=\"1690\" style=\"display: none;\"><div style=\"display: table-cell;\"></div><div style=\"display: table-cell;\">toolbar_location&nbsp;=&nbsp;'right',</div></div><div class=\"1690\" style=\"display: none;\"><div style=\"display: table-cell;\"></div><div style=\"display: table-cell;\">toolbar_sticky&nbsp;=&nbsp;True,</div></div><div class=\"1690\" style=\"display: none;\"><div style=\"display: table-cell;\"></div><div style=\"display: table-cell;\">visible&nbsp;=&nbsp;True,</div></div><div class=\"1690\" style=\"display: none;\"><div style=\"display: table-cell;\"></div><div style=\"display: table-cell;\">width&nbsp;=&nbsp;600,</div></div><div class=\"1690\" style=\"display: none;\"><div style=\"display: table-cell;\"></div><div style=\"display: table-cell;\">width_policy&nbsp;=&nbsp;'auto',</div></div><div class=\"1690\" style=\"display: none;\"><div style=\"display: table-cell;\"></div><div style=\"display: table-cell;\">x_range&nbsp;=&nbsp;DataRange1d(id='1492', ...),</div></div><div class=\"1690\" style=\"display: none;\"><div style=\"display: table-cell;\"></div><div style=\"display: table-cell;\">x_scale&nbsp;=&nbsp;LinearScale(id='1496', ...),</div></div><div class=\"1690\" style=\"display: none;\"><div style=\"display: table-cell;\"></div><div style=\"display: table-cell;\">y_range&nbsp;=&nbsp;DataRange1d(id='1494', ...),</div></div><div class=\"1690\" style=\"display: none;\"><div style=\"display: table-cell;\"></div><div style=\"display: table-cell;\">y_scale&nbsp;=&nbsp;LinearScale(id='1498', ...))</div></div></div>\n",
       "<script>\n",
       "(function() {\n",
       "  let expanded = false;\n",
       "  const ellipsis = document.getElementById(\"1691\");\n",
       "  ellipsis.addEventListener(\"click\", function() {\n",
       "    const rows = document.getElementsByClassName(\"1690\");\n",
       "    for (let i = 0; i < rows.length; i++) {\n",
       "      const el = rows[i];\n",
       "      el.style.display = expanded ? \"none\" : \"table-row\";\n",
       "    }\n",
       "    ellipsis.innerHTML = expanded ? \"&hellip;)\" : \"&lsaquo;&lsaquo;&lsaquo;\";\n",
       "    expanded = !expanded;\n",
       "  });\n",
       "})();\n",
       "</script>\n"
      ],
      "text/plain": [
       "Figure(id='1489', ...)"
      ]
     },
     "execution_count": 19,
     "metadata": {},
     "output_type": "execute_result"
    }
   ],
   "source": [
    "nifty_data[['NIFTY FMCG index','NIFTY Bank index']].plot_bokeh(kind='hist', bins=30)"
   ]
  },
  {
   "cell_type": "markdown",
   "metadata": {},
   "source": [
    "#### Gráfico de barras"
   ]
  },
  {
   "cell_type": "code",
   "execution_count": 20,
   "metadata": {},
   "outputs": [
    {
     "data": {
      "text/html": [
       "\n",
       "\n",
       "\n",
       "\n",
       "\n",
       "\n",
       "  <div class=\"bk-root\" id=\"aec1935b-4005-4f4c-a546-37846de85194\" data-root-id=\"1729\"></div>\n"
      ]
     },
     "metadata": {},
     "output_type": "display_data"
    },
    {
     "data": {
      "application/javascript": "(function(root) {\n  function embed_document(root) {\n    \n  const docs_json = {\"09591f45-3dfb-4994-adc0-eb167184c394\":{\"defs\":[],\"roots\":{\"references\":[{\"attributes\":{\"below\":[{\"id\":\"1740\"}],\"center\":[{\"id\":\"1743\"},{\"id\":\"1747\"},{\"id\":\"1780\"}],\"height\":6,\"left\":[{\"id\":\"1744\"}],\"output_backend\":\"webgl\",\"renderers\":[{\"id\":\"1769\"},{\"id\":\"1789\"},{\"id\":\"1808\"},{\"id\":\"1827\"}],\"sizing_mode\":\"fixed\",\"title\":{\"id\":\"1730\"},\"toolbar\":{\"id\":\"1755\"},\"width\":10,\"x_range\":{\"id\":\"1732\"},\"x_scale\":{\"id\":\"1736\"},\"y_range\":{\"id\":\"1734\"},\"y_scale\":{\"id\":\"1738\"}},\"id\":\"1729\",\"subtype\":\"Figure\",\"type\":\"Plot\"},{\"attributes\":{\"data\":{\"NIFTY Bank index\":{\"__ndarray__\":\"LWQhC5m13kDD9Shc2/TdQJdyKZcCZtZAd3d3d8dA00ATp37PzUTSQNs3rH1rdtRA2FBeQ8m21UA=\",\"dtype\":\"float64\",\"order\":\"little\",\"shape\":[7]},\"NIFTY FMCG index\":{\"__ndarray__\":\"Dp4jUOQR3kBwPQrXB8HdQBut0RrNydlA0yd90ofz20Atcer3fK/aQFSCPCVYotxAr6G8hrIu3kA=\",\"dtype\":\"float64\",\"order\":\"little\",\"shape\":[7]},\"NIFTY IT index\":{\"__ndarray__\":\"SuXDuP+Yz0AK16Nw6QbQQGZmZmYmFspAIiIiImLnyEADYaQdq4DKQIM8JciTfMxAnfo9t4Svz0A=\",\"dtype\":\"float64\",\"order\":\"little\",\"shape\":[7]},\"NIFTY Pharma index\":{\"__ndarray__\":\"L6l8GPf4v0CF61G47sy/QLu7u7v7E7xAjuM4jmNvwUADYaQdSzbCQGHtG9YemsNAzy1x6tfAw0A=\",\"dtype\":\"float64\",\"order\":\"little\",\"shape\":[7]},\"__x__values\":[0,1,2,3,4,5,6],\"__x__values_original\":[\"Jan\",\"Feb\",\"March\",\"Apr\",\"May\",\"June\",\"July\"]},\"selected\":{\"id\":\"1778\"},\"selection_policy\":{\"id\":\"1777\"}},\"id\":\"1728\",\"type\":\"ColumnDataSource\"},{\"attributes\":{\"fill_alpha\":{\"value\":0.2},\"fill_color\":{\"value\":\"#ff7f0e\"},\"hatch_alpha\":{\"value\":0.2},\"hatch_color\":{\"value\":\"#ff7f0e\"},\"line_alpha\":{\"value\":0.2},\"line_color\":{\"value\":\"#ff7f0e\"},\"line_width\":{\"value\":2},\"top\":{\"field\":\"NIFTY FMCG index\"},\"width\":{\"value\":0.14285714285714285},\"x\":{\"field\":\"__x__values\",\"transform\":{\"id\":\"1784\"}}},\"id\":\"1788\",\"type\":\"VBar\"},{\"attributes\":{\"fill_color\":{\"value\":\"#2ca02c\"},\"hatch_color\":{\"value\":\"#2ca02c\"},\"line_color\":{\"value\":\"#2ca02c\"},\"line_width\":{\"value\":2},\"top\":{\"field\":\"NIFTY IT index\"},\"width\":{\"value\":0.14285714285714285},\"x\":{\"field\":\"__x__values\",\"transform\":{\"id\":\"1803\"}}},\"id\":\"1805\",\"type\":\"VBar\"},{\"attributes\":{},\"id\":\"1749\",\"type\":\"WheelZoomTool\"},{\"attributes\":{},\"id\":\"1748\",\"type\":\"PanTool\"},{\"attributes\":{\"click_policy\":\"hide\",\"coordinates\":null,\"group\":null,\"items\":[{\"id\":\"1781\"},{\"id\":\"1800\"},{\"id\":\"1819\"},{\"id\":\"1838\"}]},\"id\":\"1780\",\"type\":\"Legend\"},{\"attributes\":{\"range\":{\"id\":\"1732\"},\"value\":0.25},\"id\":\"1822\",\"type\":\"Dodge\"},{\"attributes\":{\"source\":{\"id\":\"1728\"}},\"id\":\"1790\",\"type\":\"CDSView\"},{\"attributes\":{\"coordinates\":null,\"data_source\":{\"id\":\"1728\"},\"glyph\":{\"id\":\"1805\"},\"group\":null,\"hover_glyph\":null,\"muted_glyph\":{\"id\":\"1807\"},\"nonselection_glyph\":{\"id\":\"1806\"},\"view\":{\"id\":\"1809\"}},\"id\":\"1808\",\"type\":\"GlyphRenderer\"},{\"attributes\":{\"fill_alpha\":{\"value\":0.1},\"fill_color\":{\"value\":\"#d62728\"},\"hatch_alpha\":{\"value\":0.1},\"hatch_color\":{\"value\":\"#d62728\"},\"line_alpha\":{\"value\":0.1},\"line_color\":{\"value\":\"#d62728\"},\"line_width\":{\"value\":2},\"top\":{\"field\":\"NIFTY Pharma index\"},\"width\":{\"value\":0.14285714285714285},\"x\":{\"field\":\"__x__values\",\"transform\":{\"id\":\"1822\"}}},\"id\":\"1825\",\"type\":\"VBar\"},{\"attributes\":{\"fill_alpha\":{\"value\":0.2},\"fill_color\":{\"value\":\"#2ca02c\"},\"hatch_alpha\":{\"value\":0.2},\"hatch_color\":{\"value\":\"#2ca02c\"},\"line_alpha\":{\"value\":0.2},\"line_color\":{\"value\":\"#2ca02c\"},\"line_width\":{\"value\":2},\"top\":{\"field\":\"NIFTY IT index\"},\"width\":{\"value\":0.14285714285714285},\"x\":{\"field\":\"__x__values\",\"transform\":{\"id\":\"1803\"}}},\"id\":\"1807\",\"type\":\"VBar\"},{\"attributes\":{\"fill_color\":{\"value\":\"#d62728\"},\"hatch_color\":{\"value\":\"#d62728\"},\"line_color\":{\"value\":\"#d62728\"},\"line_width\":{\"value\":2},\"top\":{\"field\":\"NIFTY Pharma index\"},\"width\":{\"value\":0.14285714285714285},\"x\":{\"field\":\"__x__values\",\"transform\":{\"id\":\"1822\"}}},\"id\":\"1824\",\"type\":\"VBar\"},{\"attributes\":{\"label\":{\"value\":\" NIFTY Pharma index\"},\"renderers\":[{\"id\":\"1827\"}]},\"id\":\"1838\",\"type\":\"LegendItem\"},{\"attributes\":{\"label\":{\"value\":\" NIFTY FMCG index\"},\"renderers\":[{\"id\":\"1789\"}]},\"id\":\"1800\",\"type\":\"LegendItem\"},{\"attributes\":{\"fill_color\":{\"value\":\"#1f77b4\"},\"hatch_color\":{\"value\":\"#1f77b4\"},\"line_color\":{\"value\":\"#1f77b4\"},\"line_width\":{\"value\":2},\"top\":{\"field\":\"NIFTY Bank index\"},\"width\":{\"value\":0.14285714285714285},\"x\":{\"field\":\"__x__values\",\"transform\":{\"id\":\"1764\"}}},\"id\":\"1766\",\"type\":\"VBar\"},{\"attributes\":{\"source\":{\"id\":\"1728\"}},\"id\":\"1809\",\"type\":\"CDSView\"},{\"attributes\":{\"coordinates\":null,\"data_source\":{\"id\":\"1728\"},\"glyph\":{\"id\":\"1824\"},\"group\":null,\"hover_glyph\":null,\"muted_glyph\":{\"id\":\"1826\"},\"nonselection_glyph\":{\"id\":\"1825\"},\"view\":{\"id\":\"1828\"}},\"id\":\"1827\",\"type\":\"GlyphRenderer\"},{\"attributes\":{\"fill_alpha\":{\"value\":0.2},\"fill_color\":{\"value\":\"#d62728\"},\"hatch_alpha\":{\"value\":0.2},\"hatch_color\":{\"value\":\"#d62728\"},\"line_alpha\":{\"value\":0.2},\"line_color\":{\"value\":\"#d62728\"},\"line_width\":{\"value\":2},\"top\":{\"field\":\"NIFTY Pharma index\"},\"width\":{\"value\":0.14285714285714285},\"x\":{\"field\":\"__x__values\",\"transform\":{\"id\":\"1822\"}}},\"id\":\"1826\",\"type\":\"VBar\"},{\"attributes\":{\"label\":{\"value\":\" NIFTY IT index\"},\"renderers\":[{\"id\":\"1808\"}]},\"id\":\"1819\",\"type\":\"LegendItem\"},{\"attributes\":{\"bottom_units\":\"screen\",\"coordinates\":null,\"fill_alpha\":0.5,\"fill_color\":\"lightgrey\",\"group\":null,\"left_units\":\"screen\",\"level\":\"overlay\",\"line_alpha\":1.0,\"line_color\":\"black\",\"line_dash\":[4,4],\"line_width\":2,\"right_units\":\"screen\",\"syncable\":false,\"top_units\":\"screen\"},\"id\":\"1754\",\"type\":\"BoxAnnotation\"},{\"attributes\":{\"overlay\":{\"id\":\"1754\"}},\"id\":\"1750\",\"type\":\"BoxZoomTool\"},{\"attributes\":{\"source\":{\"id\":\"1728\"}},\"id\":\"1828\",\"type\":\"CDSView\"},{\"attributes\":{},\"id\":\"1751\",\"type\":\"SaveTool\"},{\"attributes\":{},\"id\":\"1774\",\"type\":\"AllLabels\"},{\"attributes\":{},\"id\":\"1752\",\"type\":\"ResetTool\"},{\"attributes\":{},\"id\":\"1732\",\"type\":\"DataRange1d\"},{\"attributes\":{},\"id\":\"1773\",\"type\":\"BasicTickFormatter\"},{\"attributes\":{},\"id\":\"1776\",\"type\":\"AllLabels\"},{\"attributes\":{\"fill_alpha\":{\"value\":0.2},\"fill_color\":{\"value\":\"#1f77b4\"},\"hatch_alpha\":{\"value\":0.2},\"hatch_color\":{\"value\":\"#1f77b4\"},\"line_alpha\":{\"value\":0.2},\"line_color\":{\"value\":\"#1f77b4\"},\"line_width\":{\"value\":2},\"top\":{\"field\":\"NIFTY Bank index\"},\"width\":{\"value\":0.14285714285714285},\"x\":{\"field\":\"__x__values\",\"transform\":{\"id\":\"1764\"}}},\"id\":\"1768\",\"type\":\"VBar\"},{\"attributes\":{},\"id\":\"1777\",\"type\":\"UnionRenderers\"},{\"attributes\":{\"code\":\"\\n                                    var labels = {0: 'Jan', 1: 'Feb', 2: 'March', 3: 'Apr', 4: 'May', 5: 'June', 6: 'July'};\\n                                    return labels[tick];\\n                                    \"},\"id\":\"1762\",\"type\":\"FuncTickFormatter\"},{\"attributes\":{\"coordinates\":null,\"data_source\":{\"id\":\"1728\"},\"glyph\":{\"id\":\"1766\"},\"group\":null,\"hover_glyph\":null,\"muted_glyph\":{\"id\":\"1768\"},\"nonselection_glyph\":{\"id\":\"1767\"},\"view\":{\"id\":\"1770\"}},\"id\":\"1769\",\"type\":\"GlyphRenderer\"},{\"attributes\":{},\"id\":\"1738\",\"type\":\"LinearScale\"},{\"attributes\":{\"ticks\":[0,1,2,3,4,5,6]},\"id\":\"1841\",\"type\":\"FixedTicker\"},{\"attributes\":{},\"id\":\"1778\",\"type\":\"Selection\"},{\"attributes\":{},\"id\":\"1736\",\"type\":\"LinearScale\"},{\"attributes\":{\"coordinates\":null,\"group\":null},\"id\":\"1730\",\"type\":\"Title\"},{\"attributes\":{\"fill_alpha\":{\"value\":0.1},\"fill_color\":{\"value\":\"#1f77b4\"},\"hatch_alpha\":{\"value\":0.1},\"hatch_color\":{\"value\":\"#1f77b4\"},\"line_alpha\":{\"value\":0.1},\"line_color\":{\"value\":\"#1f77b4\"},\"line_width\":{\"value\":2},\"top\":{\"field\":\"NIFTY Bank index\"},\"width\":{\"value\":0.14285714285714285},\"x\":{\"field\":\"__x__values\",\"transform\":{\"id\":\"1764\"}}},\"id\":\"1767\",\"type\":\"VBar\"},{\"attributes\":{\"fill_color\":{\"value\":\"#ff7f0e\"},\"hatch_color\":{\"value\":\"#ff7f0e\"},\"line_color\":{\"value\":\"#ff7f0e\"},\"line_width\":{\"value\":2},\"top\":{\"field\":\"NIFTY FMCG index\"},\"width\":{\"value\":0.14285714285714285},\"x\":{\"field\":\"__x__values\",\"transform\":{\"id\":\"1784\"}}},\"id\":\"1786\",\"type\":\"VBar\"},{\"attributes\":{\"coordinates\":null,\"formatter\":{\"id\":\"1762\"},\"group\":null,\"major_label_policy\":{\"id\":\"1776\"},\"ticker\":{\"id\":\"1841\"}},\"id\":\"1740\",\"type\":\"LinearAxis\"},{\"attributes\":{\"source\":{\"id\":\"1728\"}},\"id\":\"1770\",\"type\":\"CDSView\"},{\"attributes\":{\"callback\":null,\"mode\":\"vline\",\"renderers\":[{\"id\":\"1769\"}],\"tooltips\":[[\"x\",\"@__x__values_original\"],[\"NIFTY Bank index\",\"@{NIFTY Bank index}\"]]},\"id\":\"1782\",\"type\":\"HoverTool\"},{\"attributes\":{},\"id\":\"1734\",\"type\":\"DataRange1d\"},{\"attributes\":{\"fill_alpha\":{\"value\":0.1},\"fill_color\":{\"value\":\"#ff7f0e\"},\"hatch_alpha\":{\"value\":0.1},\"hatch_color\":{\"value\":\"#ff7f0e\"},\"line_alpha\":{\"value\":0.1},\"line_color\":{\"value\":\"#ff7f0e\"},\"line_width\":{\"value\":2},\"top\":{\"field\":\"NIFTY FMCG index\"},\"width\":{\"value\":0.14285714285714285},\"x\":{\"field\":\"__x__values\",\"transform\":{\"id\":\"1784\"}}},\"id\":\"1787\",\"type\":\"VBar\"},{\"attributes\":{\"axis\":{\"id\":\"1740\"},\"coordinates\":null,\"group\":null,\"ticker\":null},\"id\":\"1743\",\"type\":\"Grid\"},{\"attributes\":{\"range\":{\"id\":\"1732\"},\"value\":-0.08333333333333334},\"id\":\"1784\",\"type\":\"Dodge\"},{\"attributes\":{\"coordinates\":null,\"formatter\":{\"id\":\"1773\"},\"group\":null,\"major_label_policy\":{\"id\":\"1774\"},\"ticker\":{\"id\":\"1745\"}},\"id\":\"1744\",\"type\":\"LinearAxis\"},{\"attributes\":{\"callback\":null,\"mode\":\"vline\",\"renderers\":[{\"id\":\"1789\"}],\"tooltips\":[[\"x\",\"@__x__values_original\"],[\"NIFTY FMCG index\",\"@{NIFTY FMCG index}\"]]},\"id\":\"1801\",\"type\":\"HoverTool\"},{\"attributes\":{\"callback\":null,\"mode\":\"vline\",\"renderers\":[{\"id\":\"1808\"}],\"tooltips\":[[\"x\",\"@__x__values_original\"],[\"NIFTY IT index\",\"@{NIFTY IT index}\"]]},\"id\":\"1820\",\"type\":\"HoverTool\"},{\"attributes\":{},\"id\":\"1753\",\"type\":\"HelpTool\"},{\"attributes\":{\"label\":{\"value\":\" NIFTY Bank index\"},\"renderers\":[{\"id\":\"1769\"}]},\"id\":\"1781\",\"type\":\"LegendItem\"},{\"attributes\":{\"callback\":null,\"mode\":\"vline\",\"renderers\":[{\"id\":\"1827\"}],\"tooltips\":[[\"x\",\"@__x__values_original\"],[\"NIFTY Pharma index\",\"@{NIFTY Pharma index}\"]]},\"id\":\"1839\",\"type\":\"HoverTool\"},{\"attributes\":{\"range\":{\"id\":\"1732\"},\"value\":-0.25},\"id\":\"1764\",\"type\":\"Dodge\"},{\"attributes\":{\"axis\":{\"id\":\"1744\"},\"coordinates\":null,\"dimension\":1,\"group\":null,\"ticker\":null},\"id\":\"1747\",\"type\":\"Grid\"},{\"attributes\":{\"range\":{\"id\":\"1732\"},\"value\":0.08333333333333331},\"id\":\"1803\",\"type\":\"Dodge\"},{\"attributes\":{},\"id\":\"1745\",\"type\":\"BasicTicker\"},{\"attributes\":{\"coordinates\":null,\"data_source\":{\"id\":\"1728\"},\"glyph\":{\"id\":\"1786\"},\"group\":null,\"hover_glyph\":null,\"muted_glyph\":{\"id\":\"1788\"},\"nonselection_glyph\":{\"id\":\"1787\"},\"view\":{\"id\":\"1790\"}},\"id\":\"1789\",\"type\":\"GlyphRenderer\"},{\"attributes\":{\"active_scroll\":{\"id\":\"1749\"},\"tools\":[{\"id\":\"1748\"},{\"id\":\"1749\"},{\"id\":\"1750\"},{\"id\":\"1751\"},{\"id\":\"1752\"},{\"id\":\"1753\"},{\"id\":\"1782\"},{\"id\":\"1801\"},{\"id\":\"1820\"},{\"id\":\"1839\"}]},\"id\":\"1755\",\"type\":\"Toolbar\"},{\"attributes\":{\"fill_alpha\":{\"value\":0.1},\"fill_color\":{\"value\":\"#2ca02c\"},\"hatch_alpha\":{\"value\":0.1},\"hatch_color\":{\"value\":\"#2ca02c\"},\"line_alpha\":{\"value\":0.1},\"line_color\":{\"value\":\"#2ca02c\"},\"line_width\":{\"value\":2},\"top\":{\"field\":\"NIFTY IT index\"},\"width\":{\"value\":0.14285714285714285},\"x\":{\"field\":\"__x__values\",\"transform\":{\"id\":\"1803\"}}},\"id\":\"1806\",\"type\":\"VBar\"}],\"root_ids\":[\"1729\"]},\"title\":\"Bokeh Application\",\"version\":\"2.4.2\"}};\n  const render_items = [{\"docid\":\"09591f45-3dfb-4994-adc0-eb167184c394\",\"root_ids\":[\"1729\"],\"roots\":{\"1729\":\"aec1935b-4005-4f4c-a546-37846de85194\"}}];\n  root.Bokeh.embed.embed_items_notebook(docs_json, render_items);\n\n  }\n  if (root.Bokeh !== undefined) {\n    embed_document(root);\n  } else {\n    let attempts = 0;\n    const timer = setInterval(function(root) {\n      if (root.Bokeh !== undefined) {\n        clearInterval(timer);\n        embed_document(root);\n      } else {\n        attempts++;\n        if (attempts > 100) {\n          clearInterval(timer);\n          console.log(\"Bokeh: ERROR: Unable to run BokehJS code because BokehJS library is missing\");\n        }\n      }\n    }, 10, root)\n  }\n})(window);",
      "application/vnd.bokehjs_exec.v0+json": ""
     },
     "metadata": {
      "application/vnd.bokehjs_exec.v0+json": {
       "id": "1729"
      }
     },
     "output_type": "display_data"
    },
    {
     "data": {
      "text/html": [
       "<div style=\"display: table;\"><div style=\"display: table-row;\"><div style=\"display: table-cell;\"><b title=\"bokeh.plotting.figure.Figure\">Figure</b>(</div><div style=\"display: table-cell;\">id&nbsp;=&nbsp;'1729', <span id=\"1939\" style=\"cursor: pointer;\">&hellip;)</span></div></div><div class=\"1938\" style=\"display: none;\"><div style=\"display: table-cell;\"></div><div style=\"display: table-cell;\">above&nbsp;=&nbsp;[],</div></div><div class=\"1938\" style=\"display: none;\"><div style=\"display: table-cell;\"></div><div style=\"display: table-cell;\">align&nbsp;=&nbsp;'start',</div></div><div class=\"1938\" style=\"display: none;\"><div style=\"display: table-cell;\"></div><div style=\"display: table-cell;\">aspect_ratio&nbsp;=&nbsp;None,</div></div><div class=\"1938\" style=\"display: none;\"><div style=\"display: table-cell;\"></div><div style=\"display: table-cell;\">aspect_scale&nbsp;=&nbsp;1,</div></div><div class=\"1938\" style=\"display: none;\"><div style=\"display: table-cell;\"></div><div style=\"display: table-cell;\">background&nbsp;=&nbsp;None,</div></div><div class=\"1938\" style=\"display: none;\"><div style=\"display: table-cell;\"></div><div style=\"display: table-cell;\">background_fill_alpha&nbsp;=&nbsp;1.0,</div></div><div class=\"1938\" style=\"display: none;\"><div style=\"display: table-cell;\"></div><div style=\"display: table-cell;\">background_fill_color&nbsp;=&nbsp;'#ffffff',</div></div><div class=\"1938\" style=\"display: none;\"><div style=\"display: table-cell;\"></div><div style=\"display: table-cell;\">below&nbsp;=&nbsp;[LinearAxis(id='1740', ...)],</div></div><div class=\"1938\" style=\"display: none;\"><div style=\"display: table-cell;\"></div><div style=\"display: table-cell;\">border_fill_alpha&nbsp;=&nbsp;1.0,</div></div><div class=\"1938\" style=\"display: none;\"><div style=\"display: table-cell;\"></div><div style=\"display: table-cell;\">border_fill_color&nbsp;=&nbsp;'#ffffff',</div></div><div class=\"1938\" style=\"display: none;\"><div style=\"display: table-cell;\"></div><div style=\"display: table-cell;\">center&nbsp;=&nbsp;[Grid(id='1743', ...), Grid(id='1747', ...), Legend(id='1780', ...)],</div></div><div class=\"1938\" style=\"display: none;\"><div style=\"display: table-cell;\"></div><div style=\"display: table-cell;\">css_classes&nbsp;=&nbsp;[],</div></div><div class=\"1938\" style=\"display: none;\"><div style=\"display: table-cell;\"></div><div style=\"display: table-cell;\">disabled&nbsp;=&nbsp;False,</div></div><div class=\"1938\" style=\"display: none;\"><div style=\"display: table-cell;\"></div><div style=\"display: table-cell;\">extra_x_ranges&nbsp;=&nbsp;{},</div></div><div class=\"1938\" style=\"display: none;\"><div style=\"display: table-cell;\"></div><div style=\"display: table-cell;\">extra_x_scales&nbsp;=&nbsp;{},</div></div><div class=\"1938\" style=\"display: none;\"><div style=\"display: table-cell;\"></div><div style=\"display: table-cell;\">extra_y_ranges&nbsp;=&nbsp;{},</div></div><div class=\"1938\" style=\"display: none;\"><div style=\"display: table-cell;\"></div><div style=\"display: table-cell;\">extra_y_scales&nbsp;=&nbsp;{},</div></div><div class=\"1938\" style=\"display: none;\"><div style=\"display: table-cell;\"></div><div style=\"display: table-cell;\">frame_height&nbsp;=&nbsp;None,</div></div><div class=\"1938\" style=\"display: none;\"><div style=\"display: table-cell;\"></div><div style=\"display: table-cell;\">frame_width&nbsp;=&nbsp;None,</div></div><div class=\"1938\" style=\"display: none;\"><div style=\"display: table-cell;\"></div><div style=\"display: table-cell;\">height&nbsp;=&nbsp;6,</div></div><div class=\"1938\" style=\"display: none;\"><div style=\"display: table-cell;\"></div><div style=\"display: table-cell;\">height_policy&nbsp;=&nbsp;'auto',</div></div><div class=\"1938\" style=\"display: none;\"><div style=\"display: table-cell;\"></div><div style=\"display: table-cell;\">hidpi&nbsp;=&nbsp;True,</div></div><div class=\"1938\" style=\"display: none;\"><div style=\"display: table-cell;\"></div><div style=\"display: table-cell;\">inner_height&nbsp;=&nbsp;0,</div></div><div class=\"1938\" style=\"display: none;\"><div style=\"display: table-cell;\"></div><div style=\"display: table-cell;\">inner_width&nbsp;=&nbsp;0,</div></div><div class=\"1938\" style=\"display: none;\"><div style=\"display: table-cell;\"></div><div style=\"display: table-cell;\">js_event_callbacks&nbsp;=&nbsp;{},</div></div><div class=\"1938\" style=\"display: none;\"><div style=\"display: table-cell;\"></div><div style=\"display: table-cell;\">js_property_callbacks&nbsp;=&nbsp;{},</div></div><div class=\"1938\" style=\"display: none;\"><div style=\"display: table-cell;\"></div><div style=\"display: table-cell;\">left&nbsp;=&nbsp;[LinearAxis(id='1744', ...)],</div></div><div class=\"1938\" style=\"display: none;\"><div style=\"display: table-cell;\"></div><div style=\"display: table-cell;\">lod_factor&nbsp;=&nbsp;10,</div></div><div class=\"1938\" style=\"display: none;\"><div style=\"display: table-cell;\"></div><div style=\"display: table-cell;\">lod_interval&nbsp;=&nbsp;300,</div></div><div class=\"1938\" style=\"display: none;\"><div style=\"display: table-cell;\"></div><div style=\"display: table-cell;\">lod_threshold&nbsp;=&nbsp;2000,</div></div><div class=\"1938\" style=\"display: none;\"><div style=\"display: table-cell;\"></div><div style=\"display: table-cell;\">lod_timeout&nbsp;=&nbsp;500,</div></div><div class=\"1938\" style=\"display: none;\"><div style=\"display: table-cell;\"></div><div style=\"display: table-cell;\">margin&nbsp;=&nbsp;(0, 0, 0, 0),</div></div><div class=\"1938\" style=\"display: none;\"><div style=\"display: table-cell;\"></div><div style=\"display: table-cell;\">match_aspect&nbsp;=&nbsp;False,</div></div><div class=\"1938\" style=\"display: none;\"><div style=\"display: table-cell;\"></div><div style=\"display: table-cell;\">max_height&nbsp;=&nbsp;None,</div></div><div class=\"1938\" style=\"display: none;\"><div style=\"display: table-cell;\"></div><div style=\"display: table-cell;\">max_width&nbsp;=&nbsp;None,</div></div><div class=\"1938\" style=\"display: none;\"><div style=\"display: table-cell;\"></div><div style=\"display: table-cell;\">min_border&nbsp;=&nbsp;5,</div></div><div class=\"1938\" style=\"display: none;\"><div style=\"display: table-cell;\"></div><div style=\"display: table-cell;\">min_border_bottom&nbsp;=&nbsp;None,</div></div><div class=\"1938\" style=\"display: none;\"><div style=\"display: table-cell;\"></div><div style=\"display: table-cell;\">min_border_left&nbsp;=&nbsp;None,</div></div><div class=\"1938\" style=\"display: none;\"><div style=\"display: table-cell;\"></div><div style=\"display: table-cell;\">min_border_right&nbsp;=&nbsp;None,</div></div><div class=\"1938\" style=\"display: none;\"><div style=\"display: table-cell;\"></div><div style=\"display: table-cell;\">min_border_top&nbsp;=&nbsp;None,</div></div><div class=\"1938\" style=\"display: none;\"><div style=\"display: table-cell;\"></div><div style=\"display: table-cell;\">min_height&nbsp;=&nbsp;None,</div></div><div class=\"1938\" style=\"display: none;\"><div style=\"display: table-cell;\"></div><div style=\"display: table-cell;\">min_width&nbsp;=&nbsp;None,</div></div><div class=\"1938\" style=\"display: none;\"><div style=\"display: table-cell;\"></div><div style=\"display: table-cell;\">name&nbsp;=&nbsp;None,</div></div><div class=\"1938\" style=\"display: none;\"><div style=\"display: table-cell;\"></div><div style=\"display: table-cell;\">outer_height&nbsp;=&nbsp;0,</div></div><div class=\"1938\" style=\"display: none;\"><div style=\"display: table-cell;\"></div><div style=\"display: table-cell;\">outer_width&nbsp;=&nbsp;0,</div></div><div class=\"1938\" style=\"display: none;\"><div style=\"display: table-cell;\"></div><div style=\"display: table-cell;\">outline_line_alpha&nbsp;=&nbsp;1.0,</div></div><div class=\"1938\" style=\"display: none;\"><div style=\"display: table-cell;\"></div><div style=\"display: table-cell;\">outline_line_cap&nbsp;=&nbsp;'butt',</div></div><div class=\"1938\" style=\"display: none;\"><div style=\"display: table-cell;\"></div><div style=\"display: table-cell;\">outline_line_color&nbsp;=&nbsp;'#e5e5e5',</div></div><div class=\"1938\" style=\"display: none;\"><div style=\"display: table-cell;\"></div><div style=\"display: table-cell;\">outline_line_dash&nbsp;=&nbsp;[],</div></div><div class=\"1938\" style=\"display: none;\"><div style=\"display: table-cell;\"></div><div style=\"display: table-cell;\">outline_line_dash_offset&nbsp;=&nbsp;0,</div></div><div class=\"1938\" style=\"display: none;\"><div style=\"display: table-cell;\"></div><div style=\"display: table-cell;\">outline_line_join&nbsp;=&nbsp;'bevel',</div></div><div class=\"1938\" style=\"display: none;\"><div style=\"display: table-cell;\"></div><div style=\"display: table-cell;\">outline_line_width&nbsp;=&nbsp;1,</div></div><div class=\"1938\" style=\"display: none;\"><div style=\"display: table-cell;\"></div><div style=\"display: table-cell;\">output_backend&nbsp;=&nbsp;'webgl',</div></div><div class=\"1938\" style=\"display: none;\"><div style=\"display: table-cell;\"></div><div style=\"display: table-cell;\">renderers&nbsp;=&nbsp;[GlyphRenderer(id='1769', ...), GlyphRenderer(id='1789', ...), GlyphRenderer(id='1808', ...), GlyphRenderer(id='1827', ...)],</div></div><div class=\"1938\" style=\"display: none;\"><div style=\"display: table-cell;\"></div><div style=\"display: table-cell;\">reset_policy&nbsp;=&nbsp;'standard',</div></div><div class=\"1938\" style=\"display: none;\"><div style=\"display: table-cell;\"></div><div style=\"display: table-cell;\">right&nbsp;=&nbsp;[],</div></div><div class=\"1938\" style=\"display: none;\"><div style=\"display: table-cell;\"></div><div style=\"display: table-cell;\">sizing_mode&nbsp;=&nbsp;'fixed',</div></div><div class=\"1938\" style=\"display: none;\"><div style=\"display: table-cell;\"></div><div style=\"display: table-cell;\">subscribed_events&nbsp;=&nbsp;[],</div></div><div class=\"1938\" style=\"display: none;\"><div style=\"display: table-cell;\"></div><div style=\"display: table-cell;\">syncable&nbsp;=&nbsp;True,</div></div><div class=\"1938\" style=\"display: none;\"><div style=\"display: table-cell;\"></div><div style=\"display: table-cell;\">tags&nbsp;=&nbsp;[],</div></div><div class=\"1938\" style=\"display: none;\"><div style=\"display: table-cell;\"></div><div style=\"display: table-cell;\">title&nbsp;=&nbsp;Title(id='1730', ...),</div></div><div class=\"1938\" style=\"display: none;\"><div style=\"display: table-cell;\"></div><div style=\"display: table-cell;\">title_location&nbsp;=&nbsp;'above',</div></div><div class=\"1938\" style=\"display: none;\"><div style=\"display: table-cell;\"></div><div style=\"display: table-cell;\">toolbar&nbsp;=&nbsp;Toolbar(id='1755', ...),</div></div><div class=\"1938\" style=\"display: none;\"><div style=\"display: table-cell;\"></div><div style=\"display: table-cell;\">toolbar_location&nbsp;=&nbsp;'right',</div></div><div class=\"1938\" style=\"display: none;\"><div style=\"display: table-cell;\"></div><div style=\"display: table-cell;\">toolbar_sticky&nbsp;=&nbsp;True,</div></div><div class=\"1938\" style=\"display: none;\"><div style=\"display: table-cell;\"></div><div style=\"display: table-cell;\">visible&nbsp;=&nbsp;True,</div></div><div class=\"1938\" style=\"display: none;\"><div style=\"display: table-cell;\"></div><div style=\"display: table-cell;\">width&nbsp;=&nbsp;10,</div></div><div class=\"1938\" style=\"display: none;\"><div style=\"display: table-cell;\"></div><div style=\"display: table-cell;\">width_policy&nbsp;=&nbsp;'auto',</div></div><div class=\"1938\" style=\"display: none;\"><div style=\"display: table-cell;\"></div><div style=\"display: table-cell;\">x_range&nbsp;=&nbsp;DataRange1d(id='1732', ...),</div></div><div class=\"1938\" style=\"display: none;\"><div style=\"display: table-cell;\"></div><div style=\"display: table-cell;\">x_scale&nbsp;=&nbsp;LinearScale(id='1736', ...),</div></div><div class=\"1938\" style=\"display: none;\"><div style=\"display: table-cell;\"></div><div style=\"display: table-cell;\">y_range&nbsp;=&nbsp;DataRange1d(id='1734', ...),</div></div><div class=\"1938\" style=\"display: none;\"><div style=\"display: table-cell;\"></div><div style=\"display: table-cell;\">y_scale&nbsp;=&nbsp;LinearScale(id='1738', ...))</div></div></div>\n",
       "<script>\n",
       "(function() {\n",
       "  let expanded = false;\n",
       "  const ellipsis = document.getElementById(\"1939\");\n",
       "  ellipsis.addEventListener(\"click\", function() {\n",
       "    const rows = document.getElementsByClassName(\"1938\");\n",
       "    for (let i = 0; i < rows.length; i++) {\n",
       "      const el = rows[i];\n",
       "      el.style.display = expanded ? \"none\" : \"table-row\";\n",
       "    }\n",
       "    ellipsis.innerHTML = expanded ? \"&hellip;)\" : \"&lsaquo;&lsaquo;&lsaquo;\";\n",
       "    expanded = !expanded;\n",
       "  });\n",
       "})();\n",
       "</script>\n"
      ],
      "text/plain": [
       "Figure(id='1729', ...)"
      ]
     },
     "execution_count": 20,
     "metadata": {},
     "output_type": "execute_result"
    }
   ],
   "source": [
    "nifty_data_resample.plot_bokeh(kind='bar', figsize=(10,6))"
   ]
  },
  {
   "cell_type": "markdown",
   "metadata": {},
   "source": [
    "#### Gráfico de barras empilhadas"
   ]
  },
  {
   "cell_type": "code",
   "execution_count": 21,
   "metadata": {},
   "outputs": [
    {
     "data": {
      "text/html": [
       "\n",
       "\n",
       "\n",
       "\n",
       "\n",
       "\n",
       "  <div class=\"bk-root\" id=\"0013a98e-9084-4e4f-a205-ff7eead80e53\" data-root-id=\"1977\"></div>\n"
      ]
     },
     "metadata": {},
     "output_type": "display_data"
    },
    {
     "data": {
      "application/javascript": "(function(root) {\n  function embed_document(root) {\n    \n  const docs_json = {\"dd9cd3b0-9ee6-45d1-97e7-9012e4301135\":{\"defs\":[],\"roots\":{\"references\":[{\"attributes\":{\"below\":[{\"id\":\"1988\"}],\"center\":[{\"id\":\"1991\"},{\"id\":\"1995\"},{\"id\":\"2035\"}],\"height\":400,\"left\":[{\"id\":\"1992\"}],\"output_backend\":\"webgl\",\"renderers\":[{\"id\":\"2024\"},{\"id\":\"2041\"},{\"id\":\"2057\"},{\"id\":\"2073\"}],\"sizing_mode\":\"fixed\",\"title\":{\"id\":\"1978\"},\"toolbar\":{\"id\":\"2003\"},\"x_range\":{\"id\":\"1980\"},\"x_scale\":{\"id\":\"1984\"},\"y_range\":{\"id\":\"1982\"},\"y_scale\":{\"id\":\"1986\"}},\"id\":\"1977\",\"subtype\":\"Figure\",\"type\":\"Plot\"},{\"attributes\":{},\"id\":\"2033\",\"type\":\"Selection\"},{\"attributes\":{},\"id\":\"1989\",\"type\":\"BasicTicker\"},{\"attributes\":{\"fields\":[\"NIFTY Bank index\",\"NIFTY FMCG index\",\"NIFTY IT index\"]},\"id\":\"2018\",\"type\":\"Stack\"},{\"attributes\":{\"fields\":[\"NIFTY Bank index\",\"NIFTY FMCG index\",\"NIFTY IT index\"]},\"id\":\"2017\",\"type\":\"Stack\"},{\"attributes\":{\"axis\":{\"id\":\"1988\"},\"coordinates\":null,\"group\":null,\"ticker\":null},\"id\":\"1991\",\"type\":\"Grid\"},{\"attributes\":{\"fill_color\":{\"value\":\"#d62728\"},\"hatch_color\":{\"value\":\"#d62728\"},\"height\":{\"value\":0.8},\"left\":{\"expr\":{\"id\":\"2018\"}},\"line_color\":{\"value\":\"#d62728\"},\"line_width\":{\"value\":2},\"right\":{\"expr\":{\"id\":\"2019\"}},\"y\":{\"field\":\"__x__values\"}},\"id\":\"2070\",\"type\":\"HBar\"},{\"attributes\":{\"fill_alpha\":{\"value\":0.2},\"fill_color\":{\"value\":\"#ff7f0e\"},\"hatch_alpha\":{\"value\":0.2},\"hatch_color\":{\"value\":\"#ff7f0e\"},\"height\":{\"value\":0.8},\"left\":{\"expr\":{\"id\":\"2014\"}},\"line_alpha\":{\"value\":0.2},\"line_color\":{\"value\":\"#ff7f0e\"},\"line_width\":{\"value\":2},\"right\":{\"expr\":{\"id\":\"2015\"}},\"y\":{\"field\":\"__x__values\"}},\"id\":\"2040\",\"type\":\"HBar\"},{\"attributes\":{\"label\":{\"value\":\"NIFTY IT index\"},\"renderers\":[{\"id\":\"2057\"}]},\"id\":\"2068\",\"type\":\"LegendItem\"},{\"attributes\":{\"coordinates\":null,\"data_source\":{\"id\":\"1976\"},\"glyph\":{\"id\":\"2021\"},\"group\":null,\"hover_glyph\":null,\"muted_glyph\":{\"id\":\"2023\"},\"name\":\"NIFTY Bank index\",\"nonselection_glyph\":{\"id\":\"2022\"},\"view\":{\"id\":\"2025\"}},\"id\":\"2024\",\"type\":\"GlyphRenderer\"},{\"attributes\":{\"source\":{\"id\":\"1976\"}},\"id\":\"2074\",\"type\":\"CDSView\"},{\"attributes\":{\"fill_alpha\":{\"value\":0.1},\"fill_color\":{\"value\":\"#2ca02c\"},\"hatch_alpha\":{\"value\":0.1},\"hatch_color\":{\"value\":\"#2ca02c\"},\"height\":{\"value\":0.8},\"left\":{\"expr\":{\"id\":\"2016\"}},\"line_alpha\":{\"value\":0.1},\"line_color\":{\"value\":\"#2ca02c\"},\"line_width\":{\"value\":2},\"right\":{\"expr\":{\"id\":\"2017\"}},\"y\":{\"field\":\"__x__values\"}},\"id\":\"2055\",\"type\":\"HBar\"},{\"attributes\":{\"fields\":[]},\"id\":\"2012\",\"type\":\"Stack\"},{\"attributes\":{\"source\":{\"id\":\"1976\"}},\"id\":\"2058\",\"type\":\"CDSView\"},{\"attributes\":{\"fields\":[\"NIFTY Bank index\"]},\"id\":\"2014\",\"type\":\"Stack\"},{\"attributes\":{\"fields\":[\"NIFTY Bank index\",\"NIFTY FMCG index\"]},\"id\":\"2016\",\"type\":\"Stack\"},{\"attributes\":{\"source\":{\"id\":\"1976\"}},\"id\":\"2025\",\"type\":\"CDSView\"},{\"attributes\":{\"coordinates\":null,\"data_source\":{\"id\":\"1976\"},\"glyph\":{\"id\":\"2038\"},\"group\":null,\"hover_glyph\":null,\"muted_glyph\":{\"id\":\"2040\"},\"name\":\"NIFTY FMCG index\",\"nonselection_glyph\":{\"id\":\"2039\"},\"view\":{\"id\":\"2042\"}},\"id\":\"2041\",\"type\":\"GlyphRenderer\"},{\"attributes\":{\"coordinates\":null,\"data_source\":{\"id\":\"1976\"},\"glyph\":{\"id\":\"2054\"},\"group\":null,\"hover_glyph\":null,\"muted_glyph\":{\"id\":\"2056\"},\"name\":\"NIFTY IT index\",\"nonselection_glyph\":{\"id\":\"2055\"},\"view\":{\"id\":\"2058\"}},\"id\":\"2057\",\"type\":\"GlyphRenderer\"},{\"attributes\":{\"active_scroll\":{\"id\":\"1997\"},\"tools\":[{\"id\":\"1996\"},{\"id\":\"1997\"},{\"id\":\"1998\"},{\"id\":\"1999\"},{\"id\":\"2000\"},{\"id\":\"2001\"},{\"id\":\"2085\"}]},\"id\":\"2003\",\"type\":\"Toolbar\"},{\"attributes\":{\"coordinates\":null,\"group\":null,\"items\":[{\"id\":\"2036\"},{\"id\":\"2052\"},{\"id\":\"2068\"},{\"id\":\"2084\"}]},\"id\":\"2035\",\"type\":\"Legend\"},{\"attributes\":{\"coordinates\":null,\"data_source\":{\"id\":\"1976\"},\"glyph\":{\"id\":\"2070\"},\"group\":null,\"hover_glyph\":null,\"muted_glyph\":{\"id\":\"2072\"},\"name\":\"NIFTY Pharma index\",\"nonselection_glyph\":{\"id\":\"2071\"},\"view\":{\"id\":\"2074\"}},\"id\":\"2073\",\"type\":\"GlyphRenderer\"},{\"attributes\":{\"label\":{\"value\":\"NIFTY Bank index\"},\"renderers\":[{\"id\":\"2024\"}]},\"id\":\"2036\",\"type\":\"LegendItem\"},{\"attributes\":{},\"id\":\"2031\",\"type\":\"AllLabels\"},{\"attributes\":{\"fill_color\":{\"value\":\"#ff7f0e\"},\"hatch_color\":{\"value\":\"#ff7f0e\"},\"height\":{\"value\":0.8},\"left\":{\"expr\":{\"id\":\"2014\"}},\"line_color\":{\"value\":\"#ff7f0e\"},\"line_width\":{\"value\":2},\"right\":{\"expr\":{\"id\":\"2015\"}},\"y\":{\"field\":\"__x__values\"}},\"id\":\"2038\",\"type\":\"HBar\"},{\"attributes\":{\"bottom_units\":\"screen\",\"coordinates\":null,\"fill_alpha\":0.5,\"fill_color\":\"lightgrey\",\"group\":null,\"left_units\":\"screen\",\"level\":\"overlay\",\"line_alpha\":1.0,\"line_color\":\"black\",\"line_dash\":[4,4],\"line_width\":2,\"right_units\":\"screen\",\"syncable\":false,\"top_units\":\"screen\"},\"id\":\"2002\",\"type\":\"BoxAnnotation\"},{\"attributes\":{\"fill_color\":{\"value\":\"#2ca02c\"},\"hatch_color\":{\"value\":\"#2ca02c\"},\"height\":{\"value\":0.8},\"left\":{\"expr\":{\"id\":\"2016\"}},\"line_color\":{\"value\":\"#2ca02c\"},\"line_width\":{\"value\":2},\"right\":{\"expr\":{\"id\":\"2017\"}},\"y\":{\"field\":\"__x__values\"}},\"id\":\"2054\",\"type\":\"HBar\"},{\"attributes\":{},\"id\":\"1980\",\"type\":\"DataRange1d\"},{\"attributes\":{},\"id\":\"2030\",\"type\":\"BasicTickFormatter\"},{\"attributes\":{\"label\":{\"value\":\"NIFTY FMCG index\"},\"renderers\":[{\"id\":\"2041\"}]},\"id\":\"2052\",\"type\":\"LegendItem\"},{\"attributes\":{},\"id\":\"2032\",\"type\":\"UnionRenderers\"},{\"attributes\":{\"fill_alpha\":{\"value\":0.2},\"fill_color\":{\"value\":\"#2ca02c\"},\"hatch_alpha\":{\"value\":0.2},\"hatch_color\":{\"value\":\"#2ca02c\"},\"height\":{\"value\":0.8},\"left\":{\"expr\":{\"id\":\"2016\"}},\"line_alpha\":{\"value\":0.2},\"line_color\":{\"value\":\"#2ca02c\"},\"line_width\":{\"value\":2},\"right\":{\"expr\":{\"id\":\"2017\"}},\"y\":{\"field\":\"__x__values\"}},\"id\":\"2056\",\"type\":\"HBar\"},{\"attributes\":{\"fill_alpha\":{\"value\":0.2},\"fill_color\":{\"value\":\"#d62728\"},\"hatch_alpha\":{\"value\":0.2},\"hatch_color\":{\"value\":\"#d62728\"},\"height\":{\"value\":0.8},\"left\":{\"expr\":{\"id\":\"2018\"}},\"line_alpha\":{\"value\":0.2},\"line_color\":{\"value\":\"#d62728\"},\"line_width\":{\"value\":2},\"right\":{\"expr\":{\"id\":\"2019\"}},\"y\":{\"field\":\"__x__values\"}},\"id\":\"2072\",\"type\":\"HBar\"},{\"attributes\":{},\"id\":\"2001\",\"type\":\"HelpTool\"},{\"attributes\":{\"code\":\"\\n                                    var labels = {0: 'Jan', 1: 'Feb', 2: 'March', 3: 'Apr', 4: 'May', 5: 'June', 6: 'July'};\\n                                    return labels[tick];\\n                                    \"},\"id\":\"2010\",\"type\":\"FuncTickFormatter\"},{\"attributes\":{},\"id\":\"1986\",\"type\":\"LinearScale\"},{\"attributes\":{\"fields\":[\"NIFTY Bank index\",\"NIFTY FMCG index\"]},\"id\":\"2015\",\"type\":\"Stack\"},{\"attributes\":{\"callback\":null,\"mode\":\"hline\",\"renderers\":[{\"id\":\"2073\"}],\"tooltips\":[[\"x\",\"@__x__values_original\"],[\"NIFTY Bank index\",\"@{NIFTY Bank index}\"],[\"NIFTY FMCG index\",\"@{NIFTY FMCG index}\"],[\"NIFTY IT index\",\"@{NIFTY IT index}\"],[\"NIFTY Pharma index\",\"@{NIFTY Pharma index}\"]]},\"id\":\"2085\",\"type\":\"HoverTool\"},{\"attributes\":{},\"id\":\"1982\",\"type\":\"DataRange1d\"},{\"attributes\":{},\"id\":\"2028\",\"type\":\"AllLabels\"},{\"attributes\":{\"fields\":[\"NIFTY Bank index\"]},\"id\":\"2013\",\"type\":\"Stack\"},{\"attributes\":{\"coordinates\":null,\"group\":null},\"id\":\"1978\",\"type\":\"Title\"},{\"attributes\":{\"coordinates\":null,\"formatter\":{\"id\":\"2030\"},\"group\":null,\"major_label_policy\":{\"id\":\"2031\"},\"ticker\":{\"id\":\"1989\"}},\"id\":\"1988\",\"type\":\"LinearAxis\"},{\"attributes\":{},\"id\":\"1997\",\"type\":\"WheelZoomTool\"},{\"attributes\":{\"coordinates\":null,\"formatter\":{\"id\":\"2010\"},\"group\":null,\"major_label_policy\":{\"id\":\"2028\"},\"ticker\":{\"id\":\"2087\"}},\"id\":\"1992\",\"type\":\"LinearAxis\"},{\"attributes\":{},\"id\":\"1996\",\"type\":\"PanTool\"},{\"attributes\":{\"fields\":[\"NIFTY Bank index\",\"NIFTY FMCG index\",\"NIFTY IT index\",\"NIFTY Pharma index\"]},\"id\":\"2019\",\"type\":\"Stack\"},{\"attributes\":{\"label\":{\"value\":\"NIFTY Pharma index\"},\"renderers\":[{\"id\":\"2073\"}]},\"id\":\"2084\",\"type\":\"LegendItem\"},{\"attributes\":{\"fill_color\":{\"value\":\"#1f77b4\"},\"hatch_color\":{\"value\":\"#1f77b4\"},\"height\":{\"value\":0.8},\"left\":{\"expr\":{\"id\":\"2012\"}},\"line_color\":{\"value\":\"#1f77b4\"},\"line_width\":{\"value\":2},\"right\":{\"expr\":{\"id\":\"2013\"}},\"y\":{\"field\":\"__x__values\"}},\"id\":\"2021\",\"type\":\"HBar\"},{\"attributes\":{\"source\":{\"id\":\"1976\"}},\"id\":\"2042\",\"type\":\"CDSView\"},{\"attributes\":{\"overlay\":{\"id\":\"2002\"}},\"id\":\"1998\",\"type\":\"BoxZoomTool\"},{\"attributes\":{},\"id\":\"1999\",\"type\":\"SaveTool\"},{\"attributes\":{\"ticks\":[0,1,2,3,4,5,6]},\"id\":\"2087\",\"type\":\"FixedTicker\"},{\"attributes\":{\"fill_alpha\":{\"value\":0.1},\"fill_color\":{\"value\":\"#1f77b4\"},\"hatch_alpha\":{\"value\":0.1},\"hatch_color\":{\"value\":\"#1f77b4\"},\"height\":{\"value\":0.8},\"left\":{\"expr\":{\"id\":\"2012\"}},\"line_alpha\":{\"value\":0.1},\"line_color\":{\"value\":\"#1f77b4\"},\"line_width\":{\"value\":2},\"right\":{\"expr\":{\"id\":\"2013\"}},\"y\":{\"field\":\"__x__values\"}},\"id\":\"2022\",\"type\":\"HBar\"},{\"attributes\":{\"axis\":{\"id\":\"1992\"},\"coordinates\":null,\"dimension\":1,\"group\":null,\"ticker\":null},\"id\":\"1995\",\"type\":\"Grid\"},{\"attributes\":{\"fill_alpha\":{\"value\":0.1},\"fill_color\":{\"value\":\"#d62728\"},\"hatch_alpha\":{\"value\":0.1},\"hatch_color\":{\"value\":\"#d62728\"},\"height\":{\"value\":0.8},\"left\":{\"expr\":{\"id\":\"2018\"}},\"line_alpha\":{\"value\":0.1},\"line_color\":{\"value\":\"#d62728\"},\"line_width\":{\"value\":2},\"right\":{\"expr\":{\"id\":\"2019\"}},\"y\":{\"field\":\"__x__values\"}},\"id\":\"2071\",\"type\":\"HBar\"},{\"attributes\":{\"fill_alpha\":{\"value\":0.1},\"fill_color\":{\"value\":\"#ff7f0e\"},\"hatch_alpha\":{\"value\":0.1},\"hatch_color\":{\"value\":\"#ff7f0e\"},\"height\":{\"value\":0.8},\"left\":{\"expr\":{\"id\":\"2014\"}},\"line_alpha\":{\"value\":0.1},\"line_color\":{\"value\":\"#ff7f0e\"},\"line_width\":{\"value\":2},\"right\":{\"expr\":{\"id\":\"2015\"}},\"y\":{\"field\":\"__x__values\"}},\"id\":\"2039\",\"type\":\"HBar\"},{\"attributes\":{\"data\":{\"NIFTY Bank index\":{\"__ndarray__\":\"LWQhC5m13kDD9Shc2/TdQJdyKZcCZtZAd3d3d8dA00ATp37PzUTSQNs3rH1rdtRA2FBeQ8m21UA=\",\"dtype\":\"float64\",\"order\":\"little\",\"shape\":[7]},\"NIFTY FMCG index\":{\"__ndarray__\":\"Dp4jUOQR3kBwPQrXB8HdQBut0RrNydlA0yd90ofz20Atcer3fK/aQFSCPCVYotxAr6G8hrIu3kA=\",\"dtype\":\"float64\",\"order\":\"little\",\"shape\":[7]},\"NIFTY IT index\":{\"__ndarray__\":\"SuXDuP+Yz0AK16Nw6QbQQGZmZmYmFspAIiIiImLnyEADYaQdq4DKQIM8JciTfMxAnfo9t4Svz0A=\",\"dtype\":\"float64\",\"order\":\"little\",\"shape\":[7]},\"NIFTY Pharma index\":{\"__ndarray__\":\"L6l8GPf4v0CF61G47sy/QLu7u7v7E7xAjuM4jmNvwUADYaQdSzbCQGHtG9YemsNAzy1x6tfAw0A=\",\"dtype\":\"float64\",\"order\":\"little\",\"shape\":[7]},\"__x__values\":[0,1,2,3,4,5,6],\"__x__values_original\":[\"Jan\",\"Feb\",\"March\",\"Apr\",\"May\",\"June\",\"July\"]},\"selected\":{\"id\":\"2033\"},\"selection_policy\":{\"id\":\"2032\"}},\"id\":\"1976\",\"type\":\"ColumnDataSource\"},{\"attributes\":{},\"id\":\"2000\",\"type\":\"ResetTool\"},{\"attributes\":{\"fill_alpha\":{\"value\":0.2},\"fill_color\":{\"value\":\"#1f77b4\"},\"hatch_alpha\":{\"value\":0.2},\"hatch_color\":{\"value\":\"#1f77b4\"},\"height\":{\"value\":0.8},\"left\":{\"expr\":{\"id\":\"2012\"}},\"line_alpha\":{\"value\":0.2},\"line_color\":{\"value\":\"#1f77b4\"},\"line_width\":{\"value\":2},\"right\":{\"expr\":{\"id\":\"2013\"}},\"y\":{\"field\":\"__x__values\"}},\"id\":\"2023\",\"type\":\"HBar\"},{\"attributes\":{},\"id\":\"1984\",\"type\":\"LinearScale\"}],\"root_ids\":[\"1977\"]},\"title\":\"Bokeh Application\",\"version\":\"2.4.2\"}};\n  const render_items = [{\"docid\":\"dd9cd3b0-9ee6-45d1-97e7-9012e4301135\",\"root_ids\":[\"1977\"],\"roots\":{\"1977\":\"0013a98e-9084-4e4f-a205-ff7eead80e53\"}}];\n  root.Bokeh.embed.embed_items_notebook(docs_json, render_items);\n\n  }\n  if (root.Bokeh !== undefined) {\n    embed_document(root);\n  } else {\n    let attempts = 0;\n    const timer = setInterval(function(root) {\n      if (root.Bokeh !== undefined) {\n        clearInterval(timer);\n        embed_document(root);\n      } else {\n        attempts++;\n        if (attempts > 100) {\n          clearInterval(timer);\n          console.log(\"Bokeh: ERROR: Unable to run BokehJS code because BokehJS library is missing\");\n        }\n      }\n    }, 10, root)\n  }\n})(window);",
      "application/vnd.bokehjs_exec.v0+json": ""
     },
     "metadata": {
      "application/vnd.bokehjs_exec.v0+json": {
       "id": "1977"
      }
     },
     "output_type": "display_data"
    },
    {
     "data": {
      "text/html": [
       "<div style=\"display: table;\"><div style=\"display: table-row;\"><div style=\"display: table-cell;\"><b title=\"bokeh.plotting.figure.Figure\">Figure</b>(</div><div style=\"display: table-cell;\">id&nbsp;=&nbsp;'1977', <span id=\"2193\" style=\"cursor: pointer;\">&hellip;)</span></div></div><div class=\"2192\" style=\"display: none;\"><div style=\"display: table-cell;\"></div><div style=\"display: table-cell;\">above&nbsp;=&nbsp;[],</div></div><div class=\"2192\" style=\"display: none;\"><div style=\"display: table-cell;\"></div><div style=\"display: table-cell;\">align&nbsp;=&nbsp;'start',</div></div><div class=\"2192\" style=\"display: none;\"><div style=\"display: table-cell;\"></div><div style=\"display: table-cell;\">aspect_ratio&nbsp;=&nbsp;None,</div></div><div class=\"2192\" style=\"display: none;\"><div style=\"display: table-cell;\"></div><div style=\"display: table-cell;\">aspect_scale&nbsp;=&nbsp;1,</div></div><div class=\"2192\" style=\"display: none;\"><div style=\"display: table-cell;\"></div><div style=\"display: table-cell;\">background&nbsp;=&nbsp;None,</div></div><div class=\"2192\" style=\"display: none;\"><div style=\"display: table-cell;\"></div><div style=\"display: table-cell;\">background_fill_alpha&nbsp;=&nbsp;1.0,</div></div><div class=\"2192\" style=\"display: none;\"><div style=\"display: table-cell;\"></div><div style=\"display: table-cell;\">background_fill_color&nbsp;=&nbsp;'#ffffff',</div></div><div class=\"2192\" style=\"display: none;\"><div style=\"display: table-cell;\"></div><div style=\"display: table-cell;\">below&nbsp;=&nbsp;[LinearAxis(id='1988', ...)],</div></div><div class=\"2192\" style=\"display: none;\"><div style=\"display: table-cell;\"></div><div style=\"display: table-cell;\">border_fill_alpha&nbsp;=&nbsp;1.0,</div></div><div class=\"2192\" style=\"display: none;\"><div style=\"display: table-cell;\"></div><div style=\"display: table-cell;\">border_fill_color&nbsp;=&nbsp;'#ffffff',</div></div><div class=\"2192\" style=\"display: none;\"><div style=\"display: table-cell;\"></div><div style=\"display: table-cell;\">center&nbsp;=&nbsp;[Grid(id='1991', ...), Grid(id='1995', ...), Legend(id='2035', ...)],</div></div><div class=\"2192\" style=\"display: none;\"><div style=\"display: table-cell;\"></div><div style=\"display: table-cell;\">css_classes&nbsp;=&nbsp;[],</div></div><div class=\"2192\" style=\"display: none;\"><div style=\"display: table-cell;\"></div><div style=\"display: table-cell;\">disabled&nbsp;=&nbsp;False,</div></div><div class=\"2192\" style=\"display: none;\"><div style=\"display: table-cell;\"></div><div style=\"display: table-cell;\">extra_x_ranges&nbsp;=&nbsp;{},</div></div><div class=\"2192\" style=\"display: none;\"><div style=\"display: table-cell;\"></div><div style=\"display: table-cell;\">extra_x_scales&nbsp;=&nbsp;{},</div></div><div class=\"2192\" style=\"display: none;\"><div style=\"display: table-cell;\"></div><div style=\"display: table-cell;\">extra_y_ranges&nbsp;=&nbsp;{},</div></div><div class=\"2192\" style=\"display: none;\"><div style=\"display: table-cell;\"></div><div style=\"display: table-cell;\">extra_y_scales&nbsp;=&nbsp;{},</div></div><div class=\"2192\" style=\"display: none;\"><div style=\"display: table-cell;\"></div><div style=\"display: table-cell;\">frame_height&nbsp;=&nbsp;None,</div></div><div class=\"2192\" style=\"display: none;\"><div style=\"display: table-cell;\"></div><div style=\"display: table-cell;\">frame_width&nbsp;=&nbsp;None,</div></div><div class=\"2192\" style=\"display: none;\"><div style=\"display: table-cell;\"></div><div style=\"display: table-cell;\">height&nbsp;=&nbsp;400,</div></div><div class=\"2192\" style=\"display: none;\"><div style=\"display: table-cell;\"></div><div style=\"display: table-cell;\">height_policy&nbsp;=&nbsp;'auto',</div></div><div class=\"2192\" style=\"display: none;\"><div style=\"display: table-cell;\"></div><div style=\"display: table-cell;\">hidpi&nbsp;=&nbsp;True,</div></div><div class=\"2192\" style=\"display: none;\"><div style=\"display: table-cell;\"></div><div style=\"display: table-cell;\">inner_height&nbsp;=&nbsp;0,</div></div><div class=\"2192\" style=\"display: none;\"><div style=\"display: table-cell;\"></div><div style=\"display: table-cell;\">inner_width&nbsp;=&nbsp;0,</div></div><div class=\"2192\" style=\"display: none;\"><div style=\"display: table-cell;\"></div><div style=\"display: table-cell;\">js_event_callbacks&nbsp;=&nbsp;{},</div></div><div class=\"2192\" style=\"display: none;\"><div style=\"display: table-cell;\"></div><div style=\"display: table-cell;\">js_property_callbacks&nbsp;=&nbsp;{},</div></div><div class=\"2192\" style=\"display: none;\"><div style=\"display: table-cell;\"></div><div style=\"display: table-cell;\">left&nbsp;=&nbsp;[LinearAxis(id='1992', ...)],</div></div><div class=\"2192\" style=\"display: none;\"><div style=\"display: table-cell;\"></div><div style=\"display: table-cell;\">lod_factor&nbsp;=&nbsp;10,</div></div><div class=\"2192\" style=\"display: none;\"><div style=\"display: table-cell;\"></div><div style=\"display: table-cell;\">lod_interval&nbsp;=&nbsp;300,</div></div><div class=\"2192\" style=\"display: none;\"><div style=\"display: table-cell;\"></div><div style=\"display: table-cell;\">lod_threshold&nbsp;=&nbsp;2000,</div></div><div class=\"2192\" style=\"display: none;\"><div style=\"display: table-cell;\"></div><div style=\"display: table-cell;\">lod_timeout&nbsp;=&nbsp;500,</div></div><div class=\"2192\" style=\"display: none;\"><div style=\"display: table-cell;\"></div><div style=\"display: table-cell;\">margin&nbsp;=&nbsp;(0, 0, 0, 0),</div></div><div class=\"2192\" style=\"display: none;\"><div style=\"display: table-cell;\"></div><div style=\"display: table-cell;\">match_aspect&nbsp;=&nbsp;False,</div></div><div class=\"2192\" style=\"display: none;\"><div style=\"display: table-cell;\"></div><div style=\"display: table-cell;\">max_height&nbsp;=&nbsp;None,</div></div><div class=\"2192\" style=\"display: none;\"><div style=\"display: table-cell;\"></div><div style=\"display: table-cell;\">max_width&nbsp;=&nbsp;None,</div></div><div class=\"2192\" style=\"display: none;\"><div style=\"display: table-cell;\"></div><div style=\"display: table-cell;\">min_border&nbsp;=&nbsp;5,</div></div><div class=\"2192\" style=\"display: none;\"><div style=\"display: table-cell;\"></div><div style=\"display: table-cell;\">min_border_bottom&nbsp;=&nbsp;None,</div></div><div class=\"2192\" style=\"display: none;\"><div style=\"display: table-cell;\"></div><div style=\"display: table-cell;\">min_border_left&nbsp;=&nbsp;None,</div></div><div class=\"2192\" style=\"display: none;\"><div style=\"display: table-cell;\"></div><div style=\"display: table-cell;\">min_border_right&nbsp;=&nbsp;None,</div></div><div class=\"2192\" style=\"display: none;\"><div style=\"display: table-cell;\"></div><div style=\"display: table-cell;\">min_border_top&nbsp;=&nbsp;None,</div></div><div class=\"2192\" style=\"display: none;\"><div style=\"display: table-cell;\"></div><div style=\"display: table-cell;\">min_height&nbsp;=&nbsp;None,</div></div><div class=\"2192\" style=\"display: none;\"><div style=\"display: table-cell;\"></div><div style=\"display: table-cell;\">min_width&nbsp;=&nbsp;None,</div></div><div class=\"2192\" style=\"display: none;\"><div style=\"display: table-cell;\"></div><div style=\"display: table-cell;\">name&nbsp;=&nbsp;None,</div></div><div class=\"2192\" style=\"display: none;\"><div style=\"display: table-cell;\"></div><div style=\"display: table-cell;\">outer_height&nbsp;=&nbsp;0,</div></div><div class=\"2192\" style=\"display: none;\"><div style=\"display: table-cell;\"></div><div style=\"display: table-cell;\">outer_width&nbsp;=&nbsp;0,</div></div><div class=\"2192\" style=\"display: none;\"><div style=\"display: table-cell;\"></div><div style=\"display: table-cell;\">outline_line_alpha&nbsp;=&nbsp;1.0,</div></div><div class=\"2192\" style=\"display: none;\"><div style=\"display: table-cell;\"></div><div style=\"display: table-cell;\">outline_line_cap&nbsp;=&nbsp;'butt',</div></div><div class=\"2192\" style=\"display: none;\"><div style=\"display: table-cell;\"></div><div style=\"display: table-cell;\">outline_line_color&nbsp;=&nbsp;'#e5e5e5',</div></div><div class=\"2192\" style=\"display: none;\"><div style=\"display: table-cell;\"></div><div style=\"display: table-cell;\">outline_line_dash&nbsp;=&nbsp;[],</div></div><div class=\"2192\" style=\"display: none;\"><div style=\"display: table-cell;\"></div><div style=\"display: table-cell;\">outline_line_dash_offset&nbsp;=&nbsp;0,</div></div><div class=\"2192\" style=\"display: none;\"><div style=\"display: table-cell;\"></div><div style=\"display: table-cell;\">outline_line_join&nbsp;=&nbsp;'bevel',</div></div><div class=\"2192\" style=\"display: none;\"><div style=\"display: table-cell;\"></div><div style=\"display: table-cell;\">outline_line_width&nbsp;=&nbsp;1,</div></div><div class=\"2192\" style=\"display: none;\"><div style=\"display: table-cell;\"></div><div style=\"display: table-cell;\">output_backend&nbsp;=&nbsp;'webgl',</div></div><div class=\"2192\" style=\"display: none;\"><div style=\"display: table-cell;\"></div><div style=\"display: table-cell;\">renderers&nbsp;=&nbsp;[GlyphRenderer(id='2024', ...), GlyphRenderer(id='2041', ...), GlyphRenderer(id='2057', ...), GlyphRenderer(id='2073', ...)],</div></div><div class=\"2192\" style=\"display: none;\"><div style=\"display: table-cell;\"></div><div style=\"display: table-cell;\">reset_policy&nbsp;=&nbsp;'standard',</div></div><div class=\"2192\" style=\"display: none;\"><div style=\"display: table-cell;\"></div><div style=\"display: table-cell;\">right&nbsp;=&nbsp;[],</div></div><div class=\"2192\" style=\"display: none;\"><div style=\"display: table-cell;\"></div><div style=\"display: table-cell;\">sizing_mode&nbsp;=&nbsp;'fixed',</div></div><div class=\"2192\" style=\"display: none;\"><div style=\"display: table-cell;\"></div><div style=\"display: table-cell;\">subscribed_events&nbsp;=&nbsp;[],</div></div><div class=\"2192\" style=\"display: none;\"><div style=\"display: table-cell;\"></div><div style=\"display: table-cell;\">syncable&nbsp;=&nbsp;True,</div></div><div class=\"2192\" style=\"display: none;\"><div style=\"display: table-cell;\"></div><div style=\"display: table-cell;\">tags&nbsp;=&nbsp;[],</div></div><div class=\"2192\" style=\"display: none;\"><div style=\"display: table-cell;\"></div><div style=\"display: table-cell;\">title&nbsp;=&nbsp;Title(id='1978', ...),</div></div><div class=\"2192\" style=\"display: none;\"><div style=\"display: table-cell;\"></div><div style=\"display: table-cell;\">title_location&nbsp;=&nbsp;'above',</div></div><div class=\"2192\" style=\"display: none;\"><div style=\"display: table-cell;\"></div><div style=\"display: table-cell;\">toolbar&nbsp;=&nbsp;Toolbar(id='2003', ...),</div></div><div class=\"2192\" style=\"display: none;\"><div style=\"display: table-cell;\"></div><div style=\"display: table-cell;\">toolbar_location&nbsp;=&nbsp;'right',</div></div><div class=\"2192\" style=\"display: none;\"><div style=\"display: table-cell;\"></div><div style=\"display: table-cell;\">toolbar_sticky&nbsp;=&nbsp;True,</div></div><div class=\"2192\" style=\"display: none;\"><div style=\"display: table-cell;\"></div><div style=\"display: table-cell;\">visible&nbsp;=&nbsp;True,</div></div><div class=\"2192\" style=\"display: none;\"><div style=\"display: table-cell;\"></div><div style=\"display: table-cell;\">width&nbsp;=&nbsp;600,</div></div><div class=\"2192\" style=\"display: none;\"><div style=\"display: table-cell;\"></div><div style=\"display: table-cell;\">width_policy&nbsp;=&nbsp;'auto',</div></div><div class=\"2192\" style=\"display: none;\"><div style=\"display: table-cell;\"></div><div style=\"display: table-cell;\">x_range&nbsp;=&nbsp;DataRange1d(id='1980', ...),</div></div><div class=\"2192\" style=\"display: none;\"><div style=\"display: table-cell;\"></div><div style=\"display: table-cell;\">x_scale&nbsp;=&nbsp;LinearScale(id='1984', ...),</div></div><div class=\"2192\" style=\"display: none;\"><div style=\"display: table-cell;\"></div><div style=\"display: table-cell;\">y_range&nbsp;=&nbsp;DataRange1d(id='1982', ...),</div></div><div class=\"2192\" style=\"display: none;\"><div style=\"display: table-cell;\"></div><div style=\"display: table-cell;\">y_scale&nbsp;=&nbsp;LinearScale(id='1986', ...))</div></div></div>\n",
       "<script>\n",
       "(function() {\n",
       "  let expanded = false;\n",
       "  const ellipsis = document.getElementById(\"2193\");\n",
       "  ellipsis.addEventListener(\"click\", function() {\n",
       "    const rows = document.getElementsByClassName(\"2192\");\n",
       "    for (let i = 0; i < rows.length; i++) {\n",
       "      const el = rows[i];\n",
       "      el.style.display = expanded ? \"none\" : \"table-row\";\n",
       "    }\n",
       "    ellipsis.innerHTML = expanded ? \"&hellip;)\" : \"&lsaquo;&lsaquo;&lsaquo;\";\n",
       "    expanded = !expanded;\n",
       "  });\n",
       "})();\n",
       "</script>\n"
      ],
      "text/plain": [
       "Figure(id='1977', ...)"
      ]
     },
     "execution_count": 21,
     "metadata": {},
     "output_type": "execute_result"
    }
   ],
   "source": [
    "nifty_data_resample.plot_bokeh(kind='barh', stacked=True)"
   ]
  },
  {
   "cell_type": "markdown",
   "metadata": {},
   "source": [
    "#### Gráfico de pizza"
   ]
  },
  {
   "cell_type": "code",
   "execution_count": 22,
   "metadata": {},
   "outputs": [
    {
     "name": "stdout",
     "output_type": "stream",
     "text": [
      "__x__values_original\n"
     ]
    },
    {
     "data": {
      "text/html": [
       "\n",
       "\n",
       "\n",
       "\n",
       "\n",
       "\n",
       "  <div class=\"bk-root\" id=\"ada70343-db10-48e6-8d44-b779861b4b20\" data-root-id=\"2230\"></div>\n"
      ]
     },
     "metadata": {},
     "output_type": "display_data"
    },
    {
     "data": {
      "application/javascript": "(function(root) {\n  function embed_document(root) {\n    \n  const docs_json = {\"745f971d-ee06-4ea1-a278-73407e0b3c4a\":{\"defs\":[],\"roots\":{\"references\":[{\"attributes\":{\"below\":[{\"id\":\"2241\"}],\"center\":[{\"id\":\"2244\"},{\"id\":\"2248\"},{\"id\":\"2282\"}],\"height\":400,\"left\":[{\"id\":\"2245\"}],\"renderers\":[{\"id\":\"2270\"}],\"title\":{\"id\":\"2231\"},\"toolbar\":{\"id\":\"2256\"},\"toolbar_location\":null,\"x_range\":{\"id\":\"2233\"},\"x_scale\":{\"id\":\"2237\"},\"y_range\":{\"id\":\"2235\"},\"y_scale\":{\"id\":\"2239\"}},\"id\":\"2230\",\"subtype\":\"Figure\",\"type\":\"Plot\"},{\"attributes\":{\"tools\":[{\"id\":\"2249\"},{\"id\":\"2250\"},{\"id\":\"2251\"},{\"id\":\"2252\"},{\"id\":\"2253\"},{\"id\":\"2254\"},{\"id\":\"2284\"}]},\"id\":\"2256\",\"type\":\"Toolbar\"},{\"attributes\":{\"ticks\":[0,1,2,3,4,5,6]},\"id\":\"2286\",\"type\":\"FixedTicker\"},{\"attributes\":{\"coordinates\":null,\"data_source\":{\"id\":\"2265\"},\"glyph\":{\"id\":\"2267\"},\"group\":null,\"hover_glyph\":null,\"muted_glyph\":{\"id\":\"2269\"},\"nonselection_glyph\":{\"id\":\"2268\"},\"view\":{\"id\":\"2271\"}},\"id\":\"2270\",\"type\":\"GlyphRenderer\"},{\"attributes\":{\"end\":2,\"start\":-2.2},\"id\":\"2233\",\"type\":\"Range1d\"},{\"attributes\":{},\"id\":\"2279\",\"type\":\"UnionRenderers\"},{\"attributes\":{\"bottom_units\":\"screen\",\"coordinates\":null,\"fill_alpha\":0.5,\"fill_color\":\"lightgrey\",\"group\":null,\"left_units\":\"screen\",\"level\":\"overlay\",\"line_alpha\":1.0,\"line_color\":\"black\",\"line_dash\":[4,4],\"line_width\":2,\"right_units\":\"screen\",\"syncable\":false,\"top_units\":\"screen\"},\"id\":\"2255\",\"type\":\"BoxAnnotation\"},{\"attributes\":{\"field\":\"NIFTY Bank index_angle\"},\"id\":\"2264\",\"type\":\"CumSum\"},{\"attributes\":{\"end_angle\":{\"expr\":{\"id\":\"2264\"}},\"fill_color\":{\"field\":\"color\"},\"inner_radius\":{\"field\":\"inner_radius\"},\"line_color\":{\"value\":\"white\"},\"line_width\":{\"value\":2},\"outer_radius\":{\"field\":\"outer_radius\"},\"start_angle\":{\"expr\":{\"id\":\"2263\"}},\"x\":{\"value\":0},\"y\":{\"value\":0}},\"id\":\"2267\",\"type\":\"AnnularWedge\"},{\"attributes\":{\"end\":1.2,\"start\":-1.2},\"id\":\"2235\",\"type\":\"Range1d\"},{\"attributes\":{\"coordinates\":null,\"formatter\":{\"id\":\"2274\"},\"group\":null,\"major_label_policy\":{\"id\":\"2275\"},\"ticker\":{\"id\":\"2246\"},\"visible\":false},\"id\":\"2245\",\"type\":\"LinearAxis\"},{\"attributes\":{\"coordinates\":null,\"formatter\":{\"id\":\"2277\"},\"group\":null,\"major_label_policy\":{\"id\":\"2278\"},\"ticker\":{\"id\":\"2286\"},\"visible\":false},\"id\":\"2241\",\"type\":\"LinearAxis\"},{\"attributes\":{},\"id\":\"2254\",\"type\":\"HelpTool\"},{\"attributes\":{\"axis\":{\"id\":\"2241\"},\"coordinates\":null,\"grid_line_color\":null,\"group\":null,\"ticker\":null},\"id\":\"2244\",\"type\":\"Grid\"},{\"attributes\":{\"field\":\"NIFTY Bank index_angle\",\"include_zero\":true},\"id\":\"2263\",\"type\":\"CumSum\"},{\"attributes\":{\"end_angle\":{\"expr\":{\"id\":\"2264\"}},\"fill_alpha\":{\"value\":0.2},\"fill_color\":{\"field\":\"color\"},\"hatch_alpha\":{\"value\":0.2},\"inner_radius\":{\"field\":\"inner_radius\"},\"line_alpha\":{\"value\":0.2},\"line_color\":{\"value\":\"white\"},\"line_width\":{\"value\":2},\"outer_radius\":{\"field\":\"outer_radius\"},\"start_angle\":{\"expr\":{\"id\":\"2263\"}},\"x\":{\"value\":0},\"y\":{\"value\":0}},\"id\":\"2269\",\"type\":\"AnnularWedge\"},{\"attributes\":{},\"id\":\"2278\",\"type\":\"AllLabels\"},{\"attributes\":{},\"id\":\"2280\",\"type\":\"Selection\"},{\"attributes\":{\"coordinates\":null,\"group\":null},\"id\":\"2231\",\"type\":\"Title\"},{\"attributes\":{},\"id\":\"2275\",\"type\":\"AllLabels\"},{\"attributes\":{},\"id\":\"2239\",\"type\":\"LinearScale\"},{\"attributes\":{},\"id\":\"2237\",\"type\":\"LinearScale\"},{\"attributes\":{},\"id\":\"2277\",\"type\":\"BasicTickFormatter\"},{\"attributes\":{\"axis\":{\"id\":\"2245\"},\"coordinates\":null,\"dimension\":1,\"grid_line_color\":null,\"group\":null,\"ticker\":null},\"id\":\"2248\",\"type\":\"Grid\"},{\"attributes\":{},\"id\":\"2246\",\"type\":\"BasicTicker\"},{\"attributes\":{\"source\":{\"id\":\"2265\"}},\"id\":\"2271\",\"type\":\"CDSView\"},{\"attributes\":{},\"id\":\"2274\",\"type\":\"BasicTickFormatter\"},{\"attributes\":{},\"id\":\"2250\",\"type\":\"WheelZoomTool\"},{\"attributes\":{},\"id\":\"2249\",\"type\":\"PanTool\"},{\"attributes\":{\"overlay\":{\"id\":\"2255\"}},\"id\":\"2251\",\"type\":\"BoxZoomTool\"},{\"attributes\":{\"coordinates\":null,\"group\":null,\"items\":[{\"id\":\"2283\"}]},\"id\":\"2282\",\"type\":\"Legend\"},{\"attributes\":{\"data\":{\"NIFTY Bank index\":{\"__ndarray__\":\"LWQhC5m13kDD9Shc2/TdQJdyKZcCZtZAd3d3d8dA00ATp37PzUTSQNs3rH1rdtRA2FBeQ8m21UA=\",\"dtype\":\"float64\",\"order\":\"little\",\"shape\":[7]},\"NIFTY Bank index_angle\":{\"__ndarray__\":\"+cHnZb738j/b5x5VsoDyPwYB3mhDq+s/QUYsSo7I5z8aHur+SZHmPxtdQKQOR+k/mFLf1c7S6j8=\",\"dtype\":\"float64\",\"order\":\"little\",\"shape\":[7]},\"__x__values\":[\"Jan\",\"Feb\",\"March\",\"Apr\",\"May\",\"June\",\"July\"],\"__x__values_original\":[\"Jan\",\"Feb\",\"March\",\"Apr\",\"May\",\"June\",\"July\"],\"color\":[\"#1f77b4\",\"#ff7f0e\",\"#2ca02c\",\"#d62728\",\"#9467bd\",\"#8c564b\",\"#e377c2\"],\"inner_radius\":[0.0,0.0,0.0,0.0,0.0,0.0,0.0],\"outer_radius\":[0.9,0.9,0.9,0.9,0.9,0.9,0.9]},\"selected\":{\"id\":\"2280\"},\"selection_policy\":{\"id\":\"2279\"}},\"id\":\"2265\",\"type\":\"ColumnDataSource\"},{\"attributes\":{},\"id\":\"2252\",\"type\":\"SaveTool\"},{\"attributes\":{},\"id\":\"2253\",\"type\":\"ResetTool\"},{\"attributes\":{\"label\":{\"field\":\"__x__values_original\"},\"renderers\":[{\"id\":\"2270\"}]},\"id\":\"2283\",\"type\":\"LegendItem\"},{\"attributes\":{\"end_angle\":{\"expr\":{\"id\":\"2264\"}},\"fill_alpha\":{\"value\":0.1},\"fill_color\":{\"field\":\"color\"},\"hatch_alpha\":{\"value\":0.1},\"inner_radius\":{\"field\":\"inner_radius\"},\"line_alpha\":{\"value\":0.1},\"line_color\":{\"value\":\"white\"},\"line_width\":{\"value\":2},\"outer_radius\":{\"field\":\"outer_radius\"},\"start_angle\":{\"expr\":{\"id\":\"2263\"}},\"x\":{\"value\":0},\"y\":{\"value\":0}},\"id\":\"2268\",\"type\":\"AnnularWedge\"},{\"attributes\":{\"callback\":null,\"renderers\":[{\"id\":\"2270\"}],\"tooltips\":[[\"x\",\"@__x__values_original\"],[\"NIFTY Bank index\",\"@{NIFTY Bank index}\"]]},\"id\":\"2284\",\"type\":\"HoverTool\"}],\"root_ids\":[\"2230\"]},\"title\":\"Bokeh Application\",\"version\":\"2.4.2\"}};\n  const render_items = [{\"docid\":\"745f971d-ee06-4ea1-a278-73407e0b3c4a\",\"root_ids\":[\"2230\"],\"roots\":{\"2230\":\"ada70343-db10-48e6-8d44-b779861b4b20\"}}];\n  root.Bokeh.embed.embed_items_notebook(docs_json, render_items);\n\n  }\n  if (root.Bokeh !== undefined) {\n    embed_document(root);\n  } else {\n    let attempts = 0;\n    const timer = setInterval(function(root) {\n      if (root.Bokeh !== undefined) {\n        clearInterval(timer);\n        embed_document(root);\n      } else {\n        attempts++;\n        if (attempts > 100) {\n          clearInterval(timer);\n          console.log(\"Bokeh: ERROR: Unable to run BokehJS code because BokehJS library is missing\");\n        }\n      }\n    }, 10, root)\n  }\n})(window);",
      "application/vnd.bokehjs_exec.v0+json": ""
     },
     "metadata": {
      "application/vnd.bokehjs_exec.v0+json": {
       "id": "2230"
      }
     },
     "output_type": "display_data"
    },
    {
     "data": {
      "text/html": [
       "<div style=\"display: table;\"><div style=\"display: table-row;\"><div style=\"display: table-cell;\"><b title=\"bokeh.plotting.figure.Figure\">Figure</b>(</div><div style=\"display: table-cell;\">id&nbsp;=&nbsp;'2230', <span id=\"2406\" style=\"cursor: pointer;\">&hellip;)</span></div></div><div class=\"2405\" style=\"display: none;\"><div style=\"display: table-cell;\"></div><div style=\"display: table-cell;\">above&nbsp;=&nbsp;[],</div></div><div class=\"2405\" style=\"display: none;\"><div style=\"display: table-cell;\"></div><div style=\"display: table-cell;\">align&nbsp;=&nbsp;'start',</div></div><div class=\"2405\" style=\"display: none;\"><div style=\"display: table-cell;\"></div><div style=\"display: table-cell;\">aspect_ratio&nbsp;=&nbsp;None,</div></div><div class=\"2405\" style=\"display: none;\"><div style=\"display: table-cell;\"></div><div style=\"display: table-cell;\">aspect_scale&nbsp;=&nbsp;1,</div></div><div class=\"2405\" style=\"display: none;\"><div style=\"display: table-cell;\"></div><div style=\"display: table-cell;\">background&nbsp;=&nbsp;None,</div></div><div class=\"2405\" style=\"display: none;\"><div style=\"display: table-cell;\"></div><div style=\"display: table-cell;\">background_fill_alpha&nbsp;=&nbsp;1.0,</div></div><div class=\"2405\" style=\"display: none;\"><div style=\"display: table-cell;\"></div><div style=\"display: table-cell;\">background_fill_color&nbsp;=&nbsp;'#ffffff',</div></div><div class=\"2405\" style=\"display: none;\"><div style=\"display: table-cell;\"></div><div style=\"display: table-cell;\">below&nbsp;=&nbsp;[LinearAxis(id='2241', ...)],</div></div><div class=\"2405\" style=\"display: none;\"><div style=\"display: table-cell;\"></div><div style=\"display: table-cell;\">border_fill_alpha&nbsp;=&nbsp;1.0,</div></div><div class=\"2405\" style=\"display: none;\"><div style=\"display: table-cell;\"></div><div style=\"display: table-cell;\">border_fill_color&nbsp;=&nbsp;'#ffffff',</div></div><div class=\"2405\" style=\"display: none;\"><div style=\"display: table-cell;\"></div><div style=\"display: table-cell;\">center&nbsp;=&nbsp;[Grid(id='2244', ...), Grid(id='2248', ...), Legend(id='2282', ...)],</div></div><div class=\"2405\" style=\"display: none;\"><div style=\"display: table-cell;\"></div><div style=\"display: table-cell;\">css_classes&nbsp;=&nbsp;[],</div></div><div class=\"2405\" style=\"display: none;\"><div style=\"display: table-cell;\"></div><div style=\"display: table-cell;\">disabled&nbsp;=&nbsp;False,</div></div><div class=\"2405\" style=\"display: none;\"><div style=\"display: table-cell;\"></div><div style=\"display: table-cell;\">extra_x_ranges&nbsp;=&nbsp;{},</div></div><div class=\"2405\" style=\"display: none;\"><div style=\"display: table-cell;\"></div><div style=\"display: table-cell;\">extra_x_scales&nbsp;=&nbsp;{},</div></div><div class=\"2405\" style=\"display: none;\"><div style=\"display: table-cell;\"></div><div style=\"display: table-cell;\">extra_y_ranges&nbsp;=&nbsp;{},</div></div><div class=\"2405\" style=\"display: none;\"><div style=\"display: table-cell;\"></div><div style=\"display: table-cell;\">extra_y_scales&nbsp;=&nbsp;{},</div></div><div class=\"2405\" style=\"display: none;\"><div style=\"display: table-cell;\"></div><div style=\"display: table-cell;\">frame_height&nbsp;=&nbsp;None,</div></div><div class=\"2405\" style=\"display: none;\"><div style=\"display: table-cell;\"></div><div style=\"display: table-cell;\">frame_width&nbsp;=&nbsp;None,</div></div><div class=\"2405\" style=\"display: none;\"><div style=\"display: table-cell;\"></div><div style=\"display: table-cell;\">height&nbsp;=&nbsp;400,</div></div><div class=\"2405\" style=\"display: none;\"><div style=\"display: table-cell;\"></div><div style=\"display: table-cell;\">height_policy&nbsp;=&nbsp;'auto',</div></div><div class=\"2405\" style=\"display: none;\"><div style=\"display: table-cell;\"></div><div style=\"display: table-cell;\">hidpi&nbsp;=&nbsp;True,</div></div><div class=\"2405\" style=\"display: none;\"><div style=\"display: table-cell;\"></div><div style=\"display: table-cell;\">inner_height&nbsp;=&nbsp;0,</div></div><div class=\"2405\" style=\"display: none;\"><div style=\"display: table-cell;\"></div><div style=\"display: table-cell;\">inner_width&nbsp;=&nbsp;0,</div></div><div class=\"2405\" style=\"display: none;\"><div style=\"display: table-cell;\"></div><div style=\"display: table-cell;\">js_event_callbacks&nbsp;=&nbsp;{},</div></div><div class=\"2405\" style=\"display: none;\"><div style=\"display: table-cell;\"></div><div style=\"display: table-cell;\">js_property_callbacks&nbsp;=&nbsp;{},</div></div><div class=\"2405\" style=\"display: none;\"><div style=\"display: table-cell;\"></div><div style=\"display: table-cell;\">left&nbsp;=&nbsp;[LinearAxis(id='2245', ...)],</div></div><div class=\"2405\" style=\"display: none;\"><div style=\"display: table-cell;\"></div><div style=\"display: table-cell;\">lod_factor&nbsp;=&nbsp;10,</div></div><div class=\"2405\" style=\"display: none;\"><div style=\"display: table-cell;\"></div><div style=\"display: table-cell;\">lod_interval&nbsp;=&nbsp;300,</div></div><div class=\"2405\" style=\"display: none;\"><div style=\"display: table-cell;\"></div><div style=\"display: table-cell;\">lod_threshold&nbsp;=&nbsp;2000,</div></div><div class=\"2405\" style=\"display: none;\"><div style=\"display: table-cell;\"></div><div style=\"display: table-cell;\">lod_timeout&nbsp;=&nbsp;500,</div></div><div class=\"2405\" style=\"display: none;\"><div style=\"display: table-cell;\"></div><div style=\"display: table-cell;\">margin&nbsp;=&nbsp;(0, 0, 0, 0),</div></div><div class=\"2405\" style=\"display: none;\"><div style=\"display: table-cell;\"></div><div style=\"display: table-cell;\">match_aspect&nbsp;=&nbsp;False,</div></div><div class=\"2405\" style=\"display: none;\"><div style=\"display: table-cell;\"></div><div style=\"display: table-cell;\">max_height&nbsp;=&nbsp;None,</div></div><div class=\"2405\" style=\"display: none;\"><div style=\"display: table-cell;\"></div><div style=\"display: table-cell;\">max_width&nbsp;=&nbsp;None,</div></div><div class=\"2405\" style=\"display: none;\"><div style=\"display: table-cell;\"></div><div style=\"display: table-cell;\">min_border&nbsp;=&nbsp;5,</div></div><div class=\"2405\" style=\"display: none;\"><div style=\"display: table-cell;\"></div><div style=\"display: table-cell;\">min_border_bottom&nbsp;=&nbsp;None,</div></div><div class=\"2405\" style=\"display: none;\"><div style=\"display: table-cell;\"></div><div style=\"display: table-cell;\">min_border_left&nbsp;=&nbsp;None,</div></div><div class=\"2405\" style=\"display: none;\"><div style=\"display: table-cell;\"></div><div style=\"display: table-cell;\">min_border_right&nbsp;=&nbsp;None,</div></div><div class=\"2405\" style=\"display: none;\"><div style=\"display: table-cell;\"></div><div style=\"display: table-cell;\">min_border_top&nbsp;=&nbsp;None,</div></div><div class=\"2405\" style=\"display: none;\"><div style=\"display: table-cell;\"></div><div style=\"display: table-cell;\">min_height&nbsp;=&nbsp;None,</div></div><div class=\"2405\" style=\"display: none;\"><div style=\"display: table-cell;\"></div><div style=\"display: table-cell;\">min_width&nbsp;=&nbsp;None,</div></div><div class=\"2405\" style=\"display: none;\"><div style=\"display: table-cell;\"></div><div style=\"display: table-cell;\">name&nbsp;=&nbsp;None,</div></div><div class=\"2405\" style=\"display: none;\"><div style=\"display: table-cell;\"></div><div style=\"display: table-cell;\">outer_height&nbsp;=&nbsp;0,</div></div><div class=\"2405\" style=\"display: none;\"><div style=\"display: table-cell;\"></div><div style=\"display: table-cell;\">outer_width&nbsp;=&nbsp;0,</div></div><div class=\"2405\" style=\"display: none;\"><div style=\"display: table-cell;\"></div><div style=\"display: table-cell;\">outline_line_alpha&nbsp;=&nbsp;1.0,</div></div><div class=\"2405\" style=\"display: none;\"><div style=\"display: table-cell;\"></div><div style=\"display: table-cell;\">outline_line_cap&nbsp;=&nbsp;'butt',</div></div><div class=\"2405\" style=\"display: none;\"><div style=\"display: table-cell;\"></div><div style=\"display: table-cell;\">outline_line_color&nbsp;=&nbsp;'#e5e5e5',</div></div><div class=\"2405\" style=\"display: none;\"><div style=\"display: table-cell;\"></div><div style=\"display: table-cell;\">outline_line_dash&nbsp;=&nbsp;[],</div></div><div class=\"2405\" style=\"display: none;\"><div style=\"display: table-cell;\"></div><div style=\"display: table-cell;\">outline_line_dash_offset&nbsp;=&nbsp;0,</div></div><div class=\"2405\" style=\"display: none;\"><div style=\"display: table-cell;\"></div><div style=\"display: table-cell;\">outline_line_join&nbsp;=&nbsp;'bevel',</div></div><div class=\"2405\" style=\"display: none;\"><div style=\"display: table-cell;\"></div><div style=\"display: table-cell;\">outline_line_width&nbsp;=&nbsp;1,</div></div><div class=\"2405\" style=\"display: none;\"><div style=\"display: table-cell;\"></div><div style=\"display: table-cell;\">output_backend&nbsp;=&nbsp;'canvas',</div></div><div class=\"2405\" style=\"display: none;\"><div style=\"display: table-cell;\"></div><div style=\"display: table-cell;\">renderers&nbsp;=&nbsp;[GlyphRenderer(id='2270', ...)],</div></div><div class=\"2405\" style=\"display: none;\"><div style=\"display: table-cell;\"></div><div style=\"display: table-cell;\">reset_policy&nbsp;=&nbsp;'standard',</div></div><div class=\"2405\" style=\"display: none;\"><div style=\"display: table-cell;\"></div><div style=\"display: table-cell;\">right&nbsp;=&nbsp;[],</div></div><div class=\"2405\" style=\"display: none;\"><div style=\"display: table-cell;\"></div><div style=\"display: table-cell;\">sizing_mode&nbsp;=&nbsp;None,</div></div><div class=\"2405\" style=\"display: none;\"><div style=\"display: table-cell;\"></div><div style=\"display: table-cell;\">subscribed_events&nbsp;=&nbsp;[],</div></div><div class=\"2405\" style=\"display: none;\"><div style=\"display: table-cell;\"></div><div style=\"display: table-cell;\">syncable&nbsp;=&nbsp;True,</div></div><div class=\"2405\" style=\"display: none;\"><div style=\"display: table-cell;\"></div><div style=\"display: table-cell;\">tags&nbsp;=&nbsp;[],</div></div><div class=\"2405\" style=\"display: none;\"><div style=\"display: table-cell;\"></div><div style=\"display: table-cell;\">title&nbsp;=&nbsp;Title(id='2231', ...),</div></div><div class=\"2405\" style=\"display: none;\"><div style=\"display: table-cell;\"></div><div style=\"display: table-cell;\">title_location&nbsp;=&nbsp;'above',</div></div><div class=\"2405\" style=\"display: none;\"><div style=\"display: table-cell;\"></div><div style=\"display: table-cell;\">toolbar&nbsp;=&nbsp;Toolbar(id='2256', ...),</div></div><div class=\"2405\" style=\"display: none;\"><div style=\"display: table-cell;\"></div><div style=\"display: table-cell;\">toolbar_location&nbsp;=&nbsp;None,</div></div><div class=\"2405\" style=\"display: none;\"><div style=\"display: table-cell;\"></div><div style=\"display: table-cell;\">toolbar_sticky&nbsp;=&nbsp;True,</div></div><div class=\"2405\" style=\"display: none;\"><div style=\"display: table-cell;\"></div><div style=\"display: table-cell;\">visible&nbsp;=&nbsp;True,</div></div><div class=\"2405\" style=\"display: none;\"><div style=\"display: table-cell;\"></div><div style=\"display: table-cell;\">width&nbsp;=&nbsp;600,</div></div><div class=\"2405\" style=\"display: none;\"><div style=\"display: table-cell;\"></div><div style=\"display: table-cell;\">width_policy&nbsp;=&nbsp;'auto',</div></div><div class=\"2405\" style=\"display: none;\"><div style=\"display: table-cell;\"></div><div style=\"display: table-cell;\">x_range&nbsp;=&nbsp;Range1d(id='2233', ...),</div></div><div class=\"2405\" style=\"display: none;\"><div style=\"display: table-cell;\"></div><div style=\"display: table-cell;\">x_scale&nbsp;=&nbsp;LinearScale(id='2237', ...),</div></div><div class=\"2405\" style=\"display: none;\"><div style=\"display: table-cell;\"></div><div style=\"display: table-cell;\">y_range&nbsp;=&nbsp;Range1d(id='2235', ...),</div></div><div class=\"2405\" style=\"display: none;\"><div style=\"display: table-cell;\"></div><div style=\"display: table-cell;\">y_scale&nbsp;=&nbsp;LinearScale(id='2239', ...))</div></div></div>\n",
       "<script>\n",
       "(function() {\n",
       "  let expanded = false;\n",
       "  const ellipsis = document.getElementById(\"2406\");\n",
       "  ellipsis.addEventListener(\"click\", function() {\n",
       "    const rows = document.getElementsByClassName(\"2405\");\n",
       "    for (let i = 0; i < rows.length; i++) {\n",
       "      const el = rows[i];\n",
       "      el.style.display = expanded ? \"none\" : \"table-row\";\n",
       "    }\n",
       "    ellipsis.innerHTML = expanded ? \"&hellip;)\" : \"&lsaquo;&lsaquo;&lsaquo;\";\n",
       "    expanded = !expanded;\n",
       "  });\n",
       "})();\n",
       "</script>\n"
      ],
      "text/plain": [
       "Figure(id='2230', ...)"
      ]
     },
     "execution_count": 22,
     "metadata": {},
     "output_type": "execute_result"
    }
   ],
   "source": [
    "nifty_data_resample.index=['Jan','Feb','March','Apr','May','June','July']\n",
    "\n",
    "nifty_data_resample.plot_bokeh.pie(y ='NIFTY Bank index')"
   ]
  },
  {
   "cell_type": "markdown",
   "metadata": {},
   "source": [
    "## Plotly Backend for Pandas — plotting with Cufflinks"
   ]
  },
  {
   "cell_type": "markdown",
   "metadata": {},
   "source": [
    "Outra biblioteca comumente usada para visualização de dados é o Plotly. \n",
    "\n",
    "Com plotly, você pode criar gráficos interativos em Python, R e JavaScript. \n",
    "\n",
    "A partir da versão 4.8, o Plotly saiu com um back-end com tecnologia Plotly Express para plotagem de Pandas, o que significava que não era necessário importar plotagem para criar visualizações semelhantes a plotagem.\n",
    "\n",
    "No entanto, a biblioteca que quero mencionar aqui não é plotly express, mas uma biblioteca wrapper independente de terceiros em torno do Plotly chamada Cufflinks. A beleza do cufflinks é que elas **são mais versáteis, possuem mais funcionalidades e possuem uma API semelhante à plotagem de pandas**. Isso significa que você só precisa **adicionar um método .iplot() aos dataframes do Pandas para plotar gráficos**."
   ]
  },
  {
   "cell_type": "markdown",
   "metadata": {},
   "source": [
    "### Repositório com vários exemplos"
   ]
  },
  {
   "cell_type": "markdown",
   "metadata": {},
   "source": [
    "[https://nbviewer.org/gist/santosjorge/aba934a0d20023a136c2](https://nbviewer.org/gist/santosjorge/aba934a0d20023a136c2)"
   ]
  },
  {
   "cell_type": "markdown",
   "metadata": {},
   "source": [
    "### Instalando cufflinks"
   ]
  },
  {
   "cell_type": "code",
   "execution_count": 25,
   "metadata": {},
   "outputs": [],
   "source": [
    "#pip install cufflinks"
   ]
  },
  {
   "cell_type": "markdown",
   "metadata": {},
   "source": [
    "Agora podemos criar visualizações com o poder de plotagem, mas com a facilidade dos pandas. **A única mudança na sintaxe é dataframe.iplot()**."
   ]
  },
  {
   "cell_type": "markdown",
   "metadata": {},
   "source": [
    "### Importação da biblioteca"
   ]
  },
  {
   "cell_type": "code",
   "execution_count": 26,
   "metadata": {},
   "outputs": [
    {
     "data": {
      "text/html": [
       "        <script type=\"text/javascript\">\n",
       "        window.PlotlyConfig = {MathJaxConfig: 'local'};\n",
       "        if (window.MathJax) {MathJax.Hub.Config({SVG: {font: \"STIX-Web\"}});}\n",
       "        if (typeof require !== 'undefined') {\n",
       "        require.undef(\"plotly\");\n",
       "        requirejs.config({\n",
       "            paths: {\n",
       "                'plotly': ['https://cdn.plot.ly/plotly-2.11.1.min']\n",
       "            }\n",
       "        });\n",
       "        require(['plotly'], function(Plotly) {\n",
       "            window._Plotly = Plotly;\n",
       "        });\n",
       "        }\n",
       "        </script>\n",
       "        "
      ]
     },
     "metadata": {},
     "output_type": "display_data"
    },
    {
     "data": {
      "text/html": [
       "        <script type=\"text/javascript\">\n",
       "        window.PlotlyConfig = {MathJaxConfig: 'local'};\n",
       "        if (window.MathJax) {MathJax.Hub.Config({SVG: {font: \"STIX-Web\"}});}\n",
       "        if (typeof require !== 'undefined') {\n",
       "        require.undef(\"plotly\");\n",
       "        requirejs.config({\n",
       "            paths: {\n",
       "                'plotly': ['https://cdn.plot.ly/plotly-2.11.1.min']\n",
       "            }\n",
       "        });\n",
       "        require(['plotly'], function(Plotly) {\n",
       "            window._Plotly = Plotly;\n",
       "        });\n",
       "        }\n",
       "        </script>\n",
       "        "
      ]
     },
     "metadata": {},
     "output_type": "display_data"
    }
   ],
   "source": [
    "import pandas as pd\n",
    "import cufflinks as cf\n",
    "from IPython.display import display,HTML\n",
    "\n",
    "#making all charts public and setting a global theme\n",
    "cf.set_config_file(sharing='public', theme='white', offline=True)"
   ]
  },
  {
   "cell_type": "markdown",
   "metadata": {},
   "source": [
    "### Geração de gráficos"
   ]
  },
  {
   "cell_type": "markdown",
   "metadata": {},
   "source": [
    "#### Gráfico de linha"
   ]
  },
  {
   "cell_type": "code",
   "execution_count": 27,
   "metadata": {},
   "outputs": [
    {
     "data": {
      "application/vnd.plotly.v1+json": {
       "config": {
        "linkText": "Export to plot.ly",
        "plotlyServerURL": "https://plot.ly",
        "showLink": true
       },
       "data": [
        {
         "line": {
          "color": "rgba(255, 153, 51, 1.0)",
          "dash": "solid",
          "shape": "linear",
          "width": 1.3
         },
         "mode": "lines",
         "name": "NIFTY Bank index",
         "text": "",
         "type": "scatter",
         "x": [
          "2020-01-01",
          "2020-01-02",
          "2020-01-03",
          "2020-01-06",
          "2020-01-07",
          "2020-01-08",
          "2020-01-09",
          "2020-01-10",
          "2020-01-13",
          "2020-01-14",
          "2020-01-15",
          "2020-01-16",
          "2020-01-17",
          "2020-01-20",
          "2020-01-21",
          "2020-01-22",
          "2020-01-23",
          "2020-01-24",
          "2020-01-27",
          "2020-01-28",
          "2020-01-29",
          "2020-01-30",
          "2020-01-31",
          "2020-02-01",
          "2020-02-03",
          "2020-02-04",
          "2020-02-05",
          "2020-02-06",
          "2020-02-07",
          "2020-02-10",
          "2020-02-11",
          "2020-02-12",
          "2020-02-13",
          "2020-02-14",
          "2020-02-17",
          "2020-02-18",
          "2020-02-19",
          "2020-02-20",
          "2020-02-24",
          "2020-02-25",
          "2020-02-26",
          "2020-02-27",
          "2020-02-28",
          "2020-03-02",
          "2020-03-03",
          "2020-03-04",
          "2020-03-05",
          "2020-03-06",
          "2020-03-09",
          "2020-03-11",
          "2020-03-12",
          "2020-03-13",
          "2020-03-16",
          "2020-03-17",
          "2020-03-18",
          "2020-03-19",
          "2020-03-20",
          "2020-03-23",
          "2020-03-24",
          "2020-03-25",
          "2020-03-26",
          "2020-03-27",
          "2020-03-30",
          "2020-03-31",
          "2020-04-01",
          "2020-04-03",
          "2020-04-07",
          "2020-04-08",
          "2020-04-09",
          "2020-04-13",
          "2020-04-15",
          "2020-04-16",
          "2020-04-17",
          "2020-04-20",
          "2020-04-21",
          "2020-04-22",
          "2020-04-23",
          "2020-04-24",
          "2020-04-27",
          "2020-04-28",
          "2020-04-29",
          "2020-04-30",
          "2020-05-04",
          "2020-05-05",
          "2020-05-06",
          "2020-05-07",
          "2020-05-08",
          "2020-05-11",
          "2020-05-12",
          "2020-05-13",
          "2020-05-14",
          "2020-05-15",
          "2020-05-18",
          "2020-05-19",
          "2020-05-20",
          "2020-05-21",
          "2020-05-22",
          "2020-05-26",
          "2020-05-27",
          "2020-05-28",
          "2020-05-29",
          "2020-06-01",
          "2020-06-02",
          "2020-06-03",
          "2020-06-04",
          "2020-06-05",
          "2020-06-08",
          "2020-06-09",
          "2020-06-10",
          "2020-06-11",
          "2020-06-12",
          "2020-06-15",
          "2020-06-16",
          "2020-06-17",
          "2020-06-18",
          "2020-06-19",
          "2020-06-22",
          "2020-06-23",
          "2020-06-24",
          "2020-06-25",
          "2020-06-26",
          "2020-06-29",
          "2020-06-30",
          "2020-07-01",
          "2020-07-02",
          "2020-07-03",
          "2020-07-06",
          "2020-07-07",
          "2020-07-08",
          "2020-07-09",
          "2020-07-10",
          "2020-07-13",
          "2020-07-14",
          "2020-07-15",
          "2020-07-16",
          "2020-07-17",
          "2020-07-20",
          "2020-07-21",
          "2020-07-22",
          "2020-07-23",
          "2020-07-24",
          "2020-07-27"
         ],
         "y": [
          32102.9,
          32443.85,
          32069.25,
          31237.15,
          31399.4,
          31373.65,
          32092.4,
          32097.4,
          32177.65,
          32071.65,
          31824.9,
          31853.9,
          31590.65,
          31080.65,
          30947.55,
          30701.45,
          31004.05,
          31241.75,
          30837.4,
          30761.4,
          30877,
          30647.4,
          30833.6,
          29820.9,
          30023.25,
          30686.7,
          31001.95,
          31304.05,
          31201.95,
          31058.15,
          31300.6,
          31492.9,
          31230.25,
          30834.8,
          30680.7,
          30562.5,
          30838.2,
          30942.85,
          30455.1,
          30432.7,
          30306.85,
          30187,
          29147.15,
          28868.4,
          29177.05,
          28653.7,
          28815.35,
          27801.45,
          26462.6,
          26487.8,
          23971.15,
          25166.45,
          23101.15,
          22155.15,
          20580.2,
          20083.5,
          20317.6,
          16917.65,
          17107.3,
          18481.05,
          19613.9,
          19969,
          18782.4,
          19144,
          18208.35,
          17249.3,
          19062.5,
          18946.45,
          19913.6,
          19488,
          19057.05,
          19400,
          20681.45,
          20522.65,
          19409.35,
          19701.85,
          20267.95,
          19586.65,
          20081.15,
          20671.1,
          21090.2,
          21534.5,
          19743.75,
          19271.75,
          19694.55,
          19491.8,
          19352.9,
          18950.5,
          18862.85,
          19634.95,
          19068.5,
          18833.95,
          17573.2,
          17486.25,
          17840.2,
          17735.1,
          17278.9,
          17440.35,
          18710.55,
          19169.8,
          19297.25,
          19959.9,
          20530.2,
          20940.7,
          20390.45,
          21034.5,
          21187.35,
          20724.9,
          21100.1,
          20525.15,
          20654.55,
          19912.9,
          20296.7,
          20201.75,
          20956.3,
          21338.1,
          21708.35,
          22264.9,
          21426.8,
          21506.15,
          21592.05,
          21359,
          21370.15,
          21977.6,
          21953.2,
          21852.4,
          22198.95,
          22628,
          22584.65,
          22907.2,
          22398.45,
          22089.25,
          21392.2,
          21340.75,
          21597.15,
          21966.8,
          22321.85,
          22782,
          22882.6,
          23083.9,
          22662.05,
          21848.75
         ]
        },
        {
         "line": {
          "color": "rgba(55, 128, 191, 1.0)",
          "dash": "solid",
          "shape": "linear",
          "width": 1.3
         },
         "mode": "lines",
         "name": "NIFTY FMCG index",
         "text": "",
         "type": "scatter",
         "x": [
          "2020-01-01",
          "2020-01-02",
          "2020-01-03",
          "2020-01-06",
          "2020-01-07",
          "2020-01-08",
          "2020-01-09",
          "2020-01-10",
          "2020-01-13",
          "2020-01-14",
          "2020-01-15",
          "2020-01-16",
          "2020-01-17",
          "2020-01-20",
          "2020-01-21",
          "2020-01-22",
          "2020-01-23",
          "2020-01-24",
          "2020-01-27",
          "2020-01-28",
          "2020-01-29",
          "2020-01-30",
          "2020-01-31",
          "2020-02-01",
          "2020-02-03",
          "2020-02-04",
          "2020-02-05",
          "2020-02-06",
          "2020-02-07",
          "2020-02-10",
          "2020-02-11",
          "2020-02-12",
          "2020-02-13",
          "2020-02-14",
          "2020-02-17",
          "2020-02-18",
          "2020-02-19",
          "2020-02-20",
          "2020-02-24",
          "2020-02-25",
          "2020-02-26",
          "2020-02-27",
          "2020-02-28",
          "2020-03-02",
          "2020-03-03",
          "2020-03-04",
          "2020-03-05",
          "2020-03-06",
          "2020-03-09",
          "2020-03-11",
          "2020-03-12",
          "2020-03-13",
          "2020-03-16",
          "2020-03-17",
          "2020-03-18",
          "2020-03-19",
          "2020-03-20",
          "2020-03-23",
          "2020-03-24",
          "2020-03-25",
          "2020-03-26",
          "2020-03-27",
          "2020-03-30",
          "2020-03-31",
          "2020-04-01",
          "2020-04-03",
          "2020-04-07",
          "2020-04-08",
          "2020-04-09",
          "2020-04-13",
          "2020-04-15",
          "2020-04-16",
          "2020-04-17",
          "2020-04-20",
          "2020-04-21",
          "2020-04-22",
          "2020-04-23",
          "2020-04-24",
          "2020-04-27",
          "2020-04-28",
          "2020-04-29",
          "2020-04-30",
          "2020-05-04",
          "2020-05-05",
          "2020-05-06",
          "2020-05-07",
          "2020-05-08",
          "2020-05-11",
          "2020-05-12",
          "2020-05-13",
          "2020-05-14",
          "2020-05-15",
          "2020-05-18",
          "2020-05-19",
          "2020-05-20",
          "2020-05-21",
          "2020-05-22",
          "2020-05-26",
          "2020-05-27",
          "2020-05-28",
          "2020-05-29",
          "2020-06-01",
          "2020-06-02",
          "2020-06-03",
          "2020-06-04",
          "2020-06-05",
          "2020-06-08",
          "2020-06-09",
          "2020-06-10",
          "2020-06-11",
          "2020-06-12",
          "2020-06-15",
          "2020-06-16",
          "2020-06-17",
          "2020-06-18",
          "2020-06-19",
          "2020-06-22",
          "2020-06-23",
          "2020-06-24",
          "2020-06-25",
          "2020-06-26",
          "2020-06-29",
          "2020-06-30",
          "2020-07-01",
          "2020-07-02",
          "2020-07-03",
          "2020-07-06",
          "2020-07-07",
          "2020-07-08",
          "2020-07-09",
          "2020-07-10",
          "2020-07-13",
          "2020-07-14",
          "2020-07-15",
          "2020-07-16",
          "2020-07-17",
          "2020-07-20",
          "2020-07-21",
          "2020-07-22",
          "2020-07-23",
          "2020-07-24",
          "2020-07-27"
         ],
         "y": [
          30234.25,
          30266.2,
          30109.25,
          29799.3,
          29861.8,
          29893.2,
          30123.6,
          30370.45,
          30713.45,
          31145.4,
          31237.1,
          31338.2,
          31371.45,
          31426.75,
          31145.95,
          31153.15,
          31226.9,
          31474.9,
          31149.7,
          31027.05,
          31426.25,
          30936.45,
          30775.3,
          30196.65,
          30435.3,
          30744,
          30934.4,
          30736.6,
          30809.5,
          30528.45,
          30414.55,
          30986.25,
          31039.3,
          30646.75,
          30481.05,
          30360.6,
          30835,
          30636.25,
          30147.6,
          30173.2,
          29965.55,
          29981.2,
          29310.25,
          29138.9,
          29406.2,
          29223.75,
          29530.5,
          28937,
          28056.5,
          28078.75,
          26083,
          26208,
          24707.65,
          24929.85,
          24186.5,
          23970.75,
          25931.6,
          23184.05,
          23935.3,
          24471.7,
          25680.1,
          25740.45,
          25831.55,
          27319.2,
          26358.8,
          26537.75,
          28745.3,
          28839.9,
          28953.2,
          28509.85,
          29686.95,
          29512.3,
          29202.35,
          28598.1,
          28480.6,
          29185.15,
          28786.25,
          28636.7,
          29052.55,
          28778.15,
          28665,
          28669.3,
          27599,
          27138.6,
          26630.2,
          26254.55,
          26759.8,
          26667.8,
          26857.15,
          26746.5,
          26933.65,
          26958.65,
          26694.65,
          26895.75,
          27290.35,
          27887.1,
          27786.1,
          28122.3,
          28222.4,
          28451.6,
          29296.95,
          29571.3,
          29359.85,
          29527,
          29621.55,
          29542,
          29502.15,
          29524.9,
          29503.2,
          29092.45,
          29145.6,
          28701.8,
          28575.35,
          28431.75,
          28648.7,
          28709.45,
          28865.45,
          29355.2,
          29487.4,
          30113.25,
          29757.05,
          29971.65,
          30063.25,
          30232.5,
          30316.2,
          30529.1,
          30647.65,
          30518.2,
          30773.9,
          30671.75,
          30821.15,
          31214.9,
          30932.85,
          31140.45,
          31182.35,
          31439.3,
          31536.35,
          31280.25,
          31051.6,
          31101.9,
          31018.85,
          30819.75
         ]
        },
        {
         "line": {
          "color": "rgba(50, 171, 96, 1.0)",
          "dash": "solid",
          "shape": "linear",
          "width": 1.3
         },
         "mode": "lines",
         "name": "NIFTY IT index",
         "text": "",
         "type": "scatter",
         "x": [
          "2020-01-01",
          "2020-01-02",
          "2020-01-03",
          "2020-01-06",
          "2020-01-07",
          "2020-01-08",
          "2020-01-09",
          "2020-01-10",
          "2020-01-13",
          "2020-01-14",
          "2020-01-15",
          "2020-01-16",
          "2020-01-17",
          "2020-01-20",
          "2020-01-21",
          "2020-01-22",
          "2020-01-23",
          "2020-01-24",
          "2020-01-27",
          "2020-01-28",
          "2020-01-29",
          "2020-01-30",
          "2020-01-31",
          "2020-02-01",
          "2020-02-03",
          "2020-02-04",
          "2020-02-05",
          "2020-02-06",
          "2020-02-07",
          "2020-02-10",
          "2020-02-11",
          "2020-02-12",
          "2020-02-13",
          "2020-02-14",
          "2020-02-17",
          "2020-02-18",
          "2020-02-19",
          "2020-02-20",
          "2020-02-24",
          "2020-02-25",
          "2020-02-26",
          "2020-02-27",
          "2020-02-28",
          "2020-03-02",
          "2020-03-03",
          "2020-03-04",
          "2020-03-05",
          "2020-03-06",
          "2020-03-09",
          "2020-03-11",
          "2020-03-12",
          "2020-03-13",
          "2020-03-16",
          "2020-03-17",
          "2020-03-18",
          "2020-03-19",
          "2020-03-20",
          "2020-03-23",
          "2020-03-24",
          "2020-03-25",
          "2020-03-26",
          "2020-03-27",
          "2020-03-30",
          "2020-03-31",
          "2020-04-01",
          "2020-04-03",
          "2020-04-07",
          "2020-04-08",
          "2020-04-09",
          "2020-04-13",
          "2020-04-15",
          "2020-04-16",
          "2020-04-17",
          "2020-04-20",
          "2020-04-21",
          "2020-04-22",
          "2020-04-23",
          "2020-04-24",
          "2020-04-27",
          "2020-04-28",
          "2020-04-29",
          "2020-04-30",
          "2020-05-04",
          "2020-05-05",
          "2020-05-06",
          "2020-05-07",
          "2020-05-08",
          "2020-05-11",
          "2020-05-12",
          "2020-05-13",
          "2020-05-14",
          "2020-05-15",
          "2020-05-18",
          "2020-05-19",
          "2020-05-20",
          "2020-05-21",
          "2020-05-22",
          "2020-05-26",
          "2020-05-27",
          "2020-05-28",
          "2020-05-29",
          "2020-06-01",
          "2020-06-02",
          "2020-06-03",
          "2020-06-04",
          "2020-06-05",
          "2020-06-08",
          "2020-06-09",
          "2020-06-10",
          "2020-06-11",
          "2020-06-12",
          "2020-06-15",
          "2020-06-16",
          "2020-06-17",
          "2020-06-18",
          "2020-06-19",
          "2020-06-22",
          "2020-06-23",
          "2020-06-24",
          "2020-06-25",
          "2020-06-26",
          "2020-06-29",
          "2020-06-30",
          "2020-07-01",
          "2020-07-02",
          "2020-07-03",
          "2020-07-06",
          "2020-07-07",
          "2020-07-08",
          "2020-07-09",
          "2020-07-10",
          "2020-07-13",
          "2020-07-14",
          "2020-07-15",
          "2020-07-16",
          "2020-07-17",
          "2020-07-20",
          "2020-07-21",
          "2020-07-22",
          "2020-07-23",
          "2020-07-24",
          "2020-07-27"
         ],
         "y": [
          15722.15,
          15709.65,
          15936.6,
          15879.8,
          15895.2,
          15953.45,
          15925.15,
          15959.9,
          16225.9,
          16362.35,
          16346.85,
          16381.65,
          16356.6,
          16207.15,
          16175.2,
          16334.55,
          16474.4,
          16472.75,
          16393.55,
          16429.75,
          16479.3,
          16327.9,
          16144.15,
          16282.65,
          16059.9,
          16350.85,
          16448.55,
          16371.15,
          16470.15,
          16431.9,
          16452.3,
          16538.1,
          16673.05,
          16642.75,
          16647.7,
          16748.75,
          16772.45,
          16649.4,
          16461.8,
          16562.5,
          16332.25,
          16123.8,
          15212.95,
          15427.65,
          15723.2,
          15864.3,
          15871.35,
          15663.45,
          14854.9,
          14681.4,
          13384.8,
          13539.1,
          12451.35,
          12099.25,
          11753,
          11340,
          12363.4,
          11179.6,
          11865.05,
          12233.35,
          12535.6,
          12569.1,
          12318.8,
          12763.65,
          12045.85,
          11680.05,
          12588.95,
          12491.55,
          12728.55,
          12603.1,
          12702.6,
          12463.6,
          12649.25,
          12847.65,
          12408.85,
          12571.3,
          13128.2,
          12816.2,
          13121.15,
          13133.65,
          13424.95,
          14108.35,
          13454.25,
          13388,
          13394.7,
          13292.7,
          13403.6,
          13593.55,
          13687.75,
          13776.95,
          13293.7,
          13196.35,
          13314.4,
          13446.6,
          13517.35,
          13647.9,
          13842.65,
          13574.95,
          13952.9,
          14028.6,
          14010.5,
          14307.1,
          14422.4,
          14361.7,
          14627.45,
          14627.45,
          14894.6,
          14737.8,
          14842.05,
          14619.45,
          14402.75,
          14396.7,
          14450.8,
          14478.45,
          14551.25,
          14499.8,
          14463.65,
          14680.4,
          14581.45,
          14411.2,
          14994.65,
          14768,
          14754.3,
          14732.1,
          15122.55,
          15285.9,
          15464.95,
          15784.95,
          15513.65,
          15535.95,
          15565.2,
          15819.2,
          15640.55,
          16459.8,
          16926.05,
          16821.35,
          17258.3,
          17273.2,
          17076.05,
          17045.2,
          17286,
          17626.75
         ]
        },
        {
         "line": {
          "color": "rgba(128, 0, 128, 1.0)",
          "dash": "solid",
          "shape": "linear",
          "width": 1.3
         },
         "mode": "lines",
         "name": "NIFTY Pharma index",
         "text": "",
         "type": "scatter",
         "x": [
          "2020-01-01",
          "2020-01-02",
          "2020-01-03",
          "2020-01-06",
          "2020-01-07",
          "2020-01-08",
          "2020-01-09",
          "2020-01-10",
          "2020-01-13",
          "2020-01-14",
          "2020-01-15",
          "2020-01-16",
          "2020-01-17",
          "2020-01-20",
          "2020-01-21",
          "2020-01-22",
          "2020-01-23",
          "2020-01-24",
          "2020-01-27",
          "2020-01-28",
          "2020-01-29",
          "2020-01-30",
          "2020-01-31",
          "2020-02-01",
          "2020-02-03",
          "2020-02-04",
          "2020-02-05",
          "2020-02-06",
          "2020-02-07",
          "2020-02-10",
          "2020-02-11",
          "2020-02-12",
          "2020-02-13",
          "2020-02-14",
          "2020-02-17",
          "2020-02-18",
          "2020-02-19",
          "2020-02-20",
          "2020-02-24",
          "2020-02-25",
          "2020-02-26",
          "2020-02-27",
          "2020-02-28",
          "2020-03-02",
          "2020-03-03",
          "2020-03-04",
          "2020-03-05",
          "2020-03-06",
          "2020-03-09",
          "2020-03-11",
          "2020-03-12",
          "2020-03-13",
          "2020-03-16",
          "2020-03-17",
          "2020-03-18",
          "2020-03-19",
          "2020-03-20",
          "2020-03-23",
          "2020-03-24",
          "2020-03-25",
          "2020-03-26",
          "2020-03-27",
          "2020-03-30",
          "2020-03-31",
          "2020-04-01",
          "2020-04-03",
          "2020-04-07",
          "2020-04-08",
          "2020-04-09",
          "2020-04-13",
          "2020-04-15",
          "2020-04-16",
          "2020-04-17",
          "2020-04-20",
          "2020-04-21",
          "2020-04-22",
          "2020-04-23",
          "2020-04-24",
          "2020-04-27",
          "2020-04-28",
          "2020-04-29",
          "2020-04-30",
          "2020-05-04",
          "2020-05-05",
          "2020-05-06",
          "2020-05-07",
          "2020-05-08",
          "2020-05-11",
          "2020-05-12",
          "2020-05-13",
          "2020-05-14",
          "2020-05-15",
          "2020-05-18",
          "2020-05-19",
          "2020-05-20",
          "2020-05-21",
          "2020-05-22",
          "2020-05-26",
          "2020-05-27",
          "2020-05-28",
          "2020-05-29",
          "2020-06-01",
          "2020-06-02",
          "2020-06-03",
          "2020-06-04",
          "2020-06-05",
          "2020-06-08",
          "2020-06-09",
          "2020-06-10",
          "2020-06-11",
          "2020-06-12",
          "2020-06-15",
          "2020-06-16",
          "2020-06-17",
          "2020-06-18",
          "2020-06-19",
          "2020-06-22",
          "2020-06-23",
          "2020-06-24",
          "2020-06-25",
          "2020-06-26",
          "2020-06-29",
          "2020-06-30",
          "2020-07-01",
          "2020-07-02",
          "2020-07-03",
          "2020-07-06",
          "2020-07-07",
          "2020-07-08",
          "2020-07-09",
          "2020-07-10",
          "2020-07-13",
          "2020-07-14",
          "2020-07-15",
          "2020-07-16",
          "2020-07-17",
          "2020-07-20",
          "2020-07-21",
          "2020-07-22",
          "2020-07-23",
          "2020-07-24",
          "2020-07-27"
         ],
         "y": [
          8047.1,
          8053.95,
          8111.95,
          7987.35,
          8036.5,
          7996.15,
          8033.15,
          8058.5,
          8078.45,
          8117,
          8166.2,
          8203.1,
          8345.3,
          8269.35,
          8274.2,
          8256.65,
          8300.2,
          8294.05,
          8416.35,
          8420.25,
          8412.8,
          8237.05,
          8138.6,
          8013.75,
          7967.55,
          8122.4,
          8125.6,
          8227.9,
          8341.85,
          8261.25,
          8324.65,
          8265.05,
          8335.7,
          8331.7,
          8204.85,
          8198.3,
          8378.65,
          8364.35,
          8115.55,
          7938.45,
          7839.2,
          7885.15,
          7576.75,
          7535.1,
          7920.6,
          8086.55,
          8146,
          8018.3,
          7756.45,
          7623.05,
          6942.55,
          7268,
          6959.35,
          6979.1,
          6705.75,
          6655.5,
          6951.9,
          6432.3,
          6611.05,
          6695.55,
          6775,
          6813.05,
          6896,
          7176.5,
          7026.7,
          7361.6,
          8124.85,
          8412.2,
          8800.45,
          9044.35,
          9038.8,
          9199.3,
          9157.75,
          9149.2,
          9381.65,
          9377,
          9388.9,
          9518.45,
          9602.05,
          9386.2,
          9385.45,
          9327.1,
          9364.6,
          9181.5,
          9227.15,
          9148.1,
          9343.35,
          9307.3,
          9246.65,
          9147.75,
          9172.2,
          9093,
          9092.65,
          9084.6,
          9456.8,
          9520.55,
          9600.65,
          9483.5,
          9463.7,
          9464.5,
          9768.6,
          9802.1,
          9833.6,
          9864.05,
          10077.85,
          10081.3,
          9939.1,
          10122.05,
          10149.25,
          9933.4,
          9982.8,
          9989.05,
          9926.4,
          9977.2,
          9975.3,
          10002.15,
          10218.35,
          10360.8,
          10110.5,
          10193.15,
          10137.85,
          10135.9,
          9985.15,
          9882.85,
          9943.65,
          9963.4,
          9901.25,
          9878,
          9948.5,
          9987.55,
          10072.25,
          10106.6,
          10155.05,
          10210.75,
          10382.3,
          10472.15,
          10304.6,
          10153.8,
          10175.2,
          10322.15,
          10237.95,
          10062.05
         ]
        }
       ],
       "layout": {
        "legend": {
         "bgcolor": "#FFFFFF",
         "font": {
          "color": "#4D5663"
         }
        },
        "paper_bgcolor": "#FFFFFF",
        "plot_bgcolor": "#FFFFFF",
        "template": {
         "data": {
          "bar": [
           {
            "error_x": {
             "color": "#2a3f5f"
            },
            "error_y": {
             "color": "#2a3f5f"
            },
            "marker": {
             "line": {
              "color": "#E5ECF6",
              "width": 0.5
             },
             "pattern": {
              "fillmode": "overlay",
              "size": 10,
              "solidity": 0.2
             }
            },
            "type": "bar"
           }
          ],
          "barpolar": [
           {
            "marker": {
             "line": {
              "color": "#E5ECF6",
              "width": 0.5
             },
             "pattern": {
              "fillmode": "overlay",
              "size": 10,
              "solidity": 0.2
             }
            },
            "type": "barpolar"
           }
          ],
          "carpet": [
           {
            "aaxis": {
             "endlinecolor": "#2a3f5f",
             "gridcolor": "white",
             "linecolor": "white",
             "minorgridcolor": "white",
             "startlinecolor": "#2a3f5f"
            },
            "baxis": {
             "endlinecolor": "#2a3f5f",
             "gridcolor": "white",
             "linecolor": "white",
             "minorgridcolor": "white",
             "startlinecolor": "#2a3f5f"
            },
            "type": "carpet"
           }
          ],
          "choropleth": [
           {
            "colorbar": {
             "outlinewidth": 0,
             "ticks": ""
            },
            "type": "choropleth"
           }
          ],
          "contour": [
           {
            "colorbar": {
             "outlinewidth": 0,
             "ticks": ""
            },
            "colorscale": [
             [
              0,
              "#0d0887"
             ],
             [
              0.1111111111111111,
              "#46039f"
             ],
             [
              0.2222222222222222,
              "#7201a8"
             ],
             [
              0.3333333333333333,
              "#9c179e"
             ],
             [
              0.4444444444444444,
              "#bd3786"
             ],
             [
              0.5555555555555556,
              "#d8576b"
             ],
             [
              0.6666666666666666,
              "#ed7953"
             ],
             [
              0.7777777777777778,
              "#fb9f3a"
             ],
             [
              0.8888888888888888,
              "#fdca26"
             ],
             [
              1,
              "#f0f921"
             ]
            ],
            "type": "contour"
           }
          ],
          "contourcarpet": [
           {
            "colorbar": {
             "outlinewidth": 0,
             "ticks": ""
            },
            "type": "contourcarpet"
           }
          ],
          "heatmap": [
           {
            "colorbar": {
             "outlinewidth": 0,
             "ticks": ""
            },
            "colorscale": [
             [
              0,
              "#0d0887"
             ],
             [
              0.1111111111111111,
              "#46039f"
             ],
             [
              0.2222222222222222,
              "#7201a8"
             ],
             [
              0.3333333333333333,
              "#9c179e"
             ],
             [
              0.4444444444444444,
              "#bd3786"
             ],
             [
              0.5555555555555556,
              "#d8576b"
             ],
             [
              0.6666666666666666,
              "#ed7953"
             ],
             [
              0.7777777777777778,
              "#fb9f3a"
             ],
             [
              0.8888888888888888,
              "#fdca26"
             ],
             [
              1,
              "#f0f921"
             ]
            ],
            "type": "heatmap"
           }
          ],
          "heatmapgl": [
           {
            "colorbar": {
             "outlinewidth": 0,
             "ticks": ""
            },
            "colorscale": [
             [
              0,
              "#0d0887"
             ],
             [
              0.1111111111111111,
              "#46039f"
             ],
             [
              0.2222222222222222,
              "#7201a8"
             ],
             [
              0.3333333333333333,
              "#9c179e"
             ],
             [
              0.4444444444444444,
              "#bd3786"
             ],
             [
              0.5555555555555556,
              "#d8576b"
             ],
             [
              0.6666666666666666,
              "#ed7953"
             ],
             [
              0.7777777777777778,
              "#fb9f3a"
             ],
             [
              0.8888888888888888,
              "#fdca26"
             ],
             [
              1,
              "#f0f921"
             ]
            ],
            "type": "heatmapgl"
           }
          ],
          "histogram": [
           {
            "marker": {
             "pattern": {
              "fillmode": "overlay",
              "size": 10,
              "solidity": 0.2
             }
            },
            "type": "histogram"
           }
          ],
          "histogram2d": [
           {
            "colorbar": {
             "outlinewidth": 0,
             "ticks": ""
            },
            "colorscale": [
             [
              0,
              "#0d0887"
             ],
             [
              0.1111111111111111,
              "#46039f"
             ],
             [
              0.2222222222222222,
              "#7201a8"
             ],
             [
              0.3333333333333333,
              "#9c179e"
             ],
             [
              0.4444444444444444,
              "#bd3786"
             ],
             [
              0.5555555555555556,
              "#d8576b"
             ],
             [
              0.6666666666666666,
              "#ed7953"
             ],
             [
              0.7777777777777778,
              "#fb9f3a"
             ],
             [
              0.8888888888888888,
              "#fdca26"
             ],
             [
              1,
              "#f0f921"
             ]
            ],
            "type": "histogram2d"
           }
          ],
          "histogram2dcontour": [
           {
            "colorbar": {
             "outlinewidth": 0,
             "ticks": ""
            },
            "colorscale": [
             [
              0,
              "#0d0887"
             ],
             [
              0.1111111111111111,
              "#46039f"
             ],
             [
              0.2222222222222222,
              "#7201a8"
             ],
             [
              0.3333333333333333,
              "#9c179e"
             ],
             [
              0.4444444444444444,
              "#bd3786"
             ],
             [
              0.5555555555555556,
              "#d8576b"
             ],
             [
              0.6666666666666666,
              "#ed7953"
             ],
             [
              0.7777777777777778,
              "#fb9f3a"
             ],
             [
              0.8888888888888888,
              "#fdca26"
             ],
             [
              1,
              "#f0f921"
             ]
            ],
            "type": "histogram2dcontour"
           }
          ],
          "mesh3d": [
           {
            "colorbar": {
             "outlinewidth": 0,
             "ticks": ""
            },
            "type": "mesh3d"
           }
          ],
          "parcoords": [
           {
            "line": {
             "colorbar": {
              "outlinewidth": 0,
              "ticks": ""
             }
            },
            "type": "parcoords"
           }
          ],
          "pie": [
           {
            "automargin": true,
            "type": "pie"
           }
          ],
          "scatter": [
           {
            "fillpattern": {
             "fillmode": "overlay",
             "size": 10,
             "solidity": 0.2
            },
            "type": "scatter"
           }
          ],
          "scatter3d": [
           {
            "line": {
             "colorbar": {
              "outlinewidth": 0,
              "ticks": ""
             }
            },
            "marker": {
             "colorbar": {
              "outlinewidth": 0,
              "ticks": ""
             }
            },
            "type": "scatter3d"
           }
          ],
          "scattercarpet": [
           {
            "marker": {
             "colorbar": {
              "outlinewidth": 0,
              "ticks": ""
             }
            },
            "type": "scattercarpet"
           }
          ],
          "scattergeo": [
           {
            "marker": {
             "colorbar": {
              "outlinewidth": 0,
              "ticks": ""
             }
            },
            "type": "scattergeo"
           }
          ],
          "scattergl": [
           {
            "marker": {
             "colorbar": {
              "outlinewidth": 0,
              "ticks": ""
             }
            },
            "type": "scattergl"
           }
          ],
          "scattermapbox": [
           {
            "marker": {
             "colorbar": {
              "outlinewidth": 0,
              "ticks": ""
             }
            },
            "type": "scattermapbox"
           }
          ],
          "scatterpolar": [
           {
            "marker": {
             "colorbar": {
              "outlinewidth": 0,
              "ticks": ""
             }
            },
            "type": "scatterpolar"
           }
          ],
          "scatterpolargl": [
           {
            "marker": {
             "colorbar": {
              "outlinewidth": 0,
              "ticks": ""
             }
            },
            "type": "scatterpolargl"
           }
          ],
          "scatterternary": [
           {
            "marker": {
             "colorbar": {
              "outlinewidth": 0,
              "ticks": ""
             }
            },
            "type": "scatterternary"
           }
          ],
          "surface": [
           {
            "colorbar": {
             "outlinewidth": 0,
             "ticks": ""
            },
            "colorscale": [
             [
              0,
              "#0d0887"
             ],
             [
              0.1111111111111111,
              "#46039f"
             ],
             [
              0.2222222222222222,
              "#7201a8"
             ],
             [
              0.3333333333333333,
              "#9c179e"
             ],
             [
              0.4444444444444444,
              "#bd3786"
             ],
             [
              0.5555555555555556,
              "#d8576b"
             ],
             [
              0.6666666666666666,
              "#ed7953"
             ],
             [
              0.7777777777777778,
              "#fb9f3a"
             ],
             [
              0.8888888888888888,
              "#fdca26"
             ],
             [
              1,
              "#f0f921"
             ]
            ],
            "type": "surface"
           }
          ],
          "table": [
           {
            "cells": {
             "fill": {
              "color": "#EBF0F8"
             },
             "line": {
              "color": "white"
             }
            },
            "header": {
             "fill": {
              "color": "#C8D4E3"
             },
             "line": {
              "color": "white"
             }
            },
            "type": "table"
           }
          ]
         },
         "layout": {
          "annotationdefaults": {
           "arrowcolor": "#2a3f5f",
           "arrowhead": 0,
           "arrowwidth": 1
          },
          "autotypenumbers": "strict",
          "coloraxis": {
           "colorbar": {
            "outlinewidth": 0,
            "ticks": ""
           }
          },
          "colorscale": {
           "diverging": [
            [
             0,
             "#8e0152"
            ],
            [
             0.1,
             "#c51b7d"
            ],
            [
             0.2,
             "#de77ae"
            ],
            [
             0.3,
             "#f1b6da"
            ],
            [
             0.4,
             "#fde0ef"
            ],
            [
             0.5,
             "#f7f7f7"
            ],
            [
             0.6,
             "#e6f5d0"
            ],
            [
             0.7,
             "#b8e186"
            ],
            [
             0.8,
             "#7fbc41"
            ],
            [
             0.9,
             "#4d9221"
            ],
            [
             1,
             "#276419"
            ]
           ],
           "sequential": [
            [
             0,
             "#0d0887"
            ],
            [
             0.1111111111111111,
             "#46039f"
            ],
            [
             0.2222222222222222,
             "#7201a8"
            ],
            [
             0.3333333333333333,
             "#9c179e"
            ],
            [
             0.4444444444444444,
             "#bd3786"
            ],
            [
             0.5555555555555556,
             "#d8576b"
            ],
            [
             0.6666666666666666,
             "#ed7953"
            ],
            [
             0.7777777777777778,
             "#fb9f3a"
            ],
            [
             0.8888888888888888,
             "#fdca26"
            ],
            [
             1,
             "#f0f921"
            ]
           ],
           "sequentialminus": [
            [
             0,
             "#0d0887"
            ],
            [
             0.1111111111111111,
             "#46039f"
            ],
            [
             0.2222222222222222,
             "#7201a8"
            ],
            [
             0.3333333333333333,
             "#9c179e"
            ],
            [
             0.4444444444444444,
             "#bd3786"
            ],
            [
             0.5555555555555556,
             "#d8576b"
            ],
            [
             0.6666666666666666,
             "#ed7953"
            ],
            [
             0.7777777777777778,
             "#fb9f3a"
            ],
            [
             0.8888888888888888,
             "#fdca26"
            ],
            [
             1,
             "#f0f921"
            ]
           ]
          },
          "colorway": [
           "#636efa",
           "#EF553B",
           "#00cc96",
           "#ab63fa",
           "#FFA15A",
           "#19d3f3",
           "#FF6692",
           "#B6E880",
           "#FF97FF",
           "#FECB52"
          ],
          "font": {
           "color": "#2a3f5f"
          },
          "geo": {
           "bgcolor": "white",
           "lakecolor": "white",
           "landcolor": "#E5ECF6",
           "showlakes": true,
           "showland": true,
           "subunitcolor": "white"
          },
          "hoverlabel": {
           "align": "left"
          },
          "hovermode": "closest",
          "mapbox": {
           "style": "light"
          },
          "paper_bgcolor": "white",
          "plot_bgcolor": "#E5ECF6",
          "polar": {
           "angularaxis": {
            "gridcolor": "white",
            "linecolor": "white",
            "ticks": ""
           },
           "bgcolor": "#E5ECF6",
           "radialaxis": {
            "gridcolor": "white",
            "linecolor": "white",
            "ticks": ""
           }
          },
          "scene": {
           "xaxis": {
            "backgroundcolor": "#E5ECF6",
            "gridcolor": "white",
            "gridwidth": 2,
            "linecolor": "white",
            "showbackground": true,
            "ticks": "",
            "zerolinecolor": "white"
           },
           "yaxis": {
            "backgroundcolor": "#E5ECF6",
            "gridcolor": "white",
            "gridwidth": 2,
            "linecolor": "white",
            "showbackground": true,
            "ticks": "",
            "zerolinecolor": "white"
           },
           "zaxis": {
            "backgroundcolor": "#E5ECF6",
            "gridcolor": "white",
            "gridwidth": 2,
            "linecolor": "white",
            "showbackground": true,
            "ticks": "",
            "zerolinecolor": "white"
           }
          },
          "shapedefaults": {
           "line": {
            "color": "#2a3f5f"
           }
          },
          "ternary": {
           "aaxis": {
            "gridcolor": "white",
            "linecolor": "white",
            "ticks": ""
           },
           "baxis": {
            "gridcolor": "white",
            "linecolor": "white",
            "ticks": ""
           },
           "bgcolor": "#E5ECF6",
           "caxis": {
            "gridcolor": "white",
            "linecolor": "white",
            "ticks": ""
           }
          },
          "title": {
           "x": 0.05
          },
          "xaxis": {
           "automargin": true,
           "gridcolor": "white",
           "linecolor": "white",
           "ticks": "",
           "title": {
            "standoff": 15
           },
           "zerolinecolor": "white",
           "zerolinewidth": 2
          },
          "yaxis": {
           "automargin": true,
           "gridcolor": "white",
           "linecolor": "white",
           "ticks": "",
           "title": {
            "standoff": 15
           },
           "zerolinecolor": "white",
           "zerolinewidth": 2
          }
         }
        },
        "title": {
         "font": {
          "color": "#4D5663"
         }
        },
        "xaxis": {
         "gridcolor": "#E1E5ED",
         "showgrid": true,
         "tickfont": {
          "color": "#4D5663"
         },
         "title": {
          "font": {
           "color": "#4D5663"
          },
          "text": ""
         },
         "zerolinecolor": "#E1E5ED"
        },
        "yaxis": {
         "gridcolor": "#E1E5ED",
         "showgrid": true,
         "tickfont": {
          "color": "#4D5663"
         },
         "title": {
          "font": {
           "color": "#4D5663"
          },
          "text": ""
         },
         "zerolinecolor": "#E1E5ED"
        }
       }
      },
      "text/html": [
       "<div>                            <div id=\"d2c3da1f-d06a-460a-8b34-74cf38c71d9c\" class=\"plotly-graph-div\" style=\"height:525px; width:100%;\"></div>            <script type=\"text/javascript\">                require([\"plotly\"], function(Plotly) {                    window.PLOTLYENV=window.PLOTLYENV || {};\n",
       "                    window.PLOTLYENV.BASE_URL='https://plot.ly';                                    if (document.getElementById(\"d2c3da1f-d06a-460a-8b34-74cf38c71d9c\")) {                    Plotly.newPlot(                        \"d2c3da1f-d06a-460a-8b34-74cf38c71d9c\",                        [{\"line\":{\"color\":\"rgba(255, 153, 51, 1.0)\",\"dash\":\"solid\",\"shape\":\"linear\",\"width\":1.3},\"mode\":\"lines\",\"name\":\"NIFTY Bank index\",\"text\":\"\",\"x\":[\"2020-01-01\",\"2020-01-02\",\"2020-01-03\",\"2020-01-06\",\"2020-01-07\",\"2020-01-08\",\"2020-01-09\",\"2020-01-10\",\"2020-01-13\",\"2020-01-14\",\"2020-01-15\",\"2020-01-16\",\"2020-01-17\",\"2020-01-20\",\"2020-01-21\",\"2020-01-22\",\"2020-01-23\",\"2020-01-24\",\"2020-01-27\",\"2020-01-28\",\"2020-01-29\",\"2020-01-30\",\"2020-01-31\",\"2020-02-01\",\"2020-02-03\",\"2020-02-04\",\"2020-02-05\",\"2020-02-06\",\"2020-02-07\",\"2020-02-10\",\"2020-02-11\",\"2020-02-12\",\"2020-02-13\",\"2020-02-14\",\"2020-02-17\",\"2020-02-18\",\"2020-02-19\",\"2020-02-20\",\"2020-02-24\",\"2020-02-25\",\"2020-02-26\",\"2020-02-27\",\"2020-02-28\",\"2020-03-02\",\"2020-03-03\",\"2020-03-04\",\"2020-03-05\",\"2020-03-06\",\"2020-03-09\",\"2020-03-11\",\"2020-03-12\",\"2020-03-13\",\"2020-03-16\",\"2020-03-17\",\"2020-03-18\",\"2020-03-19\",\"2020-03-20\",\"2020-03-23\",\"2020-03-24\",\"2020-03-25\",\"2020-03-26\",\"2020-03-27\",\"2020-03-30\",\"2020-03-31\",\"2020-04-01\",\"2020-04-03\",\"2020-04-07\",\"2020-04-08\",\"2020-04-09\",\"2020-04-13\",\"2020-04-15\",\"2020-04-16\",\"2020-04-17\",\"2020-04-20\",\"2020-04-21\",\"2020-04-22\",\"2020-04-23\",\"2020-04-24\",\"2020-04-27\",\"2020-04-28\",\"2020-04-29\",\"2020-04-30\",\"2020-05-04\",\"2020-05-05\",\"2020-05-06\",\"2020-05-07\",\"2020-05-08\",\"2020-05-11\",\"2020-05-12\",\"2020-05-13\",\"2020-05-14\",\"2020-05-15\",\"2020-05-18\",\"2020-05-19\",\"2020-05-20\",\"2020-05-21\",\"2020-05-22\",\"2020-05-26\",\"2020-05-27\",\"2020-05-28\",\"2020-05-29\",\"2020-06-01\",\"2020-06-02\",\"2020-06-03\",\"2020-06-04\",\"2020-06-05\",\"2020-06-08\",\"2020-06-09\",\"2020-06-10\",\"2020-06-11\",\"2020-06-12\",\"2020-06-15\",\"2020-06-16\",\"2020-06-17\",\"2020-06-18\",\"2020-06-19\",\"2020-06-22\",\"2020-06-23\",\"2020-06-24\",\"2020-06-25\",\"2020-06-26\",\"2020-06-29\",\"2020-06-30\",\"2020-07-01\",\"2020-07-02\",\"2020-07-03\",\"2020-07-06\",\"2020-07-07\",\"2020-07-08\",\"2020-07-09\",\"2020-07-10\",\"2020-07-13\",\"2020-07-14\",\"2020-07-15\",\"2020-07-16\",\"2020-07-17\",\"2020-07-20\",\"2020-07-21\",\"2020-07-22\",\"2020-07-23\",\"2020-07-24\",\"2020-07-27\"],\"y\":[32102.9,32443.85,32069.25,31237.15,31399.4,31373.65,32092.4,32097.4,32177.65,32071.65,31824.9,31853.9,31590.65,31080.65,30947.55,30701.45,31004.05,31241.75,30837.4,30761.4,30877.0,30647.4,30833.6,29820.9,30023.25,30686.7,31001.95,31304.05,31201.95,31058.15,31300.6,31492.9,31230.25,30834.8,30680.7,30562.5,30838.2,30942.85,30455.1,30432.7,30306.85,30187.0,29147.15,28868.4,29177.05,28653.7,28815.35,27801.45,26462.6,26487.8,23971.15,25166.45,23101.15,22155.15,20580.2,20083.5,20317.6,16917.65,17107.3,18481.05,19613.9,19969.0,18782.4,19144.0,18208.35,17249.3,19062.5,18946.45,19913.6,19488.0,19057.05,19400.0,20681.45,20522.65,19409.35,19701.85,20267.95,19586.65,20081.15,20671.1,21090.2,21534.5,19743.75,19271.75,19694.55,19491.8,19352.9,18950.5,18862.85,19634.95,19068.5,18833.95,17573.2,17486.25,17840.2,17735.1,17278.9,17440.35,18710.55,19169.8,19297.25,19959.9,20530.2,20940.7,20390.45,21034.5,21187.35,20724.9,21100.1,20525.15,20654.55,19912.9,20296.7,20201.75,20956.3,21338.1,21708.35,22264.9,21426.8,21506.15,21592.05,21359.0,21370.15,21977.6,21953.2,21852.4,22198.95,22628.0,22584.65,22907.2,22398.45,22089.25,21392.2,21340.75,21597.15,21966.8,22321.85,22782.0,22882.6,23083.9,22662.05,21848.75],\"type\":\"scatter\"},{\"line\":{\"color\":\"rgba(55, 128, 191, 1.0)\",\"dash\":\"solid\",\"shape\":\"linear\",\"width\":1.3},\"mode\":\"lines\",\"name\":\"NIFTY FMCG index\",\"text\":\"\",\"x\":[\"2020-01-01\",\"2020-01-02\",\"2020-01-03\",\"2020-01-06\",\"2020-01-07\",\"2020-01-08\",\"2020-01-09\",\"2020-01-10\",\"2020-01-13\",\"2020-01-14\",\"2020-01-15\",\"2020-01-16\",\"2020-01-17\",\"2020-01-20\",\"2020-01-21\",\"2020-01-22\",\"2020-01-23\",\"2020-01-24\",\"2020-01-27\",\"2020-01-28\",\"2020-01-29\",\"2020-01-30\",\"2020-01-31\",\"2020-02-01\",\"2020-02-03\",\"2020-02-04\",\"2020-02-05\",\"2020-02-06\",\"2020-02-07\",\"2020-02-10\",\"2020-02-11\",\"2020-02-12\",\"2020-02-13\",\"2020-02-14\",\"2020-02-17\",\"2020-02-18\",\"2020-02-19\",\"2020-02-20\",\"2020-02-24\",\"2020-02-25\",\"2020-02-26\",\"2020-02-27\",\"2020-02-28\",\"2020-03-02\",\"2020-03-03\",\"2020-03-04\",\"2020-03-05\",\"2020-03-06\",\"2020-03-09\",\"2020-03-11\",\"2020-03-12\",\"2020-03-13\",\"2020-03-16\",\"2020-03-17\",\"2020-03-18\",\"2020-03-19\",\"2020-03-20\",\"2020-03-23\",\"2020-03-24\",\"2020-03-25\",\"2020-03-26\",\"2020-03-27\",\"2020-03-30\",\"2020-03-31\",\"2020-04-01\",\"2020-04-03\",\"2020-04-07\",\"2020-04-08\",\"2020-04-09\",\"2020-04-13\",\"2020-04-15\",\"2020-04-16\",\"2020-04-17\",\"2020-04-20\",\"2020-04-21\",\"2020-04-22\",\"2020-04-23\",\"2020-04-24\",\"2020-04-27\",\"2020-04-28\",\"2020-04-29\",\"2020-04-30\",\"2020-05-04\",\"2020-05-05\",\"2020-05-06\",\"2020-05-07\",\"2020-05-08\",\"2020-05-11\",\"2020-05-12\",\"2020-05-13\",\"2020-05-14\",\"2020-05-15\",\"2020-05-18\",\"2020-05-19\",\"2020-05-20\",\"2020-05-21\",\"2020-05-22\",\"2020-05-26\",\"2020-05-27\",\"2020-05-28\",\"2020-05-29\",\"2020-06-01\",\"2020-06-02\",\"2020-06-03\",\"2020-06-04\",\"2020-06-05\",\"2020-06-08\",\"2020-06-09\",\"2020-06-10\",\"2020-06-11\",\"2020-06-12\",\"2020-06-15\",\"2020-06-16\",\"2020-06-17\",\"2020-06-18\",\"2020-06-19\",\"2020-06-22\",\"2020-06-23\",\"2020-06-24\",\"2020-06-25\",\"2020-06-26\",\"2020-06-29\",\"2020-06-30\",\"2020-07-01\",\"2020-07-02\",\"2020-07-03\",\"2020-07-06\",\"2020-07-07\",\"2020-07-08\",\"2020-07-09\",\"2020-07-10\",\"2020-07-13\",\"2020-07-14\",\"2020-07-15\",\"2020-07-16\",\"2020-07-17\",\"2020-07-20\",\"2020-07-21\",\"2020-07-22\",\"2020-07-23\",\"2020-07-24\",\"2020-07-27\"],\"y\":[30234.25,30266.2,30109.25,29799.3,29861.8,29893.2,30123.6,30370.45,30713.45,31145.4,31237.1,31338.2,31371.45,31426.75,31145.95,31153.15,31226.9,31474.9,31149.7,31027.05,31426.25,30936.45,30775.3,30196.65,30435.3,30744.0,30934.4,30736.6,30809.5,30528.45,30414.55,30986.25,31039.3,30646.75,30481.05,30360.6,30835.0,30636.25,30147.6,30173.2,29965.55,29981.2,29310.25,29138.9,29406.2,29223.75,29530.5,28937.0,28056.5,28078.75,26083.0,26208.0,24707.65,24929.85,24186.5,23970.75,25931.6,23184.05,23935.3,24471.7,25680.1,25740.45,25831.55,27319.2,26358.8,26537.75,28745.3,28839.9,28953.2,28509.85,29686.95,29512.3,29202.35,28598.1,28480.6,29185.15,28786.25,28636.7,29052.55,28778.15,28665.0,28669.3,27599.0,27138.6,26630.2,26254.55,26759.8,26667.8,26857.15,26746.5,26933.65,26958.65,26694.65,26895.75,27290.35,27887.1,27786.1,28122.3,28222.4,28451.6,29296.95,29571.3,29359.85,29527.0,29621.55,29542.0,29502.15,29524.9,29503.2,29092.45,29145.6,28701.8,28575.35,28431.75,28648.7,28709.45,28865.45,29355.2,29487.4,30113.25,29757.05,29971.65,30063.25,30232.5,30316.2,30529.1,30647.65,30518.2,30773.9,30671.75,30821.15,31214.9,30932.85,31140.45,31182.35,31439.3,31536.35,31280.25,31051.6,31101.9,31018.85,30819.75],\"type\":\"scatter\"},{\"line\":{\"color\":\"rgba(50, 171, 96, 1.0)\",\"dash\":\"solid\",\"shape\":\"linear\",\"width\":1.3},\"mode\":\"lines\",\"name\":\"NIFTY IT index\",\"text\":\"\",\"x\":[\"2020-01-01\",\"2020-01-02\",\"2020-01-03\",\"2020-01-06\",\"2020-01-07\",\"2020-01-08\",\"2020-01-09\",\"2020-01-10\",\"2020-01-13\",\"2020-01-14\",\"2020-01-15\",\"2020-01-16\",\"2020-01-17\",\"2020-01-20\",\"2020-01-21\",\"2020-01-22\",\"2020-01-23\",\"2020-01-24\",\"2020-01-27\",\"2020-01-28\",\"2020-01-29\",\"2020-01-30\",\"2020-01-31\",\"2020-02-01\",\"2020-02-03\",\"2020-02-04\",\"2020-02-05\",\"2020-02-06\",\"2020-02-07\",\"2020-02-10\",\"2020-02-11\",\"2020-02-12\",\"2020-02-13\",\"2020-02-14\",\"2020-02-17\",\"2020-02-18\",\"2020-02-19\",\"2020-02-20\",\"2020-02-24\",\"2020-02-25\",\"2020-02-26\",\"2020-02-27\",\"2020-02-28\",\"2020-03-02\",\"2020-03-03\",\"2020-03-04\",\"2020-03-05\",\"2020-03-06\",\"2020-03-09\",\"2020-03-11\",\"2020-03-12\",\"2020-03-13\",\"2020-03-16\",\"2020-03-17\",\"2020-03-18\",\"2020-03-19\",\"2020-03-20\",\"2020-03-23\",\"2020-03-24\",\"2020-03-25\",\"2020-03-26\",\"2020-03-27\",\"2020-03-30\",\"2020-03-31\",\"2020-04-01\",\"2020-04-03\",\"2020-04-07\",\"2020-04-08\",\"2020-04-09\",\"2020-04-13\",\"2020-04-15\",\"2020-04-16\",\"2020-04-17\",\"2020-04-20\",\"2020-04-21\",\"2020-04-22\",\"2020-04-23\",\"2020-04-24\",\"2020-04-27\",\"2020-04-28\",\"2020-04-29\",\"2020-04-30\",\"2020-05-04\",\"2020-05-05\",\"2020-05-06\",\"2020-05-07\",\"2020-05-08\",\"2020-05-11\",\"2020-05-12\",\"2020-05-13\",\"2020-05-14\",\"2020-05-15\",\"2020-05-18\",\"2020-05-19\",\"2020-05-20\",\"2020-05-21\",\"2020-05-22\",\"2020-05-26\",\"2020-05-27\",\"2020-05-28\",\"2020-05-29\",\"2020-06-01\",\"2020-06-02\",\"2020-06-03\",\"2020-06-04\",\"2020-06-05\",\"2020-06-08\",\"2020-06-09\",\"2020-06-10\",\"2020-06-11\",\"2020-06-12\",\"2020-06-15\",\"2020-06-16\",\"2020-06-17\",\"2020-06-18\",\"2020-06-19\",\"2020-06-22\",\"2020-06-23\",\"2020-06-24\",\"2020-06-25\",\"2020-06-26\",\"2020-06-29\",\"2020-06-30\",\"2020-07-01\",\"2020-07-02\",\"2020-07-03\",\"2020-07-06\",\"2020-07-07\",\"2020-07-08\",\"2020-07-09\",\"2020-07-10\",\"2020-07-13\",\"2020-07-14\",\"2020-07-15\",\"2020-07-16\",\"2020-07-17\",\"2020-07-20\",\"2020-07-21\",\"2020-07-22\",\"2020-07-23\",\"2020-07-24\",\"2020-07-27\"],\"y\":[15722.15,15709.65,15936.6,15879.8,15895.2,15953.45,15925.15,15959.9,16225.9,16362.35,16346.85,16381.65,16356.6,16207.15,16175.2,16334.55,16474.4,16472.75,16393.55,16429.75,16479.3,16327.9,16144.15,16282.65,16059.9,16350.85,16448.55,16371.15,16470.15,16431.9,16452.3,16538.1,16673.05,16642.75,16647.7,16748.75,16772.45,16649.4,16461.8,16562.5,16332.25,16123.8,15212.95,15427.65,15723.2,15864.3,15871.35,15663.45,14854.9,14681.4,13384.8,13539.1,12451.35,12099.25,11753.0,11340.0,12363.4,11179.6,11865.05,12233.35,12535.6,12569.1,12318.8,12763.65,12045.85,11680.05,12588.95,12491.55,12728.55,12603.1,12702.6,12463.6,12649.25,12847.65,12408.85,12571.3,13128.2,12816.2,13121.15,13133.65,13424.95,14108.35,13454.25,13388.0,13394.7,13292.7,13403.6,13593.55,13687.75,13776.95,13293.7,13196.35,13314.4,13446.6,13517.35,13647.9,13842.65,13574.95,13952.9,14028.6,14010.5,14307.1,14422.4,14361.7,14627.45,14627.45,14894.6,14737.8,14842.05,14619.45,14402.75,14396.7,14450.8,14478.45,14551.25,14499.8,14463.65,14680.4,14581.45,14411.2,14994.65,14768.0,14754.3,14732.1,15122.55,15285.9,15464.95,15784.95,15513.65,15535.95,15565.2,15819.2,15640.55,16459.8,16926.05,16821.35,17258.3,17273.2,17076.05,17045.2,17286.0,17626.75],\"type\":\"scatter\"},{\"line\":{\"color\":\"rgba(128, 0, 128, 1.0)\",\"dash\":\"solid\",\"shape\":\"linear\",\"width\":1.3},\"mode\":\"lines\",\"name\":\"NIFTY Pharma index\",\"text\":\"\",\"x\":[\"2020-01-01\",\"2020-01-02\",\"2020-01-03\",\"2020-01-06\",\"2020-01-07\",\"2020-01-08\",\"2020-01-09\",\"2020-01-10\",\"2020-01-13\",\"2020-01-14\",\"2020-01-15\",\"2020-01-16\",\"2020-01-17\",\"2020-01-20\",\"2020-01-21\",\"2020-01-22\",\"2020-01-23\",\"2020-01-24\",\"2020-01-27\",\"2020-01-28\",\"2020-01-29\",\"2020-01-30\",\"2020-01-31\",\"2020-02-01\",\"2020-02-03\",\"2020-02-04\",\"2020-02-05\",\"2020-02-06\",\"2020-02-07\",\"2020-02-10\",\"2020-02-11\",\"2020-02-12\",\"2020-02-13\",\"2020-02-14\",\"2020-02-17\",\"2020-02-18\",\"2020-02-19\",\"2020-02-20\",\"2020-02-24\",\"2020-02-25\",\"2020-02-26\",\"2020-02-27\",\"2020-02-28\",\"2020-03-02\",\"2020-03-03\",\"2020-03-04\",\"2020-03-05\",\"2020-03-06\",\"2020-03-09\",\"2020-03-11\",\"2020-03-12\",\"2020-03-13\",\"2020-03-16\",\"2020-03-17\",\"2020-03-18\",\"2020-03-19\",\"2020-03-20\",\"2020-03-23\",\"2020-03-24\",\"2020-03-25\",\"2020-03-26\",\"2020-03-27\",\"2020-03-30\",\"2020-03-31\",\"2020-04-01\",\"2020-04-03\",\"2020-04-07\",\"2020-04-08\",\"2020-04-09\",\"2020-04-13\",\"2020-04-15\",\"2020-04-16\",\"2020-04-17\",\"2020-04-20\",\"2020-04-21\",\"2020-04-22\",\"2020-04-23\",\"2020-04-24\",\"2020-04-27\",\"2020-04-28\",\"2020-04-29\",\"2020-04-30\",\"2020-05-04\",\"2020-05-05\",\"2020-05-06\",\"2020-05-07\",\"2020-05-08\",\"2020-05-11\",\"2020-05-12\",\"2020-05-13\",\"2020-05-14\",\"2020-05-15\",\"2020-05-18\",\"2020-05-19\",\"2020-05-20\",\"2020-05-21\",\"2020-05-22\",\"2020-05-26\",\"2020-05-27\",\"2020-05-28\",\"2020-05-29\",\"2020-06-01\",\"2020-06-02\",\"2020-06-03\",\"2020-06-04\",\"2020-06-05\",\"2020-06-08\",\"2020-06-09\",\"2020-06-10\",\"2020-06-11\",\"2020-06-12\",\"2020-06-15\",\"2020-06-16\",\"2020-06-17\",\"2020-06-18\",\"2020-06-19\",\"2020-06-22\",\"2020-06-23\",\"2020-06-24\",\"2020-06-25\",\"2020-06-26\",\"2020-06-29\",\"2020-06-30\",\"2020-07-01\",\"2020-07-02\",\"2020-07-03\",\"2020-07-06\",\"2020-07-07\",\"2020-07-08\",\"2020-07-09\",\"2020-07-10\",\"2020-07-13\",\"2020-07-14\",\"2020-07-15\",\"2020-07-16\",\"2020-07-17\",\"2020-07-20\",\"2020-07-21\",\"2020-07-22\",\"2020-07-23\",\"2020-07-24\",\"2020-07-27\"],\"y\":[8047.1,8053.95,8111.95,7987.35,8036.5,7996.15,8033.15,8058.5,8078.45,8117.0,8166.2,8203.1,8345.3,8269.35,8274.2,8256.65,8300.2,8294.05,8416.35,8420.25,8412.8,8237.05,8138.6,8013.75,7967.55,8122.4,8125.6,8227.9,8341.85,8261.25,8324.65,8265.05,8335.7,8331.7,8204.85,8198.3,8378.65,8364.35,8115.55,7938.45,7839.2,7885.15,7576.75,7535.1,7920.6,8086.55,8146.0,8018.3,7756.45,7623.05,6942.55,7268.0,6959.35,6979.1,6705.75,6655.5,6951.9,6432.3,6611.05,6695.55,6775.0,6813.05,6896.0,7176.5,7026.7,7361.6,8124.85,8412.2,8800.45,9044.35,9038.8,9199.3,9157.75,9149.2,9381.65,9377.0,9388.9,9518.45,9602.05,9386.2,9385.45,9327.1,9364.6,9181.5,9227.15,9148.1,9343.35,9307.3,9246.65,9147.75,9172.2,9093.0,9092.65,9084.6,9456.8,9520.55,9600.65,9483.5,9463.7,9464.5,9768.6,9802.1,9833.6,9864.05,10077.85,10081.3,9939.1,10122.05,10149.25,9933.4,9982.8,9989.05,9926.4,9977.2,9975.3,10002.15,10218.35,10360.8,10110.5,10193.15,10137.85,10135.9,9985.15,9882.85,9943.65,9963.4,9901.25,9878.0,9948.5,9987.55,10072.25,10106.6,10155.05,10210.75,10382.3,10472.15,10304.6,10153.8,10175.2,10322.15,10237.95,10062.05],\"type\":\"scatter\"}],                        {\"legend\":{\"bgcolor\":\"#FFFFFF\",\"font\":{\"color\":\"#4D5663\"}},\"paper_bgcolor\":\"#FFFFFF\",\"plot_bgcolor\":\"#FFFFFF\",\"template\":{\"data\":{\"barpolar\":[{\"marker\":{\"line\":{\"color\":\"#E5ECF6\",\"width\":0.5},\"pattern\":{\"fillmode\":\"overlay\",\"size\":10,\"solidity\":0.2}},\"type\":\"barpolar\"}],\"bar\":[{\"error_x\":{\"color\":\"#2a3f5f\"},\"error_y\":{\"color\":\"#2a3f5f\"},\"marker\":{\"line\":{\"color\":\"#E5ECF6\",\"width\":0.5},\"pattern\":{\"fillmode\":\"overlay\",\"size\":10,\"solidity\":0.2}},\"type\":\"bar\"}],\"carpet\":[{\"aaxis\":{\"endlinecolor\":\"#2a3f5f\",\"gridcolor\":\"white\",\"linecolor\":\"white\",\"minorgridcolor\":\"white\",\"startlinecolor\":\"#2a3f5f\"},\"baxis\":{\"endlinecolor\":\"#2a3f5f\",\"gridcolor\":\"white\",\"linecolor\":\"white\",\"minorgridcolor\":\"white\",\"startlinecolor\":\"#2a3f5f\"},\"type\":\"carpet\"}],\"choropleth\":[{\"colorbar\":{\"outlinewidth\":0,\"ticks\":\"\"},\"type\":\"choropleth\"}],\"contourcarpet\":[{\"colorbar\":{\"outlinewidth\":0,\"ticks\":\"\"},\"type\":\"contourcarpet\"}],\"contour\":[{\"colorbar\":{\"outlinewidth\":0,\"ticks\":\"\"},\"colorscale\":[[0.0,\"#0d0887\"],[0.1111111111111111,\"#46039f\"],[0.2222222222222222,\"#7201a8\"],[0.3333333333333333,\"#9c179e\"],[0.4444444444444444,\"#bd3786\"],[0.5555555555555556,\"#d8576b\"],[0.6666666666666666,\"#ed7953\"],[0.7777777777777778,\"#fb9f3a\"],[0.8888888888888888,\"#fdca26\"],[1.0,\"#f0f921\"]],\"type\":\"contour\"}],\"heatmapgl\":[{\"colorbar\":{\"outlinewidth\":0,\"ticks\":\"\"},\"colorscale\":[[0.0,\"#0d0887\"],[0.1111111111111111,\"#46039f\"],[0.2222222222222222,\"#7201a8\"],[0.3333333333333333,\"#9c179e\"],[0.4444444444444444,\"#bd3786\"],[0.5555555555555556,\"#d8576b\"],[0.6666666666666666,\"#ed7953\"],[0.7777777777777778,\"#fb9f3a\"],[0.8888888888888888,\"#fdca26\"],[1.0,\"#f0f921\"]],\"type\":\"heatmapgl\"}],\"heatmap\":[{\"colorbar\":{\"outlinewidth\":0,\"ticks\":\"\"},\"colorscale\":[[0.0,\"#0d0887\"],[0.1111111111111111,\"#46039f\"],[0.2222222222222222,\"#7201a8\"],[0.3333333333333333,\"#9c179e\"],[0.4444444444444444,\"#bd3786\"],[0.5555555555555556,\"#d8576b\"],[0.6666666666666666,\"#ed7953\"],[0.7777777777777778,\"#fb9f3a\"],[0.8888888888888888,\"#fdca26\"],[1.0,\"#f0f921\"]],\"type\":\"heatmap\"}],\"histogram2dcontour\":[{\"colorbar\":{\"outlinewidth\":0,\"ticks\":\"\"},\"colorscale\":[[0.0,\"#0d0887\"],[0.1111111111111111,\"#46039f\"],[0.2222222222222222,\"#7201a8\"],[0.3333333333333333,\"#9c179e\"],[0.4444444444444444,\"#bd3786\"],[0.5555555555555556,\"#d8576b\"],[0.6666666666666666,\"#ed7953\"],[0.7777777777777778,\"#fb9f3a\"],[0.8888888888888888,\"#fdca26\"],[1.0,\"#f0f921\"]],\"type\":\"histogram2dcontour\"}],\"histogram2d\":[{\"colorbar\":{\"outlinewidth\":0,\"ticks\":\"\"},\"colorscale\":[[0.0,\"#0d0887\"],[0.1111111111111111,\"#46039f\"],[0.2222222222222222,\"#7201a8\"],[0.3333333333333333,\"#9c179e\"],[0.4444444444444444,\"#bd3786\"],[0.5555555555555556,\"#d8576b\"],[0.6666666666666666,\"#ed7953\"],[0.7777777777777778,\"#fb9f3a\"],[0.8888888888888888,\"#fdca26\"],[1.0,\"#f0f921\"]],\"type\":\"histogram2d\"}],\"histogram\":[{\"marker\":{\"pattern\":{\"fillmode\":\"overlay\",\"size\":10,\"solidity\":0.2}},\"type\":\"histogram\"}],\"mesh3d\":[{\"colorbar\":{\"outlinewidth\":0,\"ticks\":\"\"},\"type\":\"mesh3d\"}],\"parcoords\":[{\"line\":{\"colorbar\":{\"outlinewidth\":0,\"ticks\":\"\"}},\"type\":\"parcoords\"}],\"pie\":[{\"automargin\":true,\"type\":\"pie\"}],\"scatter3d\":[{\"line\":{\"colorbar\":{\"outlinewidth\":0,\"ticks\":\"\"}},\"marker\":{\"colorbar\":{\"outlinewidth\":0,\"ticks\":\"\"}},\"type\":\"scatter3d\"}],\"scattercarpet\":[{\"marker\":{\"colorbar\":{\"outlinewidth\":0,\"ticks\":\"\"}},\"type\":\"scattercarpet\"}],\"scattergeo\":[{\"marker\":{\"colorbar\":{\"outlinewidth\":0,\"ticks\":\"\"}},\"type\":\"scattergeo\"}],\"scattergl\":[{\"marker\":{\"colorbar\":{\"outlinewidth\":0,\"ticks\":\"\"}},\"type\":\"scattergl\"}],\"scattermapbox\":[{\"marker\":{\"colorbar\":{\"outlinewidth\":0,\"ticks\":\"\"}},\"type\":\"scattermapbox\"}],\"scatterpolargl\":[{\"marker\":{\"colorbar\":{\"outlinewidth\":0,\"ticks\":\"\"}},\"type\":\"scatterpolargl\"}],\"scatterpolar\":[{\"marker\":{\"colorbar\":{\"outlinewidth\":0,\"ticks\":\"\"}},\"type\":\"scatterpolar\"}],\"scatter\":[{\"fillpattern\":{\"fillmode\":\"overlay\",\"size\":10,\"solidity\":0.2},\"type\":\"scatter\"}],\"scatterternary\":[{\"marker\":{\"colorbar\":{\"outlinewidth\":0,\"ticks\":\"\"}},\"type\":\"scatterternary\"}],\"surface\":[{\"colorbar\":{\"outlinewidth\":0,\"ticks\":\"\"},\"colorscale\":[[0.0,\"#0d0887\"],[0.1111111111111111,\"#46039f\"],[0.2222222222222222,\"#7201a8\"],[0.3333333333333333,\"#9c179e\"],[0.4444444444444444,\"#bd3786\"],[0.5555555555555556,\"#d8576b\"],[0.6666666666666666,\"#ed7953\"],[0.7777777777777778,\"#fb9f3a\"],[0.8888888888888888,\"#fdca26\"],[1.0,\"#f0f921\"]],\"type\":\"surface\"}],\"table\":[{\"cells\":{\"fill\":{\"color\":\"#EBF0F8\"},\"line\":{\"color\":\"white\"}},\"header\":{\"fill\":{\"color\":\"#C8D4E3\"},\"line\":{\"color\":\"white\"}},\"type\":\"table\"}]},\"layout\":{\"annotationdefaults\":{\"arrowcolor\":\"#2a3f5f\",\"arrowhead\":0,\"arrowwidth\":1},\"autotypenumbers\":\"strict\",\"coloraxis\":{\"colorbar\":{\"outlinewidth\":0,\"ticks\":\"\"}},\"colorscale\":{\"diverging\":[[0,\"#8e0152\"],[0.1,\"#c51b7d\"],[0.2,\"#de77ae\"],[0.3,\"#f1b6da\"],[0.4,\"#fde0ef\"],[0.5,\"#f7f7f7\"],[0.6,\"#e6f5d0\"],[0.7,\"#b8e186\"],[0.8,\"#7fbc41\"],[0.9,\"#4d9221\"],[1,\"#276419\"]],\"sequential\":[[0.0,\"#0d0887\"],[0.1111111111111111,\"#46039f\"],[0.2222222222222222,\"#7201a8\"],[0.3333333333333333,\"#9c179e\"],[0.4444444444444444,\"#bd3786\"],[0.5555555555555556,\"#d8576b\"],[0.6666666666666666,\"#ed7953\"],[0.7777777777777778,\"#fb9f3a\"],[0.8888888888888888,\"#fdca26\"],[1.0,\"#f0f921\"]],\"sequentialminus\":[[0.0,\"#0d0887\"],[0.1111111111111111,\"#46039f\"],[0.2222222222222222,\"#7201a8\"],[0.3333333333333333,\"#9c179e\"],[0.4444444444444444,\"#bd3786\"],[0.5555555555555556,\"#d8576b\"],[0.6666666666666666,\"#ed7953\"],[0.7777777777777778,\"#fb9f3a\"],[0.8888888888888888,\"#fdca26\"],[1.0,\"#f0f921\"]]},\"colorway\":[\"#636efa\",\"#EF553B\",\"#00cc96\",\"#ab63fa\",\"#FFA15A\",\"#19d3f3\",\"#FF6692\",\"#B6E880\",\"#FF97FF\",\"#FECB52\"],\"font\":{\"color\":\"#2a3f5f\"},\"geo\":{\"bgcolor\":\"white\",\"lakecolor\":\"white\",\"landcolor\":\"#E5ECF6\",\"showlakes\":true,\"showland\":true,\"subunitcolor\":\"white\"},\"hoverlabel\":{\"align\":\"left\"},\"hovermode\":\"closest\",\"mapbox\":{\"style\":\"light\"},\"paper_bgcolor\":\"white\",\"plot_bgcolor\":\"#E5ECF6\",\"polar\":{\"angularaxis\":{\"gridcolor\":\"white\",\"linecolor\":\"white\",\"ticks\":\"\"},\"bgcolor\":\"#E5ECF6\",\"radialaxis\":{\"gridcolor\":\"white\",\"linecolor\":\"white\",\"ticks\":\"\"}},\"scene\":{\"xaxis\":{\"backgroundcolor\":\"#E5ECF6\",\"gridcolor\":\"white\",\"gridwidth\":2,\"linecolor\":\"white\",\"showbackground\":true,\"ticks\":\"\",\"zerolinecolor\":\"white\"},\"yaxis\":{\"backgroundcolor\":\"#E5ECF6\",\"gridcolor\":\"white\",\"gridwidth\":2,\"linecolor\":\"white\",\"showbackground\":true,\"ticks\":\"\",\"zerolinecolor\":\"white\"},\"zaxis\":{\"backgroundcolor\":\"#E5ECF6\",\"gridcolor\":\"white\",\"gridwidth\":2,\"linecolor\":\"white\",\"showbackground\":true,\"ticks\":\"\",\"zerolinecolor\":\"white\"}},\"shapedefaults\":{\"line\":{\"color\":\"#2a3f5f\"}},\"ternary\":{\"aaxis\":{\"gridcolor\":\"white\",\"linecolor\":\"white\",\"ticks\":\"\"},\"baxis\":{\"gridcolor\":\"white\",\"linecolor\":\"white\",\"ticks\":\"\"},\"bgcolor\":\"#E5ECF6\",\"caxis\":{\"gridcolor\":\"white\",\"linecolor\":\"white\",\"ticks\":\"\"}},\"title\":{\"x\":0.05},\"xaxis\":{\"automargin\":true,\"gridcolor\":\"white\",\"linecolor\":\"white\",\"ticks\":\"\",\"title\":{\"standoff\":15},\"zerolinecolor\":\"white\",\"zerolinewidth\":2},\"yaxis\":{\"automargin\":true,\"gridcolor\":\"white\",\"linecolor\":\"white\",\"ticks\":\"\",\"title\":{\"standoff\":15},\"zerolinecolor\":\"white\",\"zerolinewidth\":2}}},\"title\":{\"font\":{\"color\":\"#4D5663\"}},\"xaxis\":{\"gridcolor\":\"#E1E5ED\",\"showgrid\":true,\"tickfont\":{\"color\":\"#4D5663\"},\"title\":{\"font\":{\"color\":\"#4D5663\"},\"text\":\"\"},\"zerolinecolor\":\"#E1E5ED\"},\"yaxis\":{\"gridcolor\":\"#E1E5ED\",\"showgrid\":true,\"tickfont\":{\"color\":\"#4D5663\"},\"title\":{\"font\":{\"color\":\"#4D5663\"},\"text\":\"\"},\"zerolinecolor\":\"#E1E5ED\"}},                        {\"showLink\": true, \"linkText\": \"Export to plot.ly\", \"plotlyServerURL\": \"https://plot.ly\", \"responsive\": true}                    ).then(function(){\n",
       "                            \n",
       "var gd = document.getElementById('d2c3da1f-d06a-460a-8b34-74cf38c71d9c');\n",
       "var x = new MutationObserver(function (mutations, observer) {{\n",
       "        var display = window.getComputedStyle(gd).display;\n",
       "        if (!display || display === 'none') {{\n",
       "            console.log([gd, 'removed!']);\n",
       "            Plotly.purge(gd);\n",
       "            observer.disconnect();\n",
       "        }}\n",
       "}});\n",
       "\n",
       "// Listen for the removal of the full notebook cells\n",
       "var notebookContainer = gd.closest('#notebook-container');\n",
       "if (notebookContainer) {{\n",
       "    x.observe(notebookContainer, {childList: true});\n",
       "}}\n",
       "\n",
       "// Listen for the clearing of the current output cell\n",
       "var outputEl = gd.closest('.output');\n",
       "if (outputEl) {{\n",
       "    x.observe(outputEl, {childList: true});\n",
       "}}\n",
       "\n",
       "                        })                };                });            </script>        </div>"
      ]
     },
     "metadata": {},
     "output_type": "display_data"
    }
   ],
   "source": [
    "nifty_data.iplot(kind='line')"
   ]
  },
  {
   "cell_type": "markdown",
   "metadata": {},
   "source": [
    "#### Gráfico de espalhamento"
   ]
  },
  {
   "cell_type": "markdown",
   "metadata": {},
   "source": [
    "Você precisa mencionar o tipo de gráfico para o tipo dispersão. \n",
    "\n",
    "O tipo pode ser: **lines**, **markers**, **text**, ou uma **combinação de qualquer um deles**."
   ]
  },
  {
   "cell_type": "code",
   "execution_count": 28,
   "metadata": {},
   "outputs": [
    {
     "data": {
      "application/vnd.plotly.v1+json": {
       "config": {
        "linkText": "Export to plot.ly",
        "plotlyServerURL": "https://plot.ly",
        "showLink": true
       },
       "data": [
        {
         "line": {
          "color": "rgba(255, 153, 51, 1.0)",
          "dash": "solid",
          "shape": "linear",
          "width": 1.3
         },
         "marker": {
          "size": 12,
          "symbol": "circle"
         },
         "mode": "markers",
         "name": "NIFTY Bank index",
         "text": "",
         "type": "scatter",
         "x": [
          30234.25,
          30266.2,
          30109.25,
          29799.3,
          29861.8,
          29893.2,
          30123.6,
          30370.45,
          30713.45,
          31145.4,
          31237.1,
          31338.2,
          31371.45,
          31426.75,
          31145.95,
          31153.15,
          31226.9,
          31474.9,
          31149.7,
          31027.05,
          31426.25,
          30936.45,
          30775.3,
          30196.65,
          30435.3,
          30744,
          30934.4,
          30736.6,
          30809.5,
          30528.45,
          30414.55,
          30986.25,
          31039.3,
          30646.75,
          30481.05,
          30360.6,
          30835,
          30636.25,
          30147.6,
          30173.2,
          29965.55,
          29981.2,
          29310.25,
          29138.9,
          29406.2,
          29223.75,
          29530.5,
          28937,
          28056.5,
          28078.75,
          26083,
          26208,
          24707.65,
          24929.85,
          24186.5,
          23970.75,
          25931.6,
          23184.05,
          23935.3,
          24471.7,
          25680.1,
          25740.45,
          25831.55,
          27319.2,
          26358.8,
          26537.75,
          28745.3,
          28839.9,
          28953.2,
          28509.85,
          29686.95,
          29512.3,
          29202.35,
          28598.1,
          28480.6,
          29185.15,
          28786.25,
          28636.7,
          29052.55,
          28778.15,
          28665,
          28669.3,
          27599,
          27138.6,
          26630.2,
          26254.55,
          26759.8,
          26667.8,
          26857.15,
          26746.5,
          26933.65,
          26958.65,
          26694.65,
          26895.75,
          27290.35,
          27887.1,
          27786.1,
          28122.3,
          28222.4,
          28451.6,
          29296.95,
          29571.3,
          29359.85,
          29527,
          29621.55,
          29542,
          29502.15,
          29524.9,
          29503.2,
          29092.45,
          29145.6,
          28701.8,
          28575.35,
          28431.75,
          28648.7,
          28709.45,
          28865.45,
          29355.2,
          29487.4,
          30113.25,
          29757.05,
          29971.65,
          30063.25,
          30232.5,
          30316.2,
          30529.1,
          30647.65,
          30518.2,
          30773.9,
          30671.75,
          30821.15,
          31214.9,
          30932.85,
          31140.45,
          31182.35,
          31439.3,
          31536.35,
          31280.25,
          31051.6,
          31101.9,
          31018.85,
          30819.75
         ],
         "y": [
          32102.9,
          32443.85,
          32069.25,
          31237.15,
          31399.4,
          31373.65,
          32092.4,
          32097.4,
          32177.65,
          32071.65,
          31824.9,
          31853.9,
          31590.65,
          31080.65,
          30947.55,
          30701.45,
          31004.05,
          31241.75,
          30837.4,
          30761.4,
          30877,
          30647.4,
          30833.6,
          29820.9,
          30023.25,
          30686.7,
          31001.95,
          31304.05,
          31201.95,
          31058.15,
          31300.6,
          31492.9,
          31230.25,
          30834.8,
          30680.7,
          30562.5,
          30838.2,
          30942.85,
          30455.1,
          30432.7,
          30306.85,
          30187,
          29147.15,
          28868.4,
          29177.05,
          28653.7,
          28815.35,
          27801.45,
          26462.6,
          26487.8,
          23971.15,
          25166.45,
          23101.15,
          22155.15,
          20580.2,
          20083.5,
          20317.6,
          16917.65,
          17107.3,
          18481.05,
          19613.9,
          19969,
          18782.4,
          19144,
          18208.35,
          17249.3,
          19062.5,
          18946.45,
          19913.6,
          19488,
          19057.05,
          19400,
          20681.45,
          20522.65,
          19409.35,
          19701.85,
          20267.95,
          19586.65,
          20081.15,
          20671.1,
          21090.2,
          21534.5,
          19743.75,
          19271.75,
          19694.55,
          19491.8,
          19352.9,
          18950.5,
          18862.85,
          19634.95,
          19068.5,
          18833.95,
          17573.2,
          17486.25,
          17840.2,
          17735.1,
          17278.9,
          17440.35,
          18710.55,
          19169.8,
          19297.25,
          19959.9,
          20530.2,
          20940.7,
          20390.45,
          21034.5,
          21187.35,
          20724.9,
          21100.1,
          20525.15,
          20654.55,
          19912.9,
          20296.7,
          20201.75,
          20956.3,
          21338.1,
          21708.35,
          22264.9,
          21426.8,
          21506.15,
          21592.05,
          21359,
          21370.15,
          21977.6,
          21953.2,
          21852.4,
          22198.95,
          22628,
          22584.65,
          22907.2,
          22398.45,
          22089.25,
          21392.2,
          21340.75,
          21597.15,
          21966.8,
          22321.85,
          22782,
          22882.6,
          23083.9,
          22662.05,
          21848.75
         ]
        }
       ],
       "layout": {
        "legend": {
         "bgcolor": "#FFFFFF",
         "font": {
          "color": "#4D5663"
         }
        },
        "paper_bgcolor": "#FFFFFF",
        "plot_bgcolor": "#FFFFFF",
        "template": {
         "data": {
          "bar": [
           {
            "error_x": {
             "color": "#2a3f5f"
            },
            "error_y": {
             "color": "#2a3f5f"
            },
            "marker": {
             "line": {
              "color": "#E5ECF6",
              "width": 0.5
             },
             "pattern": {
              "fillmode": "overlay",
              "size": 10,
              "solidity": 0.2
             }
            },
            "type": "bar"
           }
          ],
          "barpolar": [
           {
            "marker": {
             "line": {
              "color": "#E5ECF6",
              "width": 0.5
             },
             "pattern": {
              "fillmode": "overlay",
              "size": 10,
              "solidity": 0.2
             }
            },
            "type": "barpolar"
           }
          ],
          "carpet": [
           {
            "aaxis": {
             "endlinecolor": "#2a3f5f",
             "gridcolor": "white",
             "linecolor": "white",
             "minorgridcolor": "white",
             "startlinecolor": "#2a3f5f"
            },
            "baxis": {
             "endlinecolor": "#2a3f5f",
             "gridcolor": "white",
             "linecolor": "white",
             "minorgridcolor": "white",
             "startlinecolor": "#2a3f5f"
            },
            "type": "carpet"
           }
          ],
          "choropleth": [
           {
            "colorbar": {
             "outlinewidth": 0,
             "ticks": ""
            },
            "type": "choropleth"
           }
          ],
          "contour": [
           {
            "colorbar": {
             "outlinewidth": 0,
             "ticks": ""
            },
            "colorscale": [
             [
              0,
              "#0d0887"
             ],
             [
              0.1111111111111111,
              "#46039f"
             ],
             [
              0.2222222222222222,
              "#7201a8"
             ],
             [
              0.3333333333333333,
              "#9c179e"
             ],
             [
              0.4444444444444444,
              "#bd3786"
             ],
             [
              0.5555555555555556,
              "#d8576b"
             ],
             [
              0.6666666666666666,
              "#ed7953"
             ],
             [
              0.7777777777777778,
              "#fb9f3a"
             ],
             [
              0.8888888888888888,
              "#fdca26"
             ],
             [
              1,
              "#f0f921"
             ]
            ],
            "type": "contour"
           }
          ],
          "contourcarpet": [
           {
            "colorbar": {
             "outlinewidth": 0,
             "ticks": ""
            },
            "type": "contourcarpet"
           }
          ],
          "heatmap": [
           {
            "colorbar": {
             "outlinewidth": 0,
             "ticks": ""
            },
            "colorscale": [
             [
              0,
              "#0d0887"
             ],
             [
              0.1111111111111111,
              "#46039f"
             ],
             [
              0.2222222222222222,
              "#7201a8"
             ],
             [
              0.3333333333333333,
              "#9c179e"
             ],
             [
              0.4444444444444444,
              "#bd3786"
             ],
             [
              0.5555555555555556,
              "#d8576b"
             ],
             [
              0.6666666666666666,
              "#ed7953"
             ],
             [
              0.7777777777777778,
              "#fb9f3a"
             ],
             [
              0.8888888888888888,
              "#fdca26"
             ],
             [
              1,
              "#f0f921"
             ]
            ],
            "type": "heatmap"
           }
          ],
          "heatmapgl": [
           {
            "colorbar": {
             "outlinewidth": 0,
             "ticks": ""
            },
            "colorscale": [
             [
              0,
              "#0d0887"
             ],
             [
              0.1111111111111111,
              "#46039f"
             ],
             [
              0.2222222222222222,
              "#7201a8"
             ],
             [
              0.3333333333333333,
              "#9c179e"
             ],
             [
              0.4444444444444444,
              "#bd3786"
             ],
             [
              0.5555555555555556,
              "#d8576b"
             ],
             [
              0.6666666666666666,
              "#ed7953"
             ],
             [
              0.7777777777777778,
              "#fb9f3a"
             ],
             [
              0.8888888888888888,
              "#fdca26"
             ],
             [
              1,
              "#f0f921"
             ]
            ],
            "type": "heatmapgl"
           }
          ],
          "histogram": [
           {
            "marker": {
             "pattern": {
              "fillmode": "overlay",
              "size": 10,
              "solidity": 0.2
             }
            },
            "type": "histogram"
           }
          ],
          "histogram2d": [
           {
            "colorbar": {
             "outlinewidth": 0,
             "ticks": ""
            },
            "colorscale": [
             [
              0,
              "#0d0887"
             ],
             [
              0.1111111111111111,
              "#46039f"
             ],
             [
              0.2222222222222222,
              "#7201a8"
             ],
             [
              0.3333333333333333,
              "#9c179e"
             ],
             [
              0.4444444444444444,
              "#bd3786"
             ],
             [
              0.5555555555555556,
              "#d8576b"
             ],
             [
              0.6666666666666666,
              "#ed7953"
             ],
             [
              0.7777777777777778,
              "#fb9f3a"
             ],
             [
              0.8888888888888888,
              "#fdca26"
             ],
             [
              1,
              "#f0f921"
             ]
            ],
            "type": "histogram2d"
           }
          ],
          "histogram2dcontour": [
           {
            "colorbar": {
             "outlinewidth": 0,
             "ticks": ""
            },
            "colorscale": [
             [
              0,
              "#0d0887"
             ],
             [
              0.1111111111111111,
              "#46039f"
             ],
             [
              0.2222222222222222,
              "#7201a8"
             ],
             [
              0.3333333333333333,
              "#9c179e"
             ],
             [
              0.4444444444444444,
              "#bd3786"
             ],
             [
              0.5555555555555556,
              "#d8576b"
             ],
             [
              0.6666666666666666,
              "#ed7953"
             ],
             [
              0.7777777777777778,
              "#fb9f3a"
             ],
             [
              0.8888888888888888,
              "#fdca26"
             ],
             [
              1,
              "#f0f921"
             ]
            ],
            "type": "histogram2dcontour"
           }
          ],
          "mesh3d": [
           {
            "colorbar": {
             "outlinewidth": 0,
             "ticks": ""
            },
            "type": "mesh3d"
           }
          ],
          "parcoords": [
           {
            "line": {
             "colorbar": {
              "outlinewidth": 0,
              "ticks": ""
             }
            },
            "type": "parcoords"
           }
          ],
          "pie": [
           {
            "automargin": true,
            "type": "pie"
           }
          ],
          "scatter": [
           {
            "fillpattern": {
             "fillmode": "overlay",
             "size": 10,
             "solidity": 0.2
            },
            "type": "scatter"
           }
          ],
          "scatter3d": [
           {
            "line": {
             "colorbar": {
              "outlinewidth": 0,
              "ticks": ""
             }
            },
            "marker": {
             "colorbar": {
              "outlinewidth": 0,
              "ticks": ""
             }
            },
            "type": "scatter3d"
           }
          ],
          "scattercarpet": [
           {
            "marker": {
             "colorbar": {
              "outlinewidth": 0,
              "ticks": ""
             }
            },
            "type": "scattercarpet"
           }
          ],
          "scattergeo": [
           {
            "marker": {
             "colorbar": {
              "outlinewidth": 0,
              "ticks": ""
             }
            },
            "type": "scattergeo"
           }
          ],
          "scattergl": [
           {
            "marker": {
             "colorbar": {
              "outlinewidth": 0,
              "ticks": ""
             }
            },
            "type": "scattergl"
           }
          ],
          "scattermapbox": [
           {
            "marker": {
             "colorbar": {
              "outlinewidth": 0,
              "ticks": ""
             }
            },
            "type": "scattermapbox"
           }
          ],
          "scatterpolar": [
           {
            "marker": {
             "colorbar": {
              "outlinewidth": 0,
              "ticks": ""
             }
            },
            "type": "scatterpolar"
           }
          ],
          "scatterpolargl": [
           {
            "marker": {
             "colorbar": {
              "outlinewidth": 0,
              "ticks": ""
             }
            },
            "type": "scatterpolargl"
           }
          ],
          "scatterternary": [
           {
            "marker": {
             "colorbar": {
              "outlinewidth": 0,
              "ticks": ""
             }
            },
            "type": "scatterternary"
           }
          ],
          "surface": [
           {
            "colorbar": {
             "outlinewidth": 0,
             "ticks": ""
            },
            "colorscale": [
             [
              0,
              "#0d0887"
             ],
             [
              0.1111111111111111,
              "#46039f"
             ],
             [
              0.2222222222222222,
              "#7201a8"
             ],
             [
              0.3333333333333333,
              "#9c179e"
             ],
             [
              0.4444444444444444,
              "#bd3786"
             ],
             [
              0.5555555555555556,
              "#d8576b"
             ],
             [
              0.6666666666666666,
              "#ed7953"
             ],
             [
              0.7777777777777778,
              "#fb9f3a"
             ],
             [
              0.8888888888888888,
              "#fdca26"
             ],
             [
              1,
              "#f0f921"
             ]
            ],
            "type": "surface"
           }
          ],
          "table": [
           {
            "cells": {
             "fill": {
              "color": "#EBF0F8"
             },
             "line": {
              "color": "white"
             }
            },
            "header": {
             "fill": {
              "color": "#C8D4E3"
             },
             "line": {
              "color": "white"
             }
            },
            "type": "table"
           }
          ]
         },
         "layout": {
          "annotationdefaults": {
           "arrowcolor": "#2a3f5f",
           "arrowhead": 0,
           "arrowwidth": 1
          },
          "autotypenumbers": "strict",
          "coloraxis": {
           "colorbar": {
            "outlinewidth": 0,
            "ticks": ""
           }
          },
          "colorscale": {
           "diverging": [
            [
             0,
             "#8e0152"
            ],
            [
             0.1,
             "#c51b7d"
            ],
            [
             0.2,
             "#de77ae"
            ],
            [
             0.3,
             "#f1b6da"
            ],
            [
             0.4,
             "#fde0ef"
            ],
            [
             0.5,
             "#f7f7f7"
            ],
            [
             0.6,
             "#e6f5d0"
            ],
            [
             0.7,
             "#b8e186"
            ],
            [
             0.8,
             "#7fbc41"
            ],
            [
             0.9,
             "#4d9221"
            ],
            [
             1,
             "#276419"
            ]
           ],
           "sequential": [
            [
             0,
             "#0d0887"
            ],
            [
             0.1111111111111111,
             "#46039f"
            ],
            [
             0.2222222222222222,
             "#7201a8"
            ],
            [
             0.3333333333333333,
             "#9c179e"
            ],
            [
             0.4444444444444444,
             "#bd3786"
            ],
            [
             0.5555555555555556,
             "#d8576b"
            ],
            [
             0.6666666666666666,
             "#ed7953"
            ],
            [
             0.7777777777777778,
             "#fb9f3a"
            ],
            [
             0.8888888888888888,
             "#fdca26"
            ],
            [
             1,
             "#f0f921"
            ]
           ],
           "sequentialminus": [
            [
             0,
             "#0d0887"
            ],
            [
             0.1111111111111111,
             "#46039f"
            ],
            [
             0.2222222222222222,
             "#7201a8"
            ],
            [
             0.3333333333333333,
             "#9c179e"
            ],
            [
             0.4444444444444444,
             "#bd3786"
            ],
            [
             0.5555555555555556,
             "#d8576b"
            ],
            [
             0.6666666666666666,
             "#ed7953"
            ],
            [
             0.7777777777777778,
             "#fb9f3a"
            ],
            [
             0.8888888888888888,
             "#fdca26"
            ],
            [
             1,
             "#f0f921"
            ]
           ]
          },
          "colorway": [
           "#636efa",
           "#EF553B",
           "#00cc96",
           "#ab63fa",
           "#FFA15A",
           "#19d3f3",
           "#FF6692",
           "#B6E880",
           "#FF97FF",
           "#FECB52"
          ],
          "font": {
           "color": "#2a3f5f"
          },
          "geo": {
           "bgcolor": "white",
           "lakecolor": "white",
           "landcolor": "#E5ECF6",
           "showlakes": true,
           "showland": true,
           "subunitcolor": "white"
          },
          "hoverlabel": {
           "align": "left"
          },
          "hovermode": "closest",
          "mapbox": {
           "style": "light"
          },
          "paper_bgcolor": "white",
          "plot_bgcolor": "#E5ECF6",
          "polar": {
           "angularaxis": {
            "gridcolor": "white",
            "linecolor": "white",
            "ticks": ""
           },
           "bgcolor": "#E5ECF6",
           "radialaxis": {
            "gridcolor": "white",
            "linecolor": "white",
            "ticks": ""
           }
          },
          "scene": {
           "xaxis": {
            "backgroundcolor": "#E5ECF6",
            "gridcolor": "white",
            "gridwidth": 2,
            "linecolor": "white",
            "showbackground": true,
            "ticks": "",
            "zerolinecolor": "white"
           },
           "yaxis": {
            "backgroundcolor": "#E5ECF6",
            "gridcolor": "white",
            "gridwidth": 2,
            "linecolor": "white",
            "showbackground": true,
            "ticks": "",
            "zerolinecolor": "white"
           },
           "zaxis": {
            "backgroundcolor": "#E5ECF6",
            "gridcolor": "white",
            "gridwidth": 2,
            "linecolor": "white",
            "showbackground": true,
            "ticks": "",
            "zerolinecolor": "white"
           }
          },
          "shapedefaults": {
           "line": {
            "color": "#2a3f5f"
           }
          },
          "ternary": {
           "aaxis": {
            "gridcolor": "white",
            "linecolor": "white",
            "ticks": ""
           },
           "baxis": {
            "gridcolor": "white",
            "linecolor": "white",
            "ticks": ""
           },
           "bgcolor": "#E5ECF6",
           "caxis": {
            "gridcolor": "white",
            "linecolor": "white",
            "ticks": ""
           }
          },
          "title": {
           "x": 0.05
          },
          "xaxis": {
           "automargin": true,
           "gridcolor": "white",
           "linecolor": "white",
           "ticks": "",
           "title": {
            "standoff": 15
           },
           "zerolinecolor": "white",
           "zerolinewidth": 2
          },
          "yaxis": {
           "automargin": true,
           "gridcolor": "white",
           "linecolor": "white",
           "ticks": "",
           "title": {
            "standoff": 15
           },
           "zerolinecolor": "white",
           "zerolinewidth": 2
          }
         }
        },
        "title": {
         "font": {
          "color": "#4D5663"
         }
        },
        "xaxis": {
         "gridcolor": "#E1E5ED",
         "showgrid": true,
         "tickfont": {
          "color": "#4D5663"
         },
         "title": {
          "font": {
           "color": "#4D5663"
          },
          "text": ""
         },
         "zerolinecolor": "#E1E5ED"
        },
        "yaxis": {
         "gridcolor": "#E1E5ED",
         "showgrid": true,
         "tickfont": {
          "color": "#4D5663"
         },
         "title": {
          "font": {
           "color": "#4D5663"
          },
          "text": ""
         },
         "zerolinecolor": "#E1E5ED"
        }
       }
      },
      "text/html": [
       "<div>                            <div id=\"e84094d9-b48d-4d07-ae63-74473620fc5b\" class=\"plotly-graph-div\" style=\"height:525px; width:100%;\"></div>            <script type=\"text/javascript\">                require([\"plotly\"], function(Plotly) {                    window.PLOTLYENV=window.PLOTLYENV || {};\n",
       "                    window.PLOTLYENV.BASE_URL='https://plot.ly';                                    if (document.getElementById(\"e84094d9-b48d-4d07-ae63-74473620fc5b\")) {                    Plotly.newPlot(                        \"e84094d9-b48d-4d07-ae63-74473620fc5b\",                        [{\"line\":{\"color\":\"rgba(255, 153, 51, 1.0)\",\"dash\":\"solid\",\"shape\":\"linear\",\"width\":1.3},\"marker\":{\"size\":12,\"symbol\":\"circle\"},\"mode\":\"markers\",\"name\":\"NIFTY Bank index\",\"text\":\"\",\"x\":[30234.25,30266.2,30109.25,29799.3,29861.8,29893.2,30123.6,30370.45,30713.45,31145.4,31237.1,31338.2,31371.45,31426.75,31145.95,31153.15,31226.9,31474.9,31149.7,31027.05,31426.25,30936.45,30775.3,30196.65,30435.3,30744.0,30934.4,30736.6,30809.5,30528.45,30414.55,30986.25,31039.3,30646.75,30481.05,30360.6,30835.0,30636.25,30147.6,30173.2,29965.55,29981.2,29310.25,29138.9,29406.2,29223.75,29530.5,28937.0,28056.5,28078.75,26083.0,26208.0,24707.65,24929.85,24186.5,23970.75,25931.6,23184.05,23935.3,24471.7,25680.1,25740.45,25831.55,27319.2,26358.8,26537.75,28745.3,28839.9,28953.2,28509.85,29686.95,29512.3,29202.35,28598.1,28480.6,29185.15,28786.25,28636.7,29052.55,28778.15,28665.0,28669.3,27599.0,27138.6,26630.2,26254.55,26759.8,26667.8,26857.15,26746.5,26933.65,26958.65,26694.65,26895.75,27290.35,27887.1,27786.1,28122.3,28222.4,28451.6,29296.95,29571.3,29359.85,29527.0,29621.55,29542.0,29502.15,29524.9,29503.2,29092.45,29145.6,28701.8,28575.35,28431.75,28648.7,28709.45,28865.45,29355.2,29487.4,30113.25,29757.05,29971.65,30063.25,30232.5,30316.2,30529.1,30647.65,30518.2,30773.9,30671.75,30821.15,31214.9,30932.85,31140.45,31182.35,31439.3,31536.35,31280.25,31051.6,31101.9,31018.85,30819.75],\"y\":[32102.9,32443.85,32069.25,31237.15,31399.4,31373.65,32092.4,32097.4,32177.65,32071.65,31824.9,31853.9,31590.65,31080.65,30947.55,30701.45,31004.05,31241.75,30837.4,30761.4,30877.0,30647.4,30833.6,29820.9,30023.25,30686.7,31001.95,31304.05,31201.95,31058.15,31300.6,31492.9,31230.25,30834.8,30680.7,30562.5,30838.2,30942.85,30455.1,30432.7,30306.85,30187.0,29147.15,28868.4,29177.05,28653.7,28815.35,27801.45,26462.6,26487.8,23971.15,25166.45,23101.15,22155.15,20580.2,20083.5,20317.6,16917.65,17107.3,18481.05,19613.9,19969.0,18782.4,19144.0,18208.35,17249.3,19062.5,18946.45,19913.6,19488.0,19057.05,19400.0,20681.45,20522.65,19409.35,19701.85,20267.95,19586.65,20081.15,20671.1,21090.2,21534.5,19743.75,19271.75,19694.55,19491.8,19352.9,18950.5,18862.85,19634.95,19068.5,18833.95,17573.2,17486.25,17840.2,17735.1,17278.9,17440.35,18710.55,19169.8,19297.25,19959.9,20530.2,20940.7,20390.45,21034.5,21187.35,20724.9,21100.1,20525.15,20654.55,19912.9,20296.7,20201.75,20956.3,21338.1,21708.35,22264.9,21426.8,21506.15,21592.05,21359.0,21370.15,21977.6,21953.2,21852.4,22198.95,22628.0,22584.65,22907.2,22398.45,22089.25,21392.2,21340.75,21597.15,21966.8,22321.85,22782.0,22882.6,23083.9,22662.05,21848.75],\"type\":\"scatter\"}],                        {\"legend\":{\"bgcolor\":\"#FFFFFF\",\"font\":{\"color\":\"#4D5663\"}},\"paper_bgcolor\":\"#FFFFFF\",\"plot_bgcolor\":\"#FFFFFF\",\"template\":{\"data\":{\"barpolar\":[{\"marker\":{\"line\":{\"color\":\"#E5ECF6\",\"width\":0.5},\"pattern\":{\"fillmode\":\"overlay\",\"size\":10,\"solidity\":0.2}},\"type\":\"barpolar\"}],\"bar\":[{\"error_x\":{\"color\":\"#2a3f5f\"},\"error_y\":{\"color\":\"#2a3f5f\"},\"marker\":{\"line\":{\"color\":\"#E5ECF6\",\"width\":0.5},\"pattern\":{\"fillmode\":\"overlay\",\"size\":10,\"solidity\":0.2}},\"type\":\"bar\"}],\"carpet\":[{\"aaxis\":{\"endlinecolor\":\"#2a3f5f\",\"gridcolor\":\"white\",\"linecolor\":\"white\",\"minorgridcolor\":\"white\",\"startlinecolor\":\"#2a3f5f\"},\"baxis\":{\"endlinecolor\":\"#2a3f5f\",\"gridcolor\":\"white\",\"linecolor\":\"white\",\"minorgridcolor\":\"white\",\"startlinecolor\":\"#2a3f5f\"},\"type\":\"carpet\"}],\"choropleth\":[{\"colorbar\":{\"outlinewidth\":0,\"ticks\":\"\"},\"type\":\"choropleth\"}],\"contourcarpet\":[{\"colorbar\":{\"outlinewidth\":0,\"ticks\":\"\"},\"type\":\"contourcarpet\"}],\"contour\":[{\"colorbar\":{\"outlinewidth\":0,\"ticks\":\"\"},\"colorscale\":[[0.0,\"#0d0887\"],[0.1111111111111111,\"#46039f\"],[0.2222222222222222,\"#7201a8\"],[0.3333333333333333,\"#9c179e\"],[0.4444444444444444,\"#bd3786\"],[0.5555555555555556,\"#d8576b\"],[0.6666666666666666,\"#ed7953\"],[0.7777777777777778,\"#fb9f3a\"],[0.8888888888888888,\"#fdca26\"],[1.0,\"#f0f921\"]],\"type\":\"contour\"}],\"heatmapgl\":[{\"colorbar\":{\"outlinewidth\":0,\"ticks\":\"\"},\"colorscale\":[[0.0,\"#0d0887\"],[0.1111111111111111,\"#46039f\"],[0.2222222222222222,\"#7201a8\"],[0.3333333333333333,\"#9c179e\"],[0.4444444444444444,\"#bd3786\"],[0.5555555555555556,\"#d8576b\"],[0.6666666666666666,\"#ed7953\"],[0.7777777777777778,\"#fb9f3a\"],[0.8888888888888888,\"#fdca26\"],[1.0,\"#f0f921\"]],\"type\":\"heatmapgl\"}],\"heatmap\":[{\"colorbar\":{\"outlinewidth\":0,\"ticks\":\"\"},\"colorscale\":[[0.0,\"#0d0887\"],[0.1111111111111111,\"#46039f\"],[0.2222222222222222,\"#7201a8\"],[0.3333333333333333,\"#9c179e\"],[0.4444444444444444,\"#bd3786\"],[0.5555555555555556,\"#d8576b\"],[0.6666666666666666,\"#ed7953\"],[0.7777777777777778,\"#fb9f3a\"],[0.8888888888888888,\"#fdca26\"],[1.0,\"#f0f921\"]],\"type\":\"heatmap\"}],\"histogram2dcontour\":[{\"colorbar\":{\"outlinewidth\":0,\"ticks\":\"\"},\"colorscale\":[[0.0,\"#0d0887\"],[0.1111111111111111,\"#46039f\"],[0.2222222222222222,\"#7201a8\"],[0.3333333333333333,\"#9c179e\"],[0.4444444444444444,\"#bd3786\"],[0.5555555555555556,\"#d8576b\"],[0.6666666666666666,\"#ed7953\"],[0.7777777777777778,\"#fb9f3a\"],[0.8888888888888888,\"#fdca26\"],[1.0,\"#f0f921\"]],\"type\":\"histogram2dcontour\"}],\"histogram2d\":[{\"colorbar\":{\"outlinewidth\":0,\"ticks\":\"\"},\"colorscale\":[[0.0,\"#0d0887\"],[0.1111111111111111,\"#46039f\"],[0.2222222222222222,\"#7201a8\"],[0.3333333333333333,\"#9c179e\"],[0.4444444444444444,\"#bd3786\"],[0.5555555555555556,\"#d8576b\"],[0.6666666666666666,\"#ed7953\"],[0.7777777777777778,\"#fb9f3a\"],[0.8888888888888888,\"#fdca26\"],[1.0,\"#f0f921\"]],\"type\":\"histogram2d\"}],\"histogram\":[{\"marker\":{\"pattern\":{\"fillmode\":\"overlay\",\"size\":10,\"solidity\":0.2}},\"type\":\"histogram\"}],\"mesh3d\":[{\"colorbar\":{\"outlinewidth\":0,\"ticks\":\"\"},\"type\":\"mesh3d\"}],\"parcoords\":[{\"line\":{\"colorbar\":{\"outlinewidth\":0,\"ticks\":\"\"}},\"type\":\"parcoords\"}],\"pie\":[{\"automargin\":true,\"type\":\"pie\"}],\"scatter3d\":[{\"line\":{\"colorbar\":{\"outlinewidth\":0,\"ticks\":\"\"}},\"marker\":{\"colorbar\":{\"outlinewidth\":0,\"ticks\":\"\"}},\"type\":\"scatter3d\"}],\"scattercarpet\":[{\"marker\":{\"colorbar\":{\"outlinewidth\":0,\"ticks\":\"\"}},\"type\":\"scattercarpet\"}],\"scattergeo\":[{\"marker\":{\"colorbar\":{\"outlinewidth\":0,\"ticks\":\"\"}},\"type\":\"scattergeo\"}],\"scattergl\":[{\"marker\":{\"colorbar\":{\"outlinewidth\":0,\"ticks\":\"\"}},\"type\":\"scattergl\"}],\"scattermapbox\":[{\"marker\":{\"colorbar\":{\"outlinewidth\":0,\"ticks\":\"\"}},\"type\":\"scattermapbox\"}],\"scatterpolargl\":[{\"marker\":{\"colorbar\":{\"outlinewidth\":0,\"ticks\":\"\"}},\"type\":\"scatterpolargl\"}],\"scatterpolar\":[{\"marker\":{\"colorbar\":{\"outlinewidth\":0,\"ticks\":\"\"}},\"type\":\"scatterpolar\"}],\"scatter\":[{\"fillpattern\":{\"fillmode\":\"overlay\",\"size\":10,\"solidity\":0.2},\"type\":\"scatter\"}],\"scatterternary\":[{\"marker\":{\"colorbar\":{\"outlinewidth\":0,\"ticks\":\"\"}},\"type\":\"scatterternary\"}],\"surface\":[{\"colorbar\":{\"outlinewidth\":0,\"ticks\":\"\"},\"colorscale\":[[0.0,\"#0d0887\"],[0.1111111111111111,\"#46039f\"],[0.2222222222222222,\"#7201a8\"],[0.3333333333333333,\"#9c179e\"],[0.4444444444444444,\"#bd3786\"],[0.5555555555555556,\"#d8576b\"],[0.6666666666666666,\"#ed7953\"],[0.7777777777777778,\"#fb9f3a\"],[0.8888888888888888,\"#fdca26\"],[1.0,\"#f0f921\"]],\"type\":\"surface\"}],\"table\":[{\"cells\":{\"fill\":{\"color\":\"#EBF0F8\"},\"line\":{\"color\":\"white\"}},\"header\":{\"fill\":{\"color\":\"#C8D4E3\"},\"line\":{\"color\":\"white\"}},\"type\":\"table\"}]},\"layout\":{\"annotationdefaults\":{\"arrowcolor\":\"#2a3f5f\",\"arrowhead\":0,\"arrowwidth\":1},\"autotypenumbers\":\"strict\",\"coloraxis\":{\"colorbar\":{\"outlinewidth\":0,\"ticks\":\"\"}},\"colorscale\":{\"diverging\":[[0,\"#8e0152\"],[0.1,\"#c51b7d\"],[0.2,\"#de77ae\"],[0.3,\"#f1b6da\"],[0.4,\"#fde0ef\"],[0.5,\"#f7f7f7\"],[0.6,\"#e6f5d0\"],[0.7,\"#b8e186\"],[0.8,\"#7fbc41\"],[0.9,\"#4d9221\"],[1,\"#276419\"]],\"sequential\":[[0.0,\"#0d0887\"],[0.1111111111111111,\"#46039f\"],[0.2222222222222222,\"#7201a8\"],[0.3333333333333333,\"#9c179e\"],[0.4444444444444444,\"#bd3786\"],[0.5555555555555556,\"#d8576b\"],[0.6666666666666666,\"#ed7953\"],[0.7777777777777778,\"#fb9f3a\"],[0.8888888888888888,\"#fdca26\"],[1.0,\"#f0f921\"]],\"sequentialminus\":[[0.0,\"#0d0887\"],[0.1111111111111111,\"#46039f\"],[0.2222222222222222,\"#7201a8\"],[0.3333333333333333,\"#9c179e\"],[0.4444444444444444,\"#bd3786\"],[0.5555555555555556,\"#d8576b\"],[0.6666666666666666,\"#ed7953\"],[0.7777777777777778,\"#fb9f3a\"],[0.8888888888888888,\"#fdca26\"],[1.0,\"#f0f921\"]]},\"colorway\":[\"#636efa\",\"#EF553B\",\"#00cc96\",\"#ab63fa\",\"#FFA15A\",\"#19d3f3\",\"#FF6692\",\"#B6E880\",\"#FF97FF\",\"#FECB52\"],\"font\":{\"color\":\"#2a3f5f\"},\"geo\":{\"bgcolor\":\"white\",\"lakecolor\":\"white\",\"landcolor\":\"#E5ECF6\",\"showlakes\":true,\"showland\":true,\"subunitcolor\":\"white\"},\"hoverlabel\":{\"align\":\"left\"},\"hovermode\":\"closest\",\"mapbox\":{\"style\":\"light\"},\"paper_bgcolor\":\"white\",\"plot_bgcolor\":\"#E5ECF6\",\"polar\":{\"angularaxis\":{\"gridcolor\":\"white\",\"linecolor\":\"white\",\"ticks\":\"\"},\"bgcolor\":\"#E5ECF6\",\"radialaxis\":{\"gridcolor\":\"white\",\"linecolor\":\"white\",\"ticks\":\"\"}},\"scene\":{\"xaxis\":{\"backgroundcolor\":\"#E5ECF6\",\"gridcolor\":\"white\",\"gridwidth\":2,\"linecolor\":\"white\",\"showbackground\":true,\"ticks\":\"\",\"zerolinecolor\":\"white\"},\"yaxis\":{\"backgroundcolor\":\"#E5ECF6\",\"gridcolor\":\"white\",\"gridwidth\":2,\"linecolor\":\"white\",\"showbackground\":true,\"ticks\":\"\",\"zerolinecolor\":\"white\"},\"zaxis\":{\"backgroundcolor\":\"#E5ECF6\",\"gridcolor\":\"white\",\"gridwidth\":2,\"linecolor\":\"white\",\"showbackground\":true,\"ticks\":\"\",\"zerolinecolor\":\"white\"}},\"shapedefaults\":{\"line\":{\"color\":\"#2a3f5f\"}},\"ternary\":{\"aaxis\":{\"gridcolor\":\"white\",\"linecolor\":\"white\",\"ticks\":\"\"},\"baxis\":{\"gridcolor\":\"white\",\"linecolor\":\"white\",\"ticks\":\"\"},\"bgcolor\":\"#E5ECF6\",\"caxis\":{\"gridcolor\":\"white\",\"linecolor\":\"white\",\"ticks\":\"\"}},\"title\":{\"x\":0.05},\"xaxis\":{\"automargin\":true,\"gridcolor\":\"white\",\"linecolor\":\"white\",\"ticks\":\"\",\"title\":{\"standoff\":15},\"zerolinecolor\":\"white\",\"zerolinewidth\":2},\"yaxis\":{\"automargin\":true,\"gridcolor\":\"white\",\"linecolor\":\"white\",\"ticks\":\"\",\"title\":{\"standoff\":15},\"zerolinecolor\":\"white\",\"zerolinewidth\":2}}},\"title\":{\"font\":{\"color\":\"#4D5663\"}},\"xaxis\":{\"gridcolor\":\"#E1E5ED\",\"showgrid\":true,\"tickfont\":{\"color\":\"#4D5663\"},\"title\":{\"font\":{\"color\":\"#4D5663\"},\"text\":\"\"},\"zerolinecolor\":\"#E1E5ED\"},\"yaxis\":{\"gridcolor\":\"#E1E5ED\",\"showgrid\":true,\"tickfont\":{\"color\":\"#4D5663\"},\"title\":{\"font\":{\"color\":\"#4D5663\"},\"text\":\"\"},\"zerolinecolor\":\"#E1E5ED\"}},                        {\"showLink\": true, \"linkText\": \"Export to plot.ly\", \"plotlyServerURL\": \"https://plot.ly\", \"responsive\": true}                    ).then(function(){\n",
       "                            \n",
       "var gd = document.getElementById('e84094d9-b48d-4d07-ae63-74473620fc5b');\n",
       "var x = new MutationObserver(function (mutations, observer) {{\n",
       "        var display = window.getComputedStyle(gd).display;\n",
       "        if (!display || display === 'none') {{\n",
       "            console.log([gd, 'removed!']);\n",
       "            Plotly.purge(gd);\n",
       "            observer.disconnect();\n",
       "        }}\n",
       "}});\n",
       "\n",
       "// Listen for the removal of the full notebook cells\n",
       "var notebookContainer = gd.closest('#notebook-container');\n",
       "if (notebookContainer) {{\n",
       "    x.observe(notebookContainer, {childList: true});\n",
       "}}\n",
       "\n",
       "// Listen for the clearing of the current output cell\n",
       "var outputEl = gd.closest('.output');\n",
       "if (outputEl) {{\n",
       "    x.observe(outputEl, {childList: true});\n",
       "}}\n",
       "\n",
       "                        })                };                });            </script>        </div>"
      ]
     },
     "metadata": {},
     "output_type": "display_data"
    }
   ],
   "source": [
    "nifty_data.iplot(kind='scatter', x='NIFTY FMCG index', y='NIFTY Bank index', mode='markers')"
   ]
  },
  {
   "cell_type": "markdown",
   "metadata": {},
   "source": [
    "#### Gráfico de histograma"
   ]
  },
  {
   "cell_type": "code",
   "execution_count": 29,
   "metadata": {},
   "outputs": [
    {
     "data": {
      "application/vnd.plotly.v1+json": {
       "config": {
        "linkText": "Export to plot.ly",
        "plotlyServerURL": "https://plot.ly",
        "showLink": true
       },
       "data": [
        {
         "histfunc": "count",
         "histnorm": "",
         "marker": {
          "color": "rgba(255, 153, 51, 1.0)",
          "line": {
           "color": "#4D5663",
           "width": 1.3
          }
         },
         "name": "NIFTY FMCG index",
         "nbinsx": 30,
         "opacity": 0.8,
         "orientation": "v",
         "type": "histogram",
         "x": [
          30234.25,
          30266.2,
          30109.25,
          29799.3,
          29861.8,
          29893.2,
          30123.6,
          30370.45,
          30713.45,
          31145.4,
          31237.1,
          31338.2,
          31371.45,
          31426.75,
          31145.95,
          31153.15,
          31226.9,
          31474.9,
          31149.7,
          31027.05,
          31426.25,
          30936.45,
          30775.3,
          30196.65,
          30435.3,
          30744,
          30934.4,
          30736.6,
          30809.5,
          30528.45,
          30414.55,
          30986.25,
          31039.3,
          30646.75,
          30481.05,
          30360.6,
          30835,
          30636.25,
          30147.6,
          30173.2,
          29965.55,
          29981.2,
          29310.25,
          29138.9,
          29406.2,
          29223.75,
          29530.5,
          28937,
          28056.5,
          28078.75,
          26083,
          26208,
          24707.65,
          24929.85,
          24186.5,
          23970.75,
          25931.6,
          23184.05,
          23935.3,
          24471.7,
          25680.1,
          25740.45,
          25831.55,
          27319.2,
          26358.8,
          26537.75,
          28745.3,
          28839.9,
          28953.2,
          28509.85,
          29686.95,
          29512.3,
          29202.35,
          28598.1,
          28480.6,
          29185.15,
          28786.25,
          28636.7,
          29052.55,
          28778.15,
          28665,
          28669.3,
          27599,
          27138.6,
          26630.2,
          26254.55,
          26759.8,
          26667.8,
          26857.15,
          26746.5,
          26933.65,
          26958.65,
          26694.65,
          26895.75,
          27290.35,
          27887.1,
          27786.1,
          28122.3,
          28222.4,
          28451.6,
          29296.95,
          29571.3,
          29359.85,
          29527,
          29621.55,
          29542,
          29502.15,
          29524.9,
          29503.2,
          29092.45,
          29145.6,
          28701.8,
          28575.35,
          28431.75,
          28648.7,
          28709.45,
          28865.45,
          29355.2,
          29487.4,
          30113.25,
          29757.05,
          29971.65,
          30063.25,
          30232.5,
          30316.2,
          30529.1,
          30647.65,
          30518.2,
          30773.9,
          30671.75,
          30821.15,
          31214.9,
          30932.85,
          31140.45,
          31182.35,
          31439.3,
          31536.35,
          31280.25,
          31051.6,
          31101.9,
          31018.85,
          30819.75
         ]
        },
        {
         "histfunc": "count",
         "histnorm": "",
         "marker": {
          "color": "rgba(55, 128, 191, 1.0)",
          "line": {
           "color": "#4D5663",
           "width": 1.3
          }
         },
         "name": "NIFTY Bank index",
         "nbinsx": 30,
         "opacity": 0.8,
         "orientation": "v",
         "type": "histogram",
         "x": [
          32102.9,
          32443.85,
          32069.25,
          31237.15,
          31399.4,
          31373.65,
          32092.4,
          32097.4,
          32177.65,
          32071.65,
          31824.9,
          31853.9,
          31590.65,
          31080.65,
          30947.55,
          30701.45,
          31004.05,
          31241.75,
          30837.4,
          30761.4,
          30877,
          30647.4,
          30833.6,
          29820.9,
          30023.25,
          30686.7,
          31001.95,
          31304.05,
          31201.95,
          31058.15,
          31300.6,
          31492.9,
          31230.25,
          30834.8,
          30680.7,
          30562.5,
          30838.2,
          30942.85,
          30455.1,
          30432.7,
          30306.85,
          30187,
          29147.15,
          28868.4,
          29177.05,
          28653.7,
          28815.35,
          27801.45,
          26462.6,
          26487.8,
          23971.15,
          25166.45,
          23101.15,
          22155.15,
          20580.2,
          20083.5,
          20317.6,
          16917.65,
          17107.3,
          18481.05,
          19613.9,
          19969,
          18782.4,
          19144,
          18208.35,
          17249.3,
          19062.5,
          18946.45,
          19913.6,
          19488,
          19057.05,
          19400,
          20681.45,
          20522.65,
          19409.35,
          19701.85,
          20267.95,
          19586.65,
          20081.15,
          20671.1,
          21090.2,
          21534.5,
          19743.75,
          19271.75,
          19694.55,
          19491.8,
          19352.9,
          18950.5,
          18862.85,
          19634.95,
          19068.5,
          18833.95,
          17573.2,
          17486.25,
          17840.2,
          17735.1,
          17278.9,
          17440.35,
          18710.55,
          19169.8,
          19297.25,
          19959.9,
          20530.2,
          20940.7,
          20390.45,
          21034.5,
          21187.35,
          20724.9,
          21100.1,
          20525.15,
          20654.55,
          19912.9,
          20296.7,
          20201.75,
          20956.3,
          21338.1,
          21708.35,
          22264.9,
          21426.8,
          21506.15,
          21592.05,
          21359,
          21370.15,
          21977.6,
          21953.2,
          21852.4,
          22198.95,
          22628,
          22584.65,
          22907.2,
          22398.45,
          22089.25,
          21392.2,
          21340.75,
          21597.15,
          21966.8,
          22321.85,
          22782,
          22882.6,
          23083.9,
          22662.05,
          21848.75
         ]
        }
       ],
       "layout": {
        "barmode": "overlay",
        "legend": {
         "bgcolor": "#FFFFFF",
         "font": {
          "color": "#4D5663"
         }
        },
        "paper_bgcolor": "#FFFFFF",
        "plot_bgcolor": "#FFFFFF",
        "template": {
         "data": {
          "bar": [
           {
            "error_x": {
             "color": "#2a3f5f"
            },
            "error_y": {
             "color": "#2a3f5f"
            },
            "marker": {
             "line": {
              "color": "#E5ECF6",
              "width": 0.5
             },
             "pattern": {
              "fillmode": "overlay",
              "size": 10,
              "solidity": 0.2
             }
            },
            "type": "bar"
           }
          ],
          "barpolar": [
           {
            "marker": {
             "line": {
              "color": "#E5ECF6",
              "width": 0.5
             },
             "pattern": {
              "fillmode": "overlay",
              "size": 10,
              "solidity": 0.2
             }
            },
            "type": "barpolar"
           }
          ],
          "carpet": [
           {
            "aaxis": {
             "endlinecolor": "#2a3f5f",
             "gridcolor": "white",
             "linecolor": "white",
             "minorgridcolor": "white",
             "startlinecolor": "#2a3f5f"
            },
            "baxis": {
             "endlinecolor": "#2a3f5f",
             "gridcolor": "white",
             "linecolor": "white",
             "minorgridcolor": "white",
             "startlinecolor": "#2a3f5f"
            },
            "type": "carpet"
           }
          ],
          "choropleth": [
           {
            "colorbar": {
             "outlinewidth": 0,
             "ticks": ""
            },
            "type": "choropleth"
           }
          ],
          "contour": [
           {
            "colorbar": {
             "outlinewidth": 0,
             "ticks": ""
            },
            "colorscale": [
             [
              0,
              "#0d0887"
             ],
             [
              0.1111111111111111,
              "#46039f"
             ],
             [
              0.2222222222222222,
              "#7201a8"
             ],
             [
              0.3333333333333333,
              "#9c179e"
             ],
             [
              0.4444444444444444,
              "#bd3786"
             ],
             [
              0.5555555555555556,
              "#d8576b"
             ],
             [
              0.6666666666666666,
              "#ed7953"
             ],
             [
              0.7777777777777778,
              "#fb9f3a"
             ],
             [
              0.8888888888888888,
              "#fdca26"
             ],
             [
              1,
              "#f0f921"
             ]
            ],
            "type": "contour"
           }
          ],
          "contourcarpet": [
           {
            "colorbar": {
             "outlinewidth": 0,
             "ticks": ""
            },
            "type": "contourcarpet"
           }
          ],
          "heatmap": [
           {
            "colorbar": {
             "outlinewidth": 0,
             "ticks": ""
            },
            "colorscale": [
             [
              0,
              "#0d0887"
             ],
             [
              0.1111111111111111,
              "#46039f"
             ],
             [
              0.2222222222222222,
              "#7201a8"
             ],
             [
              0.3333333333333333,
              "#9c179e"
             ],
             [
              0.4444444444444444,
              "#bd3786"
             ],
             [
              0.5555555555555556,
              "#d8576b"
             ],
             [
              0.6666666666666666,
              "#ed7953"
             ],
             [
              0.7777777777777778,
              "#fb9f3a"
             ],
             [
              0.8888888888888888,
              "#fdca26"
             ],
             [
              1,
              "#f0f921"
             ]
            ],
            "type": "heatmap"
           }
          ],
          "heatmapgl": [
           {
            "colorbar": {
             "outlinewidth": 0,
             "ticks": ""
            },
            "colorscale": [
             [
              0,
              "#0d0887"
             ],
             [
              0.1111111111111111,
              "#46039f"
             ],
             [
              0.2222222222222222,
              "#7201a8"
             ],
             [
              0.3333333333333333,
              "#9c179e"
             ],
             [
              0.4444444444444444,
              "#bd3786"
             ],
             [
              0.5555555555555556,
              "#d8576b"
             ],
             [
              0.6666666666666666,
              "#ed7953"
             ],
             [
              0.7777777777777778,
              "#fb9f3a"
             ],
             [
              0.8888888888888888,
              "#fdca26"
             ],
             [
              1,
              "#f0f921"
             ]
            ],
            "type": "heatmapgl"
           }
          ],
          "histogram": [
           {
            "marker": {
             "pattern": {
              "fillmode": "overlay",
              "size": 10,
              "solidity": 0.2
             }
            },
            "type": "histogram"
           }
          ],
          "histogram2d": [
           {
            "colorbar": {
             "outlinewidth": 0,
             "ticks": ""
            },
            "colorscale": [
             [
              0,
              "#0d0887"
             ],
             [
              0.1111111111111111,
              "#46039f"
             ],
             [
              0.2222222222222222,
              "#7201a8"
             ],
             [
              0.3333333333333333,
              "#9c179e"
             ],
             [
              0.4444444444444444,
              "#bd3786"
             ],
             [
              0.5555555555555556,
              "#d8576b"
             ],
             [
              0.6666666666666666,
              "#ed7953"
             ],
             [
              0.7777777777777778,
              "#fb9f3a"
             ],
             [
              0.8888888888888888,
              "#fdca26"
             ],
             [
              1,
              "#f0f921"
             ]
            ],
            "type": "histogram2d"
           }
          ],
          "histogram2dcontour": [
           {
            "colorbar": {
             "outlinewidth": 0,
             "ticks": ""
            },
            "colorscale": [
             [
              0,
              "#0d0887"
             ],
             [
              0.1111111111111111,
              "#46039f"
             ],
             [
              0.2222222222222222,
              "#7201a8"
             ],
             [
              0.3333333333333333,
              "#9c179e"
             ],
             [
              0.4444444444444444,
              "#bd3786"
             ],
             [
              0.5555555555555556,
              "#d8576b"
             ],
             [
              0.6666666666666666,
              "#ed7953"
             ],
             [
              0.7777777777777778,
              "#fb9f3a"
             ],
             [
              0.8888888888888888,
              "#fdca26"
             ],
             [
              1,
              "#f0f921"
             ]
            ],
            "type": "histogram2dcontour"
           }
          ],
          "mesh3d": [
           {
            "colorbar": {
             "outlinewidth": 0,
             "ticks": ""
            },
            "type": "mesh3d"
           }
          ],
          "parcoords": [
           {
            "line": {
             "colorbar": {
              "outlinewidth": 0,
              "ticks": ""
             }
            },
            "type": "parcoords"
           }
          ],
          "pie": [
           {
            "automargin": true,
            "type": "pie"
           }
          ],
          "scatter": [
           {
            "fillpattern": {
             "fillmode": "overlay",
             "size": 10,
             "solidity": 0.2
            },
            "type": "scatter"
           }
          ],
          "scatter3d": [
           {
            "line": {
             "colorbar": {
              "outlinewidth": 0,
              "ticks": ""
             }
            },
            "marker": {
             "colorbar": {
              "outlinewidth": 0,
              "ticks": ""
             }
            },
            "type": "scatter3d"
           }
          ],
          "scattercarpet": [
           {
            "marker": {
             "colorbar": {
              "outlinewidth": 0,
              "ticks": ""
             }
            },
            "type": "scattercarpet"
           }
          ],
          "scattergeo": [
           {
            "marker": {
             "colorbar": {
              "outlinewidth": 0,
              "ticks": ""
             }
            },
            "type": "scattergeo"
           }
          ],
          "scattergl": [
           {
            "marker": {
             "colorbar": {
              "outlinewidth": 0,
              "ticks": ""
             }
            },
            "type": "scattergl"
           }
          ],
          "scattermapbox": [
           {
            "marker": {
             "colorbar": {
              "outlinewidth": 0,
              "ticks": ""
             }
            },
            "type": "scattermapbox"
           }
          ],
          "scatterpolar": [
           {
            "marker": {
             "colorbar": {
              "outlinewidth": 0,
              "ticks": ""
             }
            },
            "type": "scatterpolar"
           }
          ],
          "scatterpolargl": [
           {
            "marker": {
             "colorbar": {
              "outlinewidth": 0,
              "ticks": ""
             }
            },
            "type": "scatterpolargl"
           }
          ],
          "scatterternary": [
           {
            "marker": {
             "colorbar": {
              "outlinewidth": 0,
              "ticks": ""
             }
            },
            "type": "scatterternary"
           }
          ],
          "surface": [
           {
            "colorbar": {
             "outlinewidth": 0,
             "ticks": ""
            },
            "colorscale": [
             [
              0,
              "#0d0887"
             ],
             [
              0.1111111111111111,
              "#46039f"
             ],
             [
              0.2222222222222222,
              "#7201a8"
             ],
             [
              0.3333333333333333,
              "#9c179e"
             ],
             [
              0.4444444444444444,
              "#bd3786"
             ],
             [
              0.5555555555555556,
              "#d8576b"
             ],
             [
              0.6666666666666666,
              "#ed7953"
             ],
             [
              0.7777777777777778,
              "#fb9f3a"
             ],
             [
              0.8888888888888888,
              "#fdca26"
             ],
             [
              1,
              "#f0f921"
             ]
            ],
            "type": "surface"
           }
          ],
          "table": [
           {
            "cells": {
             "fill": {
              "color": "#EBF0F8"
             },
             "line": {
              "color": "white"
             }
            },
            "header": {
             "fill": {
              "color": "#C8D4E3"
             },
             "line": {
              "color": "white"
             }
            },
            "type": "table"
           }
          ]
         },
         "layout": {
          "annotationdefaults": {
           "arrowcolor": "#2a3f5f",
           "arrowhead": 0,
           "arrowwidth": 1
          },
          "autotypenumbers": "strict",
          "coloraxis": {
           "colorbar": {
            "outlinewidth": 0,
            "ticks": ""
           }
          },
          "colorscale": {
           "diverging": [
            [
             0,
             "#8e0152"
            ],
            [
             0.1,
             "#c51b7d"
            ],
            [
             0.2,
             "#de77ae"
            ],
            [
             0.3,
             "#f1b6da"
            ],
            [
             0.4,
             "#fde0ef"
            ],
            [
             0.5,
             "#f7f7f7"
            ],
            [
             0.6,
             "#e6f5d0"
            ],
            [
             0.7,
             "#b8e186"
            ],
            [
             0.8,
             "#7fbc41"
            ],
            [
             0.9,
             "#4d9221"
            ],
            [
             1,
             "#276419"
            ]
           ],
           "sequential": [
            [
             0,
             "#0d0887"
            ],
            [
             0.1111111111111111,
             "#46039f"
            ],
            [
             0.2222222222222222,
             "#7201a8"
            ],
            [
             0.3333333333333333,
             "#9c179e"
            ],
            [
             0.4444444444444444,
             "#bd3786"
            ],
            [
             0.5555555555555556,
             "#d8576b"
            ],
            [
             0.6666666666666666,
             "#ed7953"
            ],
            [
             0.7777777777777778,
             "#fb9f3a"
            ],
            [
             0.8888888888888888,
             "#fdca26"
            ],
            [
             1,
             "#f0f921"
            ]
           ],
           "sequentialminus": [
            [
             0,
             "#0d0887"
            ],
            [
             0.1111111111111111,
             "#46039f"
            ],
            [
             0.2222222222222222,
             "#7201a8"
            ],
            [
             0.3333333333333333,
             "#9c179e"
            ],
            [
             0.4444444444444444,
             "#bd3786"
            ],
            [
             0.5555555555555556,
             "#d8576b"
            ],
            [
             0.6666666666666666,
             "#ed7953"
            ],
            [
             0.7777777777777778,
             "#fb9f3a"
            ],
            [
             0.8888888888888888,
             "#fdca26"
            ],
            [
             1,
             "#f0f921"
            ]
           ]
          },
          "colorway": [
           "#636efa",
           "#EF553B",
           "#00cc96",
           "#ab63fa",
           "#FFA15A",
           "#19d3f3",
           "#FF6692",
           "#B6E880",
           "#FF97FF",
           "#FECB52"
          ],
          "font": {
           "color": "#2a3f5f"
          },
          "geo": {
           "bgcolor": "white",
           "lakecolor": "white",
           "landcolor": "#E5ECF6",
           "showlakes": true,
           "showland": true,
           "subunitcolor": "white"
          },
          "hoverlabel": {
           "align": "left"
          },
          "hovermode": "closest",
          "mapbox": {
           "style": "light"
          },
          "paper_bgcolor": "white",
          "plot_bgcolor": "#E5ECF6",
          "polar": {
           "angularaxis": {
            "gridcolor": "white",
            "linecolor": "white",
            "ticks": ""
           },
           "bgcolor": "#E5ECF6",
           "radialaxis": {
            "gridcolor": "white",
            "linecolor": "white",
            "ticks": ""
           }
          },
          "scene": {
           "xaxis": {
            "backgroundcolor": "#E5ECF6",
            "gridcolor": "white",
            "gridwidth": 2,
            "linecolor": "white",
            "showbackground": true,
            "ticks": "",
            "zerolinecolor": "white"
           },
           "yaxis": {
            "backgroundcolor": "#E5ECF6",
            "gridcolor": "white",
            "gridwidth": 2,
            "linecolor": "white",
            "showbackground": true,
            "ticks": "",
            "zerolinecolor": "white"
           },
           "zaxis": {
            "backgroundcolor": "#E5ECF6",
            "gridcolor": "white",
            "gridwidth": 2,
            "linecolor": "white",
            "showbackground": true,
            "ticks": "",
            "zerolinecolor": "white"
           }
          },
          "shapedefaults": {
           "line": {
            "color": "#2a3f5f"
           }
          },
          "ternary": {
           "aaxis": {
            "gridcolor": "white",
            "linecolor": "white",
            "ticks": ""
           },
           "baxis": {
            "gridcolor": "white",
            "linecolor": "white",
            "ticks": ""
           },
           "bgcolor": "#E5ECF6",
           "caxis": {
            "gridcolor": "white",
            "linecolor": "white",
            "ticks": ""
           }
          },
          "title": {
           "x": 0.05
          },
          "xaxis": {
           "automargin": true,
           "gridcolor": "white",
           "linecolor": "white",
           "ticks": "",
           "title": {
            "standoff": 15
           },
           "zerolinecolor": "white",
           "zerolinewidth": 2
          },
          "yaxis": {
           "automargin": true,
           "gridcolor": "white",
           "linecolor": "white",
           "ticks": "",
           "title": {
            "standoff": 15
           },
           "zerolinecolor": "white",
           "zerolinewidth": 2
          }
         }
        },
        "title": {
         "font": {
          "color": "#4D5663"
         }
        },
        "xaxis": {
         "gridcolor": "#E1E5ED",
         "showgrid": true,
         "tickfont": {
          "color": "#4D5663"
         },
         "title": {
          "font": {
           "color": "#4D5663"
          },
          "text": ""
         },
         "zerolinecolor": "#E1E5ED"
        },
        "yaxis": {
         "gridcolor": "#E1E5ED",
         "showgrid": true,
         "tickfont": {
          "color": "#4D5663"
         },
         "title": {
          "font": {
           "color": "#4D5663"
          },
          "text": ""
         },
         "zerolinecolor": "#E1E5ED"
        }
       }
      },
      "text/html": [
       "<div>                            <div id=\"d696db73-242e-435e-adde-e287c22fabf6\" class=\"plotly-graph-div\" style=\"height:525px; width:100%;\"></div>            <script type=\"text/javascript\">                require([\"plotly\"], function(Plotly) {                    window.PLOTLYENV=window.PLOTLYENV || {};\n",
       "                    window.PLOTLYENV.BASE_URL='https://plot.ly';                                    if (document.getElementById(\"d696db73-242e-435e-adde-e287c22fabf6\")) {                    Plotly.newPlot(                        \"d696db73-242e-435e-adde-e287c22fabf6\",                        [{\"histfunc\":\"count\",\"histnorm\":\"\",\"marker\":{\"color\":\"rgba(255, 153, 51, 1.0)\",\"line\":{\"color\":\"#4D5663\",\"width\":1.3}},\"name\":\"NIFTY FMCG index\",\"nbinsx\":30,\"opacity\":0.8,\"orientation\":\"v\",\"x\":[30234.25,30266.2,30109.25,29799.3,29861.8,29893.2,30123.6,30370.45,30713.45,31145.4,31237.1,31338.2,31371.45,31426.75,31145.95,31153.15,31226.9,31474.9,31149.7,31027.05,31426.25,30936.45,30775.3,30196.65,30435.3,30744.0,30934.4,30736.6,30809.5,30528.45,30414.55,30986.25,31039.3,30646.75,30481.05,30360.6,30835.0,30636.25,30147.6,30173.2,29965.55,29981.2,29310.25,29138.9,29406.2,29223.75,29530.5,28937.0,28056.5,28078.75,26083.0,26208.0,24707.65,24929.85,24186.5,23970.75,25931.6,23184.05,23935.3,24471.7,25680.1,25740.45,25831.55,27319.2,26358.8,26537.75,28745.3,28839.9,28953.2,28509.85,29686.95,29512.3,29202.35,28598.1,28480.6,29185.15,28786.25,28636.7,29052.55,28778.15,28665.0,28669.3,27599.0,27138.6,26630.2,26254.55,26759.8,26667.8,26857.15,26746.5,26933.65,26958.65,26694.65,26895.75,27290.35,27887.1,27786.1,28122.3,28222.4,28451.6,29296.95,29571.3,29359.85,29527.0,29621.55,29542.0,29502.15,29524.9,29503.2,29092.45,29145.6,28701.8,28575.35,28431.75,28648.7,28709.45,28865.45,29355.2,29487.4,30113.25,29757.05,29971.65,30063.25,30232.5,30316.2,30529.1,30647.65,30518.2,30773.9,30671.75,30821.15,31214.9,30932.85,31140.45,31182.35,31439.3,31536.35,31280.25,31051.6,31101.9,31018.85,30819.75],\"type\":\"histogram\"},{\"histfunc\":\"count\",\"histnorm\":\"\",\"marker\":{\"color\":\"rgba(55, 128, 191, 1.0)\",\"line\":{\"color\":\"#4D5663\",\"width\":1.3}},\"name\":\"NIFTY Bank index\",\"nbinsx\":30,\"opacity\":0.8,\"orientation\":\"v\",\"x\":[32102.9,32443.85,32069.25,31237.15,31399.4,31373.65,32092.4,32097.4,32177.65,32071.65,31824.9,31853.9,31590.65,31080.65,30947.55,30701.45,31004.05,31241.75,30837.4,30761.4,30877.0,30647.4,30833.6,29820.9,30023.25,30686.7,31001.95,31304.05,31201.95,31058.15,31300.6,31492.9,31230.25,30834.8,30680.7,30562.5,30838.2,30942.85,30455.1,30432.7,30306.85,30187.0,29147.15,28868.4,29177.05,28653.7,28815.35,27801.45,26462.6,26487.8,23971.15,25166.45,23101.15,22155.15,20580.2,20083.5,20317.6,16917.65,17107.3,18481.05,19613.9,19969.0,18782.4,19144.0,18208.35,17249.3,19062.5,18946.45,19913.6,19488.0,19057.05,19400.0,20681.45,20522.65,19409.35,19701.85,20267.95,19586.65,20081.15,20671.1,21090.2,21534.5,19743.75,19271.75,19694.55,19491.8,19352.9,18950.5,18862.85,19634.95,19068.5,18833.95,17573.2,17486.25,17840.2,17735.1,17278.9,17440.35,18710.55,19169.8,19297.25,19959.9,20530.2,20940.7,20390.45,21034.5,21187.35,20724.9,21100.1,20525.15,20654.55,19912.9,20296.7,20201.75,20956.3,21338.1,21708.35,22264.9,21426.8,21506.15,21592.05,21359.0,21370.15,21977.6,21953.2,21852.4,22198.95,22628.0,22584.65,22907.2,22398.45,22089.25,21392.2,21340.75,21597.15,21966.8,22321.85,22782.0,22882.6,23083.9,22662.05,21848.75],\"type\":\"histogram\"}],                        {\"barmode\":\"overlay\",\"legend\":{\"bgcolor\":\"#FFFFFF\",\"font\":{\"color\":\"#4D5663\"}},\"paper_bgcolor\":\"#FFFFFF\",\"plot_bgcolor\":\"#FFFFFF\",\"template\":{\"data\":{\"barpolar\":[{\"marker\":{\"line\":{\"color\":\"#E5ECF6\",\"width\":0.5},\"pattern\":{\"fillmode\":\"overlay\",\"size\":10,\"solidity\":0.2}},\"type\":\"barpolar\"}],\"bar\":[{\"error_x\":{\"color\":\"#2a3f5f\"},\"error_y\":{\"color\":\"#2a3f5f\"},\"marker\":{\"line\":{\"color\":\"#E5ECF6\",\"width\":0.5},\"pattern\":{\"fillmode\":\"overlay\",\"size\":10,\"solidity\":0.2}},\"type\":\"bar\"}],\"carpet\":[{\"aaxis\":{\"endlinecolor\":\"#2a3f5f\",\"gridcolor\":\"white\",\"linecolor\":\"white\",\"minorgridcolor\":\"white\",\"startlinecolor\":\"#2a3f5f\"},\"baxis\":{\"endlinecolor\":\"#2a3f5f\",\"gridcolor\":\"white\",\"linecolor\":\"white\",\"minorgridcolor\":\"white\",\"startlinecolor\":\"#2a3f5f\"},\"type\":\"carpet\"}],\"choropleth\":[{\"colorbar\":{\"outlinewidth\":0,\"ticks\":\"\"},\"type\":\"choropleth\"}],\"contourcarpet\":[{\"colorbar\":{\"outlinewidth\":0,\"ticks\":\"\"},\"type\":\"contourcarpet\"}],\"contour\":[{\"colorbar\":{\"outlinewidth\":0,\"ticks\":\"\"},\"colorscale\":[[0.0,\"#0d0887\"],[0.1111111111111111,\"#46039f\"],[0.2222222222222222,\"#7201a8\"],[0.3333333333333333,\"#9c179e\"],[0.4444444444444444,\"#bd3786\"],[0.5555555555555556,\"#d8576b\"],[0.6666666666666666,\"#ed7953\"],[0.7777777777777778,\"#fb9f3a\"],[0.8888888888888888,\"#fdca26\"],[1.0,\"#f0f921\"]],\"type\":\"contour\"}],\"heatmapgl\":[{\"colorbar\":{\"outlinewidth\":0,\"ticks\":\"\"},\"colorscale\":[[0.0,\"#0d0887\"],[0.1111111111111111,\"#46039f\"],[0.2222222222222222,\"#7201a8\"],[0.3333333333333333,\"#9c179e\"],[0.4444444444444444,\"#bd3786\"],[0.5555555555555556,\"#d8576b\"],[0.6666666666666666,\"#ed7953\"],[0.7777777777777778,\"#fb9f3a\"],[0.8888888888888888,\"#fdca26\"],[1.0,\"#f0f921\"]],\"type\":\"heatmapgl\"}],\"heatmap\":[{\"colorbar\":{\"outlinewidth\":0,\"ticks\":\"\"},\"colorscale\":[[0.0,\"#0d0887\"],[0.1111111111111111,\"#46039f\"],[0.2222222222222222,\"#7201a8\"],[0.3333333333333333,\"#9c179e\"],[0.4444444444444444,\"#bd3786\"],[0.5555555555555556,\"#d8576b\"],[0.6666666666666666,\"#ed7953\"],[0.7777777777777778,\"#fb9f3a\"],[0.8888888888888888,\"#fdca26\"],[1.0,\"#f0f921\"]],\"type\":\"heatmap\"}],\"histogram2dcontour\":[{\"colorbar\":{\"outlinewidth\":0,\"ticks\":\"\"},\"colorscale\":[[0.0,\"#0d0887\"],[0.1111111111111111,\"#46039f\"],[0.2222222222222222,\"#7201a8\"],[0.3333333333333333,\"#9c179e\"],[0.4444444444444444,\"#bd3786\"],[0.5555555555555556,\"#d8576b\"],[0.6666666666666666,\"#ed7953\"],[0.7777777777777778,\"#fb9f3a\"],[0.8888888888888888,\"#fdca26\"],[1.0,\"#f0f921\"]],\"type\":\"histogram2dcontour\"}],\"histogram2d\":[{\"colorbar\":{\"outlinewidth\":0,\"ticks\":\"\"},\"colorscale\":[[0.0,\"#0d0887\"],[0.1111111111111111,\"#46039f\"],[0.2222222222222222,\"#7201a8\"],[0.3333333333333333,\"#9c179e\"],[0.4444444444444444,\"#bd3786\"],[0.5555555555555556,\"#d8576b\"],[0.6666666666666666,\"#ed7953\"],[0.7777777777777778,\"#fb9f3a\"],[0.8888888888888888,\"#fdca26\"],[1.0,\"#f0f921\"]],\"type\":\"histogram2d\"}],\"histogram\":[{\"marker\":{\"pattern\":{\"fillmode\":\"overlay\",\"size\":10,\"solidity\":0.2}},\"type\":\"histogram\"}],\"mesh3d\":[{\"colorbar\":{\"outlinewidth\":0,\"ticks\":\"\"},\"type\":\"mesh3d\"}],\"parcoords\":[{\"line\":{\"colorbar\":{\"outlinewidth\":0,\"ticks\":\"\"}},\"type\":\"parcoords\"}],\"pie\":[{\"automargin\":true,\"type\":\"pie\"}],\"scatter3d\":[{\"line\":{\"colorbar\":{\"outlinewidth\":0,\"ticks\":\"\"}},\"marker\":{\"colorbar\":{\"outlinewidth\":0,\"ticks\":\"\"}},\"type\":\"scatter3d\"}],\"scattercarpet\":[{\"marker\":{\"colorbar\":{\"outlinewidth\":0,\"ticks\":\"\"}},\"type\":\"scattercarpet\"}],\"scattergeo\":[{\"marker\":{\"colorbar\":{\"outlinewidth\":0,\"ticks\":\"\"}},\"type\":\"scattergeo\"}],\"scattergl\":[{\"marker\":{\"colorbar\":{\"outlinewidth\":0,\"ticks\":\"\"}},\"type\":\"scattergl\"}],\"scattermapbox\":[{\"marker\":{\"colorbar\":{\"outlinewidth\":0,\"ticks\":\"\"}},\"type\":\"scattermapbox\"}],\"scatterpolargl\":[{\"marker\":{\"colorbar\":{\"outlinewidth\":0,\"ticks\":\"\"}},\"type\":\"scatterpolargl\"}],\"scatterpolar\":[{\"marker\":{\"colorbar\":{\"outlinewidth\":0,\"ticks\":\"\"}},\"type\":\"scatterpolar\"}],\"scatter\":[{\"fillpattern\":{\"fillmode\":\"overlay\",\"size\":10,\"solidity\":0.2},\"type\":\"scatter\"}],\"scatterternary\":[{\"marker\":{\"colorbar\":{\"outlinewidth\":0,\"ticks\":\"\"}},\"type\":\"scatterternary\"}],\"surface\":[{\"colorbar\":{\"outlinewidth\":0,\"ticks\":\"\"},\"colorscale\":[[0.0,\"#0d0887\"],[0.1111111111111111,\"#46039f\"],[0.2222222222222222,\"#7201a8\"],[0.3333333333333333,\"#9c179e\"],[0.4444444444444444,\"#bd3786\"],[0.5555555555555556,\"#d8576b\"],[0.6666666666666666,\"#ed7953\"],[0.7777777777777778,\"#fb9f3a\"],[0.8888888888888888,\"#fdca26\"],[1.0,\"#f0f921\"]],\"type\":\"surface\"}],\"table\":[{\"cells\":{\"fill\":{\"color\":\"#EBF0F8\"},\"line\":{\"color\":\"white\"}},\"header\":{\"fill\":{\"color\":\"#C8D4E3\"},\"line\":{\"color\":\"white\"}},\"type\":\"table\"}]},\"layout\":{\"annotationdefaults\":{\"arrowcolor\":\"#2a3f5f\",\"arrowhead\":0,\"arrowwidth\":1},\"autotypenumbers\":\"strict\",\"coloraxis\":{\"colorbar\":{\"outlinewidth\":0,\"ticks\":\"\"}},\"colorscale\":{\"diverging\":[[0,\"#8e0152\"],[0.1,\"#c51b7d\"],[0.2,\"#de77ae\"],[0.3,\"#f1b6da\"],[0.4,\"#fde0ef\"],[0.5,\"#f7f7f7\"],[0.6,\"#e6f5d0\"],[0.7,\"#b8e186\"],[0.8,\"#7fbc41\"],[0.9,\"#4d9221\"],[1,\"#276419\"]],\"sequential\":[[0.0,\"#0d0887\"],[0.1111111111111111,\"#46039f\"],[0.2222222222222222,\"#7201a8\"],[0.3333333333333333,\"#9c179e\"],[0.4444444444444444,\"#bd3786\"],[0.5555555555555556,\"#d8576b\"],[0.6666666666666666,\"#ed7953\"],[0.7777777777777778,\"#fb9f3a\"],[0.8888888888888888,\"#fdca26\"],[1.0,\"#f0f921\"]],\"sequentialminus\":[[0.0,\"#0d0887\"],[0.1111111111111111,\"#46039f\"],[0.2222222222222222,\"#7201a8\"],[0.3333333333333333,\"#9c179e\"],[0.4444444444444444,\"#bd3786\"],[0.5555555555555556,\"#d8576b\"],[0.6666666666666666,\"#ed7953\"],[0.7777777777777778,\"#fb9f3a\"],[0.8888888888888888,\"#fdca26\"],[1.0,\"#f0f921\"]]},\"colorway\":[\"#636efa\",\"#EF553B\",\"#00cc96\",\"#ab63fa\",\"#FFA15A\",\"#19d3f3\",\"#FF6692\",\"#B6E880\",\"#FF97FF\",\"#FECB52\"],\"font\":{\"color\":\"#2a3f5f\"},\"geo\":{\"bgcolor\":\"white\",\"lakecolor\":\"white\",\"landcolor\":\"#E5ECF6\",\"showlakes\":true,\"showland\":true,\"subunitcolor\":\"white\"},\"hoverlabel\":{\"align\":\"left\"},\"hovermode\":\"closest\",\"mapbox\":{\"style\":\"light\"},\"paper_bgcolor\":\"white\",\"plot_bgcolor\":\"#E5ECF6\",\"polar\":{\"angularaxis\":{\"gridcolor\":\"white\",\"linecolor\":\"white\",\"ticks\":\"\"},\"bgcolor\":\"#E5ECF6\",\"radialaxis\":{\"gridcolor\":\"white\",\"linecolor\":\"white\",\"ticks\":\"\"}},\"scene\":{\"xaxis\":{\"backgroundcolor\":\"#E5ECF6\",\"gridcolor\":\"white\",\"gridwidth\":2,\"linecolor\":\"white\",\"showbackground\":true,\"ticks\":\"\",\"zerolinecolor\":\"white\"},\"yaxis\":{\"backgroundcolor\":\"#E5ECF6\",\"gridcolor\":\"white\",\"gridwidth\":2,\"linecolor\":\"white\",\"showbackground\":true,\"ticks\":\"\",\"zerolinecolor\":\"white\"},\"zaxis\":{\"backgroundcolor\":\"#E5ECF6\",\"gridcolor\":\"white\",\"gridwidth\":2,\"linecolor\":\"white\",\"showbackground\":true,\"ticks\":\"\",\"zerolinecolor\":\"white\"}},\"shapedefaults\":{\"line\":{\"color\":\"#2a3f5f\"}},\"ternary\":{\"aaxis\":{\"gridcolor\":\"white\",\"linecolor\":\"white\",\"ticks\":\"\"},\"baxis\":{\"gridcolor\":\"white\",\"linecolor\":\"white\",\"ticks\":\"\"},\"bgcolor\":\"#E5ECF6\",\"caxis\":{\"gridcolor\":\"white\",\"linecolor\":\"white\",\"ticks\":\"\"}},\"title\":{\"x\":0.05},\"xaxis\":{\"automargin\":true,\"gridcolor\":\"white\",\"linecolor\":\"white\",\"ticks\":\"\",\"title\":{\"standoff\":15},\"zerolinecolor\":\"white\",\"zerolinewidth\":2},\"yaxis\":{\"automargin\":true,\"gridcolor\":\"white\",\"linecolor\":\"white\",\"ticks\":\"\",\"title\":{\"standoff\":15},\"zerolinecolor\":\"white\",\"zerolinewidth\":2}}},\"title\":{\"font\":{\"color\":\"#4D5663\"}},\"xaxis\":{\"gridcolor\":\"#E1E5ED\",\"showgrid\":true,\"tickfont\":{\"color\":\"#4D5663\"},\"title\":{\"font\":{\"color\":\"#4D5663\"},\"text\":\"\"},\"zerolinecolor\":\"#E1E5ED\"},\"yaxis\":{\"gridcolor\":\"#E1E5ED\",\"showgrid\":true,\"tickfont\":{\"color\":\"#4D5663\"},\"title\":{\"font\":{\"color\":\"#4D5663\"},\"text\":\"\"},\"zerolinecolor\":\"#E1E5ED\"}},                        {\"showLink\": true, \"linkText\": \"Export to plot.ly\", \"plotlyServerURL\": \"https://plot.ly\", \"responsive\": true}                    ).then(function(){\n",
       "                            \n",
       "var gd = document.getElementById('d696db73-242e-435e-adde-e287c22fabf6');\n",
       "var x = new MutationObserver(function (mutations, observer) {{\n",
       "        var display = window.getComputedStyle(gd).display;\n",
       "        if (!display || display === 'none') {{\n",
       "            console.log([gd, 'removed!']);\n",
       "            Plotly.purge(gd);\n",
       "            observer.disconnect();\n",
       "        }}\n",
       "}});\n",
       "\n",
       "// Listen for the removal of the full notebook cells\n",
       "var notebookContainer = gd.closest('#notebook-container');\n",
       "if (notebookContainer) {{\n",
       "    x.observe(notebookContainer, {childList: true});\n",
       "}}\n",
       "\n",
       "// Listen for the clearing of the current output cell\n",
       "var outputEl = gd.closest('.output');\n",
       "if (outputEl) {{\n",
       "    x.observe(outputEl, {childList: true});\n",
       "}}\n",
       "\n",
       "                        })                };                });            </script>        </div>"
      ]
     },
     "metadata": {},
     "output_type": "display_data"
    }
   ],
   "source": [
    "nifty_data[['NIFTY FMCG index','NIFTY Bank index']].iplot(kind='hist', bins=30)"
   ]
  },
  {
   "cell_type": "markdown",
   "metadata": {},
   "source": [
    "#### Gráfico de barras"
   ]
  },
  {
   "cell_type": "code",
   "execution_count": 30,
   "metadata": {},
   "outputs": [
    {
     "data": {
      "application/vnd.plotly.v1+json": {
       "config": {
        "linkText": "Export to plot.ly",
        "plotlyServerURL": "https://plot.ly",
        "showLink": true
       },
       "data": [
        {
         "marker": {
          "color": "rgba(255, 153, 51, 0.6)",
          "line": {
           "color": "rgba(255, 153, 51, 1.0)",
           "width": 1
          }
         },
         "name": "NIFTY Bank index",
         "orientation": "v",
         "text": "",
         "type": "bar",
         "x": [
          "Jan",
          "Feb",
          "March",
          "Apr",
          "May",
          "June",
          "July"
         ],
         "y": [
          31446.391304347828,
          30675.4275,
          22936.040476190476,
          19715.116666666665,
          18707.215789473685,
          20953.679545454546,
          22235.144736842107
         ]
        },
        {
         "marker": {
          "color": "rgba(55, 128, 191, 0.6)",
          "line": {
           "color": "rgba(55, 128, 191, 1.0)",
           "width": 1
          }
         },
         "name": "NIFTY FMCG index",
         "orientation": "v",
         "text": "",
         "type": "bar",
         "x": [
          "Jan",
          "Feb",
          "March",
          "Apr",
          "May",
          "June",
          "July"
         ],
         "y": [
          30791.56739130435,
          30468.122499999998,
          26407.204761904763,
          28622.122222222224,
          27325.952631578944,
          29321.377272727274,
          30906.78947368421
         ]
        },
        {
         "marker": {
          "color": "rgba(50, 171, 96, 0.6)",
          "line": {
           "color": "rgba(50, 171, 96, 1.0)",
           "width": 1
          }
         },
         "name": "NIFTY IT index",
         "orientation": "v",
         "text": "",
         "type": "bar",
         "x": [
          "Jan",
          "Feb",
          "March",
          "Apr",
          "May",
          "June",
          "July"
         ],
         "y": [
          16177.997826086958,
          16411.6475,
          13356.3,
          12750.766666666666,
          13569.336842105264,
          14585.154545454547,
          16223.036842105264
         ]
        },
        {
         "marker": {
          "color": "rgba(128, 0, 128, 0.6)",
          "line": {
           "color": "rgba(128, 0, 128, 1.0)",
           "width": 1
          }
         },
         "name": "NIFTY Pharma index",
         "orientation": "v",
         "text": "",
         "type": "bar",
         "x": [
          "Jan",
          "Feb",
          "March",
          "Apr",
          "May",
          "June",
          "July"
         ],
         "y": [
          8184.965217391305,
          8140.9325,
          7187.983333333333,
          8926.777777777777,
          9324.586842105264,
          10036.240909090908,
          10113.686842105262
         ]
        }
       ],
       "layout": {
        "legend": {
         "bgcolor": "#FFFFFF",
         "font": {
          "color": "#4D5663"
         }
        },
        "paper_bgcolor": "#FFFFFF",
        "plot_bgcolor": "#FFFFFF",
        "template": {
         "data": {
          "bar": [
           {
            "error_x": {
             "color": "#2a3f5f"
            },
            "error_y": {
             "color": "#2a3f5f"
            },
            "marker": {
             "line": {
              "color": "#E5ECF6",
              "width": 0.5
             },
             "pattern": {
              "fillmode": "overlay",
              "size": 10,
              "solidity": 0.2
             }
            },
            "type": "bar"
           }
          ],
          "barpolar": [
           {
            "marker": {
             "line": {
              "color": "#E5ECF6",
              "width": 0.5
             },
             "pattern": {
              "fillmode": "overlay",
              "size": 10,
              "solidity": 0.2
             }
            },
            "type": "barpolar"
           }
          ],
          "carpet": [
           {
            "aaxis": {
             "endlinecolor": "#2a3f5f",
             "gridcolor": "white",
             "linecolor": "white",
             "minorgridcolor": "white",
             "startlinecolor": "#2a3f5f"
            },
            "baxis": {
             "endlinecolor": "#2a3f5f",
             "gridcolor": "white",
             "linecolor": "white",
             "minorgridcolor": "white",
             "startlinecolor": "#2a3f5f"
            },
            "type": "carpet"
           }
          ],
          "choropleth": [
           {
            "colorbar": {
             "outlinewidth": 0,
             "ticks": ""
            },
            "type": "choropleth"
           }
          ],
          "contour": [
           {
            "colorbar": {
             "outlinewidth": 0,
             "ticks": ""
            },
            "colorscale": [
             [
              0,
              "#0d0887"
             ],
             [
              0.1111111111111111,
              "#46039f"
             ],
             [
              0.2222222222222222,
              "#7201a8"
             ],
             [
              0.3333333333333333,
              "#9c179e"
             ],
             [
              0.4444444444444444,
              "#bd3786"
             ],
             [
              0.5555555555555556,
              "#d8576b"
             ],
             [
              0.6666666666666666,
              "#ed7953"
             ],
             [
              0.7777777777777778,
              "#fb9f3a"
             ],
             [
              0.8888888888888888,
              "#fdca26"
             ],
             [
              1,
              "#f0f921"
             ]
            ],
            "type": "contour"
           }
          ],
          "contourcarpet": [
           {
            "colorbar": {
             "outlinewidth": 0,
             "ticks": ""
            },
            "type": "contourcarpet"
           }
          ],
          "heatmap": [
           {
            "colorbar": {
             "outlinewidth": 0,
             "ticks": ""
            },
            "colorscale": [
             [
              0,
              "#0d0887"
             ],
             [
              0.1111111111111111,
              "#46039f"
             ],
             [
              0.2222222222222222,
              "#7201a8"
             ],
             [
              0.3333333333333333,
              "#9c179e"
             ],
             [
              0.4444444444444444,
              "#bd3786"
             ],
             [
              0.5555555555555556,
              "#d8576b"
             ],
             [
              0.6666666666666666,
              "#ed7953"
             ],
             [
              0.7777777777777778,
              "#fb9f3a"
             ],
             [
              0.8888888888888888,
              "#fdca26"
             ],
             [
              1,
              "#f0f921"
             ]
            ],
            "type": "heatmap"
           }
          ],
          "heatmapgl": [
           {
            "colorbar": {
             "outlinewidth": 0,
             "ticks": ""
            },
            "colorscale": [
             [
              0,
              "#0d0887"
             ],
             [
              0.1111111111111111,
              "#46039f"
             ],
             [
              0.2222222222222222,
              "#7201a8"
             ],
             [
              0.3333333333333333,
              "#9c179e"
             ],
             [
              0.4444444444444444,
              "#bd3786"
             ],
             [
              0.5555555555555556,
              "#d8576b"
             ],
             [
              0.6666666666666666,
              "#ed7953"
             ],
             [
              0.7777777777777778,
              "#fb9f3a"
             ],
             [
              0.8888888888888888,
              "#fdca26"
             ],
             [
              1,
              "#f0f921"
             ]
            ],
            "type": "heatmapgl"
           }
          ],
          "histogram": [
           {
            "marker": {
             "pattern": {
              "fillmode": "overlay",
              "size": 10,
              "solidity": 0.2
             }
            },
            "type": "histogram"
           }
          ],
          "histogram2d": [
           {
            "colorbar": {
             "outlinewidth": 0,
             "ticks": ""
            },
            "colorscale": [
             [
              0,
              "#0d0887"
             ],
             [
              0.1111111111111111,
              "#46039f"
             ],
             [
              0.2222222222222222,
              "#7201a8"
             ],
             [
              0.3333333333333333,
              "#9c179e"
             ],
             [
              0.4444444444444444,
              "#bd3786"
             ],
             [
              0.5555555555555556,
              "#d8576b"
             ],
             [
              0.6666666666666666,
              "#ed7953"
             ],
             [
              0.7777777777777778,
              "#fb9f3a"
             ],
             [
              0.8888888888888888,
              "#fdca26"
             ],
             [
              1,
              "#f0f921"
             ]
            ],
            "type": "histogram2d"
           }
          ],
          "histogram2dcontour": [
           {
            "colorbar": {
             "outlinewidth": 0,
             "ticks": ""
            },
            "colorscale": [
             [
              0,
              "#0d0887"
             ],
             [
              0.1111111111111111,
              "#46039f"
             ],
             [
              0.2222222222222222,
              "#7201a8"
             ],
             [
              0.3333333333333333,
              "#9c179e"
             ],
             [
              0.4444444444444444,
              "#bd3786"
             ],
             [
              0.5555555555555556,
              "#d8576b"
             ],
             [
              0.6666666666666666,
              "#ed7953"
             ],
             [
              0.7777777777777778,
              "#fb9f3a"
             ],
             [
              0.8888888888888888,
              "#fdca26"
             ],
             [
              1,
              "#f0f921"
             ]
            ],
            "type": "histogram2dcontour"
           }
          ],
          "mesh3d": [
           {
            "colorbar": {
             "outlinewidth": 0,
             "ticks": ""
            },
            "type": "mesh3d"
           }
          ],
          "parcoords": [
           {
            "line": {
             "colorbar": {
              "outlinewidth": 0,
              "ticks": ""
             }
            },
            "type": "parcoords"
           }
          ],
          "pie": [
           {
            "automargin": true,
            "type": "pie"
           }
          ],
          "scatter": [
           {
            "fillpattern": {
             "fillmode": "overlay",
             "size": 10,
             "solidity": 0.2
            },
            "type": "scatter"
           }
          ],
          "scatter3d": [
           {
            "line": {
             "colorbar": {
              "outlinewidth": 0,
              "ticks": ""
             }
            },
            "marker": {
             "colorbar": {
              "outlinewidth": 0,
              "ticks": ""
             }
            },
            "type": "scatter3d"
           }
          ],
          "scattercarpet": [
           {
            "marker": {
             "colorbar": {
              "outlinewidth": 0,
              "ticks": ""
             }
            },
            "type": "scattercarpet"
           }
          ],
          "scattergeo": [
           {
            "marker": {
             "colorbar": {
              "outlinewidth": 0,
              "ticks": ""
             }
            },
            "type": "scattergeo"
           }
          ],
          "scattergl": [
           {
            "marker": {
             "colorbar": {
              "outlinewidth": 0,
              "ticks": ""
             }
            },
            "type": "scattergl"
           }
          ],
          "scattermapbox": [
           {
            "marker": {
             "colorbar": {
              "outlinewidth": 0,
              "ticks": ""
             }
            },
            "type": "scattermapbox"
           }
          ],
          "scatterpolar": [
           {
            "marker": {
             "colorbar": {
              "outlinewidth": 0,
              "ticks": ""
             }
            },
            "type": "scatterpolar"
           }
          ],
          "scatterpolargl": [
           {
            "marker": {
             "colorbar": {
              "outlinewidth": 0,
              "ticks": ""
             }
            },
            "type": "scatterpolargl"
           }
          ],
          "scatterternary": [
           {
            "marker": {
             "colorbar": {
              "outlinewidth": 0,
              "ticks": ""
             }
            },
            "type": "scatterternary"
           }
          ],
          "surface": [
           {
            "colorbar": {
             "outlinewidth": 0,
             "ticks": ""
            },
            "colorscale": [
             [
              0,
              "#0d0887"
             ],
             [
              0.1111111111111111,
              "#46039f"
             ],
             [
              0.2222222222222222,
              "#7201a8"
             ],
             [
              0.3333333333333333,
              "#9c179e"
             ],
             [
              0.4444444444444444,
              "#bd3786"
             ],
             [
              0.5555555555555556,
              "#d8576b"
             ],
             [
              0.6666666666666666,
              "#ed7953"
             ],
             [
              0.7777777777777778,
              "#fb9f3a"
             ],
             [
              0.8888888888888888,
              "#fdca26"
             ],
             [
              1,
              "#f0f921"
             ]
            ],
            "type": "surface"
           }
          ],
          "table": [
           {
            "cells": {
             "fill": {
              "color": "#EBF0F8"
             },
             "line": {
              "color": "white"
             }
            },
            "header": {
             "fill": {
              "color": "#C8D4E3"
             },
             "line": {
              "color": "white"
             }
            },
            "type": "table"
           }
          ]
         },
         "layout": {
          "annotationdefaults": {
           "arrowcolor": "#2a3f5f",
           "arrowhead": 0,
           "arrowwidth": 1
          },
          "autotypenumbers": "strict",
          "coloraxis": {
           "colorbar": {
            "outlinewidth": 0,
            "ticks": ""
           }
          },
          "colorscale": {
           "diverging": [
            [
             0,
             "#8e0152"
            ],
            [
             0.1,
             "#c51b7d"
            ],
            [
             0.2,
             "#de77ae"
            ],
            [
             0.3,
             "#f1b6da"
            ],
            [
             0.4,
             "#fde0ef"
            ],
            [
             0.5,
             "#f7f7f7"
            ],
            [
             0.6,
             "#e6f5d0"
            ],
            [
             0.7,
             "#b8e186"
            ],
            [
             0.8,
             "#7fbc41"
            ],
            [
             0.9,
             "#4d9221"
            ],
            [
             1,
             "#276419"
            ]
           ],
           "sequential": [
            [
             0,
             "#0d0887"
            ],
            [
             0.1111111111111111,
             "#46039f"
            ],
            [
             0.2222222222222222,
             "#7201a8"
            ],
            [
             0.3333333333333333,
             "#9c179e"
            ],
            [
             0.4444444444444444,
             "#bd3786"
            ],
            [
             0.5555555555555556,
             "#d8576b"
            ],
            [
             0.6666666666666666,
             "#ed7953"
            ],
            [
             0.7777777777777778,
             "#fb9f3a"
            ],
            [
             0.8888888888888888,
             "#fdca26"
            ],
            [
             1,
             "#f0f921"
            ]
           ],
           "sequentialminus": [
            [
             0,
             "#0d0887"
            ],
            [
             0.1111111111111111,
             "#46039f"
            ],
            [
             0.2222222222222222,
             "#7201a8"
            ],
            [
             0.3333333333333333,
             "#9c179e"
            ],
            [
             0.4444444444444444,
             "#bd3786"
            ],
            [
             0.5555555555555556,
             "#d8576b"
            ],
            [
             0.6666666666666666,
             "#ed7953"
            ],
            [
             0.7777777777777778,
             "#fb9f3a"
            ],
            [
             0.8888888888888888,
             "#fdca26"
            ],
            [
             1,
             "#f0f921"
            ]
           ]
          },
          "colorway": [
           "#636efa",
           "#EF553B",
           "#00cc96",
           "#ab63fa",
           "#FFA15A",
           "#19d3f3",
           "#FF6692",
           "#B6E880",
           "#FF97FF",
           "#FECB52"
          ],
          "font": {
           "color": "#2a3f5f"
          },
          "geo": {
           "bgcolor": "white",
           "lakecolor": "white",
           "landcolor": "#E5ECF6",
           "showlakes": true,
           "showland": true,
           "subunitcolor": "white"
          },
          "hoverlabel": {
           "align": "left"
          },
          "hovermode": "closest",
          "mapbox": {
           "style": "light"
          },
          "paper_bgcolor": "white",
          "plot_bgcolor": "#E5ECF6",
          "polar": {
           "angularaxis": {
            "gridcolor": "white",
            "linecolor": "white",
            "ticks": ""
           },
           "bgcolor": "#E5ECF6",
           "radialaxis": {
            "gridcolor": "white",
            "linecolor": "white",
            "ticks": ""
           }
          },
          "scene": {
           "xaxis": {
            "backgroundcolor": "#E5ECF6",
            "gridcolor": "white",
            "gridwidth": 2,
            "linecolor": "white",
            "showbackground": true,
            "ticks": "",
            "zerolinecolor": "white"
           },
           "yaxis": {
            "backgroundcolor": "#E5ECF6",
            "gridcolor": "white",
            "gridwidth": 2,
            "linecolor": "white",
            "showbackground": true,
            "ticks": "",
            "zerolinecolor": "white"
           },
           "zaxis": {
            "backgroundcolor": "#E5ECF6",
            "gridcolor": "white",
            "gridwidth": 2,
            "linecolor": "white",
            "showbackground": true,
            "ticks": "",
            "zerolinecolor": "white"
           }
          },
          "shapedefaults": {
           "line": {
            "color": "#2a3f5f"
           }
          },
          "ternary": {
           "aaxis": {
            "gridcolor": "white",
            "linecolor": "white",
            "ticks": ""
           },
           "baxis": {
            "gridcolor": "white",
            "linecolor": "white",
            "ticks": ""
           },
           "bgcolor": "#E5ECF6",
           "caxis": {
            "gridcolor": "white",
            "linecolor": "white",
            "ticks": ""
           }
          },
          "title": {
           "x": 0.05
          },
          "xaxis": {
           "automargin": true,
           "gridcolor": "white",
           "linecolor": "white",
           "ticks": "",
           "title": {
            "standoff": 15
           },
           "zerolinecolor": "white",
           "zerolinewidth": 2
          },
          "yaxis": {
           "automargin": true,
           "gridcolor": "white",
           "linecolor": "white",
           "ticks": "",
           "title": {
            "standoff": 15
           },
           "zerolinecolor": "white",
           "zerolinewidth": 2
          }
         }
        },
        "title": {
         "font": {
          "color": "#4D5663"
         }
        },
        "xaxis": {
         "gridcolor": "#E1E5ED",
         "showgrid": true,
         "tickfont": {
          "color": "#4D5663"
         },
         "title": {
          "font": {
           "color": "#4D5663"
          },
          "text": ""
         },
         "zerolinecolor": "#E1E5ED"
        },
        "yaxis": {
         "gridcolor": "#E1E5ED",
         "showgrid": true,
         "tickfont": {
          "color": "#4D5663"
         },
         "title": {
          "font": {
           "color": "#4D5663"
          },
          "text": ""
         },
         "zerolinecolor": "#E1E5ED"
        }
       }
      },
      "text/html": [
       "<div>                            <div id=\"663ea99e-c788-47bf-8148-58a62854d71c\" class=\"plotly-graph-div\" style=\"height:525px; width:100%;\"></div>            <script type=\"text/javascript\">                require([\"plotly\"], function(Plotly) {                    window.PLOTLYENV=window.PLOTLYENV || {};\n",
       "                    window.PLOTLYENV.BASE_URL='https://plot.ly';                                    if (document.getElementById(\"663ea99e-c788-47bf-8148-58a62854d71c\")) {                    Plotly.newPlot(                        \"663ea99e-c788-47bf-8148-58a62854d71c\",                        [{\"marker\":{\"color\":\"rgba(255, 153, 51, 0.6)\",\"line\":{\"color\":\"rgba(255, 153, 51, 1.0)\",\"width\":1}},\"name\":\"NIFTY Bank index\",\"orientation\":\"v\",\"text\":\"\",\"x\":[\"Jan\",\"Feb\",\"March\",\"Apr\",\"May\",\"June\",\"July\"],\"y\":[31446.391304347828,30675.4275,22936.040476190476,19715.116666666665,18707.215789473685,20953.679545454546,22235.144736842107],\"type\":\"bar\"},{\"marker\":{\"color\":\"rgba(55, 128, 191, 0.6)\",\"line\":{\"color\":\"rgba(55, 128, 191, 1.0)\",\"width\":1}},\"name\":\"NIFTY FMCG index\",\"orientation\":\"v\",\"text\":\"\",\"x\":[\"Jan\",\"Feb\",\"March\",\"Apr\",\"May\",\"June\",\"July\"],\"y\":[30791.56739130435,30468.122499999998,26407.204761904763,28622.122222222224,27325.952631578944,29321.377272727274,30906.78947368421],\"type\":\"bar\"},{\"marker\":{\"color\":\"rgba(50, 171, 96, 0.6)\",\"line\":{\"color\":\"rgba(50, 171, 96, 1.0)\",\"width\":1}},\"name\":\"NIFTY IT index\",\"orientation\":\"v\",\"text\":\"\",\"x\":[\"Jan\",\"Feb\",\"March\",\"Apr\",\"May\",\"June\",\"July\"],\"y\":[16177.997826086958,16411.6475,13356.3,12750.766666666666,13569.336842105264,14585.154545454547,16223.036842105264],\"type\":\"bar\"},{\"marker\":{\"color\":\"rgba(128, 0, 128, 0.6)\",\"line\":{\"color\":\"rgba(128, 0, 128, 1.0)\",\"width\":1}},\"name\":\"NIFTY Pharma index\",\"orientation\":\"v\",\"text\":\"\",\"x\":[\"Jan\",\"Feb\",\"March\",\"Apr\",\"May\",\"June\",\"July\"],\"y\":[8184.965217391305,8140.9325,7187.983333333333,8926.777777777777,9324.586842105264,10036.240909090908,10113.686842105262],\"type\":\"bar\"}],                        {\"legend\":{\"bgcolor\":\"#FFFFFF\",\"font\":{\"color\":\"#4D5663\"}},\"paper_bgcolor\":\"#FFFFFF\",\"plot_bgcolor\":\"#FFFFFF\",\"template\":{\"data\":{\"barpolar\":[{\"marker\":{\"line\":{\"color\":\"#E5ECF6\",\"width\":0.5},\"pattern\":{\"fillmode\":\"overlay\",\"size\":10,\"solidity\":0.2}},\"type\":\"barpolar\"}],\"bar\":[{\"error_x\":{\"color\":\"#2a3f5f\"},\"error_y\":{\"color\":\"#2a3f5f\"},\"marker\":{\"line\":{\"color\":\"#E5ECF6\",\"width\":0.5},\"pattern\":{\"fillmode\":\"overlay\",\"size\":10,\"solidity\":0.2}},\"type\":\"bar\"}],\"carpet\":[{\"aaxis\":{\"endlinecolor\":\"#2a3f5f\",\"gridcolor\":\"white\",\"linecolor\":\"white\",\"minorgridcolor\":\"white\",\"startlinecolor\":\"#2a3f5f\"},\"baxis\":{\"endlinecolor\":\"#2a3f5f\",\"gridcolor\":\"white\",\"linecolor\":\"white\",\"minorgridcolor\":\"white\",\"startlinecolor\":\"#2a3f5f\"},\"type\":\"carpet\"}],\"choropleth\":[{\"colorbar\":{\"outlinewidth\":0,\"ticks\":\"\"},\"type\":\"choropleth\"}],\"contourcarpet\":[{\"colorbar\":{\"outlinewidth\":0,\"ticks\":\"\"},\"type\":\"contourcarpet\"}],\"contour\":[{\"colorbar\":{\"outlinewidth\":0,\"ticks\":\"\"},\"colorscale\":[[0.0,\"#0d0887\"],[0.1111111111111111,\"#46039f\"],[0.2222222222222222,\"#7201a8\"],[0.3333333333333333,\"#9c179e\"],[0.4444444444444444,\"#bd3786\"],[0.5555555555555556,\"#d8576b\"],[0.6666666666666666,\"#ed7953\"],[0.7777777777777778,\"#fb9f3a\"],[0.8888888888888888,\"#fdca26\"],[1.0,\"#f0f921\"]],\"type\":\"contour\"}],\"heatmapgl\":[{\"colorbar\":{\"outlinewidth\":0,\"ticks\":\"\"},\"colorscale\":[[0.0,\"#0d0887\"],[0.1111111111111111,\"#46039f\"],[0.2222222222222222,\"#7201a8\"],[0.3333333333333333,\"#9c179e\"],[0.4444444444444444,\"#bd3786\"],[0.5555555555555556,\"#d8576b\"],[0.6666666666666666,\"#ed7953\"],[0.7777777777777778,\"#fb9f3a\"],[0.8888888888888888,\"#fdca26\"],[1.0,\"#f0f921\"]],\"type\":\"heatmapgl\"}],\"heatmap\":[{\"colorbar\":{\"outlinewidth\":0,\"ticks\":\"\"},\"colorscale\":[[0.0,\"#0d0887\"],[0.1111111111111111,\"#46039f\"],[0.2222222222222222,\"#7201a8\"],[0.3333333333333333,\"#9c179e\"],[0.4444444444444444,\"#bd3786\"],[0.5555555555555556,\"#d8576b\"],[0.6666666666666666,\"#ed7953\"],[0.7777777777777778,\"#fb9f3a\"],[0.8888888888888888,\"#fdca26\"],[1.0,\"#f0f921\"]],\"type\":\"heatmap\"}],\"histogram2dcontour\":[{\"colorbar\":{\"outlinewidth\":0,\"ticks\":\"\"},\"colorscale\":[[0.0,\"#0d0887\"],[0.1111111111111111,\"#46039f\"],[0.2222222222222222,\"#7201a8\"],[0.3333333333333333,\"#9c179e\"],[0.4444444444444444,\"#bd3786\"],[0.5555555555555556,\"#d8576b\"],[0.6666666666666666,\"#ed7953\"],[0.7777777777777778,\"#fb9f3a\"],[0.8888888888888888,\"#fdca26\"],[1.0,\"#f0f921\"]],\"type\":\"histogram2dcontour\"}],\"histogram2d\":[{\"colorbar\":{\"outlinewidth\":0,\"ticks\":\"\"},\"colorscale\":[[0.0,\"#0d0887\"],[0.1111111111111111,\"#46039f\"],[0.2222222222222222,\"#7201a8\"],[0.3333333333333333,\"#9c179e\"],[0.4444444444444444,\"#bd3786\"],[0.5555555555555556,\"#d8576b\"],[0.6666666666666666,\"#ed7953\"],[0.7777777777777778,\"#fb9f3a\"],[0.8888888888888888,\"#fdca26\"],[1.0,\"#f0f921\"]],\"type\":\"histogram2d\"}],\"histogram\":[{\"marker\":{\"pattern\":{\"fillmode\":\"overlay\",\"size\":10,\"solidity\":0.2}},\"type\":\"histogram\"}],\"mesh3d\":[{\"colorbar\":{\"outlinewidth\":0,\"ticks\":\"\"},\"type\":\"mesh3d\"}],\"parcoords\":[{\"line\":{\"colorbar\":{\"outlinewidth\":0,\"ticks\":\"\"}},\"type\":\"parcoords\"}],\"pie\":[{\"automargin\":true,\"type\":\"pie\"}],\"scatter3d\":[{\"line\":{\"colorbar\":{\"outlinewidth\":0,\"ticks\":\"\"}},\"marker\":{\"colorbar\":{\"outlinewidth\":0,\"ticks\":\"\"}},\"type\":\"scatter3d\"}],\"scattercarpet\":[{\"marker\":{\"colorbar\":{\"outlinewidth\":0,\"ticks\":\"\"}},\"type\":\"scattercarpet\"}],\"scattergeo\":[{\"marker\":{\"colorbar\":{\"outlinewidth\":0,\"ticks\":\"\"}},\"type\":\"scattergeo\"}],\"scattergl\":[{\"marker\":{\"colorbar\":{\"outlinewidth\":0,\"ticks\":\"\"}},\"type\":\"scattergl\"}],\"scattermapbox\":[{\"marker\":{\"colorbar\":{\"outlinewidth\":0,\"ticks\":\"\"}},\"type\":\"scattermapbox\"}],\"scatterpolargl\":[{\"marker\":{\"colorbar\":{\"outlinewidth\":0,\"ticks\":\"\"}},\"type\":\"scatterpolargl\"}],\"scatterpolar\":[{\"marker\":{\"colorbar\":{\"outlinewidth\":0,\"ticks\":\"\"}},\"type\":\"scatterpolar\"}],\"scatter\":[{\"fillpattern\":{\"fillmode\":\"overlay\",\"size\":10,\"solidity\":0.2},\"type\":\"scatter\"}],\"scatterternary\":[{\"marker\":{\"colorbar\":{\"outlinewidth\":0,\"ticks\":\"\"}},\"type\":\"scatterternary\"}],\"surface\":[{\"colorbar\":{\"outlinewidth\":0,\"ticks\":\"\"},\"colorscale\":[[0.0,\"#0d0887\"],[0.1111111111111111,\"#46039f\"],[0.2222222222222222,\"#7201a8\"],[0.3333333333333333,\"#9c179e\"],[0.4444444444444444,\"#bd3786\"],[0.5555555555555556,\"#d8576b\"],[0.6666666666666666,\"#ed7953\"],[0.7777777777777778,\"#fb9f3a\"],[0.8888888888888888,\"#fdca26\"],[1.0,\"#f0f921\"]],\"type\":\"surface\"}],\"table\":[{\"cells\":{\"fill\":{\"color\":\"#EBF0F8\"},\"line\":{\"color\":\"white\"}},\"header\":{\"fill\":{\"color\":\"#C8D4E3\"},\"line\":{\"color\":\"white\"}},\"type\":\"table\"}]},\"layout\":{\"annotationdefaults\":{\"arrowcolor\":\"#2a3f5f\",\"arrowhead\":0,\"arrowwidth\":1},\"autotypenumbers\":\"strict\",\"coloraxis\":{\"colorbar\":{\"outlinewidth\":0,\"ticks\":\"\"}},\"colorscale\":{\"diverging\":[[0,\"#8e0152\"],[0.1,\"#c51b7d\"],[0.2,\"#de77ae\"],[0.3,\"#f1b6da\"],[0.4,\"#fde0ef\"],[0.5,\"#f7f7f7\"],[0.6,\"#e6f5d0\"],[0.7,\"#b8e186\"],[0.8,\"#7fbc41\"],[0.9,\"#4d9221\"],[1,\"#276419\"]],\"sequential\":[[0.0,\"#0d0887\"],[0.1111111111111111,\"#46039f\"],[0.2222222222222222,\"#7201a8\"],[0.3333333333333333,\"#9c179e\"],[0.4444444444444444,\"#bd3786\"],[0.5555555555555556,\"#d8576b\"],[0.6666666666666666,\"#ed7953\"],[0.7777777777777778,\"#fb9f3a\"],[0.8888888888888888,\"#fdca26\"],[1.0,\"#f0f921\"]],\"sequentialminus\":[[0.0,\"#0d0887\"],[0.1111111111111111,\"#46039f\"],[0.2222222222222222,\"#7201a8\"],[0.3333333333333333,\"#9c179e\"],[0.4444444444444444,\"#bd3786\"],[0.5555555555555556,\"#d8576b\"],[0.6666666666666666,\"#ed7953\"],[0.7777777777777778,\"#fb9f3a\"],[0.8888888888888888,\"#fdca26\"],[1.0,\"#f0f921\"]]},\"colorway\":[\"#636efa\",\"#EF553B\",\"#00cc96\",\"#ab63fa\",\"#FFA15A\",\"#19d3f3\",\"#FF6692\",\"#B6E880\",\"#FF97FF\",\"#FECB52\"],\"font\":{\"color\":\"#2a3f5f\"},\"geo\":{\"bgcolor\":\"white\",\"lakecolor\":\"white\",\"landcolor\":\"#E5ECF6\",\"showlakes\":true,\"showland\":true,\"subunitcolor\":\"white\"},\"hoverlabel\":{\"align\":\"left\"},\"hovermode\":\"closest\",\"mapbox\":{\"style\":\"light\"},\"paper_bgcolor\":\"white\",\"plot_bgcolor\":\"#E5ECF6\",\"polar\":{\"angularaxis\":{\"gridcolor\":\"white\",\"linecolor\":\"white\",\"ticks\":\"\"},\"bgcolor\":\"#E5ECF6\",\"radialaxis\":{\"gridcolor\":\"white\",\"linecolor\":\"white\",\"ticks\":\"\"}},\"scene\":{\"xaxis\":{\"backgroundcolor\":\"#E5ECF6\",\"gridcolor\":\"white\",\"gridwidth\":2,\"linecolor\":\"white\",\"showbackground\":true,\"ticks\":\"\",\"zerolinecolor\":\"white\"},\"yaxis\":{\"backgroundcolor\":\"#E5ECF6\",\"gridcolor\":\"white\",\"gridwidth\":2,\"linecolor\":\"white\",\"showbackground\":true,\"ticks\":\"\",\"zerolinecolor\":\"white\"},\"zaxis\":{\"backgroundcolor\":\"#E5ECF6\",\"gridcolor\":\"white\",\"gridwidth\":2,\"linecolor\":\"white\",\"showbackground\":true,\"ticks\":\"\",\"zerolinecolor\":\"white\"}},\"shapedefaults\":{\"line\":{\"color\":\"#2a3f5f\"}},\"ternary\":{\"aaxis\":{\"gridcolor\":\"white\",\"linecolor\":\"white\",\"ticks\":\"\"},\"baxis\":{\"gridcolor\":\"white\",\"linecolor\":\"white\",\"ticks\":\"\"},\"bgcolor\":\"#E5ECF6\",\"caxis\":{\"gridcolor\":\"white\",\"linecolor\":\"white\",\"ticks\":\"\"}},\"title\":{\"x\":0.05},\"xaxis\":{\"automargin\":true,\"gridcolor\":\"white\",\"linecolor\":\"white\",\"ticks\":\"\",\"title\":{\"standoff\":15},\"zerolinecolor\":\"white\",\"zerolinewidth\":2},\"yaxis\":{\"automargin\":true,\"gridcolor\":\"white\",\"linecolor\":\"white\",\"ticks\":\"\",\"title\":{\"standoff\":15},\"zerolinecolor\":\"white\",\"zerolinewidth\":2}}},\"title\":{\"font\":{\"color\":\"#4D5663\"}},\"xaxis\":{\"gridcolor\":\"#E1E5ED\",\"showgrid\":true,\"tickfont\":{\"color\":\"#4D5663\"},\"title\":{\"font\":{\"color\":\"#4D5663\"},\"text\":\"\"},\"zerolinecolor\":\"#E1E5ED\"},\"yaxis\":{\"gridcolor\":\"#E1E5ED\",\"showgrid\":true,\"tickfont\":{\"color\":\"#4D5663\"},\"title\":{\"font\":{\"color\":\"#4D5663\"},\"text\":\"\"},\"zerolinecolor\":\"#E1E5ED\"}},                        {\"showLink\": true, \"linkText\": \"Export to plot.ly\", \"plotlyServerURL\": \"https://plot.ly\", \"responsive\": true}                    ).then(function(){\n",
       "                            \n",
       "var gd = document.getElementById('663ea99e-c788-47bf-8148-58a62854d71c');\n",
       "var x = new MutationObserver(function (mutations, observer) {{\n",
       "        var display = window.getComputedStyle(gd).display;\n",
       "        if (!display || display === 'none') {{\n",
       "            console.log([gd, 'removed!']);\n",
       "            Plotly.purge(gd);\n",
       "            observer.disconnect();\n",
       "        }}\n",
       "}});\n",
       "\n",
       "// Listen for the removal of the full notebook cells\n",
       "var notebookContainer = gd.closest('#notebook-container');\n",
       "if (notebookContainer) {{\n",
       "    x.observe(notebookContainer, {childList: true});\n",
       "}}\n",
       "\n",
       "// Listen for the clearing of the current output cell\n",
       "var outputEl = gd.closest('.output');\n",
       "if (outputEl) {{\n",
       "    x.observe(outputEl, {childList: true});\n",
       "}}\n",
       "\n",
       "                        })                };                });            </script>        </div>"
      ]
     },
     "metadata": {},
     "output_type": "display_data"
    }
   ],
   "source": [
    "nifty_data_resample.iplot(kind='bar')"
   ]
  },
  {
   "cell_type": "markdown",
   "metadata": {},
   "source": [
    "#### Gráfico de barras empilhadas"
   ]
  },
  {
   "cell_type": "code",
   "execution_count": 31,
   "metadata": {},
   "outputs": [
    {
     "data": {
      "application/vnd.plotly.v1+json": {
       "config": {
        "linkText": "Export to plot.ly",
        "plotlyServerURL": "https://plot.ly",
        "showLink": true
       },
       "data": [
        {
         "marker": {
          "color": "rgba(255, 153, 51, 0.6)",
          "line": {
           "color": "rgba(255, 153, 51, 1.0)",
           "width": 1
          }
         },
         "name": "NIFTY Bank index",
         "orientation": "h",
         "text": "",
         "type": "bar",
         "x": [
          31446.391304347828,
          30675.4275,
          22936.040476190476,
          19715.116666666665,
          18707.215789473685,
          20953.679545454546,
          22235.144736842107
         ],
         "y": [
          "Jan",
          "Feb",
          "March",
          "Apr",
          "May",
          "June",
          "July"
         ]
        },
        {
         "marker": {
          "color": "rgba(55, 128, 191, 0.6)",
          "line": {
           "color": "rgba(55, 128, 191, 1.0)",
           "width": 1
          }
         },
         "name": "NIFTY FMCG index",
         "orientation": "h",
         "text": "",
         "type": "bar",
         "x": [
          30791.56739130435,
          30468.122499999998,
          26407.204761904763,
          28622.122222222224,
          27325.952631578944,
          29321.377272727274,
          30906.78947368421
         ],
         "y": [
          "Jan",
          "Feb",
          "March",
          "Apr",
          "May",
          "June",
          "July"
         ]
        },
        {
         "marker": {
          "color": "rgba(50, 171, 96, 0.6)",
          "line": {
           "color": "rgba(50, 171, 96, 1.0)",
           "width": 1
          }
         },
         "name": "NIFTY IT index",
         "orientation": "h",
         "text": "",
         "type": "bar",
         "x": [
          16177.997826086958,
          16411.6475,
          13356.3,
          12750.766666666666,
          13569.336842105264,
          14585.154545454547,
          16223.036842105264
         ],
         "y": [
          "Jan",
          "Feb",
          "March",
          "Apr",
          "May",
          "June",
          "July"
         ]
        },
        {
         "marker": {
          "color": "rgba(128, 0, 128, 0.6)",
          "line": {
           "color": "rgba(128, 0, 128, 1.0)",
           "width": 1
          }
         },
         "name": "NIFTY Pharma index",
         "orientation": "h",
         "text": "",
         "type": "bar",
         "x": [
          8184.965217391305,
          8140.9325,
          7187.983333333333,
          8926.777777777777,
          9324.586842105264,
          10036.240909090908,
          10113.686842105262
         ],
         "y": [
          "Jan",
          "Feb",
          "March",
          "Apr",
          "May",
          "June",
          "July"
         ]
        }
       ],
       "layout": {
        "barmode": "stack",
        "legend": {
         "bgcolor": "#FFFFFF",
         "font": {
          "color": "#4D5663"
         },
         "traceorder": "normal"
        },
        "paper_bgcolor": "#FFFFFF",
        "plot_bgcolor": "#FFFFFF",
        "template": {
         "data": {
          "bar": [
           {
            "error_x": {
             "color": "#2a3f5f"
            },
            "error_y": {
             "color": "#2a3f5f"
            },
            "marker": {
             "line": {
              "color": "#E5ECF6",
              "width": 0.5
             },
             "pattern": {
              "fillmode": "overlay",
              "size": 10,
              "solidity": 0.2
             }
            },
            "type": "bar"
           }
          ],
          "barpolar": [
           {
            "marker": {
             "line": {
              "color": "#E5ECF6",
              "width": 0.5
             },
             "pattern": {
              "fillmode": "overlay",
              "size": 10,
              "solidity": 0.2
             }
            },
            "type": "barpolar"
           }
          ],
          "carpet": [
           {
            "aaxis": {
             "endlinecolor": "#2a3f5f",
             "gridcolor": "white",
             "linecolor": "white",
             "minorgridcolor": "white",
             "startlinecolor": "#2a3f5f"
            },
            "baxis": {
             "endlinecolor": "#2a3f5f",
             "gridcolor": "white",
             "linecolor": "white",
             "minorgridcolor": "white",
             "startlinecolor": "#2a3f5f"
            },
            "type": "carpet"
           }
          ],
          "choropleth": [
           {
            "colorbar": {
             "outlinewidth": 0,
             "ticks": ""
            },
            "type": "choropleth"
           }
          ],
          "contour": [
           {
            "colorbar": {
             "outlinewidth": 0,
             "ticks": ""
            },
            "colorscale": [
             [
              0,
              "#0d0887"
             ],
             [
              0.1111111111111111,
              "#46039f"
             ],
             [
              0.2222222222222222,
              "#7201a8"
             ],
             [
              0.3333333333333333,
              "#9c179e"
             ],
             [
              0.4444444444444444,
              "#bd3786"
             ],
             [
              0.5555555555555556,
              "#d8576b"
             ],
             [
              0.6666666666666666,
              "#ed7953"
             ],
             [
              0.7777777777777778,
              "#fb9f3a"
             ],
             [
              0.8888888888888888,
              "#fdca26"
             ],
             [
              1,
              "#f0f921"
             ]
            ],
            "type": "contour"
           }
          ],
          "contourcarpet": [
           {
            "colorbar": {
             "outlinewidth": 0,
             "ticks": ""
            },
            "type": "contourcarpet"
           }
          ],
          "heatmap": [
           {
            "colorbar": {
             "outlinewidth": 0,
             "ticks": ""
            },
            "colorscale": [
             [
              0,
              "#0d0887"
             ],
             [
              0.1111111111111111,
              "#46039f"
             ],
             [
              0.2222222222222222,
              "#7201a8"
             ],
             [
              0.3333333333333333,
              "#9c179e"
             ],
             [
              0.4444444444444444,
              "#bd3786"
             ],
             [
              0.5555555555555556,
              "#d8576b"
             ],
             [
              0.6666666666666666,
              "#ed7953"
             ],
             [
              0.7777777777777778,
              "#fb9f3a"
             ],
             [
              0.8888888888888888,
              "#fdca26"
             ],
             [
              1,
              "#f0f921"
             ]
            ],
            "type": "heatmap"
           }
          ],
          "heatmapgl": [
           {
            "colorbar": {
             "outlinewidth": 0,
             "ticks": ""
            },
            "colorscale": [
             [
              0,
              "#0d0887"
             ],
             [
              0.1111111111111111,
              "#46039f"
             ],
             [
              0.2222222222222222,
              "#7201a8"
             ],
             [
              0.3333333333333333,
              "#9c179e"
             ],
             [
              0.4444444444444444,
              "#bd3786"
             ],
             [
              0.5555555555555556,
              "#d8576b"
             ],
             [
              0.6666666666666666,
              "#ed7953"
             ],
             [
              0.7777777777777778,
              "#fb9f3a"
             ],
             [
              0.8888888888888888,
              "#fdca26"
             ],
             [
              1,
              "#f0f921"
             ]
            ],
            "type": "heatmapgl"
           }
          ],
          "histogram": [
           {
            "marker": {
             "pattern": {
              "fillmode": "overlay",
              "size": 10,
              "solidity": 0.2
             }
            },
            "type": "histogram"
           }
          ],
          "histogram2d": [
           {
            "colorbar": {
             "outlinewidth": 0,
             "ticks": ""
            },
            "colorscale": [
             [
              0,
              "#0d0887"
             ],
             [
              0.1111111111111111,
              "#46039f"
             ],
             [
              0.2222222222222222,
              "#7201a8"
             ],
             [
              0.3333333333333333,
              "#9c179e"
             ],
             [
              0.4444444444444444,
              "#bd3786"
             ],
             [
              0.5555555555555556,
              "#d8576b"
             ],
             [
              0.6666666666666666,
              "#ed7953"
             ],
             [
              0.7777777777777778,
              "#fb9f3a"
             ],
             [
              0.8888888888888888,
              "#fdca26"
             ],
             [
              1,
              "#f0f921"
             ]
            ],
            "type": "histogram2d"
           }
          ],
          "histogram2dcontour": [
           {
            "colorbar": {
             "outlinewidth": 0,
             "ticks": ""
            },
            "colorscale": [
             [
              0,
              "#0d0887"
             ],
             [
              0.1111111111111111,
              "#46039f"
             ],
             [
              0.2222222222222222,
              "#7201a8"
             ],
             [
              0.3333333333333333,
              "#9c179e"
             ],
             [
              0.4444444444444444,
              "#bd3786"
             ],
             [
              0.5555555555555556,
              "#d8576b"
             ],
             [
              0.6666666666666666,
              "#ed7953"
             ],
             [
              0.7777777777777778,
              "#fb9f3a"
             ],
             [
              0.8888888888888888,
              "#fdca26"
             ],
             [
              1,
              "#f0f921"
             ]
            ],
            "type": "histogram2dcontour"
           }
          ],
          "mesh3d": [
           {
            "colorbar": {
             "outlinewidth": 0,
             "ticks": ""
            },
            "type": "mesh3d"
           }
          ],
          "parcoords": [
           {
            "line": {
             "colorbar": {
              "outlinewidth": 0,
              "ticks": ""
             }
            },
            "type": "parcoords"
           }
          ],
          "pie": [
           {
            "automargin": true,
            "type": "pie"
           }
          ],
          "scatter": [
           {
            "fillpattern": {
             "fillmode": "overlay",
             "size": 10,
             "solidity": 0.2
            },
            "type": "scatter"
           }
          ],
          "scatter3d": [
           {
            "line": {
             "colorbar": {
              "outlinewidth": 0,
              "ticks": ""
             }
            },
            "marker": {
             "colorbar": {
              "outlinewidth": 0,
              "ticks": ""
             }
            },
            "type": "scatter3d"
           }
          ],
          "scattercarpet": [
           {
            "marker": {
             "colorbar": {
              "outlinewidth": 0,
              "ticks": ""
             }
            },
            "type": "scattercarpet"
           }
          ],
          "scattergeo": [
           {
            "marker": {
             "colorbar": {
              "outlinewidth": 0,
              "ticks": ""
             }
            },
            "type": "scattergeo"
           }
          ],
          "scattergl": [
           {
            "marker": {
             "colorbar": {
              "outlinewidth": 0,
              "ticks": ""
             }
            },
            "type": "scattergl"
           }
          ],
          "scattermapbox": [
           {
            "marker": {
             "colorbar": {
              "outlinewidth": 0,
              "ticks": ""
             }
            },
            "type": "scattermapbox"
           }
          ],
          "scatterpolar": [
           {
            "marker": {
             "colorbar": {
              "outlinewidth": 0,
              "ticks": ""
             }
            },
            "type": "scatterpolar"
           }
          ],
          "scatterpolargl": [
           {
            "marker": {
             "colorbar": {
              "outlinewidth": 0,
              "ticks": ""
             }
            },
            "type": "scatterpolargl"
           }
          ],
          "scatterternary": [
           {
            "marker": {
             "colorbar": {
              "outlinewidth": 0,
              "ticks": ""
             }
            },
            "type": "scatterternary"
           }
          ],
          "surface": [
           {
            "colorbar": {
             "outlinewidth": 0,
             "ticks": ""
            },
            "colorscale": [
             [
              0,
              "#0d0887"
             ],
             [
              0.1111111111111111,
              "#46039f"
             ],
             [
              0.2222222222222222,
              "#7201a8"
             ],
             [
              0.3333333333333333,
              "#9c179e"
             ],
             [
              0.4444444444444444,
              "#bd3786"
             ],
             [
              0.5555555555555556,
              "#d8576b"
             ],
             [
              0.6666666666666666,
              "#ed7953"
             ],
             [
              0.7777777777777778,
              "#fb9f3a"
             ],
             [
              0.8888888888888888,
              "#fdca26"
             ],
             [
              1,
              "#f0f921"
             ]
            ],
            "type": "surface"
           }
          ],
          "table": [
           {
            "cells": {
             "fill": {
              "color": "#EBF0F8"
             },
             "line": {
              "color": "white"
             }
            },
            "header": {
             "fill": {
              "color": "#C8D4E3"
             },
             "line": {
              "color": "white"
             }
            },
            "type": "table"
           }
          ]
         },
         "layout": {
          "annotationdefaults": {
           "arrowcolor": "#2a3f5f",
           "arrowhead": 0,
           "arrowwidth": 1
          },
          "autotypenumbers": "strict",
          "coloraxis": {
           "colorbar": {
            "outlinewidth": 0,
            "ticks": ""
           }
          },
          "colorscale": {
           "diverging": [
            [
             0,
             "#8e0152"
            ],
            [
             0.1,
             "#c51b7d"
            ],
            [
             0.2,
             "#de77ae"
            ],
            [
             0.3,
             "#f1b6da"
            ],
            [
             0.4,
             "#fde0ef"
            ],
            [
             0.5,
             "#f7f7f7"
            ],
            [
             0.6,
             "#e6f5d0"
            ],
            [
             0.7,
             "#b8e186"
            ],
            [
             0.8,
             "#7fbc41"
            ],
            [
             0.9,
             "#4d9221"
            ],
            [
             1,
             "#276419"
            ]
           ],
           "sequential": [
            [
             0,
             "#0d0887"
            ],
            [
             0.1111111111111111,
             "#46039f"
            ],
            [
             0.2222222222222222,
             "#7201a8"
            ],
            [
             0.3333333333333333,
             "#9c179e"
            ],
            [
             0.4444444444444444,
             "#bd3786"
            ],
            [
             0.5555555555555556,
             "#d8576b"
            ],
            [
             0.6666666666666666,
             "#ed7953"
            ],
            [
             0.7777777777777778,
             "#fb9f3a"
            ],
            [
             0.8888888888888888,
             "#fdca26"
            ],
            [
             1,
             "#f0f921"
            ]
           ],
           "sequentialminus": [
            [
             0,
             "#0d0887"
            ],
            [
             0.1111111111111111,
             "#46039f"
            ],
            [
             0.2222222222222222,
             "#7201a8"
            ],
            [
             0.3333333333333333,
             "#9c179e"
            ],
            [
             0.4444444444444444,
             "#bd3786"
            ],
            [
             0.5555555555555556,
             "#d8576b"
            ],
            [
             0.6666666666666666,
             "#ed7953"
            ],
            [
             0.7777777777777778,
             "#fb9f3a"
            ],
            [
             0.8888888888888888,
             "#fdca26"
            ],
            [
             1,
             "#f0f921"
            ]
           ]
          },
          "colorway": [
           "#636efa",
           "#EF553B",
           "#00cc96",
           "#ab63fa",
           "#FFA15A",
           "#19d3f3",
           "#FF6692",
           "#B6E880",
           "#FF97FF",
           "#FECB52"
          ],
          "font": {
           "color": "#2a3f5f"
          },
          "geo": {
           "bgcolor": "white",
           "lakecolor": "white",
           "landcolor": "#E5ECF6",
           "showlakes": true,
           "showland": true,
           "subunitcolor": "white"
          },
          "hoverlabel": {
           "align": "left"
          },
          "hovermode": "closest",
          "mapbox": {
           "style": "light"
          },
          "paper_bgcolor": "white",
          "plot_bgcolor": "#E5ECF6",
          "polar": {
           "angularaxis": {
            "gridcolor": "white",
            "linecolor": "white",
            "ticks": ""
           },
           "bgcolor": "#E5ECF6",
           "radialaxis": {
            "gridcolor": "white",
            "linecolor": "white",
            "ticks": ""
           }
          },
          "scene": {
           "xaxis": {
            "backgroundcolor": "#E5ECF6",
            "gridcolor": "white",
            "gridwidth": 2,
            "linecolor": "white",
            "showbackground": true,
            "ticks": "",
            "zerolinecolor": "white"
           },
           "yaxis": {
            "backgroundcolor": "#E5ECF6",
            "gridcolor": "white",
            "gridwidth": 2,
            "linecolor": "white",
            "showbackground": true,
            "ticks": "",
            "zerolinecolor": "white"
           },
           "zaxis": {
            "backgroundcolor": "#E5ECF6",
            "gridcolor": "white",
            "gridwidth": 2,
            "linecolor": "white",
            "showbackground": true,
            "ticks": "",
            "zerolinecolor": "white"
           }
          },
          "shapedefaults": {
           "line": {
            "color": "#2a3f5f"
           }
          },
          "ternary": {
           "aaxis": {
            "gridcolor": "white",
            "linecolor": "white",
            "ticks": ""
           },
           "baxis": {
            "gridcolor": "white",
            "linecolor": "white",
            "ticks": ""
           },
           "bgcolor": "#E5ECF6",
           "caxis": {
            "gridcolor": "white",
            "linecolor": "white",
            "ticks": ""
           }
          },
          "title": {
           "x": 0.05
          },
          "xaxis": {
           "automargin": true,
           "gridcolor": "white",
           "linecolor": "white",
           "ticks": "",
           "title": {
            "standoff": 15
           },
           "zerolinecolor": "white",
           "zerolinewidth": 2
          },
          "yaxis": {
           "automargin": true,
           "gridcolor": "white",
           "linecolor": "white",
           "ticks": "",
           "title": {
            "standoff": 15
           },
           "zerolinecolor": "white",
           "zerolinewidth": 2
          }
         }
        },
        "title": {
         "font": {
          "color": "#4D5663"
         }
        },
        "xaxis": {
         "gridcolor": "#E1E5ED",
         "showgrid": true,
         "tickfont": {
          "color": "#4D5663"
         },
         "title": {
          "font": {
           "color": "#4D5663"
          },
          "text": ""
         },
         "zerolinecolor": "#E1E5ED"
        },
        "yaxis": {
         "gridcolor": "#E1E5ED",
         "showgrid": true,
         "tickfont": {
          "color": "#4D5663"
         },
         "title": {
          "font": {
           "color": "#4D5663"
          },
          "text": ""
         },
         "zerolinecolor": "#E1E5ED"
        }
       }
      },
      "text/html": [
       "<div>                            <div id=\"853a373e-5cc6-4090-8e80-34cd0278f69e\" class=\"plotly-graph-div\" style=\"height:525px; width:100%;\"></div>            <script type=\"text/javascript\">                require([\"plotly\"], function(Plotly) {                    window.PLOTLYENV=window.PLOTLYENV || {};\n",
       "                    window.PLOTLYENV.BASE_URL='https://plot.ly';                                    if (document.getElementById(\"853a373e-5cc6-4090-8e80-34cd0278f69e\")) {                    Plotly.newPlot(                        \"853a373e-5cc6-4090-8e80-34cd0278f69e\",                        [{\"marker\":{\"color\":\"rgba(255, 153, 51, 0.6)\",\"line\":{\"color\":\"rgba(255, 153, 51, 1.0)\",\"width\":1}},\"name\":\"NIFTY Bank index\",\"orientation\":\"h\",\"text\":\"\",\"x\":[31446.391304347828,30675.4275,22936.040476190476,19715.116666666665,18707.215789473685,20953.679545454546,22235.144736842107],\"y\":[\"Jan\",\"Feb\",\"March\",\"Apr\",\"May\",\"June\",\"July\"],\"type\":\"bar\"},{\"marker\":{\"color\":\"rgba(55, 128, 191, 0.6)\",\"line\":{\"color\":\"rgba(55, 128, 191, 1.0)\",\"width\":1}},\"name\":\"NIFTY FMCG index\",\"orientation\":\"h\",\"text\":\"\",\"x\":[30791.56739130435,30468.122499999998,26407.204761904763,28622.122222222224,27325.952631578944,29321.377272727274,30906.78947368421],\"y\":[\"Jan\",\"Feb\",\"March\",\"Apr\",\"May\",\"June\",\"July\"],\"type\":\"bar\"},{\"marker\":{\"color\":\"rgba(50, 171, 96, 0.6)\",\"line\":{\"color\":\"rgba(50, 171, 96, 1.0)\",\"width\":1}},\"name\":\"NIFTY IT index\",\"orientation\":\"h\",\"text\":\"\",\"x\":[16177.997826086958,16411.6475,13356.3,12750.766666666666,13569.336842105264,14585.154545454547,16223.036842105264],\"y\":[\"Jan\",\"Feb\",\"March\",\"Apr\",\"May\",\"June\",\"July\"],\"type\":\"bar\"},{\"marker\":{\"color\":\"rgba(128, 0, 128, 0.6)\",\"line\":{\"color\":\"rgba(128, 0, 128, 1.0)\",\"width\":1}},\"name\":\"NIFTY Pharma index\",\"orientation\":\"h\",\"text\":\"\",\"x\":[8184.965217391305,8140.9325,7187.983333333333,8926.777777777777,9324.586842105264,10036.240909090908,10113.686842105262],\"y\":[\"Jan\",\"Feb\",\"March\",\"Apr\",\"May\",\"June\",\"July\"],\"type\":\"bar\"}],                        {\"barmode\":\"stack\",\"legend\":{\"bgcolor\":\"#FFFFFF\",\"font\":{\"color\":\"#4D5663\"},\"traceorder\":\"normal\"},\"paper_bgcolor\":\"#FFFFFF\",\"plot_bgcolor\":\"#FFFFFF\",\"template\":{\"data\":{\"barpolar\":[{\"marker\":{\"line\":{\"color\":\"#E5ECF6\",\"width\":0.5},\"pattern\":{\"fillmode\":\"overlay\",\"size\":10,\"solidity\":0.2}},\"type\":\"barpolar\"}],\"bar\":[{\"error_x\":{\"color\":\"#2a3f5f\"},\"error_y\":{\"color\":\"#2a3f5f\"},\"marker\":{\"line\":{\"color\":\"#E5ECF6\",\"width\":0.5},\"pattern\":{\"fillmode\":\"overlay\",\"size\":10,\"solidity\":0.2}},\"type\":\"bar\"}],\"carpet\":[{\"aaxis\":{\"endlinecolor\":\"#2a3f5f\",\"gridcolor\":\"white\",\"linecolor\":\"white\",\"minorgridcolor\":\"white\",\"startlinecolor\":\"#2a3f5f\"},\"baxis\":{\"endlinecolor\":\"#2a3f5f\",\"gridcolor\":\"white\",\"linecolor\":\"white\",\"minorgridcolor\":\"white\",\"startlinecolor\":\"#2a3f5f\"},\"type\":\"carpet\"}],\"choropleth\":[{\"colorbar\":{\"outlinewidth\":0,\"ticks\":\"\"},\"type\":\"choropleth\"}],\"contourcarpet\":[{\"colorbar\":{\"outlinewidth\":0,\"ticks\":\"\"},\"type\":\"contourcarpet\"}],\"contour\":[{\"colorbar\":{\"outlinewidth\":0,\"ticks\":\"\"},\"colorscale\":[[0.0,\"#0d0887\"],[0.1111111111111111,\"#46039f\"],[0.2222222222222222,\"#7201a8\"],[0.3333333333333333,\"#9c179e\"],[0.4444444444444444,\"#bd3786\"],[0.5555555555555556,\"#d8576b\"],[0.6666666666666666,\"#ed7953\"],[0.7777777777777778,\"#fb9f3a\"],[0.8888888888888888,\"#fdca26\"],[1.0,\"#f0f921\"]],\"type\":\"contour\"}],\"heatmapgl\":[{\"colorbar\":{\"outlinewidth\":0,\"ticks\":\"\"},\"colorscale\":[[0.0,\"#0d0887\"],[0.1111111111111111,\"#46039f\"],[0.2222222222222222,\"#7201a8\"],[0.3333333333333333,\"#9c179e\"],[0.4444444444444444,\"#bd3786\"],[0.5555555555555556,\"#d8576b\"],[0.6666666666666666,\"#ed7953\"],[0.7777777777777778,\"#fb9f3a\"],[0.8888888888888888,\"#fdca26\"],[1.0,\"#f0f921\"]],\"type\":\"heatmapgl\"}],\"heatmap\":[{\"colorbar\":{\"outlinewidth\":0,\"ticks\":\"\"},\"colorscale\":[[0.0,\"#0d0887\"],[0.1111111111111111,\"#46039f\"],[0.2222222222222222,\"#7201a8\"],[0.3333333333333333,\"#9c179e\"],[0.4444444444444444,\"#bd3786\"],[0.5555555555555556,\"#d8576b\"],[0.6666666666666666,\"#ed7953\"],[0.7777777777777778,\"#fb9f3a\"],[0.8888888888888888,\"#fdca26\"],[1.0,\"#f0f921\"]],\"type\":\"heatmap\"}],\"histogram2dcontour\":[{\"colorbar\":{\"outlinewidth\":0,\"ticks\":\"\"},\"colorscale\":[[0.0,\"#0d0887\"],[0.1111111111111111,\"#46039f\"],[0.2222222222222222,\"#7201a8\"],[0.3333333333333333,\"#9c179e\"],[0.4444444444444444,\"#bd3786\"],[0.5555555555555556,\"#d8576b\"],[0.6666666666666666,\"#ed7953\"],[0.7777777777777778,\"#fb9f3a\"],[0.8888888888888888,\"#fdca26\"],[1.0,\"#f0f921\"]],\"type\":\"histogram2dcontour\"}],\"histogram2d\":[{\"colorbar\":{\"outlinewidth\":0,\"ticks\":\"\"},\"colorscale\":[[0.0,\"#0d0887\"],[0.1111111111111111,\"#46039f\"],[0.2222222222222222,\"#7201a8\"],[0.3333333333333333,\"#9c179e\"],[0.4444444444444444,\"#bd3786\"],[0.5555555555555556,\"#d8576b\"],[0.6666666666666666,\"#ed7953\"],[0.7777777777777778,\"#fb9f3a\"],[0.8888888888888888,\"#fdca26\"],[1.0,\"#f0f921\"]],\"type\":\"histogram2d\"}],\"histogram\":[{\"marker\":{\"pattern\":{\"fillmode\":\"overlay\",\"size\":10,\"solidity\":0.2}},\"type\":\"histogram\"}],\"mesh3d\":[{\"colorbar\":{\"outlinewidth\":0,\"ticks\":\"\"},\"type\":\"mesh3d\"}],\"parcoords\":[{\"line\":{\"colorbar\":{\"outlinewidth\":0,\"ticks\":\"\"}},\"type\":\"parcoords\"}],\"pie\":[{\"automargin\":true,\"type\":\"pie\"}],\"scatter3d\":[{\"line\":{\"colorbar\":{\"outlinewidth\":0,\"ticks\":\"\"}},\"marker\":{\"colorbar\":{\"outlinewidth\":0,\"ticks\":\"\"}},\"type\":\"scatter3d\"}],\"scattercarpet\":[{\"marker\":{\"colorbar\":{\"outlinewidth\":0,\"ticks\":\"\"}},\"type\":\"scattercarpet\"}],\"scattergeo\":[{\"marker\":{\"colorbar\":{\"outlinewidth\":0,\"ticks\":\"\"}},\"type\":\"scattergeo\"}],\"scattergl\":[{\"marker\":{\"colorbar\":{\"outlinewidth\":0,\"ticks\":\"\"}},\"type\":\"scattergl\"}],\"scattermapbox\":[{\"marker\":{\"colorbar\":{\"outlinewidth\":0,\"ticks\":\"\"}},\"type\":\"scattermapbox\"}],\"scatterpolargl\":[{\"marker\":{\"colorbar\":{\"outlinewidth\":0,\"ticks\":\"\"}},\"type\":\"scatterpolargl\"}],\"scatterpolar\":[{\"marker\":{\"colorbar\":{\"outlinewidth\":0,\"ticks\":\"\"}},\"type\":\"scatterpolar\"}],\"scatter\":[{\"fillpattern\":{\"fillmode\":\"overlay\",\"size\":10,\"solidity\":0.2},\"type\":\"scatter\"}],\"scatterternary\":[{\"marker\":{\"colorbar\":{\"outlinewidth\":0,\"ticks\":\"\"}},\"type\":\"scatterternary\"}],\"surface\":[{\"colorbar\":{\"outlinewidth\":0,\"ticks\":\"\"},\"colorscale\":[[0.0,\"#0d0887\"],[0.1111111111111111,\"#46039f\"],[0.2222222222222222,\"#7201a8\"],[0.3333333333333333,\"#9c179e\"],[0.4444444444444444,\"#bd3786\"],[0.5555555555555556,\"#d8576b\"],[0.6666666666666666,\"#ed7953\"],[0.7777777777777778,\"#fb9f3a\"],[0.8888888888888888,\"#fdca26\"],[1.0,\"#f0f921\"]],\"type\":\"surface\"}],\"table\":[{\"cells\":{\"fill\":{\"color\":\"#EBF0F8\"},\"line\":{\"color\":\"white\"}},\"header\":{\"fill\":{\"color\":\"#C8D4E3\"},\"line\":{\"color\":\"white\"}},\"type\":\"table\"}]},\"layout\":{\"annotationdefaults\":{\"arrowcolor\":\"#2a3f5f\",\"arrowhead\":0,\"arrowwidth\":1},\"autotypenumbers\":\"strict\",\"coloraxis\":{\"colorbar\":{\"outlinewidth\":0,\"ticks\":\"\"}},\"colorscale\":{\"diverging\":[[0,\"#8e0152\"],[0.1,\"#c51b7d\"],[0.2,\"#de77ae\"],[0.3,\"#f1b6da\"],[0.4,\"#fde0ef\"],[0.5,\"#f7f7f7\"],[0.6,\"#e6f5d0\"],[0.7,\"#b8e186\"],[0.8,\"#7fbc41\"],[0.9,\"#4d9221\"],[1,\"#276419\"]],\"sequential\":[[0.0,\"#0d0887\"],[0.1111111111111111,\"#46039f\"],[0.2222222222222222,\"#7201a8\"],[0.3333333333333333,\"#9c179e\"],[0.4444444444444444,\"#bd3786\"],[0.5555555555555556,\"#d8576b\"],[0.6666666666666666,\"#ed7953\"],[0.7777777777777778,\"#fb9f3a\"],[0.8888888888888888,\"#fdca26\"],[1.0,\"#f0f921\"]],\"sequentialminus\":[[0.0,\"#0d0887\"],[0.1111111111111111,\"#46039f\"],[0.2222222222222222,\"#7201a8\"],[0.3333333333333333,\"#9c179e\"],[0.4444444444444444,\"#bd3786\"],[0.5555555555555556,\"#d8576b\"],[0.6666666666666666,\"#ed7953\"],[0.7777777777777778,\"#fb9f3a\"],[0.8888888888888888,\"#fdca26\"],[1.0,\"#f0f921\"]]},\"colorway\":[\"#636efa\",\"#EF553B\",\"#00cc96\",\"#ab63fa\",\"#FFA15A\",\"#19d3f3\",\"#FF6692\",\"#B6E880\",\"#FF97FF\",\"#FECB52\"],\"font\":{\"color\":\"#2a3f5f\"},\"geo\":{\"bgcolor\":\"white\",\"lakecolor\":\"white\",\"landcolor\":\"#E5ECF6\",\"showlakes\":true,\"showland\":true,\"subunitcolor\":\"white\"},\"hoverlabel\":{\"align\":\"left\"},\"hovermode\":\"closest\",\"mapbox\":{\"style\":\"light\"},\"paper_bgcolor\":\"white\",\"plot_bgcolor\":\"#E5ECF6\",\"polar\":{\"angularaxis\":{\"gridcolor\":\"white\",\"linecolor\":\"white\",\"ticks\":\"\"},\"bgcolor\":\"#E5ECF6\",\"radialaxis\":{\"gridcolor\":\"white\",\"linecolor\":\"white\",\"ticks\":\"\"}},\"scene\":{\"xaxis\":{\"backgroundcolor\":\"#E5ECF6\",\"gridcolor\":\"white\",\"gridwidth\":2,\"linecolor\":\"white\",\"showbackground\":true,\"ticks\":\"\",\"zerolinecolor\":\"white\"},\"yaxis\":{\"backgroundcolor\":\"#E5ECF6\",\"gridcolor\":\"white\",\"gridwidth\":2,\"linecolor\":\"white\",\"showbackground\":true,\"ticks\":\"\",\"zerolinecolor\":\"white\"},\"zaxis\":{\"backgroundcolor\":\"#E5ECF6\",\"gridcolor\":\"white\",\"gridwidth\":2,\"linecolor\":\"white\",\"showbackground\":true,\"ticks\":\"\",\"zerolinecolor\":\"white\"}},\"shapedefaults\":{\"line\":{\"color\":\"#2a3f5f\"}},\"ternary\":{\"aaxis\":{\"gridcolor\":\"white\",\"linecolor\":\"white\",\"ticks\":\"\"},\"baxis\":{\"gridcolor\":\"white\",\"linecolor\":\"white\",\"ticks\":\"\"},\"bgcolor\":\"#E5ECF6\",\"caxis\":{\"gridcolor\":\"white\",\"linecolor\":\"white\",\"ticks\":\"\"}},\"title\":{\"x\":0.05},\"xaxis\":{\"automargin\":true,\"gridcolor\":\"white\",\"linecolor\":\"white\",\"ticks\":\"\",\"title\":{\"standoff\":15},\"zerolinecolor\":\"white\",\"zerolinewidth\":2},\"yaxis\":{\"automargin\":true,\"gridcolor\":\"white\",\"linecolor\":\"white\",\"ticks\":\"\",\"title\":{\"standoff\":15},\"zerolinecolor\":\"white\",\"zerolinewidth\":2}}},\"title\":{\"font\":{\"color\":\"#4D5663\"}},\"xaxis\":{\"gridcolor\":\"#E1E5ED\",\"showgrid\":true,\"tickfont\":{\"color\":\"#4D5663\"},\"title\":{\"font\":{\"color\":\"#4D5663\"},\"text\":\"\"},\"zerolinecolor\":\"#E1E5ED\"},\"yaxis\":{\"gridcolor\":\"#E1E5ED\",\"showgrid\":true,\"tickfont\":{\"color\":\"#4D5663\"},\"title\":{\"font\":{\"color\":\"#4D5663\"},\"text\":\"\"},\"zerolinecolor\":\"#E1E5ED\"}},                        {\"showLink\": true, \"linkText\": \"Export to plot.ly\", \"plotlyServerURL\": \"https://plot.ly\", \"responsive\": true}                    ).then(function(){\n",
       "                            \n",
       "var gd = document.getElementById('853a373e-5cc6-4090-8e80-34cd0278f69e');\n",
       "var x = new MutationObserver(function (mutations, observer) {{\n",
       "        var display = window.getComputedStyle(gd).display;\n",
       "        if (!display || display === 'none') {{\n",
       "            console.log([gd, 'removed!']);\n",
       "            Plotly.purge(gd);\n",
       "            observer.disconnect();\n",
       "        }}\n",
       "}});\n",
       "\n",
       "// Listen for the removal of the full notebook cells\n",
       "var notebookContainer = gd.closest('#notebook-container');\n",
       "if (notebookContainer) {{\n",
       "    x.observe(notebookContainer, {childList: true});\n",
       "}}\n",
       "\n",
       "// Listen for the clearing of the current output cell\n",
       "var outputEl = gd.closest('.output');\n",
       "if (outputEl) {{\n",
       "    x.observe(outputEl, {childList: true});\n",
       "}}\n",
       "\n",
       "                        })                };                });            </script>        </div>"
      ]
     },
     "metadata": {},
     "output_type": "display_data"
    }
   ],
   "source": [
    "nifty_data_resample.iplot(kind='barh', barmode = 'stack')"
   ]
  },
  {
   "cell_type": "markdown",
   "metadata": {},
   "source": [
    "#### Gráfico de pizza"
   ]
  },
  {
   "cell_type": "code",
   "execution_count": 32,
   "metadata": {},
   "outputs": [
    {
     "data": {
      "application/vnd.plotly.v1+json": {
       "config": {
        "linkText": "Export to plot.ly",
        "plotlyServerURL": "https://plot.ly",
        "showLink": true
       },
       "data": [
        {
         "labels": [
          "Jan",
          "Feb",
          "March",
          "Apr",
          "May",
          "June",
          "July"
         ],
         "marker": {
          "colors": [
           "rgba(255, 153, 51, 1.0)",
           "rgba(55, 128, 191, 1.0)",
           "rgba(50, 171, 96, 1.0)",
           "rgba(128, 0, 128, 1.0)",
           "rgba(219, 64, 82, 1.0)",
           "rgba(0, 128, 128, 1.0)",
           "rgba(255, 255, 51, 1.0)"
          ]
         },
         "name": "",
         "type": "pie",
         "values": [
          31446.391304347828,
          30675.4275,
          22936.040476190476,
          19715.116666666665,
          18707.215789473685,
          20953.679545454546,
          22235.144736842107
         ]
        }
       ],
       "layout": {
        "legend": {
         "bgcolor": "#FFFFFF",
         "font": {
          "color": "#4D5663"
         }
        },
        "paper_bgcolor": "#FFFFFF",
        "plot_bgcolor": "#FFFFFF",
        "titlefont": {
         "color": "#4D5663"
        }
       }
      },
      "text/html": [
       "<div>                            <div id=\"80abd657-98b5-4744-89ba-238d9be80858\" class=\"plotly-graph-div\" style=\"height:525px; width:100%;\"></div>            <script type=\"text/javascript\">                require([\"plotly\"], function(Plotly) {                    window.PLOTLYENV=window.PLOTLYENV || {};\n",
       "                    window.PLOTLYENV.BASE_URL='https://plot.ly';                                    if (document.getElementById(\"80abd657-98b5-4744-89ba-238d9be80858\")) {                    Plotly.newPlot(                        \"80abd657-98b5-4744-89ba-238d9be80858\",                        [{\"labels\":[\"Jan\",\"Feb\",\"March\",\"Apr\",\"May\",\"June\",\"July\"],\"marker\":{\"colors\":[\"rgba(255, 153, 51, 1.0)\",\"rgba(55, 128, 191, 1.0)\",\"rgba(50, 171, 96, 1.0)\",\"rgba(128, 0, 128, 1.0)\",\"rgba(219, 64, 82, 1.0)\",\"rgba(0, 128, 128, 1.0)\",\"rgba(255, 255, 51, 1.0)\"]},\"name\":\"\",\"values\":[31446.391304347828,30675.4275,22936.040476190476,19715.116666666665,18707.215789473685,20953.679545454546,22235.144736842107],\"type\":\"pie\"}],                        {\"legend\":{\"bgcolor\":\"#FFFFFF\",\"font\":{\"color\":\"#4D5663\"}},\"paper_bgcolor\":\"#FFFFFF\",\"plot_bgcolor\":\"#FFFFFF\",\"titlefont\":{\"color\":\"#4D5663\"}},                        {\"showLink\": true, \"linkText\": \"Export to plot.ly\", \"plotlyServerURL\": \"https://plot.ly\", \"responsive\": true}                    ).then(function(){\n",
       "                            \n",
       "var gd = document.getElementById('80abd657-98b5-4744-89ba-238d9be80858');\n",
       "var x = new MutationObserver(function (mutations, observer) {{\n",
       "        var display = window.getComputedStyle(gd).display;\n",
       "        if (!display || display === 'none') {{\n",
       "            console.log([gd, 'removed!']);\n",
       "            Plotly.purge(gd);\n",
       "            observer.disconnect();\n",
       "        }}\n",
       "}});\n",
       "\n",
       "// Listen for the removal of the full notebook cells\n",
       "var notebookContainer = gd.closest('#notebook-container');\n",
       "if (notebookContainer) {{\n",
       "    x.observe(notebookContainer, {childList: true});\n",
       "}}\n",
       "\n",
       "// Listen for the clearing of the current output cell\n",
       "var outputEl = gd.closest('.output');\n",
       "if (outputEl) {{\n",
       "    x.observe(outputEl, {childList: true});\n",
       "}}\n",
       "\n",
       "                        })                };                });            </script>        </div>"
      ]
     },
     "metadata": {},
     "output_type": "display_data"
    }
   ],
   "source": [
    "nifty_data_resample.index=['Jan','Feb','March','Apr','May','June','July']\n",
    "\n",
    "nifty_data_resample.reset_index().iplot(kind='pie', labels='index', values='NIFTY Bank index')"
   ]
  },
  {
   "cell_type": "markdown",
   "metadata": {},
   "source": [
    "## Conclusão"
   ]
  },
  {
   "cell_type": "markdown",
   "metadata": {},
   "source": [
    "O Bokeh ou Plotly é auto-suficiente para transmitir toda a informação. \n",
    "\n",
    "Com base em sua escolha e preferência, você pode escolher ambos ou qualquer um deles.\n",
    "\n",
    "O objetivo principal é tornar as visualizações mais intuitivas e interativas ao mesmo tempo. \n",
    "\n",
    "Depois de ler este artigo, você deve ser capaz de converter as visualizações estáticas em suas contrapartes interativas e elevar sua análise um pouco mais."
   ]
  }
 ],
 "metadata": {
  "interpreter": {
   "hash": "abd37c582623d0dd3d9b05deeea99a26dc2fa362d345c4962c41f069ee3817bf"
  },
  "kernelspec": {
   "display_name": "Python 3.10.4 64-bit ('teste')",
   "language": "python",
   "name": "python3"
  },
  "language_info": {
   "codemirror_mode": {
    "name": "ipython",
    "version": 3
   },
   "file_extension": ".py",
   "mimetype": "text/x-python",
   "name": "python",
   "nbconvert_exporter": "python",
   "pygments_lexer": "ipython3",
   "version": "3.10.4"
  },
  "orig_nbformat": 4
 },
 "nbformat": 4,
 "nbformat_minor": 2
}
