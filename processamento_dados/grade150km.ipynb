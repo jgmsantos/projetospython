{
 "cells": [
  {
   "cell_type": "markdown",
   "metadata": {},
   "source": [
    "Dica obtida do link abaixo:\n",
    "\n",
    "[https://github.com/fabianomorelli/ipython_notebooks/blob/master/exemplos_geopandas/exemplos_geopandas.ipynb](https://github.com/fabianomorelli/ipython_notebooks/blob/master/exemplos_geopandas/exemplos_geopandas.ipynb)"
   ]
  },
  {
   "cell_type": "markdown",
   "metadata": {},
   "source": [
    "# Importação das bibliotecas"
   ]
  },
  {
   "cell_type": "code",
   "execution_count": 1,
   "metadata": {},
   "outputs": [
    {
     "name": "stderr",
     "output_type": "stream",
     "text": [
      "/home/gui/anaconda3/envs/trabalho/lib/python3.9/site-packages/geopandas/_compat.py:111: UserWarning: The Shapely GEOS version (3.10.2-CAPI-1.16.0) is incompatible with the GEOS version PyGEOS was compiled with (3.10.1-CAPI-1.16.0). Conversions between both will be slow.\n",
      "  warnings.warn(\n"
     ]
    }
   ],
   "source": [
    "import pandas as pd\n",
    "import geopandas as gpd\n",
    "import numpy as np\n",
    "from shapely.geometry import Point"
   ]
  },
  {
   "cell_type": "markdown",
   "metadata": {},
   "source": [
    "# Abertura do arquivo"
   ]
  },
  {
   "cell_type": "markdown",
   "metadata": {},
   "source": [
    "Este arquivo possui as seguintes informações com dados desde: 01 a 21/06/2022.\n",
    "\n",
    "```bash\n",
    "Dia,Lat,Lon,RH,TEMP,PREC,NDCS\n",
    "2022-06-01,-10.016,-52.0302,57.9,29.12228,0,17\n",
    "2022-06-01,-10.5451,-48.6571,55.4,29.42227,0.6055942,25\n",
    "2022-06-01,-10.6989,-50.4621,41.5,33.12228,0,17\n",
    "2022-06-01,-11.3727,-48.8964,47.9,30.62228,0,39\n",
    "```"
   ]
  },
  {
   "cell_type": "code",
   "execution_count": 2,
   "metadata": {},
   "outputs": [
    {
     "data": {
      "text/html": [
       "<div>\n",
       "<style scoped>\n",
       "    .dataframe tbody tr th:only-of-type {\n",
       "        vertical-align: middle;\n",
       "    }\n",
       "\n",
       "    .dataframe tbody tr th {\n",
       "        vertical-align: top;\n",
       "    }\n",
       "\n",
       "    .dataframe thead th {\n",
       "        text-align: right;\n",
       "    }\n",
       "</style>\n",
       "<table border=\"1\" class=\"dataframe\">\n",
       "  <thead>\n",
       "    <tr style=\"text-align: right;\">\n",
       "      <th></th>\n",
       "      <th>Dia</th>\n",
       "      <th>Lat</th>\n",
       "      <th>Lon</th>\n",
       "      <th>RH</th>\n",
       "      <th>TEMP</th>\n",
       "      <th>PREC</th>\n",
       "      <th>NDCS</th>\n",
       "    </tr>\n",
       "  </thead>\n",
       "  <tbody>\n",
       "    <tr>\n",
       "      <th>0</th>\n",
       "      <td>2022-06-01</td>\n",
       "      <td>-10.0160</td>\n",
       "      <td>-52.0302</td>\n",
       "      <td>57.9</td>\n",
       "      <td>29.12228</td>\n",
       "      <td>0.000000</td>\n",
       "      <td>17</td>\n",
       "    </tr>\n",
       "    <tr>\n",
       "      <th>1</th>\n",
       "      <td>2022-06-01</td>\n",
       "      <td>-10.5451</td>\n",
       "      <td>-48.6571</td>\n",
       "      <td>55.4</td>\n",
       "      <td>29.42227</td>\n",
       "      <td>0.605594</td>\n",
       "      <td>25</td>\n",
       "    </tr>\n",
       "    <tr>\n",
       "      <th>2</th>\n",
       "      <td>2022-06-01</td>\n",
       "      <td>-10.6989</td>\n",
       "      <td>-50.4621</td>\n",
       "      <td>41.5</td>\n",
       "      <td>33.12228</td>\n",
       "      <td>0.000000</td>\n",
       "      <td>17</td>\n",
       "    </tr>\n",
       "    <tr>\n",
       "      <th>3</th>\n",
       "      <td>2022-06-01</td>\n",
       "      <td>-11.3727</td>\n",
       "      <td>-48.8964</td>\n",
       "      <td>47.9</td>\n",
       "      <td>30.62228</td>\n",
       "      <td>0.000000</td>\n",
       "      <td>39</td>\n",
       "    </tr>\n",
       "    <tr>\n",
       "      <th>4</th>\n",
       "      <td>2022-06-01</td>\n",
       "      <td>-11.4011</td>\n",
       "      <td>-48.8929</td>\n",
       "      <td>46.9</td>\n",
       "      <td>30.82226</td>\n",
       "      <td>0.000000</td>\n",
       "      <td>27</td>\n",
       "    </tr>\n",
       "    <tr>\n",
       "      <th>...</th>\n",
       "      <td>...</td>\n",
       "      <td>...</td>\n",
       "      <td>...</td>\n",
       "      <td>...</td>\n",
       "      <td>...</td>\n",
       "      <td>...</td>\n",
       "      <td>...</td>\n",
       "    </tr>\n",
       "    <tr>\n",
       "      <th>4587</th>\n",
       "      <td>2022-06-21</td>\n",
       "      <td>-22.0765</td>\n",
       "      <td>-55.7600</td>\n",
       "      <td>46.7</td>\n",
       "      <td>26.80233</td>\n",
       "      <td>0.000000</td>\n",
       "      <td>4</td>\n",
       "    </tr>\n",
       "    <tr>\n",
       "      <th>4588</th>\n",
       "      <td>2022-06-21</td>\n",
       "      <td>-22.2174</td>\n",
       "      <td>-56.0270</td>\n",
       "      <td>45.2</td>\n",
       "      <td>28.00231</td>\n",
       "      <td>0.000000</td>\n",
       "      <td>10</td>\n",
       "    </tr>\n",
       "    <tr>\n",
       "      <th>4589</th>\n",
       "      <td>2022-06-21</td>\n",
       "      <td>-22.2157</td>\n",
       "      <td>-56.2054</td>\n",
       "      <td>40.3</td>\n",
       "      <td>30.00231</td>\n",
       "      <td>0.058992</td>\n",
       "      <td>10</td>\n",
       "    </tr>\n",
       "    <tr>\n",
       "      <th>4590</th>\n",
       "      <td>2022-06-21</td>\n",
       "      <td>-22.2160</td>\n",
       "      <td>-56.0173</td>\n",
       "      <td>45.2</td>\n",
       "      <td>28.00231</td>\n",
       "      <td>0.000000</td>\n",
       "      <td>10</td>\n",
       "    </tr>\n",
       "    <tr>\n",
       "      <th>4591</th>\n",
       "      <td>2022-06-21</td>\n",
       "      <td>-22.2231</td>\n",
       "      <td>-56.0656</td>\n",
       "      <td>45.2</td>\n",
       "      <td>28.00231</td>\n",
       "      <td>0.000000</td>\n",
       "      <td>10</td>\n",
       "    </tr>\n",
       "  </tbody>\n",
       "</table>\n",
       "<p>4592 rows × 7 columns</p>\n",
       "</div>"
      ],
      "text/plain": [
       "             Dia      Lat      Lon    RH      TEMP      PREC  NDCS\n",
       "0     2022-06-01 -10.0160 -52.0302  57.9  29.12228  0.000000    17\n",
       "1     2022-06-01 -10.5451 -48.6571  55.4  29.42227  0.605594    25\n",
       "2     2022-06-01 -10.6989 -50.4621  41.5  33.12228  0.000000    17\n",
       "3     2022-06-01 -11.3727 -48.8964  47.9  30.62228  0.000000    39\n",
       "4     2022-06-01 -11.4011 -48.8929  46.9  30.82226  0.000000    27\n",
       "...          ...      ...      ...   ...       ...       ...   ...\n",
       "4587  2022-06-21 -22.0765 -55.7600  46.7  26.80233  0.000000     4\n",
       "4588  2022-06-21 -22.2174 -56.0270  45.2  28.00231  0.000000    10\n",
       "4589  2022-06-21 -22.2157 -56.2054  40.3  30.00231  0.058992    10\n",
       "4590  2022-06-21 -22.2160 -56.0173  45.2  28.00231  0.000000    10\n",
       "4591  2022-06-21 -22.2231 -56.0656  45.2  28.00231  0.000000    10\n",
       "\n",
       "[4592 rows x 7 columns]"
      ]
     },
     "execution_count": 2,
     "metadata": {},
     "output_type": "execute_result"
    }
   ],
   "source": [
    "arquivo = '/mnt/d/gui/testes/grade150km/output/meteorologia/202206.csv'\n",
    "\n",
    "df = pd.read_csv(arquivo)\n",
    "\n",
    "df"
   ]
  },
  {
   "cell_type": "markdown",
   "metadata": {},
   "source": [
    "# Criação do geodataframe"
   ]
  },
  {
   "cell_type": "code",
   "execution_count": 3,
   "metadata": {},
   "outputs": [
    {
     "name": "stderr",
     "output_type": "stream",
     "text": [
      "/home/gui/anaconda3/envs/trabalho/lib/python3.9/site-packages/pandas/core/dtypes/cast.py:122: ShapelyDeprecationWarning: The array interface is deprecated and will no longer work in Shapely 2.0. Convert the '.coords' to a numpy array instead.\n",
      "  arr = construct_1d_object_array_from_listlike(values)\n",
      "/home/gui/anaconda3/envs/trabalho/lib/python3.9/site-packages/pyproj/crs/crs.py:131: FutureWarning: '+init=<authority>:<code>' syntax is deprecated. '<authority>:<code>' is the preferred initialization method. When making the change, be mindful of axis order changes: https://pyproj4.github.io/pyproj/stable/gotchas.html#axis-order-changes-in-proj-6\n",
      "  in_crs_string = _prepare_from_proj_string(in_crs_string)\n"
     ]
    }
   ],
   "source": [
    "# Prepara um novo atributo do tipo geometry utilizando a funcao Point do shapely para depois criar um geopandas\n",
    "# esta variavel row eh soh pra ajudar a entender que ele vai pegar pra cada linha o atributo entre chaves\n",
    "geometry = df.apply(lambda row: Point(row['Lon'], row['Lat']), axis=1)\n",
    "\n",
    "# Cria uma variável com referência ao sistema de projeção cartográfica.\n",
    "crs = {'init': 'epsg:4326'}\n",
    "\n",
    "# Cria um geodataframe com o dataframe anterior. Neste caso, utilizando o mesmo nome, \n",
    "# porém pode-se utilizar outro.\n",
    "df = gpd.GeoDataFrame(df, crs=crs, geometry=geometry)"
   ]
  },
  {
   "cell_type": "code",
   "execution_count": 4,
   "metadata": {},
   "outputs": [
    {
     "data": {
      "text/plain": [
       "<Geographic 2D CRS: +init=epsg:4326 +type=crs>\n",
       "Name: WGS 84\n",
       "Axis Info [ellipsoidal]:\n",
       "- lon[east]: Longitude (degree)\n",
       "- lat[north]: Latitude (degree)\n",
       "Area of Use:\n",
       "- name: World.\n",
       "- bounds: (-180.0, -90.0, 180.0, 90.0)\n",
       "Datum: World Geodetic System 1984 ensemble\n",
       "- Ellipsoid: WGS 84\n",
       "- Prime Meridian: Greenwich"
      ]
     },
     "execution_count": 4,
     "metadata": {},
     "output_type": "execute_result"
    }
   ],
   "source": [
    "# Para checar a projeção.\n",
    "df.crs"
   ]
  },
  {
   "cell_type": "code",
   "execution_count": 5,
   "metadata": {},
   "outputs": [
    {
     "data": {
      "text/plain": [
       "geopandas.geodataframe.GeoDataFrame"
      ]
     },
     "execution_count": 5,
     "metadata": {},
     "output_type": "execute_result"
    }
   ],
   "source": [
    "# Checar se é um geodataframe.\n",
    "type(df)"
   ]
  },
  {
   "cell_type": "code",
   "execution_count": 6,
   "metadata": {},
   "outputs": [
    {
     "name": "stdout",
     "output_type": "stream",
     "text": [
      "<class 'geopandas.geodataframe.GeoDataFrame'>\n",
      "RangeIndex: 4592 entries, 0 to 4591\n",
      "Data columns (total 8 columns):\n",
      " #   Column    Non-Null Count  Dtype   \n",
      "---  ------    --------------  -----   \n",
      " 0   Dia       4592 non-null   object  \n",
      " 1   Lat       4592 non-null   float64 \n",
      " 2   Lon       4592 non-null   float64 \n",
      " 3   RH        4592 non-null   float64 \n",
      " 4   TEMP      4592 non-null   float64 \n",
      " 5   PREC      4592 non-null   float64 \n",
      " 6   NDCS      4592 non-null   int64   \n",
      " 7   geometry  4592 non-null   geometry\n",
      "dtypes: float64(5), geometry(1), int64(1), object(1)\n",
      "memory usage: 287.1+ KB\n"
     ]
    }
   ],
   "source": [
    "# Informações do geodataframe.\n",
    "df.info()"
   ]
  },
  {
   "cell_type": "code",
   "execution_count": 7,
   "metadata": {},
   "outputs": [
    {
     "data": {
      "text/plain": [
       "<AxesSubplot:>"
      ]
     },
     "execution_count": 7,
     "metadata": {},
     "output_type": "execute_result"
    },
    {
     "data": {
      "image/png": "[encoded data removed]",
      "text/plain": [
       "<Figure size 432x864 with 1 Axes>"
      ]
     },
     "metadata": {
      "needs_background": "light"
     },
     "output_type": "display_data"
    }
   ],
   "source": [
    "# Realiza um plot básico.\n",
    "df.plot(figsize=(6,12))"
   ]
  },
  {
   "cell_type": "markdown",
   "metadata": {},
   "source": [
    "# Abertura do arquivo shapefile"
   ]
  },
  {
   "cell_type": "code",
   "execution_count": 8,
   "metadata": {},
   "outputs": [
    {
     "data": {
      "text/plain": [
       "<AxesSubplot:>"
      ]
     },
     "execution_count": 8,
     "metadata": {},
     "output_type": "execute_result"
    },
    {
     "data": {
      "image/png": "[encoded data removed]",
      "text/plain": [
       "<Figure size 432x864 with 1 Axes>"
      ]
     },
     "metadata": {
      "needs_background": "light"
     },
     "output_type": "display_data"
    }
   ],
   "source": [
    "# Abertura do arquivo shapefile do Brasil com a divisão dos estados que será utilizado para fazer o sjoin (spatial join).\n",
    "brasil = gpd.read_file(\"/mnt/d/gui/testes/grade150km/shapefile/grade_br_150km/Grade_BR_150km.shp\")\n",
    "\n",
    "brasil.plot(figsize=(6,12))"
   ]
  },
  {
   "cell_type": "code",
   "execution_count": 9,
   "metadata": {},
   "outputs": [
    {
     "data": {
      "text/plain": [
       "<Geographic 2D CRS: EPSG:4326>\n",
       "Name: WGS 84\n",
       "Axis Info [ellipsoidal]:\n",
       "- Lat[north]: Geodetic latitude (degree)\n",
       "- Lon[east]: Geodetic longitude (degree)\n",
       "Area of Use:\n",
       "- name: World.\n",
       "- bounds: (-180.0, -90.0, 180.0, 90.0)\n",
       "Datum: World Geodetic System 1984 ensemble\n",
       "- Ellipsoid: WGS 84\n",
       "- Prime Meridian: Greenwich"
      ]
     },
     "execution_count": 9,
     "metadata": {},
     "output_type": "execute_result"
    }
   ],
   "source": [
    "# Para checar a projeção. Tem que ser o mesmo do geodataframe. Caso não seja. basta utilizar:\n",
    "# brasil.to_crs(epsg='4326') que é o mesmo do geodataframe.\n",
    "brasil.crs"
   ]
  },
  {
   "cell_type": "code",
   "execution_count": 10,
   "metadata": {},
   "outputs": [
    {
     "name": "stdout",
     "output_type": "stream",
     "text": [
      "<class 'geopandas.geodataframe.GeoDataFrame'>\n",
      "RangeIndex: 458 entries, 0 to 457\n",
      "Data columns (total 6 columns):\n",
      " #   Column    Non-Null Count  Dtype   \n",
      "---  ------    --------------  -----   \n",
      " 0   id        458 non-null    float64 \n",
      " 1   left      458 non-null    float64 \n",
      " 2   top       458 non-null    float64 \n",
      " 3   right     458 non-null    float64 \n",
      " 4   bottom    458 non-null    float64 \n",
      " 5   geometry  458 non-null    geometry\n",
      "dtypes: float64(5), geometry(1)\n",
      "memory usage: 21.6 KB\n"
     ]
    }
   ],
   "source": [
    "# Informações do shapefile.\n",
    "brasil.info()"
   ]
  },
  {
   "cell_type": "code",
   "execution_count": 11,
   "metadata": {},
   "outputs": [
    {
     "data": {
      "text/html": [
       "<div>\n",
       "<style scoped>\n",
       "    .dataframe tbody tr th:only-of-type {\n",
       "        vertical-align: middle;\n",
       "    }\n",
       "\n",
       "    .dataframe tbody tr th {\n",
       "        vertical-align: top;\n",
       "    }\n",
       "\n",
       "    .dataframe thead th {\n",
       "        text-align: right;\n",
       "    }\n",
       "</style>\n",
       "<table border=\"1\" class=\"dataframe\">\n",
       "  <thead>\n",
       "    <tr style=\"text-align: right;\">\n",
       "      <th></th>\n",
       "      <th>id</th>\n",
       "      <th>left</th>\n",
       "      <th>top</th>\n",
       "      <th>right</th>\n",
       "      <th>bottom</th>\n",
       "      <th>geometry</th>\n",
       "    </tr>\n",
       "  </thead>\n",
       "  <tbody>\n",
       "    <tr>\n",
       "      <th>0</th>\n",
       "      <td>8.0</td>\n",
       "      <td>-73.99045</td>\n",
       "      <td>-4.178159</td>\n",
       "      <td>-72.64045</td>\n",
       "      <td>-5.528159</td>\n",
       "      <td>POLYGON ((-73.99378 -4.14148, -72.64378 -4.141...</td>\n",
       "    </tr>\n",
       "    <tr>\n",
       "      <th>1</th>\n",
       "      <td>9.0</td>\n",
       "      <td>-73.99045</td>\n",
       "      <td>-5.528159</td>\n",
       "      <td>-72.64045</td>\n",
       "      <td>-6.878159</td>\n",
       "      <td>POLYGON ((-73.99378 -5.49148, -72.64378 -5.491...</td>\n",
       "    </tr>\n",
       "    <tr>\n",
       "      <th>2</th>\n",
       "      <td>10.0</td>\n",
       "      <td>-73.99045</td>\n",
       "      <td>-6.878159</td>\n",
       "      <td>-72.64045</td>\n",
       "      <td>-8.228159</td>\n",
       "      <td>POLYGON ((-73.99378 -6.84148, -72.64378 -6.841...</td>\n",
       "    </tr>\n",
       "    <tr>\n",
       "      <th>3</th>\n",
       "      <td>11.0</td>\n",
       "      <td>-73.99045</td>\n",
       "      <td>-8.228159</td>\n",
       "      <td>-72.64045</td>\n",
       "      <td>-9.578159</td>\n",
       "      <td>POLYGON ((-73.99378 -8.19148, -72.64378 -8.191...</td>\n",
       "    </tr>\n",
       "    <tr>\n",
       "      <th>4</th>\n",
       "      <td>37.0</td>\n",
       "      <td>-72.64045</td>\n",
       "      <td>-4.178159</td>\n",
       "      <td>-71.29045</td>\n",
       "      <td>-5.528159</td>\n",
       "      <td>POLYGON ((-72.64378 -4.14148, -71.29378 -4.141...</td>\n",
       "    </tr>\n",
       "  </tbody>\n",
       "</table>\n",
       "</div>"
      ],
      "text/plain": [
       "     id      left       top     right    bottom  \\\n",
       "0   8.0 -73.99045 -4.178159 -72.64045 -5.528159   \n",
       "1   9.0 -73.99045 -5.528159 -72.64045 -6.878159   \n",
       "2  10.0 -73.99045 -6.878159 -72.64045 -8.228159   \n",
       "3  11.0 -73.99045 -8.228159 -72.64045 -9.578159   \n",
       "4  37.0 -72.64045 -4.178159 -71.29045 -5.528159   \n",
       "\n",
       "                                            geometry  \n",
       "0  POLYGON ((-73.99378 -4.14148, -72.64378 -4.141...  \n",
       "1  POLYGON ((-73.99378 -5.49148, -72.64378 -5.491...  \n",
       "2  POLYGON ((-73.99378 -6.84148, -72.64378 -6.841...  \n",
       "3  POLYGON ((-73.99378 -8.19148, -72.64378 -8.191...  \n",
       "4  POLYGON ((-72.64378 -4.14148, -71.29378 -4.141...  "
      ]
     },
     "execution_count": 11,
     "metadata": {},
     "output_type": "execute_result"
    }
   ],
   "source": [
    "# Visualização das informações do shapefile.\n",
    "brasil.head()"
   ]
  },
  {
   "cell_type": "markdown",
   "metadata": {},
   "source": [
    "# Realiza o sjoin (spatial join) para unir os dois geodataframe"
   ]
  },
  {
   "cell_type": "markdown",
   "metadata": {},
   "source": [
    "Antes, tem que instalar as bibliotecas abaixo caso não esteja instalada."
   ]
  },
  {
   "cell_type": "code",
   "execution_count": 12,
   "metadata": {},
   "outputs": [],
   "source": [
    "# pip install pygeos\n",
    "# pip install rtree"
   ]
  },
  {
   "cell_type": "code",
   "execution_count": 13,
   "metadata": {},
   "outputs": [
    {
     "name": "stderr",
     "output_type": "stream",
     "text": [
      "/home/gui/anaconda3/envs/trabalho/lib/python3.9/site-packages/IPython/core/interactiveshell.py:3309: FutureWarning: The `op` parameter is deprecated and will be removed in a future release. Please use the `predicate` parameter instead.\n",
      "  if await self.run_code(code, result, async_=asy):\n",
      "/tmp/ipykernel_195/1783337803.py:3: UserWarning: CRS mismatch between the CRS of left geometries and the CRS of right geometries.\n",
      "Use `to_crs()` to reproject one of the input geometries to match the CRS of the other.\n",
      "\n",
      "Left CRS: +init=epsg:4326 +type=crs\n",
      "Right CRS: EPSG:4326\n",
      "\n",
      "  filtrado = gpd.sjoin(df, brasil[['id','geometry']], how='inner', op='within')\n"
     ]
    }
   ],
   "source": [
    "# Realiza a filtragem espacial dos focos dentro do polígono, no caso, o dataframe \"brasil\".\n",
    "# Como são muitas informações contida no dataframe \"brasil\", serão mantidas as colunas \"id\" e \"geometry\".\n",
    "filtrado = gpd.sjoin(df, brasil[['id','geometry']], how='inner', op='within')"
   ]
  },
  {
   "cell_type": "code",
   "execution_count": 14,
   "metadata": {},
   "outputs": [
    {
     "data": {
      "text/html": [
       "<div>\n",
       "<style scoped>\n",
       "    .dataframe tbody tr th:only-of-type {\n",
       "        vertical-align: middle;\n",
       "    }\n",
       "\n",
       "    .dataframe tbody tr th {\n",
       "        vertical-align: top;\n",
       "    }\n",
       "\n",
       "    .dataframe thead th {\n",
       "        text-align: right;\n",
       "    }\n",
       "</style>\n",
       "<table border=\"1\" class=\"dataframe\">\n",
       "  <thead>\n",
       "    <tr style=\"text-align: right;\">\n",
       "      <th></th>\n",
       "      <th>Dia</th>\n",
       "      <th>Lat</th>\n",
       "      <th>Lon</th>\n",
       "      <th>RH</th>\n",
       "      <th>TEMP</th>\n",
       "      <th>PREC</th>\n",
       "      <th>NDCS</th>\n",
       "      <th>geometry</th>\n",
       "      <th>index_right</th>\n",
       "      <th>id</th>\n",
       "    </tr>\n",
       "  </thead>\n",
       "  <tbody>\n",
       "    <tr>\n",
       "      <th>0</th>\n",
       "      <td>2022-06-01</td>\n",
       "      <td>-10.0160</td>\n",
       "      <td>-52.0302</td>\n",
       "      <td>57.9</td>\n",
       "      <td>29.12228</td>\n",
       "      <td>0.0</td>\n",
       "      <td>17</td>\n",
       "      <td>POINT (-52.03020 -10.01600)</td>\n",
       "      <td>251</td>\n",
       "      <td>476.0</td>\n",
       "    </tr>\n",
       "    <tr>\n",
       "      <th>227</th>\n",
       "      <td>2022-06-02</td>\n",
       "      <td>-10.0594</td>\n",
       "      <td>-52.1635</td>\n",
       "      <td>51.7</td>\n",
       "      <td>28.94869</td>\n",
       "      <td>0.0</td>\n",
       "      <td>18</td>\n",
       "      <td>POINT (-52.16350 -10.05940)</td>\n",
       "      <td>251</td>\n",
       "      <td>476.0</td>\n",
       "    </tr>\n",
       "    <tr>\n",
       "      <th>231</th>\n",
       "      <td>2022-06-02</td>\n",
       "      <td>-10.2501</td>\n",
       "      <td>-51.8299</td>\n",
       "      <td>53.9</td>\n",
       "      <td>28.94869</td>\n",
       "      <td>0.0</td>\n",
       "      <td>18</td>\n",
       "      <td>POINT (-51.82990 -10.25010)</td>\n",
       "      <td>251</td>\n",
       "      <td>476.0</td>\n",
       "    </tr>\n",
       "    <tr>\n",
       "      <th>233</th>\n",
       "      <td>2022-06-02</td>\n",
       "      <td>-10.2512</td>\n",
       "      <td>-51.7739</td>\n",
       "      <td>53.9</td>\n",
       "      <td>28.94869</td>\n",
       "      <td>0.0</td>\n",
       "      <td>18</td>\n",
       "      <td>POINT (-51.77390 -10.25120)</td>\n",
       "      <td>251</td>\n",
       "      <td>476.0</td>\n",
       "    </tr>\n",
       "    <tr>\n",
       "      <th>234</th>\n",
       "      <td>2022-06-02</td>\n",
       "      <td>-10.2515</td>\n",
       "      <td>-51.8389</td>\n",
       "      <td>53.9</td>\n",
       "      <td>28.94869</td>\n",
       "      <td>0.0</td>\n",
       "      <td>18</td>\n",
       "      <td>POINT (-51.83890 -10.25150)</td>\n",
       "      <td>251</td>\n",
       "      <td>476.0</td>\n",
       "    </tr>\n",
       "    <tr>\n",
       "      <th>...</th>\n",
       "      <td>...</td>\n",
       "      <td>...</td>\n",
       "      <td>...</td>\n",
       "      <td>...</td>\n",
       "      <td>...</td>\n",
       "      <td>...</td>\n",
       "      <td>...</td>\n",
       "      <td>...</td>\n",
       "      <td>...</td>\n",
       "      <td>...</td>\n",
       "    </tr>\n",
       "    <tr>\n",
       "      <th>4450</th>\n",
       "      <td>2022-06-21</td>\n",
       "      <td>-15.7906</td>\n",
       "      <td>-57.2536</td>\n",
       "      <td>32.3</td>\n",
       "      <td>30.00231</td>\n",
       "      <td>0.0</td>\n",
       "      <td>3</td>\n",
       "      <td>POINT (-57.25360 -15.79060)</td>\n",
       "      <td>154</td>\n",
       "      <td>364.0</td>\n",
       "    </tr>\n",
       "    <tr>\n",
       "      <th>4451</th>\n",
       "      <td>2022-06-21</td>\n",
       "      <td>-16.1151</td>\n",
       "      <td>-56.7760</td>\n",
       "      <td>27.6</td>\n",
       "      <td>32.70232</td>\n",
       "      <td>0.0</td>\n",
       "      <td>3</td>\n",
       "      <td>POINT (-56.77600 -16.11510)</td>\n",
       "      <td>154</td>\n",
       "      <td>364.0</td>\n",
       "    </tr>\n",
       "    <tr>\n",
       "      <th>4452</th>\n",
       "      <td>2022-06-21</td>\n",
       "      <td>-16.1165</td>\n",
       "      <td>-56.7854</td>\n",
       "      <td>27.6</td>\n",
       "      <td>32.70232</td>\n",
       "      <td>0.0</td>\n",
       "      <td>3</td>\n",
       "      <td>POINT (-56.78540 -16.11650)</td>\n",
       "      <td>154</td>\n",
       "      <td>364.0</td>\n",
       "    </tr>\n",
       "    <tr>\n",
       "      <th>4447</th>\n",
       "      <td>2022-06-21</td>\n",
       "      <td>-15.5693</td>\n",
       "      <td>-53.3454</td>\n",
       "      <td>21.9</td>\n",
       "      <td>32.60232</td>\n",
       "      <td>0.0</td>\n",
       "      <td>9</td>\n",
       "      <td>POINT (-53.34540 -15.56930)</td>\n",
       "      <td>226</td>\n",
       "      <td>451.0</td>\n",
       "    </tr>\n",
       "    <tr>\n",
       "      <th>4536</th>\n",
       "      <td>2022-06-21</td>\n",
       "      <td>-19.8134</td>\n",
       "      <td>-57.9405</td>\n",
       "      <td>24.1</td>\n",
       "      <td>34.70232</td>\n",
       "      <td>0.0</td>\n",
       "      <td>12</td>\n",
       "      <td>POINT (-57.94050 -19.81340)</td>\n",
       "      <td>138</td>\n",
       "      <td>338.0</td>\n",
       "    </tr>\n",
       "  </tbody>\n",
       "</table>\n",
       "<p>4592 rows × 10 columns</p>\n",
       "</div>"
      ],
      "text/plain": [
       "             Dia      Lat      Lon    RH      TEMP  PREC  NDCS  \\\n",
       "0     2022-06-01 -10.0160 -52.0302  57.9  29.12228   0.0    17   \n",
       "227   2022-06-02 -10.0594 -52.1635  51.7  28.94869   0.0    18   \n",
       "231   2022-06-02 -10.2501 -51.8299  53.9  28.94869   0.0    18   \n",
       "233   2022-06-02 -10.2512 -51.7739  53.9  28.94869   0.0    18   \n",
       "234   2022-06-02 -10.2515 -51.8389  53.9  28.94869   0.0    18   \n",
       "...          ...      ...      ...   ...       ...   ...   ...   \n",
       "4450  2022-06-21 -15.7906 -57.2536  32.3  30.00231   0.0     3   \n",
       "4451  2022-06-21 -16.1151 -56.7760  27.6  32.70232   0.0     3   \n",
       "4452  2022-06-21 -16.1165 -56.7854  27.6  32.70232   0.0     3   \n",
       "4447  2022-06-21 -15.5693 -53.3454  21.9  32.60232   0.0     9   \n",
       "4536  2022-06-21 -19.8134 -57.9405  24.1  34.70232   0.0    12   \n",
       "\n",
       "                         geometry  index_right     id  \n",
       "0     POINT (-52.03020 -10.01600)          251  476.0  \n",
       "227   POINT (-52.16350 -10.05940)          251  476.0  \n",
       "231   POINT (-51.82990 -10.25010)          251  476.0  \n",
       "233   POINT (-51.77390 -10.25120)          251  476.0  \n",
       "234   POINT (-51.83890 -10.25150)          251  476.0  \n",
       "...                           ...          ...    ...  \n",
       "4450  POINT (-57.25360 -15.79060)          154  364.0  \n",
       "4451  POINT (-56.77600 -16.11510)          154  364.0  \n",
       "4452  POINT (-56.78540 -16.11650)          154  364.0  \n",
       "4447  POINT (-53.34540 -15.56930)          226  451.0  \n",
       "4536  POINT (-57.94050 -19.81340)          138  338.0  \n",
       "\n",
       "[4592 rows x 10 columns]"
      ]
     },
     "execution_count": 14,
     "metadata": {},
     "output_type": "execute_result"
    }
   ],
   "source": [
    "# Visualiza o geodataframe filtrado.\n",
    "filtrado"
   ]
  },
  {
   "cell_type": "code",
   "execution_count": 15,
   "metadata": {},
   "outputs": [
    {
     "data": {
      "text/plain": [
       "<AxesSubplot:>"
      ]
     },
     "execution_count": 15,
     "metadata": {},
     "output_type": "execute_result"
    },
    {
     "data": {
      "image/png": "[encoded data removed]",
      "text/plain": [
       "<Figure size 432x864 with 1 Axes>"
      ]
     },
     "metadata": {
      "needs_background": "light"
     },
     "output_type": "display_data"
    }
   ],
   "source": [
    "# Realiza um plot básico.\n",
    "filtrado.plot(figsize=(6,12))"
   ]
  },
  {
   "cell_type": "markdown",
   "metadata": {},
   "source": [
    "# Aplicações estatísticas"
   ]
  },
  {
   "cell_type": "markdown",
   "metadata": {},
   "source": [
    "Realiza a média das variáveis meteorológicas para cada \"id\"."
   ]
  },
  {
   "cell_type": "code",
   "execution_count": 16,
   "metadata": {},
   "outputs": [
    {
     "data": {
      "text/html": [
       "<div>\n",
       "<style scoped>\n",
       "    .dataframe tbody tr th:only-of-type {\n",
       "        vertical-align: middle;\n",
       "    }\n",
       "\n",
       "    .dataframe tbody tr th {\n",
       "        vertical-align: top;\n",
       "    }\n",
       "\n",
       "    .dataframe thead th {\n",
       "        text-align: right;\n",
       "    }\n",
       "</style>\n",
       "<table border=\"1\" class=\"dataframe\">\n",
       "  <thead>\n",
       "    <tr style=\"text-align: right;\">\n",
       "      <th></th>\n",
       "      <th>Lat</th>\n",
       "      <th>Lon</th>\n",
       "      <th>RH</th>\n",
       "      <th>TEMP</th>\n",
       "      <th>PREC</th>\n",
       "      <th>NDCS</th>\n",
       "      <th>index_right</th>\n",
       "    </tr>\n",
       "    <tr>\n",
       "      <th>id</th>\n",
       "      <th></th>\n",
       "      <th></th>\n",
       "      <th></th>\n",
       "      <th></th>\n",
       "      <th></th>\n",
       "      <th></th>\n",
       "      <th></th>\n",
       "    </tr>\n",
       "  </thead>\n",
       "  <tbody>\n",
       "    <tr>\n",
       "      <th>10.0</th>\n",
       "      <td>-7.633100</td>\n",
       "      <td>-72.865950</td>\n",
       "      <td>50.20</td>\n",
       "      <td>30.315793</td>\n",
       "      <td>0.000000</td>\n",
       "      <td>3.5</td>\n",
       "      <td>2.0</td>\n",
       "    </tr>\n",
       "    <tr>\n",
       "      <th>11.0</th>\n",
       "      <td>-8.611050</td>\n",
       "      <td>-72.768400</td>\n",
       "      <td>29.90</td>\n",
       "      <td>27.197030</td>\n",
       "      <td>0.000000</td>\n",
       "      <td>2.0</td>\n",
       "      <td>3.0</td>\n",
       "    </tr>\n",
       "    <tr>\n",
       "      <th>39.0</th>\n",
       "      <td>-7.586667</td>\n",
       "      <td>-72.293900</td>\n",
       "      <td>76.00</td>\n",
       "      <td>27.485680</td>\n",
       "      <td>0.000000</td>\n",
       "      <td>6.0</td>\n",
       "      <td>6.0</td>\n",
       "    </tr>\n",
       "    <tr>\n",
       "      <th>68.0</th>\n",
       "      <td>-8.111200</td>\n",
       "      <td>-70.989167</td>\n",
       "      <td>45.10</td>\n",
       "      <td>30.528720</td>\n",
       "      <td>0.000000</td>\n",
       "      <td>4.0</td>\n",
       "      <td>14.0</td>\n",
       "    </tr>\n",
       "    <tr>\n",
       "      <th>94.0</th>\n",
       "      <td>-3.268080</td>\n",
       "      <td>-69.442040</td>\n",
       "      <td>44.72</td>\n",
       "      <td>32.561534</td>\n",
       "      <td>0.000000</td>\n",
       "      <td>7.6</td>\n",
       "      <td>22.0</td>\n",
       "    </tr>\n",
       "    <tr>\n",
       "      <th>...</th>\n",
       "      <td>...</td>\n",
       "      <td>...</td>\n",
       "      <td>...</td>\n",
       "      <td>...</td>\n",
       "      <td>...</td>\n",
       "      <td>...</td>\n",
       "      <td>...</td>\n",
       "    </tr>\n",
       "    <tr>\n",
       "      <th>763.0</th>\n",
       "      <td>-6.763825</td>\n",
       "      <td>-38.121575</td>\n",
       "      <td>36.20</td>\n",
       "      <td>31.723515</td>\n",
       "      <td>0.000000</td>\n",
       "      <td>2.5</td>\n",
       "      <td>438.0</td>\n",
       "    </tr>\n",
       "    <tr>\n",
       "      <th>767.0</th>\n",
       "      <td>-11.658650</td>\n",
       "      <td>-38.047450</td>\n",
       "      <td>60.20</td>\n",
       "      <td>27.511835</td>\n",
       "      <td>0.000000</td>\n",
       "      <td>13.5</td>\n",
       "      <td>442.0</td>\n",
       "    </tr>\n",
       "    <tr>\n",
       "      <th>791.0</th>\n",
       "      <td>-5.460350</td>\n",
       "      <td>-36.722300</td>\n",
       "      <td>25.80</td>\n",
       "      <td>33.450000</td>\n",
       "      <td>0.000000</td>\n",
       "      <td>5.0</td>\n",
       "      <td>446.0</td>\n",
       "    </tr>\n",
       "    <tr>\n",
       "      <th>795.0</th>\n",
       "      <td>-10.455700</td>\n",
       "      <td>-37.344700</td>\n",
       "      <td>72.10</td>\n",
       "      <td>26.100980</td>\n",
       "      <td>0.000055</td>\n",
       "      <td>7.0</td>\n",
       "      <td>450.0</td>\n",
       "    </tr>\n",
       "    <tr>\n",
       "      <th>823.0</th>\n",
       "      <td>-8.356500</td>\n",
       "      <td>-35.236150</td>\n",
       "      <td>76.80</td>\n",
       "      <td>25.350000</td>\n",
       "      <td>0.012026</td>\n",
       "      <td>3.0</td>\n",
       "      <td>455.0</td>\n",
       "    </tr>\n",
       "  </tbody>\n",
       "</table>\n",
       "<p>264 rows × 7 columns</p>\n",
       "</div>"
      ],
      "text/plain": [
       "             Lat        Lon     RH       TEMP      PREC  NDCS  index_right\n",
       "id                                                                        \n",
       "10.0   -7.633100 -72.865950  50.20  30.315793  0.000000   3.5          2.0\n",
       "11.0   -8.611050 -72.768400  29.90  27.197030  0.000000   2.0          3.0\n",
       "39.0   -7.586667 -72.293900  76.00  27.485680  0.000000   6.0          6.0\n",
       "68.0   -8.111200 -70.989167  45.10  30.528720  0.000000   4.0         14.0\n",
       "94.0   -3.268080 -69.442040  44.72  32.561534  0.000000   7.6         22.0\n",
       "...          ...        ...    ...        ...       ...   ...          ...\n",
       "763.0  -6.763825 -38.121575  36.20  31.723515  0.000000   2.5        438.0\n",
       "767.0 -11.658650 -38.047450  60.20  27.511835  0.000000  13.5        442.0\n",
       "791.0  -5.460350 -36.722300  25.80  33.450000  0.000000   5.0        446.0\n",
       "795.0 -10.455700 -37.344700  72.10  26.100980  0.000055   7.0        450.0\n",
       "823.0  -8.356500 -35.236150  76.80  25.350000  0.012026   3.0        455.0\n",
       "\n",
       "[264 rows x 7 columns]"
      ]
     },
     "execution_count": 16,
     "metadata": {},
     "output_type": "execute_result"
    }
   ],
   "source": [
    "filtrado.groupby('id').mean()"
   ]
  },
  {
   "cell_type": "code",
   "execution_count": 17,
   "metadata": {},
   "outputs": [
    {
     "data": {
      "text/plain": [
       "<AxesSubplot:>"
      ]
     },
     "execution_count": 17,
     "metadata": {},
     "output_type": "execute_result"
    },
    {
     "data": {
      "image/png": "[encoded data removed]",
      "text/plain": [
       "<Figure size 432x288 with 1 Axes>"
      ]
     },
     "metadata": {
      "needs_background": "light"
     },
     "output_type": "display_data"
    }
   ],
   "source": [
    "# Gera um histrograma de RH.\n",
    "filtrado.groupby('id').RH.mean().hist()"
   ]
  },
  {
   "cell_type": "code",
   "execution_count": 18,
   "metadata": {},
   "outputs": [
    {
     "data": {
      "text/plain": [
       "419.0    237\n",
       "420.0    171\n",
       "506.0    134\n",
       "592.0    130\n",
       "563.0    120\n",
       "        ... \n",
       "434.0      1\n",
       "129.0      1\n",
       "571.0      1\n",
       "544.0      1\n",
       "338.0      1\n",
       "Name: id, Length: 264, dtype: int64"
      ]
     },
     "execution_count": 18,
     "metadata": {},
     "output_type": "execute_result"
    }
   ],
   "source": [
    "filtrado.id.value_counts()"
   ]
  },
  {
   "cell_type": "code",
   "execution_count": 19,
   "metadata": {},
   "outputs": [
    {
     "data": {
      "text/html": [
       "<div>\n",
       "<style scoped>\n",
       "    .dataframe tbody tr th:only-of-type {\n",
       "        vertical-align: middle;\n",
       "    }\n",
       "\n",
       "    .dataframe tbody tr th {\n",
       "        vertical-align: top;\n",
       "    }\n",
       "\n",
       "    .dataframe thead th {\n",
       "        text-align: right;\n",
       "    }\n",
       "</style>\n",
       "<table border=\"1\" class=\"dataframe\">\n",
       "  <thead>\n",
       "    <tr style=\"text-align: right;\">\n",
       "      <th></th>\n",
       "      <th>Dia</th>\n",
       "      <th>Lat</th>\n",
       "      <th>Lon</th>\n",
       "      <th>RH</th>\n",
       "      <th>TEMP</th>\n",
       "      <th>PREC</th>\n",
       "      <th>NDCS</th>\n",
       "      <th>geometry</th>\n",
       "      <th>index_right</th>\n",
       "      <th>id</th>\n",
       "    </tr>\n",
       "  </thead>\n",
       "  <tbody>\n",
       "    <tr>\n",
       "      <th>249</th>\n",
       "      <td>2022-06-02</td>\n",
       "      <td>-10.9119</td>\n",
       "      <td>-54.2532</td>\n",
       "      <td>38.3</td>\n",
       "      <td>32.24871</td>\n",
       "      <td>0.0</td>\n",
       "      <td>18</td>\n",
       "      <td>POINT (-54.25320 -10.91190)</td>\n",
       "      <td>196</td>\n",
       "      <td>419.0</td>\n",
       "    </tr>\n",
       "    <tr>\n",
       "      <th>251</th>\n",
       "      <td>2022-06-02</td>\n",
       "      <td>-10.9133</td>\n",
       "      <td>-54.2634</td>\n",
       "      <td>38.3</td>\n",
       "      <td>32.24871</td>\n",
       "      <td>0.0</td>\n",
       "      <td>18</td>\n",
       "      <td>POINT (-54.26340 -10.91330)</td>\n",
       "      <td>196</td>\n",
       "      <td>419.0</td>\n",
       "    </tr>\n",
       "    <tr>\n",
       "      <th>252</th>\n",
       "      <td>2022-06-02</td>\n",
       "      <td>-11.1308</td>\n",
       "      <td>-53.8814</td>\n",
       "      <td>29.1</td>\n",
       "      <td>34.94869</td>\n",
       "      <td>0.0</td>\n",
       "      <td>19</td>\n",
       "      <td>POINT (-53.88140 -11.13080)</td>\n",
       "      <td>196</td>\n",
       "      <td>419.0</td>\n",
       "    </tr>\n",
       "    <tr>\n",
       "      <th>255</th>\n",
       "      <td>2022-06-02</td>\n",
       "      <td>-11.1322</td>\n",
       "      <td>-53.8913</td>\n",
       "      <td>29.1</td>\n",
       "      <td>34.94869</td>\n",
       "      <td>0.0</td>\n",
       "      <td>19</td>\n",
       "      <td>POINT (-53.89130 -11.13220)</td>\n",
       "      <td>196</td>\n",
       "      <td>419.0</td>\n",
       "    </tr>\n",
       "    <tr>\n",
       "      <th>260</th>\n",
       "      <td>2022-06-02</td>\n",
       "      <td>-11.3546</td>\n",
       "      <td>-54.9003</td>\n",
       "      <td>39.4</td>\n",
       "      <td>32.84872</td>\n",
       "      <td>0.0</td>\n",
       "      <td>19</td>\n",
       "      <td>POINT (-54.90030 -11.35460)</td>\n",
       "      <td>196</td>\n",
       "      <td>419.0</td>\n",
       "    </tr>\n",
       "    <tr>\n",
       "      <th>...</th>\n",
       "      <td>...</td>\n",
       "      <td>...</td>\n",
       "      <td>...</td>\n",
       "      <td>...</td>\n",
       "      <td>...</td>\n",
       "      <td>...</td>\n",
       "      <td>...</td>\n",
       "      <td>...</td>\n",
       "      <td>...</td>\n",
       "      <td>...</td>\n",
       "    </tr>\n",
       "    <tr>\n",
       "      <th>4362</th>\n",
       "      <td>2022-06-21</td>\n",
       "      <td>-12.1933</td>\n",
       "      <td>-54.3232</td>\n",
       "      <td>23.8</td>\n",
       "      <td>32.90231</td>\n",
       "      <td>0.0</td>\n",
       "      <td>49</td>\n",
       "      <td>POINT (-54.32320 -12.19330)</td>\n",
       "      <td>196</td>\n",
       "      <td>419.0</td>\n",
       "    </tr>\n",
       "    <tr>\n",
       "      <th>4363</th>\n",
       "      <td>2022-06-21</td>\n",
       "      <td>-12.1955</td>\n",
       "      <td>-54.3369</td>\n",
       "      <td>23.8</td>\n",
       "      <td>32.90231</td>\n",
       "      <td>0.0</td>\n",
       "      <td>49</td>\n",
       "      <td>POINT (-54.33690 -12.19550)</td>\n",
       "      <td>196</td>\n",
       "      <td>419.0</td>\n",
       "    </tr>\n",
       "    <tr>\n",
       "      <th>4364</th>\n",
       "      <td>2022-06-21</td>\n",
       "      <td>-12.1976</td>\n",
       "      <td>-54.3504</td>\n",
       "      <td>23.8</td>\n",
       "      <td>32.90231</td>\n",
       "      <td>0.0</td>\n",
       "      <td>49</td>\n",
       "      <td>POINT (-54.35040 -12.19760)</td>\n",
       "      <td>196</td>\n",
       "      <td>419.0</td>\n",
       "    </tr>\n",
       "    <tr>\n",
       "      <th>4572</th>\n",
       "      <td>2022-06-21</td>\n",
       "      <td>-11.0245</td>\n",
       "      <td>-54.2058</td>\n",
       "      <td>23.9</td>\n",
       "      <td>33.00231</td>\n",
       "      <td>0.0</td>\n",
       "      <td>11</td>\n",
       "      <td>POINT (-54.20580 -11.02450)</td>\n",
       "      <td>196</td>\n",
       "      <td>419.0</td>\n",
       "    </tr>\n",
       "    <tr>\n",
       "      <th>4577</th>\n",
       "      <td>2022-06-21</td>\n",
       "      <td>-11.0268</td>\n",
       "      <td>-54.2201</td>\n",
       "      <td>23.9</td>\n",
       "      <td>33.00231</td>\n",
       "      <td>0.0</td>\n",
       "      <td>11</td>\n",
       "      <td>POINT (-54.22010 -11.02680)</td>\n",
       "      <td>196</td>\n",
       "      <td>419.0</td>\n",
       "    </tr>\n",
       "  </tbody>\n",
       "</table>\n",
       "<p>237 rows × 10 columns</p>\n",
       "</div>"
      ],
      "text/plain": [
       "             Dia      Lat      Lon    RH      TEMP  PREC  NDCS  \\\n",
       "249   2022-06-02 -10.9119 -54.2532  38.3  32.24871   0.0    18   \n",
       "251   2022-06-02 -10.9133 -54.2634  38.3  32.24871   0.0    18   \n",
       "252   2022-06-02 -11.1308 -53.8814  29.1  34.94869   0.0    19   \n",
       "255   2022-06-02 -11.1322 -53.8913  29.1  34.94869   0.0    19   \n",
       "260   2022-06-02 -11.3546 -54.9003  39.4  32.84872   0.0    19   \n",
       "...          ...      ...      ...   ...       ...   ...   ...   \n",
       "4362  2022-06-21 -12.1933 -54.3232  23.8  32.90231   0.0    49   \n",
       "4363  2022-06-21 -12.1955 -54.3369  23.8  32.90231   0.0    49   \n",
       "4364  2022-06-21 -12.1976 -54.3504  23.8  32.90231   0.0    49   \n",
       "4572  2022-06-21 -11.0245 -54.2058  23.9  33.00231   0.0    11   \n",
       "4577  2022-06-21 -11.0268 -54.2201  23.9  33.00231   0.0    11   \n",
       "\n",
       "                         geometry  index_right     id  \n",
       "249   POINT (-54.25320 -10.91190)          196  419.0  \n",
       "251   POINT (-54.26340 -10.91330)          196  419.0  \n",
       "252   POINT (-53.88140 -11.13080)          196  419.0  \n",
       "255   POINT (-53.89130 -11.13220)          196  419.0  \n",
       "260   POINT (-54.90030 -11.35460)          196  419.0  \n",
       "...                           ...          ...    ...  \n",
       "4362  POINT (-54.32320 -12.19330)          196  419.0  \n",
       "4363  POINT (-54.33690 -12.19550)          196  419.0  \n",
       "4364  POINT (-54.35040 -12.19760)          196  419.0  \n",
       "4572  POINT (-54.20580 -11.02450)          196  419.0  \n",
       "4577  POINT (-54.22010 -11.02680)          196  419.0  \n",
       "\n",
       "[237 rows x 10 columns]"
      ]
     },
     "execution_count": 19,
     "metadata": {},
     "output_type": "execute_result"
    }
   ],
   "source": [
    "# Consultando o \"id=419\" que teve mais células com focos.\n",
    "filtrado.query('id==419.0')"
   ]
  },
  {
   "cell_type": "code",
   "execution_count": 20,
   "metadata": {},
   "outputs": [],
   "source": [
    "# Salva a média do agrupamento por \"id\" na variável \"media\".\n",
    "media = filtrado.groupby('id').mean()"
   ]
  },
  {
   "cell_type": "code",
   "execution_count": 21,
   "metadata": {},
   "outputs": [],
   "source": [
    "# Guarda apenas as colunas \"RH\" e \"TEMP\".\n",
    "media = media[['RH', 'TEMP']]"
   ]
  },
  {
   "cell_type": "code",
   "execution_count": 22,
   "metadata": {},
   "outputs": [
    {
     "data": {
      "text/html": [
       "<div>\n",
       "<style scoped>\n",
       "    .dataframe tbody tr th:only-of-type {\n",
       "        vertical-align: middle;\n",
       "    }\n",
       "\n",
       "    .dataframe tbody tr th {\n",
       "        vertical-align: top;\n",
       "    }\n",
       "\n",
       "    .dataframe thead th {\n",
       "        text-align: right;\n",
       "    }\n",
       "</style>\n",
       "<table border=\"1\" class=\"dataframe\">\n",
       "  <thead>\n",
       "    <tr style=\"text-align: right;\">\n",
       "      <th></th>\n",
       "      <th>id</th>\n",
       "      <th>left</th>\n",
       "      <th>top</th>\n",
       "      <th>right</th>\n",
       "      <th>bottom</th>\n",
       "      <th>geometry</th>\n",
       "    </tr>\n",
       "  </thead>\n",
       "  <tbody>\n",
       "    <tr>\n",
       "      <th>0</th>\n",
       "      <td>8.0</td>\n",
       "      <td>-73.99045</td>\n",
       "      <td>-4.178159</td>\n",
       "      <td>-72.64045</td>\n",
       "      <td>-5.528159</td>\n",
       "      <td>POLYGON ((-73.99378 -4.14148, -72.64378 -4.141...</td>\n",
       "    </tr>\n",
       "    <tr>\n",
       "      <th>1</th>\n",
       "      <td>9.0</td>\n",
       "      <td>-73.99045</td>\n",
       "      <td>-5.528159</td>\n",
       "      <td>-72.64045</td>\n",
       "      <td>-6.878159</td>\n",
       "      <td>POLYGON ((-73.99378 -5.49148, -72.64378 -5.491...</td>\n",
       "    </tr>\n",
       "    <tr>\n",
       "      <th>2</th>\n",
       "      <td>10.0</td>\n",
       "      <td>-73.99045</td>\n",
       "      <td>-6.878159</td>\n",
       "      <td>-72.64045</td>\n",
       "      <td>-8.228159</td>\n",
       "      <td>POLYGON ((-73.99378 -6.84148, -72.64378 -6.841...</td>\n",
       "    </tr>\n",
       "    <tr>\n",
       "      <th>3</th>\n",
       "      <td>11.0</td>\n",
       "      <td>-73.99045</td>\n",
       "      <td>-8.228159</td>\n",
       "      <td>-72.64045</td>\n",
       "      <td>-9.578159</td>\n",
       "      <td>POLYGON ((-73.99378 -8.19148, -72.64378 -8.191...</td>\n",
       "    </tr>\n",
       "    <tr>\n",
       "      <th>4</th>\n",
       "      <td>37.0</td>\n",
       "      <td>-72.64045</td>\n",
       "      <td>-4.178159</td>\n",
       "      <td>-71.29045</td>\n",
       "      <td>-5.528159</td>\n",
       "      <td>POLYGON ((-72.64378 -4.14148, -71.29378 -4.141...</td>\n",
       "    </tr>\n",
       "    <tr>\n",
       "      <th>...</th>\n",
       "      <td>...</td>\n",
       "      <td>...</td>\n",
       "      <td>...</td>\n",
       "      <td>...</td>\n",
       "      <td>...</td>\n",
       "      <td>...</td>\n",
       "    </tr>\n",
       "    <tr>\n",
       "      <th>453</th>\n",
       "      <td>821.0</td>\n",
       "      <td>-36.19045</td>\n",
       "      <td>-5.528159</td>\n",
       "      <td>-34.84045</td>\n",
       "      <td>-6.878159</td>\n",
       "      <td>POLYGON ((-36.19378 -5.49148, -34.84378 -5.491...</td>\n",
       "    </tr>\n",
       "    <tr>\n",
       "      <th>454</th>\n",
       "      <td>822.0</td>\n",
       "      <td>-36.19045</td>\n",
       "      <td>-6.878159</td>\n",
       "      <td>-34.84045</td>\n",
       "      <td>-8.228159</td>\n",
       "      <td>POLYGON ((-36.19378 -6.84148, -34.84378 -6.841...</td>\n",
       "    </tr>\n",
       "    <tr>\n",
       "      <th>455</th>\n",
       "      <td>823.0</td>\n",
       "      <td>-36.19045</td>\n",
       "      <td>-8.228159</td>\n",
       "      <td>-34.84045</td>\n",
       "      <td>-9.578159</td>\n",
       "      <td>POLYGON ((-36.19378 -8.19148, -34.84378 -8.191...</td>\n",
       "    </tr>\n",
       "    <tr>\n",
       "      <th>456</th>\n",
       "      <td>824.0</td>\n",
       "      <td>-36.19045</td>\n",
       "      <td>-9.578159</td>\n",
       "      <td>-34.84045</td>\n",
       "      <td>-10.928159</td>\n",
       "      <td>POLYGON ((-36.19378 -9.54148, -34.84378 -9.541...</td>\n",
       "    </tr>\n",
       "    <tr>\n",
       "      <th>457</th>\n",
       "      <td>851.0</td>\n",
       "      <td>-34.84045</td>\n",
       "      <td>-6.878159</td>\n",
       "      <td>-33.49045</td>\n",
       "      <td>-8.228159</td>\n",
       "      <td>POLYGON ((-34.84378 -6.84148, -33.49378 -6.841...</td>\n",
       "    </tr>\n",
       "  </tbody>\n",
       "</table>\n",
       "<p>458 rows × 6 columns</p>\n",
       "</div>"
      ],
      "text/plain": [
       "        id      left       top     right     bottom  \\\n",
       "0      8.0 -73.99045 -4.178159 -72.64045  -5.528159   \n",
       "1      9.0 -73.99045 -5.528159 -72.64045  -6.878159   \n",
       "2     10.0 -73.99045 -6.878159 -72.64045  -8.228159   \n",
       "3     11.0 -73.99045 -8.228159 -72.64045  -9.578159   \n",
       "4     37.0 -72.64045 -4.178159 -71.29045  -5.528159   \n",
       "..     ...       ...       ...       ...        ...   \n",
       "453  821.0 -36.19045 -5.528159 -34.84045  -6.878159   \n",
       "454  822.0 -36.19045 -6.878159 -34.84045  -8.228159   \n",
       "455  823.0 -36.19045 -8.228159 -34.84045  -9.578159   \n",
       "456  824.0 -36.19045 -9.578159 -34.84045 -10.928159   \n",
       "457  851.0 -34.84045 -6.878159 -33.49045  -8.228159   \n",
       "\n",
       "                                              geometry  \n",
       "0    POLYGON ((-73.99378 -4.14148, -72.64378 -4.141...  \n",
       "1    POLYGON ((-73.99378 -5.49148, -72.64378 -5.491...  \n",
       "2    POLYGON ((-73.99378 -6.84148, -72.64378 -6.841...  \n",
       "3    POLYGON ((-73.99378 -8.19148, -72.64378 -8.191...  \n",
       "4    POLYGON ((-72.64378 -4.14148, -71.29378 -4.141...  \n",
       "..                                                 ...  \n",
       "453  POLYGON ((-36.19378 -5.49148, -34.84378 -5.491...  \n",
       "454  POLYGON ((-36.19378 -6.84148, -34.84378 -6.841...  \n",
       "455  POLYGON ((-36.19378 -8.19148, -34.84378 -8.191...  \n",
       "456  POLYGON ((-36.19378 -9.54148, -34.84378 -9.541...  \n",
       "457  POLYGON ((-34.84378 -6.84148, -33.49378 -6.841...  \n",
       "\n",
       "[458 rows x 6 columns]"
      ]
     },
     "execution_count": 22,
     "metadata": {},
     "output_type": "execute_result"
    }
   ],
   "source": [
    "# Apenas visualiza novamente o shapefile aberto.\n",
    "brasil"
   ]
  },
  {
   "cell_type": "markdown",
   "metadata": {},
   "source": [
    "# Merge do shapefile e da média agrupada por id"
   ]
  },
  {
   "cell_type": "code",
   "execution_count": 23,
   "metadata": {},
   "outputs": [],
   "source": [
    "merge_gdf = pd.merge(brasil, media, on='id', how='left')"
   ]
  },
  {
   "cell_type": "markdown",
   "metadata": {},
   "source": [
    "Foi usado o `how='left'` porque sem ele seriam retornadas as células de grade onde tem focos. Sabe-se que nem todas as células possuem focos. Por isso, o uso do `how='left'` para guardar as células vazias."
   ]
  },
  {
   "cell_type": "code",
   "execution_count": 24,
   "metadata": {},
   "outputs": [
    {
     "data": {
      "text/html": [
       "<div>\n",
       "<style scoped>\n",
       "    .dataframe tbody tr th:only-of-type {\n",
       "        vertical-align: middle;\n",
       "    }\n",
       "\n",
       "    .dataframe tbody tr th {\n",
       "        vertical-align: top;\n",
       "    }\n",
       "\n",
       "    .dataframe thead th {\n",
       "        text-align: right;\n",
       "    }\n",
       "</style>\n",
       "<table border=\"1\" class=\"dataframe\">\n",
       "  <thead>\n",
       "    <tr style=\"text-align: right;\">\n",
       "      <th></th>\n",
       "      <th>id</th>\n",
       "      <th>left</th>\n",
       "      <th>top</th>\n",
       "      <th>right</th>\n",
       "      <th>bottom</th>\n",
       "      <th>geometry</th>\n",
       "      <th>RH</th>\n",
       "      <th>TEMP</th>\n",
       "    </tr>\n",
       "  </thead>\n",
       "  <tbody>\n",
       "    <tr>\n",
       "      <th>0</th>\n",
       "      <td>8.0</td>\n",
       "      <td>-73.99045</td>\n",
       "      <td>-4.178159</td>\n",
       "      <td>-72.64045</td>\n",
       "      <td>-5.528159</td>\n",
       "      <td>POLYGON ((-73.99378 -4.14148, -72.64378 -4.141...</td>\n",
       "      <td>NaN</td>\n",
       "      <td>NaN</td>\n",
       "    </tr>\n",
       "    <tr>\n",
       "      <th>1</th>\n",
       "      <td>9.0</td>\n",
       "      <td>-73.99045</td>\n",
       "      <td>-5.528159</td>\n",
       "      <td>-72.64045</td>\n",
       "      <td>-6.878159</td>\n",
       "      <td>POLYGON ((-73.99378 -5.49148, -72.64378 -5.491...</td>\n",
       "      <td>NaN</td>\n",
       "      <td>NaN</td>\n",
       "    </tr>\n",
       "    <tr>\n",
       "      <th>2</th>\n",
       "      <td>10.0</td>\n",
       "      <td>-73.99045</td>\n",
       "      <td>-6.878159</td>\n",
       "      <td>-72.64045</td>\n",
       "      <td>-8.228159</td>\n",
       "      <td>POLYGON ((-73.99378 -6.84148, -72.64378 -6.841...</td>\n",
       "      <td>50.2</td>\n",
       "      <td>30.315793</td>\n",
       "    </tr>\n",
       "    <tr>\n",
       "      <th>3</th>\n",
       "      <td>11.0</td>\n",
       "      <td>-73.99045</td>\n",
       "      <td>-8.228159</td>\n",
       "      <td>-72.64045</td>\n",
       "      <td>-9.578159</td>\n",
       "      <td>POLYGON ((-73.99378 -8.19148, -72.64378 -8.191...</td>\n",
       "      <td>29.9</td>\n",
       "      <td>27.197030</td>\n",
       "    </tr>\n",
       "    <tr>\n",
       "      <th>4</th>\n",
       "      <td>37.0</td>\n",
       "      <td>-72.64045</td>\n",
       "      <td>-4.178159</td>\n",
       "      <td>-71.29045</td>\n",
       "      <td>-5.528159</td>\n",
       "      <td>POLYGON ((-72.64378 -4.14148, -71.29378 -4.141...</td>\n",
       "      <td>NaN</td>\n",
       "      <td>NaN</td>\n",
       "    </tr>\n",
       "    <tr>\n",
       "      <th>...</th>\n",
       "      <td>...</td>\n",
       "      <td>...</td>\n",
       "      <td>...</td>\n",
       "      <td>...</td>\n",
       "      <td>...</td>\n",
       "      <td>...</td>\n",
       "      <td>...</td>\n",
       "      <td>...</td>\n",
       "    </tr>\n",
       "    <tr>\n",
       "      <th>453</th>\n",
       "      <td>821.0</td>\n",
       "      <td>-36.19045</td>\n",
       "      <td>-5.528159</td>\n",
       "      <td>-34.84045</td>\n",
       "      <td>-6.878159</td>\n",
       "      <td>POLYGON ((-36.19378 -5.49148, -34.84378 -5.491...</td>\n",
       "      <td>NaN</td>\n",
       "      <td>NaN</td>\n",
       "    </tr>\n",
       "    <tr>\n",
       "      <th>454</th>\n",
       "      <td>822.0</td>\n",
       "      <td>-36.19045</td>\n",
       "      <td>-6.878159</td>\n",
       "      <td>-34.84045</td>\n",
       "      <td>-8.228159</td>\n",
       "      <td>POLYGON ((-36.19378 -6.84148, -34.84378 -6.841...</td>\n",
       "      <td>NaN</td>\n",
       "      <td>NaN</td>\n",
       "    </tr>\n",
       "    <tr>\n",
       "      <th>455</th>\n",
       "      <td>823.0</td>\n",
       "      <td>-36.19045</td>\n",
       "      <td>-8.228159</td>\n",
       "      <td>-34.84045</td>\n",
       "      <td>-9.578159</td>\n",
       "      <td>POLYGON ((-36.19378 -8.19148, -34.84378 -8.191...</td>\n",
       "      <td>76.8</td>\n",
       "      <td>25.350000</td>\n",
       "    </tr>\n",
       "    <tr>\n",
       "      <th>456</th>\n",
       "      <td>824.0</td>\n",
       "      <td>-36.19045</td>\n",
       "      <td>-9.578159</td>\n",
       "      <td>-34.84045</td>\n",
       "      <td>-10.928159</td>\n",
       "      <td>POLYGON ((-36.19378 -9.54148, -34.84378 -9.541...</td>\n",
       "      <td>NaN</td>\n",
       "      <td>NaN</td>\n",
       "    </tr>\n",
       "    <tr>\n",
       "      <th>457</th>\n",
       "      <td>851.0</td>\n",
       "      <td>-34.84045</td>\n",
       "      <td>-6.878159</td>\n",
       "      <td>-33.49045</td>\n",
       "      <td>-8.228159</td>\n",
       "      <td>POLYGON ((-34.84378 -6.84148, -33.49378 -6.841...</td>\n",
       "      <td>NaN</td>\n",
       "      <td>NaN</td>\n",
       "    </tr>\n",
       "  </tbody>\n",
       "</table>\n",
       "<p>458 rows × 8 columns</p>\n",
       "</div>"
      ],
      "text/plain": [
       "        id      left       top     right     bottom  \\\n",
       "0      8.0 -73.99045 -4.178159 -72.64045  -5.528159   \n",
       "1      9.0 -73.99045 -5.528159 -72.64045  -6.878159   \n",
       "2     10.0 -73.99045 -6.878159 -72.64045  -8.228159   \n",
       "3     11.0 -73.99045 -8.228159 -72.64045  -9.578159   \n",
       "4     37.0 -72.64045 -4.178159 -71.29045  -5.528159   \n",
       "..     ...       ...       ...       ...        ...   \n",
       "453  821.0 -36.19045 -5.528159 -34.84045  -6.878159   \n",
       "454  822.0 -36.19045 -6.878159 -34.84045  -8.228159   \n",
       "455  823.0 -36.19045 -8.228159 -34.84045  -9.578159   \n",
       "456  824.0 -36.19045 -9.578159 -34.84045 -10.928159   \n",
       "457  851.0 -34.84045 -6.878159 -33.49045  -8.228159   \n",
       "\n",
       "                                              geometry    RH       TEMP  \n",
       "0    POLYGON ((-73.99378 -4.14148, -72.64378 -4.141...   NaN        NaN  \n",
       "1    POLYGON ((-73.99378 -5.49148, -72.64378 -5.491...   NaN        NaN  \n",
       "2    POLYGON ((-73.99378 -6.84148, -72.64378 -6.841...  50.2  30.315793  \n",
       "3    POLYGON ((-73.99378 -8.19148, -72.64378 -8.191...  29.9  27.197030  \n",
       "4    POLYGON ((-72.64378 -4.14148, -71.29378 -4.141...   NaN        NaN  \n",
       "..                                                 ...   ...        ...  \n",
       "453  POLYGON ((-36.19378 -5.49148, -34.84378 -5.491...   NaN        NaN  \n",
       "454  POLYGON ((-36.19378 -6.84148, -34.84378 -6.841...   NaN        NaN  \n",
       "455  POLYGON ((-36.19378 -8.19148, -34.84378 -8.191...  76.8  25.350000  \n",
       "456  POLYGON ((-36.19378 -9.54148, -34.84378 -9.541...   NaN        NaN  \n",
       "457  POLYGON ((-34.84378 -6.84148, -33.49378 -6.841...   NaN        NaN  \n",
       "\n",
       "[458 rows x 8 columns]"
      ]
     },
     "execution_count": 24,
     "metadata": {},
     "output_type": "execute_result"
    }
   ],
   "source": [
    "# Visualiação do geodataframe.\n",
    "merge_gdf"
   ]
  },
  {
   "cell_type": "code",
   "execution_count": 25,
   "metadata": {},
   "outputs": [
    {
     "data": {
      "text/plain": [
       "geopandas.geodataframe.GeoDataFrame"
      ]
     },
     "execution_count": 25,
     "metadata": {},
     "output_type": "execute_result"
    }
   ],
   "source": [
    "# Checa se é geodataframe.\n",
    "type(merge_gdf)"
   ]
  },
  {
   "cell_type": "code",
   "execution_count": 26,
   "metadata": {},
   "outputs": [
    {
     "data": {
      "text/plain": [
       "<AxesSubplot:>"
      ]
     },
     "execution_count": 26,
     "metadata": {},
     "output_type": "execute_result"
    },
    {
     "data": {
      "image/png": "[encoded data removed]",
      "text/plain": [
       "<Figure size 432x288 with 1 Axes>"
      ]
     },
     "metadata": {
      "needs_background": "light"
     },
     "output_type": "display_data"
    }
   ],
   "source": [
    "# Plot básico.\n",
    "merge_gdf.plot()"
   ]
  },
  {
   "cell_type": "code",
   "execution_count": 27,
   "metadata": {},
   "outputs": [
    {
     "name": "stderr",
     "output_type": "stream",
     "text": [
      "/home/gui/anaconda3/envs/trabalho/lib/python3.9/site-packages/geopandas/io/file.py:362: FutureWarning: pandas.Int64Index is deprecated and will be removed from pandas in a future version. Use pandas.Index with the appropriate dtype instead.\n",
      "  pd.Int64Index,\n"
     ]
    }
   ],
   "source": [
    "# Caso queira salvar o resultado em um arquivo shapefile.\n",
    "merge_gdf.to_file('/mnt/d/gui/testes/grade150km/shapefile/grade150km.shp')"
   ]
  }
 ],
 "metadata": {
  "kernelspec": {
   "display_name": "Python 3.9.10 64-bit ('trabalho')",
   "language": "python",
   "name": "python3"
  },
  "language_info": {
   "codemirror_mode": {
    "name": "ipython",
    "version": 3
   },
   "file_extension": ".py",
   "mimetype": "text/x-python",
   "name": "python",
   "nbconvert_exporter": "python",
   "pygments_lexer": "ipython3",
   "version": "3.9.10"
  },
  "orig_nbformat": 4,
  "vscode": {
   "interpreter": {
    "hash": "7c2b5cbecb9f7d37c9f7c0bd12e1b38195f54f06308f7559875dd8f3975064a6"
   }
  }
 },
 "nbformat": 4,
 "nbformat_minor": 2
}
