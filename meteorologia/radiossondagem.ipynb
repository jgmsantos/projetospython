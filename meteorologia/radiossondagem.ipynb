{
 "cells": [
  {
   "cell_type": "markdown",
   "metadata": {},
   "source": [
    "Tempo utilizado para fazer este Jupyter Notebook: ~3 horas.\n",
    "\n",
    "Ambiente virtual: teste"
   ]
  },
  {
   "cell_type": "markdown",
   "metadata": {},
   "source": [
    "# Criação do diagrama Skew-T/log-p"
   ]
  },
  {
   "cell_type": "markdown",
   "metadata": {},
   "source": [
    "Os gráficos Skew-T/Ln-P são simplesmente gráficos 2D com um eixo de temperatura distorcido e um eixo de pressão logarítmica (y). \n",
    "\n",
    "Os dados plotados neste estilo de plotagem incluem temperatura, temperatura do ponto de orvalho e vários outros valores derivados, como a temperatura de uma parcela levantada à superfície. \n",
    "\n",
    "Os gráficos produzidos por esses scripts também possuem um hodógrafo plotado e um bloco de dados com parâmetros de tempestade convectiva.\n",
    "\n",
    "As bibliotecas utilizadas são:\n",
    "\n",
    "* pymeteo: `1.0.2`\n",
    "* h5py: `3.6.0`\n",
    "* matplotlib: `3.4.2`\n"
   ]
  },
  {
   "cell_type": "markdown",
   "metadata": {},
   "source": [
    "## Instalação de bibliotecas"
   ]
  },
  {
   "cell_type": "markdown",
   "metadata": {},
   "source": [
    "O exemplo a seguir foi retirado do link abaixo:\n",
    "\n",
    "[https://github.com/cwebster2/pyMeteo](https://github.com/cwebster2/pyMeteo)\n",
    "\n",
    "A instalação da biblioteca pode ser feita da seguinte forma:\n",
    "\n",
    "`pip install pymeteo`\n",
    "\n",
    "ou \n",
    "\n",
    "`conda install -c cwebster2 pymeteo`\n",
    "\n",
    "Para este exemplo será utilizada a primeira opção que utiliza o pip."
   ]
  },
  {
   "cell_type": "code",
   "execution_count": 69,
   "metadata": {},
   "outputs": [],
   "source": [
    "#!pip install pymeteo\n",
    "#!pip install h5py\n",
    "#!pip install matplotlib==3.4.2"
   ]
  },
  {
   "cell_type": "markdown",
   "metadata": {},
   "source": [
    "## Personalizar o skewt"
   ]
  },
  {
   "cell_type": "markdown",
   "metadata": {},
   "source": [
    "Para personalizar o skewt, basta acessar o local de instalação do arquivo `skewt.py`:\n",
    "\n",
    "```bash\n",
    "/home/gui/anaconda3/envs/teste/lib/python3.1/site-packages/pymeteo/skewt.py\n",
    "```\n",
    "\n",
    "**Identifique o arquivo (skewt.py) de acordo com a sua instalação.**\n",
    "\n",
    "A personalização consiste em alterar os títulos e seus tamanhos no gráfico, além de outros pontos."
   ]
  },
  {
   "cell_type": "markdown",
   "metadata": {},
   "source": [
    "## Plotagem de um dado"
   ]
  },
  {
   "cell_type": "markdown",
   "metadata": {},
   "source": [
    "Em todos os métodos de plotagem, o tipo de saída de plotagem é determinado pela extensão do arquivo de saída fornecido. O usuário pode escrever qualquer tipo de arquivo que o backend do matplotlib possa escrever."
   ]
  },
  {
   "cell_type": "markdown",
   "metadata": {},
   "source": [
    "### Mensagem de aviso"
   ]
  },
  {
   "cell_type": "markdown",
   "metadata": {},
   "source": [
    "Caso apareça o erro abaixo no momento de executar o skewt:\n",
    "\n",
    "`TypeError: LogScale.__init__() got an unexpected keyword argument 'basey'`\n",
    "\n",
    "Parece que `ax.set_yscale(\"log\", basey=10)` não reconhece o argumento de palavra-chave `basey`. Esta palavra-chave foi substituída nas versões mais recentes do matplotlib, **se você instalar uma versão mais antiga**, ela deve funcionar\n",
    "\n",
    "**A solução consiste** em instalar uma versão do matplotlib (estava usando 3.5.1) mais antiga, neste caso:\n",
    "\n",
    "`pip install matplotlib==3.4.2`\n",
    "\n",
    "Para que esta mensagem de aviso não apareça mais, basta editar o arquivo abaixo (`skewt.py`):\n",
    "\n",
    "```bash\n",
    "/home/gui/anaconda3/envs/teste/lib/python3.1/site-packages/pymeteo/skewt.py\n",
    "```\n",
    "\n",
    "E **trocar todas as ocorrências** do nome `basey` para `base`. Faça somente isso! \n",
    "\n",
    "As ocorrências são essas: `basey=math.e`, mude de `basey` para `base`.\n",
    "\n",
    "As mensagens de aviso sumirão e tudo ficará certo."
   ]
  },
  {
   "cell_type": "markdown",
   "metadata": {},
   "source": [
    "### Dado no formato tabular"
   ]
  },
  {
   "cell_type": "markdown",
   "metadata": {},
   "source": [
    "Se você tiver dados tabulares adequados para inicialização do modelo WRF ou CM1, poderá plotar um diagrama utilizando o comando abaixo:\n",
    "\n",
    "`!skewt tabular -f sounding.dat skewt.pdf`\n",
    "\n",
    "O `!` quer dizer que está **sendo executado no terminal Linux** e **NÃO** dentro do Jupyter Notebook.\n",
    "\n",
    "Onde:\n",
    "* `sounding_wrfinit.dat` é o **arquivo a ser lido**.\n",
    "* `skewt.pdf` é o **nome do arquivo** que será gerado no computador. Pode ser: **pdf, png, jpg, tiff**.\n",
    "\n",
    "O formato do arquivo a ser lido deve conter as seguintes informações:\n",
    "\n",
    "* A **primeira linha do arquivo** deve conter **3 colunas**: **pressão à superfície (mb)**, **theta à superfície (K)** e **razão de mistura à superfície (g/kg)**.\n",
    "* A partir da **segunda linha** deve conter **5 colunas**: **altura (m)**, **theta (K)**, **razão de mistura (g/kg)**, **vento zonal [u] (m/s)** e **vento meridional [v] (m/s)**."
   ]
  },
  {
   "cell_type": "markdown",
   "metadata": {},
   "source": [
    "```bash\n",
    " 1000.00\t300.000000\t14.000000\n",
    "   50.00\t300.045520\t14.000000\t-16.044603\t1.154819\n",
    "  100.00\t300.108266\t14.000000\t-16.028421\t1.429214\n",
    "  150.00\t300.179724\t14.000000\t-16.001479\t1.702762\n",
    "  200.00\t300.257501\t14.000000\t-15.963818\t1.975041\n",
    "  250.00\t300.340343\t14.000000\t-15.915497\t2.245632\n",
    "  300.00\t300.427458\t14.000000\t-15.856589\t2.514118\n",
    "  350.00\t300.518295\t14.000000\t-15.787187\t2.780083\n",
    "  400.00\t300.612445\t14.000000\t-15.707396\t3.043119\n",
    "  450.00\t300.709590\t14.000000\t-15.617339\t3.302819\n",
    "```"
   ]
  },
  {
   "cell_type": "markdown",
   "metadata": {},
   "source": [
    "No pequeno trecho do arquivo `sounding_wrfinit.dat`, a **primeira linha** contém as 3 colunas, enquanto que a partir da **segunda**, estão as 5 colunas."
   ]
  },
  {
   "cell_type": "markdown",
   "metadata": {},
   "source": [
    "Geração da sondagem no formato tabular"
   ]
  },
  {
   "cell_type": "markdown",
   "metadata": {},
   "source": [
    "Lembrando que o `!` diz que está **sendo executado no Linux**.\n",
    "\n",
    "Devem aparecer algumas mensagens de aviso, pode ignorar. Isso tem a ver com o erro descrito acima (sobre o basey) que foi corrigido pela instalação de uma versão mais antiga do matplotlib.\n",
    "\n",
    "```python\n",
    "MatplotlibDeprecationWarning: The 'basey' parameter of __init__() has been renamed 'base' since Matplotlib 3.3; support for the old name will be dropped two minor releases later.\n",
    "  axes.semilogy(T + skew(plevs_plot), plevs_plot, basey=math.e, color = lc_major, linewidth= lw_major)\n",
    "```\n",
    "\n"
   ]
  },
  {
   "cell_type": "code",
   "execution_count": 70,
   "metadata": {},
   "outputs": [],
   "source": [
    "!skewt tabular -f ../dados/texto/sounding_wrfinit.dat skewt_generico.pdf"
   ]
  },
  {
   "cell_type": "markdown",
   "metadata": {},
   "source": [
    "### Utilizando as sondagens da University of Wyoming"
   ]
  },
  {
   "cell_type": "markdown",
   "metadata": {},
   "source": [
    "Para baixar um arquivo, basta acessar o link:\n",
    "\n",
    "[https://weather.uwyo.edu/upperair/sounding.html](https://weather.uwyo.edu/upperair/sounding.html)\n",
    "\n",
    "Selecionou-se a sondagem de Belém (**82193**) para o dia 17/05/2022 às 12Z."
   ]
  },
  {
   "cell_type": "markdown",
   "metadata": {},
   "source": [
    "#### Opção 1: A sondagem (sounding_belem.dat) está armazenada no computador local."
   ]
  },
  {
   "cell_type": "markdown",
   "metadata": {},
   "source": [
    "Geração da sondagem\n",
    "\n",
    "Lembrando que o `!` diz que está **sendo executado no Linux**."
   ]
  },
  {
   "cell_type": "code",
   "execution_count": 71,
   "metadata": {},
   "outputs": [],
   "source": [
    "!skewt uwyo -f ../dados/texto/sounding_belem.dat skewt_belem_17mai2022_12Z.pdf"
   ]
  },
  {
   "cell_type": "markdown",
   "metadata": {},
   "source": [
    "#### Opção 2: Buscando pelo número internacional da sondagem (Belém: 82193) no site da Universidade de Wyoming."
   ]
  },
  {
   "cell_type": "markdown",
   "metadata": {},
   "source": [
    "Neste caso, utiliza-se o **número internacional** que o próprio site fornece. Neste exemplo, **82193**.\n",
    "\n",
    "Lembrando que o `!` diz que está **sendo executado no Linux**."
   ]
  },
  {
   "cell_type": "code",
   "execution_count": 72,
   "metadata": {},
   "outputs": [
    {
     "name": "stdout",
     "output_type": "stream",
     "text": [
      "2022 5 17 12 82193\n"
     ]
    }
   ],
   "source": [
    "!skewt uwyoweb --station 82193 skewt_belem_web_17mai2022_12Z.png"
   ]
  }
 ],
 "metadata": {
  "interpreter": {
   "hash": "abd37c582623d0dd3d9b05deeea99a26dc2fa362d345c4962c41f069ee3817bf"
  },
  "kernelspec": {
   "display_name": "Python 3.10.4 64-bit ('teste')",
   "language": "python",
   "name": "python3"
  },
  "language_info": {
   "codemirror_mode": {
    "name": "ipython",
    "version": 3
   },
   "file_extension": ".py",
   "mimetype": "text/x-python",
   "name": "python",
   "nbconvert_exporter": "python",
   "pygments_lexer": "ipython3",
   "version": "3.10.4"
  },
  "orig_nbformat": 4
 },
 "nbformat": 4,
 "nbformat_minor": 2
}
